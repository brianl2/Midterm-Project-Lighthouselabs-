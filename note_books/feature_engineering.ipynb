{
 "cells": [
  {
   "cell_type": "code",
   "execution_count": 1,
   "metadata": {},
   "outputs": [],
   "source": [
    "import sys\n",
    "sys.path.append(\"..\")  # <-  This should point to the root directory of the project relative to this file\n",
    "\n",
    "from custom_scripts import database\n",
    "from custom_scripts import preprocessing\n",
    "from custom_scripts import preparation\n",
    "from custom_scripts import modeling\n",
    "import pandas as pd\n",
    "import numpy as np"
   ]
  },
  {
   "cell_type": "code",
   "execution_count": 2,
   "metadata": {},
   "outputs": [],
   "source": [
    "raw_test_flights = preprocessing.get_test_flights()\n",
    "average_flight_delays = pd.read_csv('../data/preprocessing/average_flight_delays_by_flight_number.csv')\n",
    "average_destination_delays = pd.read_csv('../data/preprocessing/avg_flight_delays_by_destination_airport.csv')\n",
    "average_origin_delays = pd.read_csv('../data/preprocessing/avg_flight_delays_by_origin_airport.csv')\n",
    "average_carrier_delays = pd.read_csv('../data/preprocessing/avg_flight_delays_by_carrier.csv')\n"
   ]
  },
  {
   "cell_type": "code",
   "execution_count": 4,
   "metadata": {},
   "outputs": [],
   "source": [
    "test_flights = raw_test_flights"
   ]
  },
  {
   "cell_type": "code",
   "execution_count": 5,
   "metadata": {},
   "outputs": [
    {
     "name": "stdout",
     "output_type": "stream",
     "text": [
      "(150623, 12)\n"
     ]
    },
    {
     "data": {
      "text/html": [
       "<div>\n",
       "<style scoped>\n",
       "    .dataframe tbody tr th:only-of-type {\n",
       "        vertical-align: middle;\n",
       "    }\n",
       "\n",
       "    .dataframe tbody tr th {\n",
       "        vertical-align: top;\n",
       "    }\n",
       "\n",
       "    .dataframe thead th {\n",
       "        text-align: right;\n",
       "    }\n",
       "</style>\n",
       "<table border=\"1\" class=\"dataframe\">\n",
       "  <thead>\n",
       "    <tr style=\"text-align: right;\">\n",
       "      <th></th>\n",
       "      <th>fl_date</th>\n",
       "      <th>op_unique_carrier</th>\n",
       "      <th>tail_num</th>\n",
       "      <th>op_carrier_fl_num</th>\n",
       "      <th>origin_airport_id</th>\n",
       "      <th>dest_airport_id</th>\n",
       "      <th>crs_dep_time</th>\n",
       "      <th>crs_arr_time</th>\n",
       "      <th>crs_elapsed_time</th>\n",
       "      <th>dup</th>\n",
       "      <th>flights</th>\n",
       "      <th>distance</th>\n",
       "    </tr>\n",
       "  </thead>\n",
       "  <tbody>\n",
       "    <tr>\n",
       "      <th>0</th>\n",
       "      <td>2020-01-01</td>\n",
       "      <td>WN</td>\n",
       "      <td>N951WN</td>\n",
       "      <td>5888</td>\n",
       "      <td>13891</td>\n",
       "      <td>14771</td>\n",
       "      <td>1810</td>\n",
       "      <td>1945</td>\n",
       "      <td>95</td>\n",
       "      <td>N</td>\n",
       "      <td>1</td>\n",
       "      <td>363</td>\n",
       "    </tr>\n",
       "  </tbody>\n",
       "</table>\n",
       "</div>"
      ],
      "text/plain": [
       "     fl_date op_unique_carrier tail_num  op_carrier_fl_num  origin_airport_id  \\\n",
       "0 2020-01-01                WN   N951WN               5888              13891   \n",
       "\n",
       "   dest_airport_id  crs_dep_time  crs_arr_time  crs_elapsed_time dup  flights  \\\n",
       "0            14771          1810          1945                95   N        1   \n",
       "\n",
       "   distance  \n",
       "0       363  "
      ]
     },
     "execution_count": 5,
     "metadata": {},
     "output_type": "execute_result"
    }
   ],
   "source": [
    "print(test_flights.shape)\n",
    "test_flights.head(1)"
   ]
  },
  {
   "cell_type": "code",
   "execution_count": 9,
   "metadata": {},
   "outputs": [],
   "source": [
    "test_flights = raw_test_flights"
   ]
  },
  {
   "cell_type": "code",
   "execution_count": 10,
   "metadata": {},
   "outputs": [
    {
     "name": "stdout",
     "output_type": "stream",
     "text": [
      "(150623, 15)\n"
     ]
    },
    {
     "data": {
      "text/html": [
       "<div>\n",
       "<style scoped>\n",
       "    .dataframe tbody tr th:only-of-type {\n",
       "        vertical-align: middle;\n",
       "    }\n",
       "\n",
       "    .dataframe tbody tr th {\n",
       "        vertical-align: top;\n",
       "    }\n",
       "\n",
       "    .dataframe thead th {\n",
       "        text-align: right;\n",
       "    }\n",
       "</style>\n",
       "<table border=\"1\" class=\"dataframe\">\n",
       "  <thead>\n",
       "    <tr style=\"text-align: right;\">\n",
       "      <th></th>\n",
       "      <th>fl_date</th>\n",
       "      <th>op_unique_carrier</th>\n",
       "      <th>tail_num</th>\n",
       "      <th>op_carrier_fl_num</th>\n",
       "      <th>origin_airport_id</th>\n",
       "      <th>dest_airport_id</th>\n",
       "      <th>crs_dep_time</th>\n",
       "      <th>crs_arr_time</th>\n",
       "      <th>crs_elapsed_time</th>\n",
       "      <th>dup</th>\n",
       "      <th>flights</th>\n",
       "      <th>distance</th>\n",
       "      <th>avg_fl_num_arr_delay</th>\n",
       "      <th>avg_origin_dep_delay</th>\n",
       "      <th>avg_carrier_delay</th>\n",
       "    </tr>\n",
       "  </thead>\n",
       "  <tbody>\n",
       "    <tr>\n",
       "      <th>0</th>\n",
       "      <td>2020-01-01</td>\n",
       "      <td>WN</td>\n",
       "      <td>N951WN</td>\n",
       "      <td>5888</td>\n",
       "      <td>13891</td>\n",
       "      <td>14771</td>\n",
       "      <td>1810</td>\n",
       "      <td>1945</td>\n",
       "      <td>95</td>\n",
       "      <td>N</td>\n",
       "      <td>1</td>\n",
       "      <td>363</td>\n",
       "      <td>8.75618</td>\n",
       "      <td>15.591775</td>\n",
       "      <td>16.74029</td>\n",
       "    </tr>\n",
       "  </tbody>\n",
       "</table>\n",
       "</div>"
      ],
      "text/plain": [
       "     fl_date op_unique_carrier tail_num  op_carrier_fl_num  origin_airport_id  \\\n",
       "0 2020-01-01                WN   N951WN               5888              13891   \n",
       "\n",
       "   dest_airport_id  crs_dep_time  crs_arr_time  crs_elapsed_time dup  flights  \\\n",
       "0            14771          1810          1945                95   N        1   \n",
       "\n",
       "   distance  avg_fl_num_arr_delay  avg_origin_dep_delay  avg_carrier_delay  \n",
       "0       363               8.75618             15.591775           16.74029  "
      ]
     },
     "execution_count": 10,
     "metadata": {},
     "output_type": "execute_result"
    }
   ],
   "source": [
    "fl_num_delays = average_flight_delays[['op_carrier_fl_num','avg_arr_delay']]\n",
    "test_flights = pd.merge(test_flights, fl_num_delays, on='op_carrier_fl_num')\n",
    "\n",
    "dest_dep_delays = average_destination_delays[['dest_airport_id', 'avg_dep_delay']]\n",
    "test_flights = pd.merge(test_flights, dest_dep_delays, on='dest_airport_id')\n",
    "\n",
    "carrier_delays = average_carrier_delays[['op_unique_carrier', 'avg_carrier_delay']]\n",
    "test_flights = pd.merge(test_flights, carrier_delays, on='op_unique_carrier')\n",
    "\n",
    "\n",
    "test_flights = test_flights.rename(columns={'avg_arr_delay':'avg_fl_num_arr_delay',\n",
    "                                            'avg_dep_delay': 'avg_origin_dep_delay', })\n",
    "print(test_flights.shape)\n",
    "test_flights.head(1)"
   ]
  },
  {
   "cell_type": "code",
   "execution_count": null,
   "metadata": {},
   "outputs": [],
   "source": []
  }
 ],
 "metadata": {
  "interpreter": {
   "hash": "4fe28adbe6d40c82bdde6a2233f025e3b944121e67b5abb397657075ce1366ca"
  },
  "kernelspec": {
   "display_name": "Python 3.8.5 64-bit ('lighthouse': conda)",
   "language": "python",
   "name": "python3"
  },
  "language_info": {
   "codemirror_mode": {
    "name": "ipython",
    "version": 3
   },
   "file_extension": ".py",
   "mimetype": "text/x-python",
   "name": "python",
   "nbconvert_exporter": "python",
   "pygments_lexer": "ipython3",
   "version": "3.8.5"
  },
  "orig_nbformat": 4
 },
 "nbformat": 4,
 "nbformat_minor": 2
}
