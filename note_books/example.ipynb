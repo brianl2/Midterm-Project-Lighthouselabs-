{
 "cells": [
  {
   "cell_type": "code",
   "execution_count": 1,
   "metadata": {},
   "outputs": [],
   "source": [
    "import sys\n",
    "sys.path.append(\"..\")  # <-  This should point to the root directory of the project relative to this file\n",
    "\n",
    "from custom_scripts import database\n",
    "from custom_scripts import preprocessing\n",
    "from custom_scripts import preparation\n",
    "from custom_scripts import modeling"
   ]
  },
  {
   "cell_type": "markdown",
   "metadata": {},
   "source": [
    "## Quering the database"
   ]
  },
  {
   "cell_type": "code",
   "execution_count": 2,
   "metadata": {},
   "outputs": [
    {
     "data": {
      "text/html": [
       "<div>\n",
       "<style scoped>\n",
       "    .dataframe tbody tr th:only-of-type {\n",
       "        vertical-align: middle;\n",
       "    }\n",
       "\n",
       "    .dataframe tbody tr th {\n",
       "        vertical-align: top;\n",
       "    }\n",
       "\n",
       "    .dataframe thead th {\n",
       "        text-align: right;\n",
       "    }\n",
       "</style>\n",
       "<table border=\"1\" class=\"dataframe\">\n",
       "  <thead>\n",
       "    <tr style=\"text-align: right;\">\n",
       "      <th></th>\n",
       "      <th>fl_date</th>\n",
       "      <th>mkt_unique_carrier</th>\n",
       "      <th>branded_code_share</th>\n",
       "      <th>mkt_carrier</th>\n",
       "      <th>mkt_carrier_fl_num</th>\n",
       "      <th>op_unique_carrier</th>\n",
       "      <th>tail_num</th>\n",
       "      <th>op_carrier_fl_num</th>\n",
       "      <th>origin_airport_id</th>\n",
       "      <th>origin</th>\n",
       "      <th>...</th>\n",
       "      <th>distance</th>\n",
       "      <th>carrier_delay</th>\n",
       "      <th>weather_delay</th>\n",
       "      <th>nas_delay</th>\n",
       "      <th>security_delay</th>\n",
       "      <th>late_aircraft_delay</th>\n",
       "      <th>first_dep_time</th>\n",
       "      <th>total_add_gtime</th>\n",
       "      <th>longest_add_gtime</th>\n",
       "      <th>no_name</th>\n",
       "    </tr>\n",
       "  </thead>\n",
       "  <tbody>\n",
       "    <tr>\n",
       "      <th>0</th>\n",
       "      <td>2018-08-10</td>\n",
       "      <td>UA</td>\n",
       "      <td>UA_CODESHARE</td>\n",
       "      <td>UA</td>\n",
       "      <td>5814</td>\n",
       "      <td>OO</td>\n",
       "      <td>N127SY</td>\n",
       "      <td>5814</td>\n",
       "      <td>13930</td>\n",
       "      <td>ORD</td>\n",
       "      <td>...</td>\n",
       "      <td>1437.0</td>\n",
       "      <td>NaN</td>\n",
       "      <td>NaN</td>\n",
       "      <td>NaN</td>\n",
       "      <td>NaN</td>\n",
       "      <td>NaN</td>\n",
       "      <td>None</td>\n",
       "      <td>None</td>\n",
       "      <td>None</td>\n",
       "      <td>None</td>\n",
       "    </tr>\n",
       "  </tbody>\n",
       "</table>\n",
       "<p>1 rows × 42 columns</p>\n",
       "</div>"
      ],
      "text/plain": [
       "      fl_date mkt_unique_carrier branded_code_share mkt_carrier  \\\n",
       "0  2018-08-10                 UA       UA_CODESHARE          UA   \n",
       "\n",
       "   mkt_carrier_fl_num op_unique_carrier tail_num  op_carrier_fl_num  \\\n",
       "0                5814                OO   N127SY               5814   \n",
       "\n",
       "   origin_airport_id origin  ... distance  carrier_delay weather_delay  \\\n",
       "0              13930    ORD  ...   1437.0            NaN           NaN   \n",
       "\n",
       "  nas_delay  security_delay  late_aircraft_delay  first_dep_time  \\\n",
       "0       NaN             NaN                  NaN            None   \n",
       "\n",
       "   total_add_gtime  longest_add_gtime  no_name  \n",
       "0             None               None     None  \n",
       "\n",
       "[1 rows x 42 columns]"
      ]
     },
     "execution_count": 2,
     "metadata": {},
     "output_type": "execute_result"
    }
   ],
   "source": [
    "example_query =  \"\"\"\n",
    "                SELECT * FROM flights\n",
    "                    LIMIT 10;\n",
    "                \"\"\"\n",
    "\n",
    "example = database.query(example_query)\n",
    "example.head(1)"
   ]
  },
  {
   "cell_type": "markdown",
   "metadata": {},
   "source": [
    "## Fetching predetermined sets of data"
   ]
  },
  {
   "cell_type": "code",
   "execution_count": 3,
   "metadata": {},
   "outputs": [
    {
     "name": "stdout",
     "output_type": "stream",
     "text": [
      "(142951, 10)\n"
     ]
    },
    {
     "data": {
      "text/html": [
       "<div>\n",
       "<style scoped>\n",
       "    .dataframe tbody tr th:only-of-type {\n",
       "        vertical-align: middle;\n",
       "    }\n",
       "\n",
       "    .dataframe tbody tr th {\n",
       "        vertical-align: top;\n",
       "    }\n",
       "\n",
       "    .dataframe thead th {\n",
       "        text-align: right;\n",
       "    }\n",
       "</style>\n",
       "<table border=\"1\" class=\"dataframe\">\n",
       "  <thead>\n",
       "    <tr style=\"text-align: right;\">\n",
       "      <th></th>\n",
       "      <th>fl_date</th>\n",
       "      <th>op_unique_carrier</th>\n",
       "      <th>op_carrier_fl_num</th>\n",
       "      <th>origin</th>\n",
       "      <th>dest</th>\n",
       "      <th>crs_dep_time</th>\n",
       "      <th>crs_arr_time</th>\n",
       "      <th>crs_elapsed_time</th>\n",
       "      <th>distance</th>\n",
       "      <th>arr_delay</th>\n",
       "    </tr>\n",
       "  </thead>\n",
       "  <tbody>\n",
       "    <tr>\n",
       "      <th>2</th>\n",
       "      <td>2019-01-01</td>\n",
       "      <td>OO</td>\n",
       "      <td>3368</td>\n",
       "      <td>SJC</td>\n",
       "      <td>AUS</td>\n",
       "      <td>1805</td>\n",
       "      <td>2337</td>\n",
       "      <td>212.0</td>\n",
       "      <td>1476.0</td>\n",
       "      <td>9.0</td>\n",
       "    </tr>\n",
       "  </tbody>\n",
       "</table>\n",
       "</div>"
      ],
      "text/plain": [
       "      fl_date op_unique_carrier  op_carrier_fl_num origin dest  crs_dep_time  \\\n",
       "2  2019-01-01                OO               3368    SJC  AUS          1805   \n",
       "\n",
       "   crs_arr_time  crs_elapsed_time  distance  arr_delay  \n",
       "2          2337             212.0    1476.0        9.0  "
      ]
     },
     "execution_count": 3,
     "metadata": {},
     "output_type": "execute_result"
    }
   ],
   "source": [
    "train_flights = preprocessing.get_train_flights()\n",
    "print(train_flights.shape)\n",
    "train_flights.head(1)"
   ]
  },
  {
   "cell_type": "code",
   "execution_count": 4,
   "metadata": {},
   "outputs": [
    {
     "name": "stdout",
     "output_type": "stream",
     "text": [
      "(150623, 9)\n"
     ]
    },
    {
     "data": {
      "text/html": [
       "<div>\n",
       "<style scoped>\n",
       "    .dataframe tbody tr th:only-of-type {\n",
       "        vertical-align: middle;\n",
       "    }\n",
       "\n",
       "    .dataframe tbody tr th {\n",
       "        vertical-align: top;\n",
       "    }\n",
       "\n",
       "    .dataframe thead th {\n",
       "        text-align: right;\n",
       "    }\n",
       "</style>\n",
       "<table border=\"1\" class=\"dataframe\">\n",
       "  <thead>\n",
       "    <tr style=\"text-align: right;\">\n",
       "      <th></th>\n",
       "      <th>fl_date</th>\n",
       "      <th>op_unique_carrier</th>\n",
       "      <th>op_carrier_fl_num</th>\n",
       "      <th>origin</th>\n",
       "      <th>dest</th>\n",
       "      <th>crs_dep_time</th>\n",
       "      <th>crs_arr_time</th>\n",
       "      <th>crs_elapsed_time</th>\n",
       "      <th>distance</th>\n",
       "    </tr>\n",
       "  </thead>\n",
       "  <tbody>\n",
       "    <tr>\n",
       "      <th>0</th>\n",
       "      <td>2020-01-01</td>\n",
       "      <td>WN</td>\n",
       "      <td>5888</td>\n",
       "      <td>ONT</td>\n",
       "      <td>SFO</td>\n",
       "      <td>1810</td>\n",
       "      <td>1945</td>\n",
       "      <td>95</td>\n",
       "      <td>363</td>\n",
       "    </tr>\n",
       "  </tbody>\n",
       "</table>\n",
       "</div>"
      ],
      "text/plain": [
       "     fl_date op_unique_carrier  op_carrier_fl_num origin dest  crs_dep_time  \\\n",
       "0 2020-01-01                WN               5888    ONT  SFO          1810   \n",
       "\n",
       "   crs_arr_time  crs_elapsed_time  distance  \n",
       "0          1945                95       363  "
      ]
     },
     "execution_count": 4,
     "metadata": {},
     "output_type": "execute_result"
    }
   ],
   "source": [
    "test_flights = preprocessing.get_test_flights()\n",
    "print(test_flights.shape)\n",
    "test_flights.head(1)"
   ]
  },
  {
   "cell_type": "markdown",
   "metadata": {},
   "source": [
    "## Adding features to table with preparation script"
   ]
  },
  {
   "cell_type": "code",
   "execution_count": 5,
   "metadata": {},
   "outputs": [
    {
     "data": {
      "text/html": [
       "<div>\n",
       "<style scoped>\n",
       "    .dataframe tbody tr th:only-of-type {\n",
       "        vertical-align: middle;\n",
       "    }\n",
       "\n",
       "    .dataframe tbody tr th {\n",
       "        vertical-align: top;\n",
       "    }\n",
       "\n",
       "    .dataframe thead th {\n",
       "        text-align: right;\n",
       "    }\n",
       "</style>\n",
       "<table border=\"1\" class=\"dataframe\">\n",
       "  <thead>\n",
       "    <tr style=\"text-align: right;\">\n",
       "      <th></th>\n",
       "      <th>fl_date</th>\n",
       "      <th>op_unique_carrier</th>\n",
       "      <th>op_carrier_fl_num</th>\n",
       "      <th>origin</th>\n",
       "      <th>dest</th>\n",
       "      <th>crs_dep_time</th>\n",
       "      <th>crs_arr_time</th>\n",
       "      <th>crs_elapsed_time</th>\n",
       "      <th>distance</th>\n",
       "      <th>arr_delay</th>\n",
       "      <th>...</th>\n",
       "      <th>fl_num_avg_security_delay</th>\n",
       "      <th>fl_num_avg_late_aircraft_delay</th>\n",
       "      <th>fl_num_avg_total_add_gtime</th>\n",
       "      <th>fl_num_avg_longest_add_gtime</th>\n",
       "      <th>arr_time_sin</th>\n",
       "      <th>dep_time_sin</th>\n",
       "      <th>arr_time_cos</th>\n",
       "      <th>dep_time_cos</th>\n",
       "      <th>day_of_year</th>\n",
       "      <th>day_of_week</th>\n",
       "    </tr>\n",
       "  </thead>\n",
       "  <tbody>\n",
       "    <tr>\n",
       "      <th>0</th>\n",
       "      <td>2019-01-01</td>\n",
       "      <td>OO</td>\n",
       "      <td>3368</td>\n",
       "      <td>SJC</td>\n",
       "      <td>AUS</td>\n",
       "      <td>1805</td>\n",
       "      <td>2337</td>\n",
       "      <td>212.0</td>\n",
       "      <td>1476.0</td>\n",
       "      <td>9.0</td>\n",
       "      <td>...</td>\n",
       "      <td>0.0</td>\n",
       "      <td>27.428571</td>\n",
       "      <td>49.35</td>\n",
       "      <td>48.6</td>\n",
       "      <td>-0.095912</td>\n",
       "      <td>-0.999685</td>\n",
       "      <td>0.99539</td>\n",
       "      <td>0.025104</td>\n",
       "      <td>1</td>\n",
       "      <td>1</td>\n",
       "    </tr>\n",
       "  </tbody>\n",
       "</table>\n",
       "<p>1 rows × 32 columns</p>\n",
       "</div>"
      ],
      "text/plain": [
       "      fl_date op_unique_carrier  op_carrier_fl_num origin dest  crs_dep_time  \\\n",
       "0  2019-01-01                OO               3368    SJC  AUS          1805   \n",
       "\n",
       "   crs_arr_time  crs_elapsed_time  distance  arr_delay  ...  \\\n",
       "0          2337             212.0    1476.0        9.0  ...   \n",
       "\n",
       "   fl_num_avg_security_delay  fl_num_avg_late_aircraft_delay  \\\n",
       "0                        0.0                       27.428571   \n",
       "\n",
       "   fl_num_avg_total_add_gtime  fl_num_avg_longest_add_gtime  arr_time_sin  \\\n",
       "0                       49.35                          48.6     -0.095912   \n",
       "\n",
       "   dep_time_sin  arr_time_cos  dep_time_cos  day_of_year  day_of_week  \n",
       "0     -0.999685       0.99539      0.025104            1            1  \n",
       "\n",
       "[1 rows x 32 columns]"
      ]
     },
     "execution_count": 5,
     "metadata": {},
     "output_type": "execute_result"
    }
   ],
   "source": [
    "train_flights = preparation.build_all_features(train_flights)\n",
    "train_flights.head(1)"
   ]
  },
  {
   "cell_type": "markdown",
   "metadata": {},
   "source": [
    "## Splitting the data with size and random seed held in script"
   ]
  },
  {
   "cell_type": "code",
   "execution_count": 6,
   "metadata": {},
   "outputs": [
    {
     "name": "stdout",
     "output_type": "stream",
     "text": [
      "(100065, 31)\n",
      "(42886, 31)\n"
     ]
    },
    {
     "data": {
      "text/html": [
       "<div>\n",
       "<style scoped>\n",
       "    .dataframe tbody tr th:only-of-type {\n",
       "        vertical-align: middle;\n",
       "    }\n",
       "\n",
       "    .dataframe tbody tr th {\n",
       "        vertical-align: top;\n",
       "    }\n",
       "\n",
       "    .dataframe thead th {\n",
       "        text-align: right;\n",
       "    }\n",
       "</style>\n",
       "<table border=\"1\" class=\"dataframe\">\n",
       "  <thead>\n",
       "    <tr style=\"text-align: right;\">\n",
       "      <th></th>\n",
       "      <th>fl_date</th>\n",
       "      <th>op_unique_carrier</th>\n",
       "      <th>op_carrier_fl_num</th>\n",
       "      <th>origin</th>\n",
       "      <th>dest</th>\n",
       "      <th>crs_dep_time</th>\n",
       "      <th>crs_arr_time</th>\n",
       "      <th>crs_elapsed_time</th>\n",
       "      <th>distance</th>\n",
       "      <th>fl_num_avg_dep_delay</th>\n",
       "      <th>...</th>\n",
       "      <th>fl_num_avg_security_delay</th>\n",
       "      <th>fl_num_avg_late_aircraft_delay</th>\n",
       "      <th>fl_num_avg_total_add_gtime</th>\n",
       "      <th>fl_num_avg_longest_add_gtime</th>\n",
       "      <th>arr_time_sin</th>\n",
       "      <th>dep_time_sin</th>\n",
       "      <th>arr_time_cos</th>\n",
       "      <th>dep_time_cos</th>\n",
       "      <th>day_of_year</th>\n",
       "      <th>day_of_week</th>\n",
       "    </tr>\n",
       "  </thead>\n",
       "  <tbody>\n",
       "    <tr>\n",
       "      <th>85279</th>\n",
       "      <td>2019-01-05</td>\n",
       "      <td>AS</td>\n",
       "      <td>49</td>\n",
       "      <td>ANC</td>\n",
       "      <td>ADQ</td>\n",
       "      <td>1512</td>\n",
       "      <td>1615</td>\n",
       "      <td>63.0</td>\n",
       "      <td>253.0</td>\n",
       "      <td>8.893752</td>\n",
       "      <td>...</td>\n",
       "      <td>0.057301</td>\n",
       "      <td>21.51756</td>\n",
       "      <td>35.235294</td>\n",
       "      <td>27.764706</td>\n",
       "      <td>-0.898176</td>\n",
       "      <td>-0.744992</td>\n",
       "      <td>-0.439635</td>\n",
       "      <td>-0.667073</td>\n",
       "      <td>5</td>\n",
       "      <td>5</td>\n",
       "    </tr>\n",
       "  </tbody>\n",
       "</table>\n",
       "<p>1 rows × 31 columns</p>\n",
       "</div>"
      ],
      "text/plain": [
       "          fl_date op_unique_carrier  op_carrier_fl_num origin dest  \\\n",
       "85279  2019-01-05                AS                 49    ANC  ADQ   \n",
       "\n",
       "       crs_dep_time  crs_arr_time  crs_elapsed_time  distance  \\\n",
       "85279          1512          1615              63.0     253.0   \n",
       "\n",
       "       fl_num_avg_dep_delay  ...  fl_num_avg_security_delay  \\\n",
       "85279              8.893752  ...                   0.057301   \n",
       "\n",
       "       fl_num_avg_late_aircraft_delay  fl_num_avg_total_add_gtime  \\\n",
       "85279                        21.51756                   35.235294   \n",
       "\n",
       "       fl_num_avg_longest_add_gtime  arr_time_sin  dep_time_sin  arr_time_cos  \\\n",
       "85279                     27.764706     -0.898176     -0.744992     -0.439635   \n",
       "\n",
       "       dep_time_cos  day_of_year  day_of_week  \n",
       "85279     -0.667073            5            5  \n",
       "\n",
       "[1 rows x 31 columns]"
      ]
     },
     "execution_count": 6,
     "metadata": {},
     "output_type": "execute_result"
    }
   ],
   "source": [
    "X = train_flights.drop('arr_delay',1)\n",
    "y = train_flights['arr_delay']\n",
    "X_train, X_val, y_train, y_val = preparation.get_train_test_split(X, y)\n",
    "print(X_train.shape)\n",
    "print(X_val.shape)\n",
    "X_train.head(1)"
   ]
  },
  {
   "cell_type": "markdown",
   "metadata": {},
   "source": [
    "## Standardizing the data with preparation script"
   ]
  },
  {
   "cell_type": "code",
   "execution_count": 7,
   "metadata": {},
   "outputs": [
    {
     "name": "stdout",
     "output_type": "stream",
     "text": [
      "(100065, 34)\n",
      "(42886, 34)\n"
     ]
    },
    {
     "data": {
      "text/html": [
       "<div>\n",
       "<style scoped>\n",
       "    .dataframe tbody tr th:only-of-type {\n",
       "        vertical-align: middle;\n",
       "    }\n",
       "\n",
       "    .dataframe tbody tr th {\n",
       "        vertical-align: top;\n",
       "    }\n",
       "\n",
       "    .dataframe thead th {\n",
       "        text-align: right;\n",
       "    }\n",
       "</style>\n",
       "<table border=\"1\" class=\"dataframe\">\n",
       "  <thead>\n",
       "    <tr style=\"text-align: right;\">\n",
       "      <th></th>\n",
       "      <th>arr_time_sin</th>\n",
       "      <th>arr_time_cos</th>\n",
       "      <th>dep_time_sin</th>\n",
       "      <th>dep_time_cos</th>\n",
       "      <th>fl_num_avg_arr_delay</th>\n",
       "      <th>fl_num_avg_dep_delay</th>\n",
       "      <th>fl_num_avg_carrier_delay</th>\n",
       "      <th>fl_num_avg_weather_delay</th>\n",
       "      <th>fl_num_avg_nas_delay</th>\n",
       "      <th>fl_num_avg_security_delay</th>\n",
       "      <th>...</th>\n",
       "      <th>day_of_year_5</th>\n",
       "      <th>day_of_year_6</th>\n",
       "      <th>day_of_year_7</th>\n",
       "      <th>day_of_week_0</th>\n",
       "      <th>day_of_week_1</th>\n",
       "      <th>day_of_week_2</th>\n",
       "      <th>day_of_week_3</th>\n",
       "      <th>day_of_week_4</th>\n",
       "      <th>day_of_week_5</th>\n",
       "      <th>day_of_week_6</th>\n",
       "    </tr>\n",
       "  </thead>\n",
       "  <tbody>\n",
       "    <tr>\n",
       "      <th>85279</th>\n",
       "      <td>-0.898176</td>\n",
       "      <td>-0.439635</td>\n",
       "      <td>-0.744992</td>\n",
       "      <td>-0.667073</td>\n",
       "      <td>-0.409822</td>\n",
       "      <td>-0.527798</td>\n",
       "      <td>0.031745</td>\n",
       "      <td>-0.402404</td>\n",
       "      <td>-1.711546</td>\n",
       "      <td>-0.191165</td>\n",
       "      <td>...</td>\n",
       "      <td>1</td>\n",
       "      <td>0</td>\n",
       "      <td>0</td>\n",
       "      <td>0</td>\n",
       "      <td>0</td>\n",
       "      <td>0</td>\n",
       "      <td>0</td>\n",
       "      <td>0</td>\n",
       "      <td>1</td>\n",
       "      <td>0</td>\n",
       "    </tr>\n",
       "  </tbody>\n",
       "</table>\n",
       "<p>1 rows × 34 columns</p>\n",
       "</div>"
      ],
      "text/plain": [
       "       arr_time_sin  arr_time_cos  dep_time_sin  dep_time_cos  \\\n",
       "85279     -0.898176     -0.439635     -0.744992     -0.667073   \n",
       "\n",
       "       fl_num_avg_arr_delay  fl_num_avg_dep_delay  fl_num_avg_carrier_delay  \\\n",
       "85279             -0.409822             -0.527798                  0.031745   \n",
       "\n",
       "       fl_num_avg_weather_delay  fl_num_avg_nas_delay  \\\n",
       "85279                 -0.402404             -1.711546   \n",
       "\n",
       "       fl_num_avg_security_delay  ...  day_of_year_5  day_of_year_6  \\\n",
       "85279                  -0.191165  ...              1              0   \n",
       "\n",
       "       day_of_year_7  day_of_week_0  day_of_week_1  day_of_week_2  \\\n",
       "85279              0              0              0              0   \n",
       "\n",
       "       day_of_week_3  day_of_week_4  day_of_week_5  day_of_week_6  \n",
       "85279              0              0              1              0  \n",
       "\n",
       "[1 rows x 34 columns]"
      ]
     },
     "execution_count": 7,
     "metadata": {},
     "output_type": "execute_result"
    }
   ],
   "source": [
    "from sklearn.preprocessing import StandardScaler\n",
    "X_train, X_val = preparation.standardize_data(data_arr=[X_train, X_val], scaler=StandardScaler())\n",
    "print(X_train.shape)\n",
    "print(X_val.shape)\n",
    "X_train.head(1)"
   ]
  },
  {
   "cell_type": "markdown",
   "metadata": {},
   "source": [
    "## Using the modeling script to run a test, automatically saving the scores and model to local drive"
   ]
  },
  {
   "cell_type": "code",
   "execution_count": 10,
   "metadata": {},
   "outputs": [
    {
     "name": "stdout",
     "output_type": "stream",
     "text": [
      "{'r2_score': 0.01654802494439611, 'mean_squared_error': 2096.992181188898, 'mean_absolute_error': 22.510753451114816, 'explained_variance_score': 0.016631645903316006}\n"
     ]
    },
    {
     "data": {
      "text/plain": [
       "LinearRegression()"
      ]
     },
     "execution_count": 10,
     "metadata": {},
     "output_type": "execute_result"
    }
   ],
   "source": [
    "from sklearn.linear_model import LinearRegression\n",
    "model = LinearRegression(fit_intercept=True)\n",
    "notes = \"This is an example\"\n",
    "modeling.run_test(X_train.fillna(0),X_val.fillna(0),y_train.fillna(0),y_val.fillna(0), model, notes)"
   ]
  },
  {
   "cell_type": "markdown",
   "metadata": {},
   "source": [
    "## Retrieving the records of past modeling tests"
   ]
  },
  {
   "cell_type": "code",
   "execution_count": 12,
   "metadata": {},
   "outputs": [
    {
     "data": {
      "text/html": [
       "<div>\n",
       "<style scoped>\n",
       "    .dataframe tbody tr th:only-of-type {\n",
       "        vertical-align: middle;\n",
       "    }\n",
       "\n",
       "    .dataframe tbody tr th {\n",
       "        vertical-align: top;\n",
       "    }\n",
       "\n",
       "    .dataframe thead th {\n",
       "        text-align: right;\n",
       "    }\n",
       "</style>\n",
       "<table border=\"1\" class=\"dataframe\">\n",
       "  <thead>\n",
       "    <tr style=\"text-align: right;\">\n",
       "      <th></th>\n",
       "      <th>model</th>\n",
       "      <th>notes</th>\n",
       "      <th>training_time</th>\n",
       "      <th>r2_score</th>\n",
       "      <th>mean_squared_error</th>\n",
       "      <th>mean_absolute_error</th>\n",
       "      <th>explained_variance_score</th>\n",
       "    </tr>\n",
       "  </thead>\n",
       "  <tbody>\n",
       "    <tr>\n",
       "      <th>1.pickle</th>\n",
       "      <td>LinearRegression</td>\n",
       "      <td>This is an example</td>\n",
       "      <td>0.043895</td>\n",
       "      <td>-0.000002</td>\n",
       "      <td>2523.296611</td>\n",
       "      <td>24.625006</td>\n",
       "      <td>0.000007</td>\n",
       "    </tr>\n",
       "  </tbody>\n",
       "</table>\n",
       "</div>"
      ],
      "text/plain": [
       "                     model               notes  training_time  r2_score  \\\n",
       "1.pickle  LinearRegression  This is an example       0.043895 -0.000002   \n",
       "\n",
       "          mean_squared_error  mean_absolute_error  explained_variance_score  \n",
       "1.pickle         2523.296611            24.625006                  0.000007  "
      ]
     },
     "execution_count": 12,
     "metadata": {},
     "output_type": "execute_result"
    }
   ],
   "source": [
    "modeling.get_records()"
   ]
  },
  {
   "cell_type": "markdown",
   "metadata": {},
   "source": [
    "## Retrieving saved model"
   ]
  },
  {
   "cell_type": "code",
   "execution_count": 13,
   "metadata": {},
   "outputs": [],
   "source": [
    "saved_model = modeling.get_pickle(1)"
   ]
  },
  {
   "cell_type": "code",
   "execution_count": null,
   "metadata": {},
   "outputs": [],
   "source": []
  }
 ],
 "metadata": {
  "interpreter": {
   "hash": "4fe28adbe6d40c82bdde6a2233f025e3b944121e67b5abb397657075ce1366ca"
  },
  "kernelspec": {
   "display_name": "Python 3 (ipykernel)",
   "language": "python",
   "name": "python3"
  },
  "language_info": {
   "codemirror_mode": {
    "name": "ipython",
    "version": 3
   },
   "file_extension": ".py",
   "mimetype": "text/x-python",
   "name": "python",
   "nbconvert_exporter": "python",
   "pygments_lexer": "ipython3",
   "version": "3.8.5"
  }
 },
 "nbformat": 4,
 "nbformat_minor": 4
}
