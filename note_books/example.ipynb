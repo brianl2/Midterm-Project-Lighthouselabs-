{
 "cells": [
  {
   "cell_type": "code",
   "execution_count": 4,
   "metadata": {},
   "outputs": [],
   "source": [
    "import sys\n",
    "sys.path.append(\"..\")  # <-  This should point to the root directory of the project relative to this file\n",
    "from custom_scripts import preprocessing\n",
    "from custom_scripts import preparation\n",
    "from custom_scripts import modeling\n",
    "import pandas as pd\n"
   ]
  },
  {
   "cell_type": "markdown",
   "metadata": {},
   "source": [
    "# Training data is collected from all samples in the first and last week of january.\n",
    "- ### First week of january provides variance from historic examples from a similar time of year.\n",
    "- ### Last week of january provides proximity to our testing target."
   ]
  },
  {
   "cell_type": "code",
   "execution_count": 5,
   "metadata": {},
   "outputs": [
    {
     "data": {
      "text/plain": [
       "(285359, 11)"
      ]
     },
     "execution_count": 5,
     "metadata": {},
     "output_type": "execute_result"
    }
   ],
   "source": [
    "train_flights = preprocessing.get_train_flights()\n",
    "train_flights.shape\n"
   ]
  },
  {
   "cell_type": "code",
   "execution_count": 6,
   "metadata": {},
   "outputs": [
    {
     "data": {
      "text/plain": [
       "array(['2019-12-25', '2019-12-26', '2019-12-27', '2019-12-28',\n",
       "       '2019-12-29', '2019-12-30', '2019-12-31', '2019-01-01',\n",
       "       '2019-01-02', '2019-01-03', '2019-01-04', '2019-01-05',\n",
       "       '2019-01-06', '2019-01-07'], dtype=object)"
      ]
     },
     "execution_count": 6,
     "metadata": {},
     "output_type": "execute_result"
    }
   ],
   "source": [
    "train_flights['fl_date'].unique()"
   ]
  },
  {
   "cell_type": "markdown",
   "metadata": {},
   "source": [
    "# Features:\n",
    "- ### arrival times and departure times are converted into sine and cosine features to represent day cycles\n",
    "- ### date has been converted to day of week\n",
    "- ### flight number, carrier, tail number, destination, and origin have been replaced with sets of averages calculated from the entirity of the available data (minus outliers) an\n",
    "- ### weather events have been collected for destination and origin airports, and given a value according to maximum severity of that weather on that day"
   ]
  },
  {
   "cell_type": "code",
   "execution_count": 7,
   "metadata": {},
   "outputs": [
    {
     "name": "stdout",
     "output_type": "stream",
     "text": [
      "before: (285359, 11)\n",
      "after: (285358, 47)\n"
     ]
    }
   ],
   "source": [
    "print(f'before: {train_flights.shape}')\n",
    "train_flights = preparation.build_all_features(train_flights)\n",
    "train_flights.head(1)\n",
    "print(f'after: {train_flights.shape}')"
   ]
  },
  {
   "cell_type": "code",
   "execution_count": 8,
   "metadata": {},
   "outputs": [
    {
     "name": "stdout",
     "output_type": "stream",
     "text": [
      "(199750, 46)\n",
      "(199750,)\n",
      "(85608, 46)\n",
      "(85608,)\n"
     ]
    }
   ],
   "source": [
    "X = train_flights.drop('arr_delay',1)\n",
    "y = train_flights['arr_delay']\n",
    "X_train, X_val, y_train, y_val = preparation.get_train_test_split(X, y)\n",
    "print(X_train.shape)\n",
    "print(y_train.shape)\n",
    "print(X_val.shape)\n",
    "print(y_val.shape)\n"
   ]
  },
  {
   "cell_type": "code",
   "execution_count": 9,
   "metadata": {},
   "outputs": [
    {
     "name": "stdout",
     "output_type": "stream",
     "text": [
      "(199750, 42)\n",
      "(85608, 42)\n"
     ]
    },
    {
     "data": {
      "text/html": [
       "<div>\n",
       "<style scoped>\n",
       "    .dataframe tbody tr th:only-of-type {\n",
       "        vertical-align: middle;\n",
       "    }\n",
       "\n",
       "    .dataframe tbody tr th {\n",
       "        vertical-align: top;\n",
       "    }\n",
       "\n",
       "    .dataframe thead th {\n",
       "        text-align: right;\n",
       "    }\n",
       "</style>\n",
       "<table border=\"1\" class=\"dataframe\">\n",
       "  <thead>\n",
       "    <tr style=\"text-align: right;\">\n",
       "      <th></th>\n",
       "      <th>arr_time_sin</th>\n",
       "      <th>arr_time_cos</th>\n",
       "      <th>dep_time_sin</th>\n",
       "      <th>dep_time_cos</th>\n",
       "      <th>fl_num_avg_arr_delay</th>\n",
       "      <th>fl_num_avg_dep_delay</th>\n",
       "      <th>fl_num_avg_late_aircraft_delay</th>\n",
       "      <th>fl_num_avg_taxi_out</th>\n",
       "      <th>tail_num_avg_arr_delay</th>\n",
       "      <th>tail_num_avg_dep_delay</th>\n",
       "      <th>...</th>\n",
       "      <th>dest_rain</th>\n",
       "      <th>dest_snow</th>\n",
       "      <th>dest_storm</th>\n",
       "      <th>day_of_week_0</th>\n",
       "      <th>day_of_week_1</th>\n",
       "      <th>day_of_week_2</th>\n",
       "      <th>day_of_week_3</th>\n",
       "      <th>day_of_week_4</th>\n",
       "      <th>day_of_week_5</th>\n",
       "      <th>day_of_week_6</th>\n",
       "    </tr>\n",
       "  </thead>\n",
       "  <tbody>\n",
       "    <tr>\n",
       "      <th>22961</th>\n",
       "      <td>-0.909384</td>\n",
       "      <td>-0.415957</td>\n",
       "      <td>-0.709034</td>\n",
       "      <td>-0.705174</td>\n",
       "      <td>-1.003725</td>\n",
       "      <td>-1.001028</td>\n",
       "      <td>-0.723383</td>\n",
       "      <td>-1.87006</td>\n",
       "      <td>-2.217024</td>\n",
       "      <td>-1.234676</td>\n",
       "      <td>...</td>\n",
       "      <td>-0.690764</td>\n",
       "      <td>-0.278847</td>\n",
       "      <td>-0.08056</td>\n",
       "      <td>0</td>\n",
       "      <td>0</td>\n",
       "      <td>0</td>\n",
       "      <td>0</td>\n",
       "      <td>1</td>\n",
       "      <td>0</td>\n",
       "      <td>0</td>\n",
       "    </tr>\n",
       "  </tbody>\n",
       "</table>\n",
       "<p>1 rows × 42 columns</p>\n",
       "</div>"
      ],
      "text/plain": [
       "       arr_time_sin  arr_time_cos  dep_time_sin  dep_time_cos  \\\n",
       "22961     -0.909384     -0.415957     -0.709034     -0.705174   \n",
       "\n",
       "       fl_num_avg_arr_delay  fl_num_avg_dep_delay  \\\n",
       "22961             -1.003725             -1.001028   \n",
       "\n",
       "       fl_num_avg_late_aircraft_delay  fl_num_avg_taxi_out  \\\n",
       "22961                       -0.723383             -1.87006   \n",
       "\n",
       "       tail_num_avg_arr_delay  tail_num_avg_dep_delay  ...  dest_rain  \\\n",
       "22961               -2.217024               -1.234676  ...  -0.690764   \n",
       "\n",
       "       dest_snow  dest_storm  day_of_week_0  day_of_week_1  day_of_week_2  \\\n",
       "22961  -0.278847    -0.08056              0              0              0   \n",
       "\n",
       "       day_of_week_3  day_of_week_4  day_of_week_5  day_of_week_6  \n",
       "22961              0              1              0              0  \n",
       "\n",
       "[1 rows x 42 columns]"
      ]
     },
     "execution_count": 9,
     "metadata": {},
     "output_type": "execute_result"
    }
   ],
   "source": [
    "from sklearn.preprocessing import StandardScaler, RobustScaler\n",
    "X_train, X_val = preparation.standardize_data(data_arr=[X_train, X_val],scaler=StandardScaler())\n",
    "print(X_train.shape)\n",
    "print(X_val.shape)\n",
    "X_train.head(1)"
   ]
  },
  {
   "cell_type": "code",
   "execution_count": 11,
   "metadata": {},
   "outputs": [
    {
     "data": {
      "text/plain": [
       "Index(['arr_time_sin', 'arr_time_cos', 'dep_time_sin', 'dep_time_cos',\n",
       "       'fl_num_avg_arr_delay', 'fl_num_avg_dep_delay',\n",
       "       'fl_num_avg_late_aircraft_delay', 'fl_num_avg_taxi_out',\n",
       "       'tail_num_avg_arr_delay', 'tail_num_avg_dep_delay',\n",
       "       'tail_num_avg_taxi_out', 'tail_num_avg_late_aircraft_delay',\n",
       "       'carrier_avg_arr_delay', 'carrier_avg_dep_delay',\n",
       "       'carrier_avg_carrier_delay', 'dest_avg_arr_delay', 'dest_avg_dep_delay',\n",
       "       'dest_avg_taxi_in', 'origin_avg_arr_delay', 'origin_avg_dep_delay',\n",
       "       'origin_avg_taxi_out', 'distance', 'crs_elapsed_time', 'origin_cold',\n",
       "       'origin_fog', 'origin_hail', 'origin_rain', 'origin_snow',\n",
       "       'origin_storm', 'dest_cold', 'dest_fog', 'dest_hail', 'dest_rain',\n",
       "       'dest_snow', 'dest_storm', 'day_of_week_0', 'day_of_week_1',\n",
       "       'day_of_week_2', 'day_of_week_3', 'day_of_week_4', 'day_of_week_5',\n",
       "       'day_of_week_6'],\n",
       "      dtype='object')"
      ]
     },
     "execution_count": 11,
     "metadata": {},
     "output_type": "execute_result"
    }
   ],
   "source": [
    "### Final features:\n",
    "X_train.columns"
   ]
  },
  {
   "cell_type": "markdown",
   "metadata": {},
   "source": [
    "# Baseline Linear Regression test"
   ]
  },
  {
   "cell_type": "code",
   "execution_count": 12,
   "metadata": {},
   "outputs": [
    {
     "name": "stdout",
     "output_type": "stream",
     "text": [
      "{'r2_score': 0.0925578340876233, 'mean_squared_error': 700.8800243808258, 'mean_absolute_error': 18.02390904052159, 'explained_variance_score': 0.09256540473595054}\n"
     ]
    },
    {
     "data": {
      "text/plain": [
       "LinearRegression()"
      ]
     },
     "execution_count": 12,
     "metadata": {},
     "output_type": "execute_result"
    }
   ],
   "source": [
    "from sklearn.linear_model import LinearRegression\n",
    "model = LinearRegression()\n",
    "notes = \"\"\n",
    "modeling.run_test(X_train,X_val,y_train,y_val, model, notes)"
   ]
  },
  {
   "cell_type": "code",
   "execution_count": 13,
   "metadata": {},
   "outputs": [
    {
     "data": {
      "text/html": [
       "<div>\n",
       "<style scoped>\n",
       "    .dataframe tbody tr th:only-of-type {\n",
       "        vertical-align: middle;\n",
       "    }\n",
       "\n",
       "    .dataframe tbody tr th {\n",
       "        vertical-align: top;\n",
       "    }\n",
       "\n",
       "    .dataframe thead th {\n",
       "        text-align: right;\n",
       "    }\n",
       "</style>\n",
       "<table border=\"1\" class=\"dataframe\">\n",
       "  <thead>\n",
       "    <tr style=\"text-align: right;\">\n",
       "      <th></th>\n",
       "      <th>model</th>\n",
       "      <th>notes</th>\n",
       "      <th>training_time</th>\n",
       "      <th>r2_score</th>\n",
       "      <th>mean_squared_error</th>\n",
       "      <th>mean_absolute_error</th>\n",
       "      <th>explained_variance_score</th>\n",
       "      <th>f1_score</th>\n",
       "      <th>recall_score</th>\n",
       "      <th>precision_score</th>\n",
       "      <th>accuracy_score</th>\n",
       "    </tr>\n",
       "  </thead>\n",
       "  <tbody>\n",
       "    <tr>\n",
       "      <th>108.pickle</th>\n",
       "      <td>LinearRegression</td>\n",
       "      <td>NaN</td>\n",
       "      <td>0.415421</td>\n",
       "      <td>0.092558</td>\n",
       "      <td>700.880024</td>\n",
       "      <td>18.023909</td>\n",
       "      <td>0.092565</td>\n",
       "      <td>NaN</td>\n",
       "      <td>NaN</td>\n",
       "      <td>NaN</td>\n",
       "      <td>NaN</td>\n",
       "    </tr>\n",
       "  </tbody>\n",
       "</table>\n",
       "</div>"
      ],
      "text/plain": [
       "                       model notes  training_time  r2_score  \\\n",
       "108.pickle  LinearRegression   NaN       0.415421  0.092558   \n",
       "\n",
       "            mean_squared_error  mean_absolute_error  explained_variance_score  \\\n",
       "108.pickle          700.880024            18.023909                  0.092565   \n",
       "\n",
       "            f1_score  recall_score  precision_score  accuracy_score  \n",
       "108.pickle       NaN           NaN              NaN             NaN  "
      ]
     },
     "execution_count": 13,
     "metadata": {},
     "output_type": "execute_result"
    }
   ],
   "source": [
    "modeling.get_records().tail(1)"
   ]
  },
  {
   "cell_type": "code",
   "execution_count": null,
   "metadata": {},
   "outputs": [],
   "source": []
  }
 ],
 "metadata": {
  "interpreter": {
   "hash": "4fe28adbe6d40c82bdde6a2233f025e3b944121e67b5abb397657075ce1366ca"
  },
  "kernelspec": {
   "display_name": "Python 3.8.5 64-bit ('lighthouse': conda)",
   "language": "python",
   "name": "python3"
  },
  "language_info": {
   "codemirror_mode": {
    "name": "ipython",
    "version": 3
   },
   "file_extension": ".py",
   "mimetype": "text/x-python",
   "name": "python",
   "nbconvert_exporter": "python",
   "pygments_lexer": "ipython3",
   "version": "3.8.5"
  },
  "orig_nbformat": 4
 },
 "nbformat": 4,
 "nbformat_minor": 2
}
