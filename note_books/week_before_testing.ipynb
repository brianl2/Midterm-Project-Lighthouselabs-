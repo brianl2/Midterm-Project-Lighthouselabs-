{
 "cells": [
  {
   "cell_type": "code",
   "execution_count": 1,
   "metadata": {},
   "outputs": [],
   "source": [
    "import sys\n",
    "sys.path.append(\"..\")  # <-  This should point to the root directory of the project relative to this file\n",
    "\n",
    "from custom_scripts import database\n",
    "from custom_scripts import preprocessing\n",
    "from custom_scripts import preparation\n",
    "from custom_scripts import modeling\n",
    "# from custom_scripts import weather\n",
    "import pandas as pd\n",
    "import numpy as np"
   ]
  },
  {
   "cell_type": "code",
   "execution_count": 32,
   "metadata": {},
   "outputs": [],
   "source": [
    "def create_average_table(feature,prefix):\n",
    "    return database.query(f\"\"\"\n",
    "                            SELECT  {feature},\n",
    "                                    AVG(dep_delay) AS \"{prefix}_avg_dep_delay\", \n",
    "                                    AVG(taxi_out) AS \"{prefix}_avg_taxi_out\",\n",
    "                                    AVG(wheels_off) AS \"{prefix}_avg_wheels_off\", \n",
    "                                    AVG(wheels_on) AS \"{prefix}_avg_wheels_on\", \n",
    "                                    AVG(taxi_in) AS \"{prefix}_avg_taxi_in\", \n",
    "                                    AVG(arr_delay) AS \"{prefix}_avg_arr_delay\",\n",
    "                                    AVG(crs_elapsed_time) AS \"{prefix}_avg_crs_elapsed_time\",\n",
    "                                    AVG(actual_elapsed_time) AS \"{prefix}_avg_actual_elapsed_time\",\n",
    "                                    AVG(air_time) AS \"{prefix}_avg_air_time\",\n",
    "                                    AVG(carrier_delay) AS \"{prefix}_avg_carrier_delay\",\n",
    "                                    AVG(weather_delay) AS \"{prefix}_avg_weather_delay\",\n",
    "                                    AVG(nas_delay) AS \"{prefix}_avg_nas_delay\", \n",
    "                                    AVG(security_delay) AS \"{prefix}_avg_security_delay\",\n",
    "                                    AVG(late_aircraft_delay) AS \"{prefix}_avg_late_aircraft_delay\",\n",
    "                                    AVG(total_add_gtime) AS \"{prefix}_avg_total_add_gtime\",\n",
    "                                    AVG(longest_add_gtime) AS \"{prefix}_avg_longest_add_gtime\"                                      \n",
    "                                FROM flights\n",
    "                                WHERE fl_date = ANY('{{2018-12-31, 2018-12-30, 2018-12-29, 2018-12-28, 2018-12-27, 2018-12-26, 2018-12-25}}')\n",
    "                                GROUP BY {feature};\n",
    "                            \"\"\")\n",
    "avg_table = create_average_table('op_carrier_fl_num','fl_num')\n",
    "avg_table.to_csv('../data/preprocessing/avg_fl_num_features_2018-12-25_to_2018-12-31.csv', index=False)\n"
   ]
  },
  {
   "cell_type": "code",
   "execution_count": 19,
   "metadata": {},
   "outputs": [],
   "source": [
    "PRIMARY_TEST_FEATURES = \"\"\" fl_date, \n",
    "                        op_unique_carrier, \n",
    "                        op_carrier_fl_num, \n",
    "                        origin, \n",
    "                        dest, \n",
    "                        crs_dep_time,\n",
    "                        crs_arr_time, \n",
    "                        crs_elapsed_time, \n",
    "                        distance, \n",
    "                        arr_delay\n",
    "                    \"\"\"\n",
    "\n",
    "\n",
    "def get_jan_2019_validation_flights(features:str=PRIMARY_TEST_FEATURES) -> pd.DataFrame:\n",
    "    \"\"\" Returns dataframe of flights from the first week of january 2020\"\"\"\n",
    "    return database.query(f\"\"\" \n",
    "                            SELECT {features}\n",
    "                                FROM flights\n",
    "                                WHERE fl_date = ANY('{{2019-01-01, 2019-01-02, 2019-01-03, 2019-01-04, 2019-01-05, 2019-01-06, 2019-01-07}}')\n",
    "                                ;\n",
    "                            \"\"\")\n",
    "def get_dec_2018_training_flights(features:str=PRIMARY_TEST_FEATURES) -> pd.DataFrame:\n",
    "    \"\"\" Returns dataframe of flights from the first week of january 2020\"\"\"\n",
    "    return database.query(f\"\"\" \n",
    "                            SELECT {features}\n",
    "                                FROM flights\n",
    "                                WHERE fl_date = ANY('{{2018-12-31, 2018-12-30, 2018-12-29, 2018-12-28, 2018-12-27, 2018-12-26, 2018-12-25}}')\n",
    "                                ;\n",
    "                            \"\"\")"
   ]
  },
  {
   "cell_type": "code",
   "execution_count": 20,
   "metadata": {},
   "outputs": [
    {
     "name": "stdout",
     "output_type": "stream",
     "text": [
      "(145053, 10)\n"
     ]
    },
    {
     "data": {
      "text/html": [
       "<div>\n",
       "<style scoped>\n",
       "    .dataframe tbody tr th:only-of-type {\n",
       "        vertical-align: middle;\n",
       "    }\n",
       "\n",
       "    .dataframe tbody tr th {\n",
       "        vertical-align: top;\n",
       "    }\n",
       "\n",
       "    .dataframe thead th {\n",
       "        text-align: right;\n",
       "    }\n",
       "</style>\n",
       "<table border=\"1\" class=\"dataframe\">\n",
       "  <thead>\n",
       "    <tr style=\"text-align: right;\">\n",
       "      <th></th>\n",
       "      <th>fl_date</th>\n",
       "      <th>op_unique_carrier</th>\n",
       "      <th>op_carrier_fl_num</th>\n",
       "      <th>origin</th>\n",
       "      <th>dest</th>\n",
       "      <th>crs_dep_time</th>\n",
       "      <th>crs_arr_time</th>\n",
       "      <th>crs_elapsed_time</th>\n",
       "      <th>distance</th>\n",
       "      <th>arr_delay</th>\n",
       "    </tr>\n",
       "  </thead>\n",
       "  <tbody>\n",
       "    <tr>\n",
       "      <th>0</th>\n",
       "      <td>2019-01-01</td>\n",
       "      <td>OO</td>\n",
       "      <td>3368</td>\n",
       "      <td>SJC</td>\n",
       "      <td>AUS</td>\n",
       "      <td>1805</td>\n",
       "      <td>2337</td>\n",
       "      <td>212.0</td>\n",
       "      <td>1476.0</td>\n",
       "      <td>9.0</td>\n",
       "    </tr>\n",
       "  </tbody>\n",
       "</table>\n",
       "</div>"
      ],
      "text/plain": [
       "      fl_date op_unique_carrier  op_carrier_fl_num origin dest  crs_dep_time  \\\n",
       "0  2019-01-01                OO               3368    SJC  AUS          1805   \n",
       "\n",
       "   crs_arr_time  crs_elapsed_time  distance  arr_delay  \n",
       "0          2337             212.0    1476.0        9.0  "
      ]
     },
     "execution_count": 20,
     "metadata": {},
     "output_type": "execute_result"
    }
   ],
   "source": [
    "# validation_data = get_jan_2019_validation_flights()\n",
    "# validation_data = validation_data[validation_data['arr_delay'].notnull()]\n",
    "# validation_data.to_csv('../../data/local/jan_2019_validation_flights', index=False)\n",
    "validation_data = pd.read_csv('../data/local/jan_2019_validation_flights')\n",
    "print(validation_data.shape)\n",
    "validation_data.head(1)"
   ]
  },
  {
   "cell_type": "code",
   "execution_count": 21,
   "metadata": {},
   "outputs": [
    {
     "name": "stdout",
     "output_type": "stream",
     "text": [
      "(143158, 10)\n"
     ]
    },
    {
     "data": {
      "text/html": [
       "<div>\n",
       "<style scoped>\n",
       "    .dataframe tbody tr th:only-of-type {\n",
       "        vertical-align: middle;\n",
       "    }\n",
       "\n",
       "    .dataframe tbody tr th {\n",
       "        vertical-align: top;\n",
       "    }\n",
       "\n",
       "    .dataframe thead th {\n",
       "        text-align: right;\n",
       "    }\n",
       "</style>\n",
       "<table border=\"1\" class=\"dataframe\">\n",
       "  <thead>\n",
       "    <tr style=\"text-align: right;\">\n",
       "      <th></th>\n",
       "      <th>fl_date</th>\n",
       "      <th>op_unique_carrier</th>\n",
       "      <th>op_carrier_fl_num</th>\n",
       "      <th>origin</th>\n",
       "      <th>dest</th>\n",
       "      <th>crs_dep_time</th>\n",
       "      <th>crs_arr_time</th>\n",
       "      <th>crs_elapsed_time</th>\n",
       "      <th>distance</th>\n",
       "      <th>arr_delay</th>\n",
       "    </tr>\n",
       "  </thead>\n",
       "  <tbody>\n",
       "    <tr>\n",
       "      <th>0</th>\n",
       "      <td>2018-12-25</td>\n",
       "      <td>WN</td>\n",
       "      <td>566</td>\n",
       "      <td>DEN</td>\n",
       "      <td>LGA</td>\n",
       "      <td>1745</td>\n",
       "      <td>2320</td>\n",
       "      <td>215.0</td>\n",
       "      <td>1620.0</td>\n",
       "      <td>-17.0</td>\n",
       "    </tr>\n",
       "  </tbody>\n",
       "</table>\n",
       "</div>"
      ],
      "text/plain": [
       "      fl_date op_unique_carrier  op_carrier_fl_num origin dest  crs_dep_time  \\\n",
       "0  2018-12-25                WN                566    DEN  LGA          1745   \n",
       "\n",
       "   crs_arr_time  crs_elapsed_time  distance  arr_delay  \n",
       "0          2320             215.0    1620.0      -17.0  "
      ]
     },
     "execution_count": 21,
     "metadata": {},
     "output_type": "execute_result"
    }
   ],
   "source": [
    "# training_data = get_dec_2018_training_flights()\n",
    "# training_data = training_data[training_data['arr_delay'].notnull()]\n",
    "# training_data = training_data[training_data['op_carrier_fl_num'].isin(validation_data['op_carrier_fl_num'].values)]\n",
    "# training_data.to_csv('../../data/local/dec_2018_training_flights', index=False)\n",
    "training_data = pd.read_csv('../data/local/dec_2018_training_flights')\n",
    "print(training_data.shape)\n",
    "training_data.head(1)"
   ]
  },
  {
   "cell_type": "code",
   "execution_count": 22,
   "metadata": {},
   "outputs": [],
   "source": [
    "def build_average_features(flight_data: pd.DataFrame) -> pd.DataFrame:\n",
    "    \"\"\" Returns dataframe with added historic average features \"\"\"\n",
    "    average_delays = pd.read_csv('../data/preprocessing/avg_fl_num_features_2018-12-25_to_2018-12-31.csv')\n",
    "    return pd.merge(flight_data.copy(), average_delays, on='op_carrier_fl_num')"
   ]
  },
  {
   "cell_type": "code",
   "execution_count": 23,
   "metadata": {},
   "outputs": [
    {
     "data": {
      "text/plain": [
       "op_carrier_fl_num                    0\n",
       "fl_num_avg_dep_delay                 1\n",
       "fl_num_avg_taxi_out                  1\n",
       "fl_num_avg_wheels_off                1\n",
       "fl_num_avg_wheels_on                 1\n",
       "fl_num_avg_taxi_in                   1\n",
       "fl_num_avg_arr_delay                 1\n",
       "fl_num_avg_crs_elapsed_time          0\n",
       "fl_num_avg_actual_elapsed_time       1\n",
       "fl_num_avg_air_time                  1\n",
       "fl_num_avg_carrier_delay           513\n",
       "fl_num_avg_weather_delay           513\n",
       "fl_num_avg_nas_delay               513\n",
       "fl_num_avg_security_delay          513\n",
       "fl_num_avg_late_aircraft_delay     513\n",
       "fl_num_avg_total_add_gtime        6056\n",
       "fl_num_avg_longest_add_gtime      6056\n",
       "dtype: int64"
      ]
     },
     "execution_count": 23,
     "metadata": {},
     "output_type": "execute_result"
    }
   ],
   "source": [
    "avgs = pd.read_csv('../data/preprocessing/avg_fl_num_features_2018-12-25_to_2018-12-31.csv')\n",
    "avgs.isna().sum()"
   ]
  },
  {
   "cell_type": "code",
   "execution_count": 24,
   "metadata": {},
   "outputs": [
    {
     "name": "stdout",
     "output_type": "stream",
     "text": [
      "(143158, 9)\n",
      "(143158,)\n",
      "(145053, 9)\n",
      "(145053,)\n"
     ]
    }
   ],
   "source": [
    "X_train = training_data.drop('arr_delay',1)\n",
    "X_val = validation_data.drop('arr_delay',1)\n",
    "y_train = training_data['arr_delay']\n",
    "y_val = validation_data['arr_delay']\n",
    "print(X_train.shape)\n",
    "print(y_train.shape)\n",
    "print(X_val.shape)\n",
    "print(y_val.shape)"
   ]
  },
  {
   "cell_type": "code",
   "execution_count": 25,
   "metadata": {},
   "outputs": [
    {
     "name": "stdout",
     "output_type": "stream",
     "text": [
      "(143158, 9)\n",
      "(143158,)\n",
      "(145053, 9)\n",
      "(145053,)\n",
      "\n",
      "\n",
      "(143158, 39)\n",
      "(143158,)\n",
      "(145053, 39)\n",
      "(145053,)\n"
     ]
    },
    {
     "data": {
      "text/html": [
       "<div>\n",
       "<style scoped>\n",
       "    .dataframe tbody tr th:only-of-type {\n",
       "        vertical-align: middle;\n",
       "    }\n",
       "\n",
       "    .dataframe tbody tr th {\n",
       "        vertical-align: top;\n",
       "    }\n",
       "\n",
       "    .dataframe thead th {\n",
       "        text-align: right;\n",
       "    }\n",
       "</style>\n",
       "<table border=\"1\" class=\"dataframe\">\n",
       "  <thead>\n",
       "    <tr style=\"text-align: right;\">\n",
       "      <th></th>\n",
       "      <th>fl_date</th>\n",
       "      <th>op_unique_carrier</th>\n",
       "      <th>op_carrier_fl_num</th>\n",
       "      <th>origin</th>\n",
       "      <th>dest</th>\n",
       "      <th>crs_dep_time</th>\n",
       "      <th>crs_arr_time</th>\n",
       "      <th>crs_elapsed_time</th>\n",
       "      <th>distance</th>\n",
       "      <th>fl_num_avg_dep_delay</th>\n",
       "      <th>...</th>\n",
       "      <th>day_of_year</th>\n",
       "      <th>day_of_week</th>\n",
       "      <th>Severity</th>\n",
       "      <th>Rain</th>\n",
       "      <th>Fog</th>\n",
       "      <th>Cold</th>\n",
       "      <th>Storm</th>\n",
       "      <th>Precipitation</th>\n",
       "      <th>Snow</th>\n",
       "      <th>Hail</th>\n",
       "    </tr>\n",
       "  </thead>\n",
       "  <tbody>\n",
       "    <tr>\n",
       "      <th>0</th>\n",
       "      <td>2018-12-25</td>\n",
       "      <td>WN</td>\n",
       "      <td>566</td>\n",
       "      <td>DEN</td>\n",
       "      <td>LGA</td>\n",
       "      <td>1745</td>\n",
       "      <td>2320</td>\n",
       "      <td>215.0</td>\n",
       "      <td>1620.0</td>\n",
       "      <td>13.5238</td>\n",
       "      <td>...</td>\n",
       "      <td>359</td>\n",
       "      <td>1</td>\n",
       "      <td>0.0</td>\n",
       "      <td>0.0</td>\n",
       "      <td>0.0</td>\n",
       "      <td>0.0</td>\n",
       "      <td>0.0</td>\n",
       "      <td>0.0</td>\n",
       "      <td>0.0</td>\n",
       "      <td>0.0</td>\n",
       "    </tr>\n",
       "  </tbody>\n",
       "</table>\n",
       "<p>1 rows × 39 columns</p>\n",
       "</div>"
      ],
      "text/plain": [
       "      fl_date op_unique_carrier  op_carrier_fl_num origin dest  crs_dep_time  \\\n",
       "0  2018-12-25                WN                566    DEN  LGA          1745   \n",
       "\n",
       "   crs_arr_time  crs_elapsed_time  distance  fl_num_avg_dep_delay  ...  \\\n",
       "0          2320             215.0    1620.0               13.5238  ...   \n",
       "\n",
       "   day_of_year  day_of_week  Severity  Rain  Fog  Cold  Storm  Precipitation  \\\n",
       "0          359            1       0.0   0.0  0.0   0.0    0.0            0.0   \n",
       "\n",
       "   Snow  Hail  \n",
       "0   0.0   0.0  \n",
       "\n",
       "[1 rows x 39 columns]"
      ]
     },
     "execution_count": 25,
     "metadata": {},
     "output_type": "execute_result"
    }
   ],
   "source": [
    "print(X_train.shape)\n",
    "print(y_train.shape)\n",
    "print(X_val.shape)\n",
    "print(y_val.shape)\n",
    "# X_train = preparation.build_all_features(X_train)\n",
    "# X_train = build_average_features(X_train)\n",
    "X_train = preparation.build_historic_average_features(X_train)\n",
    "X_train = preparation.build_time_features(X_train)\n",
    "X_train = preparation.build_day_features(X_train)\n",
    "X_train = preparation.build_weather_features(X_train)\n",
    "\n",
    "# X_val = preparation.build_all_features(X_val)\n",
    "# X_val = build_average_features(X_val)\n",
    "X_val = preparation.build_historic_average_features(X_val)\n",
    "X_val = preparation.build_time_features(X_val)\n",
    "X_val = preparation.build_day_features(X_val)\n",
    "X_val = preparation.build_weather_features(X_val)\n",
    "print('\\n')\n",
    "print(X_train.shape)\n",
    "print(y_train.shape)\n",
    "print(X_val.shape)\n",
    "print(y_val.shape)\n",
    "\n",
    "X_train.head(1)"
   ]
  },
  {
   "cell_type": "code",
   "execution_count": 26,
   "metadata": {},
   "outputs": [
    {
     "data": {
      "text/plain": [
       "0       37\n",
       "1941     2\n",
       "dtype: int64"
      ]
     },
     "execution_count": 26,
     "metadata": {},
     "output_type": "execute_result"
    }
   ],
   "source": [
    "X_train.isna().sum().value_counts()"
   ]
  },
  {
   "cell_type": "code",
   "execution_count": 27,
   "metadata": {},
   "outputs": [
    {
     "data": {
      "text/html": [
       "<div>\n",
       "<style scoped>\n",
       "    .dataframe tbody tr th:only-of-type {\n",
       "        vertical-align: middle;\n",
       "    }\n",
       "\n",
       "    .dataframe tbody tr th {\n",
       "        vertical-align: top;\n",
       "    }\n",
       "\n",
       "    .dataframe thead th {\n",
       "        text-align: right;\n",
       "    }\n",
       "</style>\n",
       "<table border=\"1\" class=\"dataframe\">\n",
       "  <thead>\n",
       "    <tr style=\"text-align: right;\">\n",
       "      <th></th>\n",
       "      <th>arr_time_sin</th>\n",
       "      <th>arr_time_cos</th>\n",
       "      <th>dep_time_sin</th>\n",
       "      <th>dep_time_cos</th>\n",
       "      <th>Cold</th>\n",
       "      <th>Fog</th>\n",
       "      <th>Hail</th>\n",
       "      <th>Precipitation</th>\n",
       "      <th>Rain</th>\n",
       "      <th>Snow</th>\n",
       "      <th>...</th>\n",
       "      <th>day_of_year_363</th>\n",
       "      <th>day_of_year_364</th>\n",
       "      <th>day_of_year_365</th>\n",
       "      <th>day_of_week_0</th>\n",
       "      <th>day_of_week_1</th>\n",
       "      <th>day_of_week_2</th>\n",
       "      <th>day_of_week_3</th>\n",
       "      <th>day_of_week_4</th>\n",
       "      <th>day_of_week_5</th>\n",
       "      <th>day_of_week_6</th>\n",
       "    </tr>\n",
       "  </thead>\n",
       "  <tbody>\n",
       "    <tr>\n",
       "      <th>0</th>\n",
       "      <td>-0.169466</td>\n",
       "      <td>0.985536</td>\n",
       "      <td>-0.998065</td>\n",
       "      <td>-0.06218</td>\n",
       "      <td>0.0</td>\n",
       "      <td>0.0</td>\n",
       "      <td>0.0</td>\n",
       "      <td>0.0</td>\n",
       "      <td>0.0</td>\n",
       "      <td>0.0</td>\n",
       "      <td>...</td>\n",
       "      <td>0</td>\n",
       "      <td>0</td>\n",
       "      <td>0</td>\n",
       "      <td>0</td>\n",
       "      <td>1</td>\n",
       "      <td>0</td>\n",
       "      <td>0</td>\n",
       "      <td>0</td>\n",
       "      <td>0</td>\n",
       "      <td>0</td>\n",
       "    </tr>\n",
       "  </tbody>\n",
       "</table>\n",
       "<p>1 rows × 44 columns</p>\n",
       "</div>"
      ],
      "text/plain": [
       "   arr_time_sin  arr_time_cos  dep_time_sin  dep_time_cos  Cold  Fog  Hail  \\\n",
       "0     -0.169466      0.985536     -0.998065      -0.06218   0.0  0.0   0.0   \n",
       "\n",
       "   Precipitation  Rain  Snow  ...  day_of_year_363  day_of_year_364  \\\n",
       "0            0.0   0.0   0.0  ...                0                0   \n",
       "\n",
       "   day_of_year_365  day_of_week_0  day_of_week_1  day_of_week_2  \\\n",
       "0                0              0              1              0   \n",
       "\n",
       "   day_of_week_3  day_of_week_4  day_of_week_5  day_of_week_6  \n",
       "0              0              0              0              0  \n",
       "\n",
       "[1 rows x 44 columns]"
      ]
     },
     "execution_count": 27,
     "metadata": {},
     "output_type": "execute_result"
    }
   ],
   "source": [
    "from sklearn.preprocessing import StandardScaler\n",
    "X_train, X_val = preparation.standardize_data(data_arr=[X_train.fillna(0), X_val.fillna(0)], scaler=StandardScaler())\n",
    "\n",
    "X_train.head(1)"
   ]
  },
  {
   "cell_type": "code",
   "execution_count": 28,
   "metadata": {},
   "outputs": [],
   "source": [
    "X_train.drop(['day_of_year_359', 'day_of_year_360','day_of_year_361', 'day_of_year_362', 'day_of_year_363','day_of_year_364', 'day_of_year_365',],1, inplace=True)\n",
    "X_val.drop(['day_of_year_1', 'day_of_year_2','day_of_year_3', 'day_of_year_4', 'day_of_year_5','day_of_year_6', 'day_of_year_7',],1, inplace=True)"
   ]
  },
  {
   "cell_type": "code",
   "execution_count": 11,
   "metadata": {},
   "outputs": [],
   "source": [
    "from sklearn.linear_model import LinearRegression"
   ]
  },
  {
   "cell_type": "code",
   "execution_count": 29,
   "metadata": {},
   "outputs": [
    {
     "name": "stdout",
     "output_type": "stream",
     "text": [
      "{'r2_score': -0.022938833323258745, 'mean_squared_error': 2353.8753094862, 'mean_absolute_error': 26.238905225850512, 'explained_variance_score': -0.004109291292295092}\n"
     ]
    },
    {
     "data": {
      "text/plain": [
       "LinearRegression()"
      ]
     },
     "execution_count": 29,
     "metadata": {},
     "output_type": "execute_result"
    }
   ],
   "source": [
    "modeling.run_test(X_train,X_val,y_train,y_val,LinearRegression(),'week before. historic average')"
   ]
  },
  {
   "cell_type": "code",
   "execution_count": 30,
   "metadata": {},
   "outputs": [
    {
     "data": {
      "text/html": [
       "<div>\n",
       "<style scoped>\n",
       "    .dataframe tbody tr th:only-of-type {\n",
       "        vertical-align: middle;\n",
       "    }\n",
       "\n",
       "    .dataframe tbody tr th {\n",
       "        vertical-align: top;\n",
       "    }\n",
       "\n",
       "    .dataframe thead th {\n",
       "        text-align: right;\n",
       "    }\n",
       "</style>\n",
       "<table border=\"1\" class=\"dataframe\">\n",
       "  <thead>\n",
       "    <tr style=\"text-align: right;\">\n",
       "      <th></th>\n",
       "      <th>model</th>\n",
       "      <th>notes</th>\n",
       "      <th>training_time</th>\n",
       "      <th>r2_score</th>\n",
       "      <th>mean_squared_error</th>\n",
       "      <th>mean_absolute_error</th>\n",
       "      <th>explained_variance_score</th>\n",
       "    </tr>\n",
       "  </thead>\n",
       "  <tbody>\n",
       "    <tr>\n",
       "      <th>1.pickle</th>\n",
       "      <td>LinearRegression</td>\n",
       "      <td>This is an example</td>\n",
       "      <td>0.335254</td>\n",
       "      <td>0.023981</td>\n",
       "      <td>2639.683433</td>\n",
       "      <td>23.963857</td>\n",
       "      <td>0.023981</td>\n",
       "    </tr>\n",
       "    <tr>\n",
       "      <th>2.pickle</th>\n",
       "      <td>LinearRegression</td>\n",
       "      <td>RFE to 10 features</td>\n",
       "      <td>0.298478</td>\n",
       "      <td>0.022740</td>\n",
       "      <td>2705.838105</td>\n",
       "      <td>24.067241</td>\n",
       "      <td>0.022748</td>\n",
       "    </tr>\n",
       "    <tr>\n",
       "      <th>3.pickle</th>\n",
       "      <td>BayesianRidge</td>\n",
       "      <td>all features</td>\n",
       "      <td>0.478924</td>\n",
       "      <td>0.022792</td>\n",
       "      <td>2705.694913</td>\n",
       "      <td>24.058807</td>\n",
       "      <td>0.022800</td>\n",
       "    </tr>\n",
       "    <tr>\n",
       "      <th>4.pickle</th>\n",
       "      <td>LinearRegression</td>\n",
       "      <td>added distance and crs_elapsed_time</td>\n",
       "      <td>0.318419</td>\n",
       "      <td>0.025210</td>\n",
       "      <td>2698.999142</td>\n",
       "      <td>23.990768</td>\n",
       "      <td>0.025218</td>\n",
       "    </tr>\n",
       "    <tr>\n",
       "      <th>5.pickle</th>\n",
       "      <td>LinearRegression</td>\n",
       "      <td>This is an example</td>\n",
       "      <td>0.176739</td>\n",
       "      <td>0.025575</td>\n",
       "      <td>2211.004225</td>\n",
       "      <td>22.450006</td>\n",
       "      <td>0.025595</td>\n",
       "    </tr>\n",
       "    <tr>\n",
       "      <th>6.pickle</th>\n",
       "      <td>LinearRegression</td>\n",
       "      <td>week before. historic average</td>\n",
       "      <td>0.272816</td>\n",
       "      <td>-0.022939</td>\n",
       "      <td>2353.875309</td>\n",
       "      <td>26.238905</td>\n",
       "      <td>-0.004109</td>\n",
       "    </tr>\n",
       "    <tr>\n",
       "      <th>7.pickle</th>\n",
       "      <td>LinearRegression</td>\n",
       "      <td>week before. historic average</td>\n",
       "      <td>0.227740</td>\n",
       "      <td>-0.022939</td>\n",
       "      <td>2353.875309</td>\n",
       "      <td>26.238905</td>\n",
       "      <td>-0.004109</td>\n",
       "    </tr>\n",
       "  </tbody>\n",
       "</table>\n",
       "</div>"
      ],
      "text/plain": [
       "                     model                                notes  \\\n",
       "1.pickle  LinearRegression                   This is an example   \n",
       "2.pickle  LinearRegression                   RFE to 10 features   \n",
       "3.pickle     BayesianRidge                         all features   \n",
       "4.pickle  LinearRegression  added distance and crs_elapsed_time   \n",
       "5.pickle  LinearRegression                   This is an example   \n",
       "6.pickle  LinearRegression        week before. historic average   \n",
       "7.pickle  LinearRegression        week before. historic average   \n",
       "\n",
       "          training_time  r2_score  mean_squared_error  mean_absolute_error  \\\n",
       "1.pickle       0.335254  0.023981         2639.683433            23.963857   \n",
       "2.pickle       0.298478  0.022740         2705.838105            24.067241   \n",
       "3.pickle       0.478924  0.022792         2705.694913            24.058807   \n",
       "4.pickle       0.318419  0.025210         2698.999142            23.990768   \n",
       "5.pickle       0.176739  0.025575         2211.004225            22.450006   \n",
       "6.pickle       0.272816 -0.022939         2353.875309            26.238905   \n",
       "7.pickle       0.227740 -0.022939         2353.875309            26.238905   \n",
       "\n",
       "          explained_variance_score  \n",
       "1.pickle                  0.023981  \n",
       "2.pickle                  0.022748  \n",
       "3.pickle                  0.022800  \n",
       "4.pickle                  0.025218  \n",
       "5.pickle                  0.025595  \n",
       "6.pickle                 -0.004109  \n",
       "7.pickle                 -0.004109  "
      ]
     },
     "execution_count": 30,
     "metadata": {},
     "output_type": "execute_result"
    }
   ],
   "source": [
    "modeling.get_records()"
   ]
  },
  {
   "cell_type": "code",
   "execution_count": null,
   "metadata": {},
   "outputs": [],
   "source": []
  }
 ],
 "metadata": {
  "interpreter": {
   "hash": "4fe28adbe6d40c82bdde6a2233f025e3b944121e67b5abb397657075ce1366ca"
  },
  "kernelspec": {
   "display_name": "Python 3.8.5 64-bit ('lighthouse': conda)",
   "language": "python",
   "name": "python3"
  },
  "language_info": {
   "codemirror_mode": {
    "name": "ipython",
    "version": 3
   },
   "file_extension": ".py",
   "mimetype": "text/x-python",
   "name": "python",
   "nbconvert_exporter": "python",
   "pygments_lexer": "ipython3",
   "version": "3.8.5"
  },
  "orig_nbformat": 4
 },
 "nbformat": 4,
 "nbformat_minor": 2
}
