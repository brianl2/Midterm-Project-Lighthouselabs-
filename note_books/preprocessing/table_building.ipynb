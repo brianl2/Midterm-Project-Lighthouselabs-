{
 "cells": [
  {
   "cell_type": "code",
   "execution_count": 2,
   "metadata": {},
   "outputs": [],
   "source": [
    "import sys\n",
    "sys.path.append(\"../..\") \n",
    "\n",
    "from custom_scripts import database"
   ]
  },
  {
   "cell_type": "code",
   "execution_count": 18,
   "metadata": {},
   "outputs": [
    {
     "data": {
      "text/html": [
       "<div>\n",
       "<style scoped>\n",
       "    .dataframe tbody tr th:only-of-type {\n",
       "        vertical-align: middle;\n",
       "    }\n",
       "\n",
       "    .dataframe tbody tr th {\n",
       "        vertical-align: top;\n",
       "    }\n",
       "\n",
       "    .dataframe thead th {\n",
       "        text-align: right;\n",
       "    }\n",
       "</style>\n",
       "<table border=\"1\" class=\"dataframe\">\n",
       "  <thead>\n",
       "    <tr style=\"text-align: right;\">\n",
       "      <th></th>\n",
       "      <th>op_unique_carrier</th>\n",
       "      <th>count</th>\n",
       "    </tr>\n",
       "  </thead>\n",
       "  <tbody>\n",
       "    <tr>\n",
       "      <th>0</th>\n",
       "      <td>9E</td>\n",
       "      <td>23088</td>\n",
       "    </tr>\n",
       "  </tbody>\n",
       "</table>\n",
       "</div>"
      ],
      "text/plain": [
       "  op_unique_carrier  count\n",
       "0                9E  23088"
      ]
     },
     "execution_count": 18,
     "metadata": {},
     "output_type": "execute_result"
    }
   ],
   "source": [
    "### Table of unique carrier identifiers present in the test samples\n",
    "carriers = database.query(\"\"\" \n",
    "                            SELECT op_unique_carrier, COUNT(*)\n",
    "                                FROM flights_test\n",
    "                                GROUP BY op_unique_carrier;\n",
    "                            \"\"\")\n",
    "carriers.to_csv('../../data/preprocessing/unique_carriers.csv', index=False)\n",
    "carriers.head(1)"
   ]
  },
  {
   "cell_type": "code",
   "execution_count": 19,
   "metadata": {},
   "outputs": [
    {
     "data": {
      "text/html": [
       "<div>\n",
       "<style scoped>\n",
       "    .dataframe tbody tr th:only-of-type {\n",
       "        vertical-align: middle;\n",
       "    }\n",
       "\n",
       "    .dataframe tbody tr th {\n",
       "        vertical-align: top;\n",
       "    }\n",
       "\n",
       "    .dataframe thead th {\n",
       "        text-align: right;\n",
       "    }\n",
       "</style>\n",
       "<table border=\"1\" class=\"dataframe\">\n",
       "  <thead>\n",
       "    <tr style=\"text-align: right;\">\n",
       "      <th></th>\n",
       "      <th>op_carrier_fl_num</th>\n",
       "      <th>count</th>\n",
       "    </tr>\n",
       "  </thead>\n",
       "  <tbody>\n",
       "    <tr>\n",
       "      <th>0</th>\n",
       "      <td>6114</td>\n",
       "      <td>64</td>\n",
       "    </tr>\n",
       "  </tbody>\n",
       "</table>\n",
       "</div>"
      ],
      "text/plain": [
       "   op_carrier_fl_num  count\n",
       "0               6114     64"
      ]
     },
     "execution_count": 19,
     "metadata": {},
     "output_type": "execute_result"
    }
   ],
   "source": [
    "### Table of flight numbers present in the test samples, and a count of their frequency\n",
    "test_flight_numbers = database.query(\"\"\"\n",
    "                                SELECT op_carrier_fl_num, COUNT(*) \n",
    "                                    FROM flights_test\n",
    "                                    GROUP BY op_carrier_fl_num;\n",
    "                                \"\"\")\n",
    "test_flight_numbers.to_csv('../../data/preprocessing/test_flight_numbers.csv', index=False)\n",
    "test_flight_numbers.head(1)"
   ]
  },
  {
   "cell_type": "code",
   "execution_count": 20,
   "metadata": {},
   "outputs": [
    {
     "data": {
      "text/html": [
       "<div>\n",
       "<style scoped>\n",
       "    .dataframe tbody tr th:only-of-type {\n",
       "        vertical-align: middle;\n",
       "    }\n",
       "\n",
       "    .dataframe tbody tr th {\n",
       "        vertical-align: top;\n",
       "    }\n",
       "\n",
       "    .dataframe thead th {\n",
       "        text-align: right;\n",
       "    }\n",
       "</style>\n",
       "<table border=\"1\" class=\"dataframe\">\n",
       "  <thead>\n",
       "    <tr style=\"text-align: right;\">\n",
       "      <th></th>\n",
       "      <th>op_carrier_fl_num</th>\n",
       "      <th>count</th>\n",
       "    </tr>\n",
       "  </thead>\n",
       "  <tbody>\n",
       "    <tr>\n",
       "      <th>0</th>\n",
       "      <td>1</td>\n",
       "      <td>308</td>\n",
       "    </tr>\n",
       "  </tbody>\n",
       "</table>\n",
       "</div>"
      ],
      "text/plain": [
       "   op_carrier_fl_num  count\n",
       "0                  1    308"
      ]
     },
     "execution_count": 20,
     "metadata": {},
     "output_type": "execute_result"
    }
   ],
   "source": [
    "### Table of flight numbers present in the samples available for training, and a count of their frequency\n",
    "past_flight_numbers = database.query(\"\"\"\n",
    "                                SELECT op_carrier_fl_num, COUNT(*)\n",
    "                                    FROM flights\n",
    "                                    WHERE SUBSTRING(fl_date,6,2) = '01'\n",
    "                                    GROUP BY op_carrier_fl_num;\n",
    "                                \"\"\")\n",
    "past_flight_numbers.to_csv('../../data/preprocessing/past_flight_numbers.csv', index=False)\n",
    "past_flight_numbers.head(1)\n"
   ]
  },
  {
   "cell_type": "code",
   "execution_count": 28,
   "metadata": {},
   "outputs": [
    {
     "data": {
      "text/html": [
       "<div>\n",
       "<style scoped>\n",
       "    .dataframe tbody tr th:only-of-type {\n",
       "        vertical-align: middle;\n",
       "    }\n",
       "\n",
       "    .dataframe tbody tr th {\n",
       "        vertical-align: top;\n",
       "    }\n",
       "\n",
       "    .dataframe thead th {\n",
       "        text-align: right;\n",
       "    }\n",
       "</style>\n",
       "<table border=\"1\" class=\"dataframe\">\n",
       "  <thead>\n",
       "    <tr style=\"text-align: right;\">\n",
       "      <th></th>\n",
       "      <th>op_carrier_fl_num</th>\n",
       "      <th>avg_arr_delay</th>\n",
       "      <th>avg_taxi_in</th>\n",
       "      <th>avg_taxi_out</th>\n",
       "      <th>avg_wheels_off</th>\n",
       "      <th>avg_wheels_on</th>\n",
       "      <th>avg_late_aircraft_delay</th>\n",
       "      <th>avg_carrier_delay</th>\n",
       "      <th>avg_weather_delay</th>\n",
       "      <th>avg_nas_delay</th>\n",
       "      <th>avg_dep_delay</th>\n",
       "    </tr>\n",
       "  </thead>\n",
       "  <tbody>\n",
       "    <tr>\n",
       "      <th>0</th>\n",
       "      <td>1</td>\n",
       "      <td>-10.616883</td>\n",
       "      <td>8.727273</td>\n",
       "      <td>17.769481</td>\n",
       "      <td>836.483766</td>\n",
       "      <td>1058.516234</td>\n",
       "      <td>3.941176</td>\n",
       "      <td>29.794118</td>\n",
       "      <td>4.382353</td>\n",
       "      <td>14.529412</td>\n",
       "      <td>2.918831</td>\n",
       "    </tr>\n",
       "  </tbody>\n",
       "</table>\n",
       "</div>"
      ],
      "text/plain": [
       "   op_carrier_fl_num  avg_arr_delay  avg_taxi_in  avg_taxi_out  \\\n",
       "0                  1     -10.616883     8.727273     17.769481   \n",
       "\n",
       "   avg_wheels_off  avg_wheels_on  avg_late_aircraft_delay  avg_carrier_delay  \\\n",
       "0      836.483766    1058.516234                 3.941176          29.794118   \n",
       "\n",
       "   avg_weather_delay  avg_nas_delay  avg_dep_delay  \n",
       "0           4.382353      14.529412       2.918831  "
      ]
     },
     "execution_count": 28,
     "metadata": {},
     "output_type": "execute_result"
    }
   ],
   "source": [
    "### Historic average delay times by flight number\n",
    "avg_flight_delays_by_flight_number = database.query(\"\"\"\n",
    "                                SELECT  op_carrier_fl_num,\n",
    "                                        AVG(arr_delay) AS \"avg_arr_delay\",\n",
    "                                        AVG(taxi_in) AS \"avg_taxi_in\", \n",
    "                                        AVG(taxi_out) AS \"avg_taxi_out\", \n",
    "                                        AVG(wheels_off) AS \"avg_wheels_off\", \n",
    "                                        AVG(wheels_on) AS \"avg_wheels_on\",\n",
    "                                        AVG(late_aircraft_delay) AS \"avg_late_aircraft_delay\",\n",
    "                                        AVG(carrier_delay) AS \"avg_carrier_delay\", \n",
    "                                        AVG(weather_delay) AS \"avg_weather_delay\", \n",
    "                                        AVG(nas_delay) AS \"avg_nas_delay\", \n",
    "                                        AVG(dep_delay) AS \"avg_dep_delay\"\n",
    "                                    FROM flights\n",
    "                                    WHERE SUBSTRING(fl_date,6,2) = '01'\n",
    "                                    GROUP BY op_carrier_fl_num;\n",
    "                                \"\"\")\n",
    "avg_flight_delays_by_flight_number.to_csv('../../data/preprocessing/average_flight_delays_by_flight_number.csv', index=False)\n",
    "avg_flight_delays_by_flight_number.head(1)\n"
   ]
  },
  {
   "cell_type": "code",
   "execution_count": 29,
   "metadata": {},
   "outputs": [
    {
     "data": {
      "text/html": [
       "<div>\n",
       "<style scoped>\n",
       "    .dataframe tbody tr th:only-of-type {\n",
       "        vertical-align: middle;\n",
       "    }\n",
       "\n",
       "    .dataframe tbody tr th {\n",
       "        vertical-align: top;\n",
       "    }\n",
       "\n",
       "    .dataframe thead th {\n",
       "        text-align: right;\n",
       "    }\n",
       "</style>\n",
       "<table border=\"1\" class=\"dataframe\">\n",
       "  <thead>\n",
       "    <tr style=\"text-align: right;\">\n",
       "      <th></th>\n",
       "      <th>dest_airport_id</th>\n",
       "      <th>avg_arr_delay</th>\n",
       "      <th>avg_taxi_in</th>\n",
       "      <th>avg_taxi_out</th>\n",
       "      <th>avg_wheels_off</th>\n",
       "      <th>avg_wheels_on</th>\n",
       "      <th>avg_late_aircraft_delay</th>\n",
       "      <th>avg_carrier_delay</th>\n",
       "      <th>avg_weather_delay</th>\n",
       "      <th>avg_nas_delay</th>\n",
       "      <th>avg_dep_delay</th>\n",
       "    </tr>\n",
       "  </thead>\n",
       "  <tbody>\n",
       "    <tr>\n",
       "      <th>0</th>\n",
       "      <td>10135</td>\n",
       "      <td>6.524297</td>\n",
       "      <td>4.895141</td>\n",
       "      <td>21.410486</td>\n",
       "      <td>1581.957801</td>\n",
       "      <td>1682.02046</td>\n",
       "      <td>26.819767</td>\n",
       "      <td>21.19186</td>\n",
       "      <td>6.401163</td>\n",
       "      <td>9.598837</td>\n",
       "      <td>11.323529</td>\n",
       "    </tr>\n",
       "  </tbody>\n",
       "</table>\n",
       "</div>"
      ],
      "text/plain": [
       "   dest_airport_id  avg_arr_delay  avg_taxi_in  avg_taxi_out  avg_wheels_off  \\\n",
       "0            10135       6.524297     4.895141     21.410486     1581.957801   \n",
       "\n",
       "   avg_wheels_on  avg_late_aircraft_delay  avg_carrier_delay  \\\n",
       "0     1682.02046                26.819767           21.19186   \n",
       "\n",
       "   avg_weather_delay  avg_nas_delay  avg_dep_delay  \n",
       "0           6.401163       9.598837      11.323529  "
      ]
     },
     "execution_count": 29,
     "metadata": {},
     "output_type": "execute_result"
    }
   ],
   "source": [
    "### Average flight delays grouped by destination airport ID\n",
    "avg_flight_delays_by_destination_airport = database.query(\"\"\"\n",
    "                                SELECT  dest_airport_id, \n",
    "                                        AVG(arr_delay) AS \"avg_arr_delay\",\n",
    "                                        AVG(taxi_in) AS \"avg_taxi_in\", \n",
    "                                        AVG(taxi_out) AS \"avg_taxi_out\", \n",
    "                                        AVG(wheels_off) AS \"avg_wheels_off\", \n",
    "                                        AVG(wheels_on) AS \"avg_wheels_on\",\n",
    "                                        AVG(late_aircraft_delay) AS \"avg_late_aircraft_delay\",\n",
    "                                        AVG(carrier_delay) AS \"avg_carrier_delay\", \n",
    "                                        AVG(weather_delay) AS \"avg_weather_delay\", \n",
    "                                        AVG(nas_delay) AS \"avg_nas_delay\", \n",
    "                                        AVG(dep_delay) AS \"avg_dep_delay\"\n",
    "                                    FROM flights\n",
    "                                    WHERE SUBSTRING(fl_date,6,2) = '01'\n",
    "                                    GROUP BY dest_airport_id;\n",
    "                                \"\"\")\n",
    "avg_flight_delays_by_destination_airport.to_csv('../../data/preprocessing/avg_flight_delays_by_destination_airport.csv', index=False)\n",
    "avg_flight_delays_by_destination_airport.head(1)"
   ]
  },
  {
   "cell_type": "code",
   "execution_count": 3,
   "metadata": {},
   "outputs": [
    {
     "data": {
      "text/html": [
       "<div>\n",
       "<style scoped>\n",
       "    .dataframe tbody tr th:only-of-type {\n",
       "        vertical-align: middle;\n",
       "    }\n",
       "\n",
       "    .dataframe tbody tr th {\n",
       "        vertical-align: top;\n",
       "    }\n",
       "\n",
       "    .dataframe thead th {\n",
       "        text-align: right;\n",
       "    }\n",
       "</style>\n",
       "<table border=\"1\" class=\"dataframe\">\n",
       "  <thead>\n",
       "    <tr style=\"text-align: right;\">\n",
       "      <th></th>\n",
       "      <th>origin_airport_id</th>\n",
       "      <th>avg_arr_delay</th>\n",
       "      <th>avg_taxi_in</th>\n",
       "      <th>avg_taxi_out</th>\n",
       "      <th>avg_wheels_off</th>\n",
       "      <th>avg_wheels_on</th>\n",
       "      <th>avg_late_aircraft_delay</th>\n",
       "      <th>avg_carrier_delay</th>\n",
       "      <th>avg_weather_delay</th>\n",
       "      <th>avg_nas_delay</th>\n",
       "      <th>avg_dep_delay</th>\n",
       "    </tr>\n",
       "  </thead>\n",
       "  <tbody>\n",
       "    <tr>\n",
       "      <th>0</th>\n",
       "      <td>10135</td>\n",
       "      <td>9.233933</td>\n",
       "      <td>10.689345</td>\n",
       "      <td>18.04878</td>\n",
       "      <td>1233.286264</td>\n",
       "      <td>1364.227214</td>\n",
       "      <td>28.378698</td>\n",
       "      <td>29.207101</td>\n",
       "      <td>2.35503</td>\n",
       "      <td>19.940828</td>\n",
       "      <td>12.514763</td>\n",
       "    </tr>\n",
       "  </tbody>\n",
       "</table>\n",
       "</div>"
      ],
      "text/plain": [
       "   origin_airport_id  avg_arr_delay  avg_taxi_in  avg_taxi_out  \\\n",
       "0              10135       9.233933    10.689345      18.04878   \n",
       "\n",
       "   avg_wheels_off  avg_wheels_on  avg_late_aircraft_delay  avg_carrier_delay  \\\n",
       "0     1233.286264    1364.227214                28.378698          29.207101   \n",
       "\n",
       "   avg_weather_delay  avg_nas_delay  avg_dep_delay  \n",
       "0            2.35503      19.940828      12.514763  "
      ]
     },
     "execution_count": 3,
     "metadata": {},
     "output_type": "execute_result"
    }
   ],
   "source": [
    "### Average flight delays grouped by origin airport ID\n",
    "avg_flight_delays_by_origin_airport = database.query(\"\"\"\n",
    "                                SELECT  origin_airport_id, \n",
    "                                        AVG(arr_delay) AS \"avg_arr_delay\",\n",
    "                                        AVG(taxi_in) AS \"avg_taxi_in\", \n",
    "                                        AVG(taxi_out) AS \"avg_taxi_out\", \n",
    "                                        AVG(wheels_off) AS \"avg_wheels_off\", \n",
    "                                        AVG(wheels_on) AS \"avg_wheels_on\",\n",
    "                                        AVG(late_aircraft_delay) AS \"avg_late_aircraft_delay\",\n",
    "                                        AVG(carrier_delay) AS \"avg_carrier_delay\", \n",
    "                                        AVG(weather_delay) AS \"avg_weather_delay\", \n",
    "                                        AVG(nas_delay) AS \"avg_nas_delay\", \n",
    "                                        AVG(dep_delay) AS \"avg_dep_delay\"\n",
    "                                    FROM flights\n",
    "                                    WHERE SUBSTRING(fl_date,6,2) = '01'\n",
    "                                    GROUP BY origin_airport_id;\n",
    "                                \"\"\")\n",
    "avg_flight_delays_by_origin_airport.to_csv('../../data/preprocessing/avg_flight_delays_by_origin_airport.csv', index=False)\n",
    "avg_flight_delays_by_origin_airport.head(1)"
   ]
  },
  {
   "cell_type": "code",
   "execution_count": null,
   "metadata": {},
   "outputs": [],
   "source": []
  }
 ],
 "metadata": {
  "interpreter": {
   "hash": "4fe28adbe6d40c82bdde6a2233f025e3b944121e67b5abb397657075ce1366ca"
  },
  "kernelspec": {
   "display_name": "Python 3.8.5 64-bit ('lighthouse': conda)",
   "language": "python",
   "name": "python3"
  },
  "language_info": {
   "codemirror_mode": {
    "name": "ipython",
    "version": 3
   },
   "file_extension": ".py",
   "mimetype": "text/x-python",
   "name": "python",
   "nbconvert_exporter": "python",
   "pygments_lexer": "ipython3",
   "version": "3.8.5"
  },
  "orig_nbformat": 4
 },
 "nbformat": 4,
 "nbformat_minor": 2
}
