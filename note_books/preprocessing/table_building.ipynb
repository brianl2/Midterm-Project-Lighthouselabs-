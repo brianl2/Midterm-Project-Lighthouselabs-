{
 "cells": [
  {
   "cell_type": "code",
   "execution_count": 1,
   "metadata": {},
   "outputs": [],
   "source": [
    "import sys\n",
    "sys.path.append(\"../..\") \n",
    "\n",
    "from custom_scripts import database\n",
    "from custom_scripts import preprocessing"
   ]
  },
  {
   "cell_type": "code",
   "execution_count": 3,
   "metadata": {},
   "outputs": [
    {
     "data": {
      "text/html": [
       "<div>\n",
       "<style scoped>\n",
       "    .dataframe tbody tr th:only-of-type {\n",
       "        vertical-align: middle;\n",
       "    }\n",
       "\n",
       "    .dataframe tbody tr th {\n",
       "        vertical-align: top;\n",
       "    }\n",
       "\n",
       "    .dataframe thead th {\n",
       "        text-align: right;\n",
       "    }\n",
       "</style>\n",
       "<table border=\"1\" class=\"dataframe\">\n",
       "  <thead>\n",
       "    <tr style=\"text-align: right;\">\n",
       "      <th></th>\n",
       "      <th>op_unique_carrier</th>\n",
       "      <th>count</th>\n",
       "    </tr>\n",
       "  </thead>\n",
       "  <tbody>\n",
       "    <tr>\n",
       "      <th>0</th>\n",
       "      <td>9E</td>\n",
       "      <td>4942</td>\n",
       "    </tr>\n",
       "  </tbody>\n",
       "</table>\n",
       "</div>"
      ],
      "text/plain": [
       "  op_unique_carrier  count\n",
       "0                9E   4942"
      ]
     },
     "execution_count": 3,
     "metadata": {},
     "output_type": "execute_result"
    }
   ],
   "source": [
    "### Table of unique carrier identifiers present in the test samples, and a count of their frequency\n",
    "carriers = database.query(\"\"\" \n",
    "                            SELECT op_unique_carrier, COUNT(*)\n",
    "                                FROM flights_test\n",
    "                                WHERE fl_date = ANY('{2020-01-01, 2020-01-02, 2020-01-03, 2020-01-04, 2020-01-05, 2020-01-06, 2020-01-07}')\n",
    "                                GROUP BY op_unique_carrier;\n",
    "                            \"\"\")\n",
    "carriers.to_csv('../../data/preprocessing/unique_carriers.csv', index=False)\n",
    "carriers.head(1)"
   ]
  },
  {
   "cell_type": "code",
   "execution_count": 4,
   "metadata": {},
   "outputs": [
    {
     "data": {
      "text/html": [
       "<div>\n",
       "<style scoped>\n",
       "    .dataframe tbody tr th:only-of-type {\n",
       "        vertical-align: middle;\n",
       "    }\n",
       "\n",
       "    .dataframe tbody tr th {\n",
       "        vertical-align: top;\n",
       "    }\n",
       "\n",
       "    .dataframe thead th {\n",
       "        text-align: right;\n",
       "    }\n",
       "</style>\n",
       "<table border=\"1\" class=\"dataframe\">\n",
       "  <thead>\n",
       "    <tr style=\"text-align: right;\">\n",
       "      <th></th>\n",
       "      <th>op_carrier_fl_num</th>\n",
       "      <th>count</th>\n",
       "    </tr>\n",
       "  </thead>\n",
       "  <tbody>\n",
       "    <tr>\n",
       "      <th>0</th>\n",
       "      <td>6114</td>\n",
       "      <td>14</td>\n",
       "    </tr>\n",
       "  </tbody>\n",
       "</table>\n",
       "</div>"
      ],
      "text/plain": [
       "   op_carrier_fl_num  count\n",
       "0               6114     14"
      ]
     },
     "execution_count": 4,
     "metadata": {},
     "output_type": "execute_result"
    }
   ],
   "source": [
    "### Table of flight numbers present in the test samples, and a count of their frequency\n",
    "test_flight_numbers = database.query(\"\"\"\n",
    "                                SELECT op_carrier_fl_num, COUNT(*) \n",
    "                                    FROM flights_test\n",
    "                                    WHERE fl_date = ANY('{{2020-01-31, 2020-01-30, 2020-01-29, 2020-01-28, 2020-01-27, 2020-01-26, 2020-01-25}}')\n",
    "                                    GROUP BY op_carrier_fl_num;\n",
    "                                \"\"\")\n",
    "test_flight_numbers.to_csv('../../data/preprocessing/test_flight_numbers.csv', index=False)\n",
    "test_flight_numbers.head(1)"
   ]
  },
  {
   "cell_type": "code",
   "execution_count": 2,
   "metadata": {},
   "outputs": [
    {
     "data": {
      "text/html": [
       "<div>\n",
       "<style scoped>\n",
       "    .dataframe tbody tr th:only-of-type {\n",
       "        vertical-align: middle;\n",
       "    }\n",
       "\n",
       "    .dataframe tbody tr th {\n",
       "        vertical-align: top;\n",
       "    }\n",
       "\n",
       "    .dataframe thead th {\n",
       "        text-align: right;\n",
       "    }\n",
       "</style>\n",
       "<table border=\"1\" class=\"dataframe\">\n",
       "  <thead>\n",
       "    <tr style=\"text-align: right;\">\n",
       "      <th></th>\n",
       "      <th>op_carrier_fl_num</th>\n",
       "      <th>fl_num_avg_dep_delay</th>\n",
       "      <th>fl_num_avg_taxi_out</th>\n",
       "      <th>fl_num_avg_wheels_off</th>\n",
       "      <th>fl_num_avg_wheels_on</th>\n",
       "      <th>fl_num_avg_taxi_in</th>\n",
       "      <th>fl_num_avg_arr_delay</th>\n",
       "      <th>fl_num_avg_crs_elapsed_time</th>\n",
       "      <th>fl_num_avg_actual_elapsed_time</th>\n",
       "      <th>fl_num_avg_air_time</th>\n",
       "      <th>fl_num_avg_carrier_delay</th>\n",
       "      <th>fl_num_avg_weather_delay</th>\n",
       "      <th>fl_num_avg_nas_delay</th>\n",
       "      <th>fl_num_avg_security_delay</th>\n",
       "      <th>fl_num_avg_late_aircraft_delay</th>\n",
       "      <th>fl_num_avg_total_add_gtime</th>\n",
       "      <th>fl_num_avg_longest_add_gtime</th>\n",
       "    </tr>\n",
       "  </thead>\n",
       "  <tbody>\n",
       "    <tr>\n",
       "      <th>0</th>\n",
       "      <td>1</td>\n",
       "      <td>2.7734</td>\n",
       "      <td>16.922582</td>\n",
       "      <td>858.495249</td>\n",
       "      <td>1063.479598</td>\n",
       "      <td>8.920347</td>\n",
       "      <td>-5.716606</td>\n",
       "      <td>262.095996</td>\n",
       "      <td>256.171661</td>\n",
       "      <td>230.33492</td>\n",
       "      <td>24.254237</td>\n",
       "      <td>1.391949</td>\n",
       "      <td>12.355932</td>\n",
       "      <td>0.254237</td>\n",
       "      <td>6.618644</td>\n",
       "      <td>22.192308</td>\n",
       "      <td>22.192308</td>\n",
       "    </tr>\n",
       "  </tbody>\n",
       "</table>\n",
       "</div>"
      ],
      "text/plain": [
       "   op_carrier_fl_num  fl_num_avg_dep_delay  fl_num_avg_taxi_out  \\\n",
       "0                  1                2.7734            16.922582   \n",
       "\n",
       "   fl_num_avg_wheels_off  fl_num_avg_wheels_on  fl_num_avg_taxi_in  \\\n",
       "0             858.495249           1063.479598            8.920347   \n",
       "\n",
       "   fl_num_avg_arr_delay  fl_num_avg_crs_elapsed_time  \\\n",
       "0             -5.716606                   262.095996   \n",
       "\n",
       "   fl_num_avg_actual_elapsed_time  fl_num_avg_air_time  \\\n",
       "0                      256.171661            230.33492   \n",
       "\n",
       "   fl_num_avg_carrier_delay  fl_num_avg_weather_delay  fl_num_avg_nas_delay  \\\n",
       "0                 24.254237                  1.391949             12.355932   \n",
       "\n",
       "   fl_num_avg_security_delay  fl_num_avg_late_aircraft_delay  \\\n",
       "0                   0.254237                        6.618644   \n",
       "\n",
       "   fl_num_avg_total_add_gtime  fl_num_avg_longest_add_gtime  \n",
       "0                   22.192308                     22.192308  "
      ]
     },
     "execution_count": 2,
     "metadata": {},
     "output_type": "execute_result"
    }
   ],
   "source": [
    "### Table of historic averages grouped by flight number\n",
    "averages_by_flight = preprocessing.create_average_table('op_carrier_fl_num','fl_num')\n",
    "averages_by_flight.to_csv('../../data/preprocessing/averages_by_fl_num.csv', index=False)\n",
    "averages_by_flight.head(1)"
   ]
  },
  {
   "cell_type": "code",
   "execution_count": null,
   "metadata": {},
   "outputs": [],
   "source": []
  }
 ],
 "metadata": {
  "interpreter": {
   "hash": "4fe28adbe6d40c82bdde6a2233f025e3b944121e67b5abb397657075ce1366ca"
  },
  "kernelspec": {
   "display_name": "Python 3.8.5 64-bit ('lighthouse': conda)",
   "language": "python",
   "name": "python3"
  },
  "language_info": {
   "codemirror_mode": {
    "name": "ipython",
    "version": 3
   },
   "file_extension": ".py",
   "mimetype": "text/x-python",
   "name": "python",
   "nbconvert_exporter": "python",
   "pygments_lexer": "ipython3",
   "version": "3.8.5"
  },
  "orig_nbformat": 4
 },
 "nbformat": 4,
 "nbformat_minor": 2
}
