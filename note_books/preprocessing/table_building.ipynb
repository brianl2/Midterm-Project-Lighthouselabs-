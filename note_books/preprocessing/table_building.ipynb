{
 "cells": [
  {
   "cell_type": "code",
   "execution_count": 1,
   "metadata": {},
   "outputs": [],
   "source": [
    "import sys\n",
    "sys.path.append(\"../..\") \n",
    "\n",
    "from scripts import database"
   ]
  },
  {
   "cell_type": "code",
   "execution_count": 6,
   "metadata": {},
   "outputs": [],
   "source": [
    "carriers = database.query(\"\"\" \n",
    "                            SELECT mkt_unique_carrier FROM flights_test\n",
    "                                GROUP BY mkt_unique_carrier;\n",
    "                            \"\"\")\n",
    "carriers.to_csv('../../data/preprocessing/unique_carriers.csv', index=False)"
   ]
  },
  {
   "cell_type": "code",
   "execution_count": 7,
   "metadata": {},
   "outputs": [],
   "source": [
    "flight_numbers = database.query(\"\"\"\n",
    "                                SELECT op_carrier_fl_num \n",
    "                                    FROM flights_test\n",
    "                                    GROUP BY op_carrier_fl_num;\n",
    "                                \"\"\")\n",
    "flight_numbers.to_csv('../../data/preprocessing/flight_numbers.csv', index=False)"
   ]
  }
 ],
 "metadata": {
  "interpreter": {
   "hash": "4fe28adbe6d40c82bdde6a2233f025e3b944121e67b5abb397657075ce1366ca"
  },
  "kernelspec": {
   "display_name": "Python 3.8.5 64-bit ('lighthouse': conda)",
   "language": "python",
   "name": "python3"
  },
  "language_info": {
   "codemirror_mode": {
    "name": "ipython",
    "version": 3
   },
   "file_extension": ".py",
   "mimetype": "text/x-python",
   "name": "python",
   "nbconvert_exporter": "python",
   "pygments_lexer": "ipython3",
   "version": "3.8.5"
  },
  "orig_nbformat": 4
 },
 "nbformat": 4,
 "nbformat_minor": 2
}
