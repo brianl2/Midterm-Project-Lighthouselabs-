{
 "cells": [
  {
   "cell_type": "code",
   "execution_count": 2,
   "metadata": {},
   "outputs": [],
   "source": [
    "import sys\n",
    "sys.path.append(\"../..\") \n",
    "\n",
    "from custom_scripts import database"
   ]
  },
  {
   "cell_type": "code",
   "execution_count": 3,
   "metadata": {},
   "outputs": [
    {
     "data": {
      "text/html": [
       "<div>\n",
       "<style scoped>\n",
       "    .dataframe tbody tr th:only-of-type {\n",
       "        vertical-align: middle;\n",
       "    }\n",
       "\n",
       "    .dataframe tbody tr th {\n",
       "        vertical-align: top;\n",
       "    }\n",
       "\n",
       "    .dataframe thead th {\n",
       "        text-align: right;\n",
       "    }\n",
       "</style>\n",
       "<table border=\"1\" class=\"dataframe\">\n",
       "  <thead>\n",
       "    <tr style=\"text-align: right;\">\n",
       "      <th></th>\n",
       "      <th>op_unique_carrier</th>\n",
       "      <th>count</th>\n",
       "    </tr>\n",
       "  </thead>\n",
       "  <tbody>\n",
       "    <tr>\n",
       "      <th>0</th>\n",
       "      <td>9E</td>\n",
       "      <td>4942</td>\n",
       "    </tr>\n",
       "  </tbody>\n",
       "</table>\n",
       "</div>"
      ],
      "text/plain": [
       "  op_unique_carrier  count\n",
       "0                9E   4942"
      ]
     },
     "execution_count": 3,
     "metadata": {},
     "output_type": "execute_result"
    }
   ],
   "source": [
    "### Table of unique carrier identifiers present in the test samples\n",
    "carriers = database.query(\"\"\" \n",
    "                            SELECT op_unique_carrier, COUNT(*)\n",
    "                                FROM flights_test\n",
    "                                WHERE fl_date = ANY('{2020-01-01, 2020-01-02, 2020-01-03, 2020-01-04, 2020-01-05, 2020-01-06, 2020-01-07}')\n",
    "                                GROUP BY op_unique_carrier;\n",
    "                            \"\"\")\n",
    "carriers.to_csv('../../data/preprocessing/unique_carriers.csv', index=False)\n",
    "carriers.head(1)"
   ]
  },
  {
   "cell_type": "code",
   "execution_count": null,
   "metadata": {},
   "outputs": [],
   "source": []
  },
  {
   "cell_type": "code",
   "execution_count": 4,
   "metadata": {},
   "outputs": [
    {
     "data": {
      "text/html": [
       "<div>\n",
       "<style scoped>\n",
       "    .dataframe tbody tr th:only-of-type {\n",
       "        vertical-align: middle;\n",
       "    }\n",
       "\n",
       "    .dataframe tbody tr th {\n",
       "        vertical-align: top;\n",
       "    }\n",
       "\n",
       "    .dataframe thead th {\n",
       "        text-align: right;\n",
       "    }\n",
       "</style>\n",
       "<table border=\"1\" class=\"dataframe\">\n",
       "  <thead>\n",
       "    <tr style=\"text-align: right;\">\n",
       "      <th></th>\n",
       "      <th>op_carrier_fl_num</th>\n",
       "      <th>count</th>\n",
       "    </tr>\n",
       "  </thead>\n",
       "  <tbody>\n",
       "    <tr>\n",
       "      <th>0</th>\n",
       "      <td>6114</td>\n",
       "      <td>14</td>\n",
       "    </tr>\n",
       "  </tbody>\n",
       "</table>\n",
       "</div>"
      ],
      "text/plain": [
       "   op_carrier_fl_num  count\n",
       "0               6114     14"
      ]
     },
     "execution_count": 4,
     "metadata": {},
     "output_type": "execute_result"
    }
   ],
   "source": [
    "### Table of flight numbers present in the test samples, and a count of their frequency\n",
    "test_flight_numbers = database.query(\"\"\"\n",
    "                                SELECT op_carrier_fl_num, COUNT(*) \n",
    "                                    FROM flights_test\n",
    "                                    WHERE fl_date = ANY('{{2020-01-31, 2020-01-30, 2020-01-29, 2020-01-28, 2020-01-27, 2020-01-26, 2020-01-25}}')\n",
    "                                    GROUP BY op_carrier_fl_num;\n",
    "                                \"\"\")\n",
    "test_flight_numbers.to_csv('../../data/preprocessing/test_flight_numbers.csv', index=False)\n",
    "test_flight_numbers.head(1)"
   ]
  },
  {
   "cell_type": "code",
   "execution_count": 6,
   "metadata": {},
   "outputs": [
    {
     "data": {
      "text/html": [
       "<div>\n",
       "<style scoped>\n",
       "    .dataframe tbody tr th:only-of-type {\n",
       "        vertical-align: middle;\n",
       "    }\n",
       "\n",
       "    .dataframe tbody tr th {\n",
       "        vertical-align: top;\n",
       "    }\n",
       "\n",
       "    .dataframe thead th {\n",
       "        text-align: right;\n",
       "    }\n",
       "</style>\n",
       "<table border=\"1\" class=\"dataframe\">\n",
       "  <thead>\n",
       "    <tr style=\"text-align: right;\">\n",
       "      <th></th>\n",
       "      <th>op_carrier_fl_num</th>\n",
       "      <th>avg_arr_delay</th>\n",
       "      <th>avg_carrier_delay</th>\n",
       "      <th>avg_weather_delay</th>\n",
       "      <th>avg_nas_delay</th>\n",
       "      <th>avg_late_aircraft_delay</th>\n",
       "      <th>avg_dep_delay</th>\n",
       "    </tr>\n",
       "  </thead>\n",
       "  <tbody>\n",
       "    <tr>\n",
       "      <th>0</th>\n",
       "      <td>1</td>\n",
       "      <td>-5.716606</td>\n",
       "      <td>24.254237</td>\n",
       "      <td>1.391949</td>\n",
       "      <td>12.355932</td>\n",
       "      <td>6.618644</td>\n",
       "      <td>2.7734</td>\n",
       "    </tr>\n",
       "  </tbody>\n",
       "</table>\n",
       "</div>"
      ],
      "text/plain": [
       "   op_carrier_fl_num  avg_arr_delay  avg_carrier_delay  avg_weather_delay  \\\n",
       "0                  1      -5.716606          24.254237           1.391949   \n",
       "\n",
       "   avg_nas_delay  avg_late_aircraft_delay  avg_dep_delay  \n",
       "0      12.355932                 6.618644         2.7734  "
      ]
     },
     "execution_count": 6,
     "metadata": {},
     "output_type": "execute_result"
    }
   ],
   "source": [
    "### Historic average delay times by flight number\n",
    "avg_flight_delays_by_flight_number = database.query(\"\"\"\n",
    "                                SELECT  op_carrier_fl_num,\n",
    "                                        AVG(arr_delay) AS \"avg_arr_delay\",\n",
    "                                        AVG(carrier_delay) AS \"avg_carrier_delay\", \n",
    "                                        AVG(weather_delay) AS \"avg_weather_delay\", \n",
    "                                        AVG(nas_delay) AS \"avg_nas_delay\", \n",
    "                                        AVG(late_aircraft_delay) AS \"avg_late_aircraft_delay\",\n",
    "                                        AVG(dep_delay) AS \"avg_dep_delay\"\n",
    "                                    FROM flights\n",
    "                                    GROUP BY op_carrier_fl_num;\n",
    "                                \"\"\")\n",
    "avg_flight_delays_by_flight_number.to_csv('../../data/preprocessing/average_flight_delays_by_flight_number.csv', index=False)\n",
    "avg_flight_delays_by_flight_number.head(1)\n"
   ]
  },
  {
   "cell_type": "code",
   "execution_count": 8,
   "metadata": {},
   "outputs": [
    {
     "data": {
      "text/html": [
       "<div>\n",
       "<style scoped>\n",
       "    .dataframe tbody tr th:only-of-type {\n",
       "        vertical-align: middle;\n",
       "    }\n",
       "\n",
       "    .dataframe tbody tr th {\n",
       "        vertical-align: top;\n",
       "    }\n",
       "\n",
       "    .dataframe thead th {\n",
       "        text-align: right;\n",
       "    }\n",
       "</style>\n",
       "<table border=\"1\" class=\"dataframe\">\n",
       "  <thead>\n",
       "    <tr style=\"text-align: right;\">\n",
       "      <th></th>\n",
       "      <th>dest_airport_id</th>\n",
       "      <th>avg_arr_delay</th>\n",
       "      <th>avg_carrier_delay</th>\n",
       "      <th>avg_weather_delay</th>\n",
       "      <th>avg_nas_delay</th>\n",
       "      <th>avg_late_aircraft_delay</th>\n",
       "      <th>avg_dep_delay</th>\n",
       "    </tr>\n",
       "  </thead>\n",
       "  <tbody>\n",
       "    <tr>\n",
       "      <th>0</th>\n",
       "      <td>10135</td>\n",
       "      <td>4.592501</td>\n",
       "      <td>23.426673</td>\n",
       "      <td>5.866636</td>\n",
       "      <td>10.776352</td>\n",
       "      <td>25.921632</td>\n",
       "      <td>9.510175</td>\n",
       "    </tr>\n",
       "  </tbody>\n",
       "</table>\n",
       "</div>"
      ],
      "text/plain": [
       "   dest_airport_id  avg_arr_delay  avg_carrier_delay  avg_weather_delay  \\\n",
       "0            10135       4.592501          23.426673           5.866636   \n",
       "\n",
       "   avg_nas_delay  avg_late_aircraft_delay  avg_dep_delay  \n",
       "0      10.776352                25.921632       9.510175  "
      ]
     },
     "execution_count": 8,
     "metadata": {},
     "output_type": "execute_result"
    }
   ],
   "source": [
    "### Average flight delays grouped by destination airport ID\n",
    "avg_flight_delays_by_destination_airport = database.query(\"\"\"\n",
    "                                SELECT  dest_airport_id, \n",
    "                                        AVG(arr_delay) AS \"avg_arr_delay\",\n",
    "                                        AVG(carrier_delay) AS \"avg_carrier_delay\", \n",
    "                                        AVG(weather_delay) AS \"avg_weather_delay\", \n",
    "                                        AVG(nas_delay) AS \"avg_nas_delay\", \n",
    "                                        AVG(late_aircraft_delay) AS \"avg_late_aircraft_delay\",\n",
    "                                        AVG(dep_delay) AS \"avg_dep_delay\"\n",
    "                                    FROM flights\n",
    "                                    GROUP BY dest_airport_id;\n",
    "                                \"\"\")\n",
    "avg_flight_delays_by_destination_airport.to_csv('../../data/preprocessing/avg_flight_delays_by_destination_airport.csv', index=False)\n",
    "avg_flight_delays_by_destination_airport.head(1)"
   ]
  },
  {
   "cell_type": "code",
   "execution_count": 9,
   "metadata": {},
   "outputs": [
    {
     "data": {
      "text/html": [
       "<div>\n",
       "<style scoped>\n",
       "    .dataframe tbody tr th:only-of-type {\n",
       "        vertical-align: middle;\n",
       "    }\n",
       "\n",
       "    .dataframe tbody tr th {\n",
       "        vertical-align: top;\n",
       "    }\n",
       "\n",
       "    .dataframe thead th {\n",
       "        text-align: right;\n",
       "    }\n",
       "</style>\n",
       "<table border=\"1\" class=\"dataframe\">\n",
       "  <thead>\n",
       "    <tr style=\"text-align: right;\">\n",
       "      <th></th>\n",
       "      <th>origin_airport_id</th>\n",
       "      <th>avg_arr_delay</th>\n",
       "      <th>avg_carrier_delay</th>\n",
       "      <th>avg_weather_delay</th>\n",
       "      <th>avg_nas_delay</th>\n",
       "      <th>avg_late_aircraft_delay</th>\n",
       "      <th>avg_dep_delay</th>\n",
       "    </tr>\n",
       "  </thead>\n",
       "  <tbody>\n",
       "    <tr>\n",
       "      <th>0</th>\n",
       "      <td>10135</td>\n",
       "      <td>7.024949</td>\n",
       "      <td>24.29115</td>\n",
       "      <td>4.138496</td>\n",
       "      <td>17.511504</td>\n",
       "      <td>33.039823</td>\n",
       "      <td>10.58383</td>\n",
       "    </tr>\n",
       "  </tbody>\n",
       "</table>\n",
       "</div>"
      ],
      "text/plain": [
       "   origin_airport_id  avg_arr_delay  avg_carrier_delay  avg_weather_delay  \\\n",
       "0              10135       7.024949           24.29115           4.138496   \n",
       "\n",
       "   avg_nas_delay  avg_late_aircraft_delay  avg_dep_delay  \n",
       "0      17.511504                33.039823       10.58383  "
      ]
     },
     "execution_count": 9,
     "metadata": {},
     "output_type": "execute_result"
    }
   ],
   "source": [
    "### Average flight delays grouped by origin airport ID\n",
    "avg_flight_delays_by_origin_airport = database.query(\"\"\"\n",
    "                                SELECT  origin_airport_id, \n",
    "                                        AVG(arr_delay) AS \"avg_arr_delay\",\n",
    "                                        AVG(carrier_delay) AS \"avg_carrier_delay\", \n",
    "                                        AVG(weather_delay) AS \"avg_weather_delay\", \n",
    "                                        AVG(nas_delay) AS \"avg_nas_delay\", \n",
    "                                        AVG(late_aircraft_delay) AS \"avg_late_aircraft_delay\",\n",
    "                                        AVG(dep_delay) AS \"avg_dep_delay\"\n",
    "                                    FROM flights\n",
    "                                    GROUP BY origin_airport_id;\n",
    "                                \"\"\")\n",
    "avg_flight_delays_by_origin_airport.to_csv('../../data/preprocessing/avg_flight_delays_by_origin_airport.csv', index=False)\n",
    "avg_flight_delays_by_origin_airport.head(1)"
   ]
  },
  {
   "cell_type": "code",
   "execution_count": 3,
   "metadata": {},
   "outputs": [
    {
     "data": {
      "text/html": [
       "<div>\n",
       "<style scoped>\n",
       "    .dataframe tbody tr th:only-of-type {\n",
       "        vertical-align: middle;\n",
       "    }\n",
       "\n",
       "    .dataframe tbody tr th {\n",
       "        vertical-align: top;\n",
       "    }\n",
       "\n",
       "    .dataframe thead th {\n",
       "        text-align: right;\n",
       "    }\n",
       "</style>\n",
       "<table border=\"1\" class=\"dataframe\">\n",
       "  <thead>\n",
       "    <tr style=\"text-align: right;\">\n",
       "      <th></th>\n",
       "      <th>op_unique_carrier</th>\n",
       "      <th>avg_arr_delay</th>\n",
       "      <th>avg_carrier_delay</th>\n",
       "      <th>avg_weather_delay</th>\n",
       "      <th>avg_nas_delay</th>\n",
       "      <th>avg_late_aircraft_delay</th>\n",
       "      <th>avg_dep_delay</th>\n",
       "    </tr>\n",
       "  </thead>\n",
       "  <tbody>\n",
       "    <tr>\n",
       "      <th>0</th>\n",
       "      <td>9E</td>\n",
       "      <td>3.788254</td>\n",
       "      <td>20.54492</td>\n",
       "      <td>5.287241</td>\n",
       "      <td>21.227495</td>\n",
       "      <td>31.674297</td>\n",
       "      <td>10.550252</td>\n",
       "    </tr>\n",
       "  </tbody>\n",
       "</table>\n",
       "</div>"
      ],
      "text/plain": [
       "  op_unique_carrier  avg_arr_delay  avg_carrier_delay  avg_weather_delay  \\\n",
       "0                9E       3.788254           20.54492           5.287241   \n",
       "\n",
       "   avg_nas_delay  avg_late_aircraft_delay  avg_dep_delay  \n",
       "0      21.227495                31.674297      10.550252  "
      ]
     },
     "execution_count": 3,
     "metadata": {},
     "output_type": "execute_result"
    }
   ],
   "source": [
    "### Average flight delays grouped by carrier ID\n",
    "avg_flight_delays_by_carrier = database.query(\"\"\"\n",
    "                                SELECT  op_unique_carrier, \n",
    "                                        AVG(arr_delay) AS \"avg_arr_delay\",\n",
    "                                        AVG(carrier_delay) AS \"avg_carrier_delay\", \n",
    "                                        AVG(weather_delay) AS \"avg_weather_delay\", \n",
    "                                        AVG(nas_delay) AS \"avg_nas_delay\", \n",
    "                                        AVG(late_aircraft_delay) AS \"avg_late_aircraft_delay\",\n",
    "                                        AVG(dep_delay) AS \"avg_dep_delay\"\n",
    "                                    FROM flights\n",
    "                                    GROUP BY op_unique_carrier;\n",
    "                                \"\"\")\n",
    "avg_flight_delays_by_carrier.to_csv('../../data/preprocessing/avg_flight_delays_by_carrier.csv', index=False)\n",
    "avg_flight_delays_by_carrier.head(1)"
   ]
  },
  {
   "cell_type": "code",
   "execution_count": 3,
   "metadata": {},
   "outputs": [
    {
     "data": {
      "text/html": [
       "<div>\n",
       "<style scoped>\n",
       "    .dataframe tbody tr th:only-of-type {\n",
       "        vertical-align: middle;\n",
       "    }\n",
       "\n",
       "    .dataframe tbody tr th {\n",
       "        vertical-align: top;\n",
       "    }\n",
       "\n",
       "    .dataframe thead th {\n",
       "        text-align: right;\n",
       "    }\n",
       "</style>\n",
       "<table border=\"1\" class=\"dataframe\">\n",
       "  <thead>\n",
       "    <tr style=\"text-align: right;\">\n",
       "      <th></th>\n",
       "      <th>day_of_year</th>\n",
       "      <th>avg_arr_delay</th>\n",
       "      <th>avg_carrier_delay</th>\n",
       "      <th>avg_weather_delay</th>\n",
       "      <th>avg_nas_delay</th>\n",
       "      <th>avg_late_aircraft_delay</th>\n",
       "      <th>avg_dep_delay</th>\n",
       "    </tr>\n",
       "  </thead>\n",
       "  <tbody>\n",
       "    <tr>\n",
       "      <th>0</th>\n",
       "      <td>1.0</td>\n",
       "      <td>10.488622</td>\n",
       "      <td>24.226509</td>\n",
       "      <td>3.270192</td>\n",
       "      <td>9.308377</td>\n",
       "      <td>28.867853</td>\n",
       "      <td>16.427019</td>\n",
       "    </tr>\n",
       "  </tbody>\n",
       "</table>\n",
       "</div>"
      ],
      "text/plain": [
       "   day_of_year  avg_arr_delay  avg_carrier_delay  avg_weather_delay  \\\n",
       "0          1.0      10.488622          24.226509           3.270192   \n",
       "\n",
       "   avg_nas_delay  avg_late_aircraft_delay  avg_dep_delay  \n",
       "0       9.308377                28.867853      16.427019  "
      ]
     },
     "execution_count": 3,
     "metadata": {},
     "output_type": "execute_result"
    }
   ],
   "source": [
    "avg_flight_delays_by_day_of_year = database.query(\"\"\"\n",
    "                                  SELECT  extract(doy from TO_DATE(fl_date,'YYYY-MM-DD')) AS \"day_of_year\", \n",
    "                                        AVG(arr_delay) AS \"avg_arr_delay\",\n",
    "                                        AVG(carrier_delay) AS \"avg_carrier_delay\", \n",
    "                                        AVG(weather_delay) AS \"avg_weather_delay\", \n",
    "                                        AVG(nas_delay) AS \"avg_nas_delay\", \n",
    "                                        AVG(late_aircraft_delay) AS \"avg_late_aircraft_delay\",\n",
    "                                        AVG(dep_delay) AS \"avg_dep_delay\"\n",
    "                                    FROM flights\n",
    "                                    GROUP BY day_of_year;\n",
    "                                \"\"\")\n",
    "avg_flight_delays_by_day_of_year.to_csv('../../data/preprocessing/avg_flight_delays_by_day_of_year.csv', index=False)\n",
    "avg_flight_delays_by_day_of_year.head(1)"
   ]
  },
  {
   "cell_type": "code",
   "execution_count": null,
   "metadata": {},
   "outputs": [],
   "source": []
  }
 ],
 "metadata": {
  "interpreter": {
   "hash": "4fe28adbe6d40c82bdde6a2233f025e3b944121e67b5abb397657075ce1366ca"
  },
  "kernelspec": {
   "display_name": "Python 3.8.5 64-bit ('lighthouse': conda)",
   "language": "python",
   "name": "python3"
  },
  "language_info": {
   "codemirror_mode": {
    "name": "ipython",
    "version": 3
   },
   "file_extension": ".py",
   "mimetype": "text/x-python",
   "name": "python",
   "nbconvert_exporter": "python",
   "pygments_lexer": "ipython3",
   "version": "3.8.5"
  },
  "orig_nbformat": 4
 },
 "nbformat": 4,
 "nbformat_minor": 2
}
