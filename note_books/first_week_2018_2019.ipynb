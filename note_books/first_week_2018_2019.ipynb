{
 "cells": [
  {
   "cell_type": "code",
   "execution_count": 3,
   "metadata": {},
   "outputs": [],
   "source": [
    "import sys\n",
    "sys.path.append(\"..\")  # <-  This should point to the root directory of the project relative to this file\n",
    "\n",
    "from custom_scripts import database\n",
    "from custom_scripts import preprocessing\n",
    "from custom_scripts import preparation\n",
    "from custom_scripts import modeling\n",
    "import pandas as pd"
   ]
  },
  {
   "cell_type": "code",
   "execution_count": 4,
   "metadata": {},
   "outputs": [],
   "source": [
    "PRIMARY_TEST_FEATURES = \"\"\" fl_date, \n",
    "                        op_unique_carrier, \n",
    "                        op_carrier_fl_num, \n",
    "                        origin, \n",
    "                        dest, \n",
    "                        crs_dep_time,\n",
    "                        crs_arr_time, \n",
    "                        crs_elapsed_time, \n",
    "                        distance\n",
    "                    \"\"\"\n",
    "PRIMARY_FEATURES =  PRIMARY_TEST_FEATURES+',arr_delay'\n",
    "\n",
    "def get_train_flights(features:str=PRIMARY_FEATURES) -> pd.DataFrame:\n",
    "    \"\"\" \n",
    "    Returns DataFrame of all flights from first week of January 2019\n",
    "    \n",
    "    Accepts an optional argument for specific features to query in string format\n",
    "    \n",
    "        Example: get_train_flights(\"fl_date,tail_num,distance\") \n",
    "    \"\"\"\n",
    "    flights = database.query(f\"\"\"SELECT {features}\n",
    "                             FROM flights\n",
    "                                WHERE fl_date = ANY('{{2019-01-01, 2019-01-02, 2019-01-03, 2019-01-04, 2019-01-05, 2019-01-06, 2019-01-07\n",
    "                                                       2018-01-01, 2018-01-02, 2018-01-03, 2018-01-04, 2018-01-05, 2018-01-06, 2018-01-07     }}')\n",
    "                             \"\"\")\n",
    "    flight_numbers = pd.read_csv('../data/preprocessing/test_flight_numbers.csv')  \n",
    "    #apply filters\n",
    "    flights = flights[flights['op_carrier_fl_num'].isin(flight_numbers['op_carrier_fl_num'].values)]\n",
    "    flights = flights[flights['arr_delay'].notnull()]\n",
    "    return  flights"
   ]
  },
  {
   "cell_type": "code",
   "execution_count": 5,
   "metadata": {},
   "outputs": [
    {
     "name": "stdout",
     "output_type": "stream",
     "text": [
      "(233582, 10)\n"
     ]
    },
    {
     "data": {
      "text/html": [
       "<div>\n",
       "<style scoped>\n",
       "    .dataframe tbody tr th:only-of-type {\n",
       "        vertical-align: middle;\n",
       "    }\n",
       "\n",
       "    .dataframe tbody tr th {\n",
       "        vertical-align: top;\n",
       "    }\n",
       "\n",
       "    .dataframe thead th {\n",
       "        text-align: right;\n",
       "    }\n",
       "</style>\n",
       "<table border=\"1\" class=\"dataframe\">\n",
       "  <thead>\n",
       "    <tr style=\"text-align: right;\">\n",
       "      <th></th>\n",
       "      <th>fl_date</th>\n",
       "      <th>op_unique_carrier</th>\n",
       "      <th>op_carrier_fl_num</th>\n",
       "      <th>origin</th>\n",
       "      <th>dest</th>\n",
       "      <th>crs_dep_time</th>\n",
       "      <th>crs_arr_time</th>\n",
       "      <th>crs_elapsed_time</th>\n",
       "      <th>distance</th>\n",
       "      <th>arr_delay</th>\n",
       "    </tr>\n",
       "  </thead>\n",
       "  <tbody>\n",
       "    <tr>\n",
       "      <th>0</th>\n",
       "      <td>2018-01-02</td>\n",
       "      <td>9E</td>\n",
       "      <td>3622</td>\n",
       "      <td>TYS</td>\n",
       "      <td>MSP</td>\n",
       "      <td>728</td>\n",
       "      <td>914</td>\n",
       "      <td>166.0</td>\n",
       "      <td>792.0</td>\n",
       "      <td>-16.0</td>\n",
       "    </tr>\n",
       "  </tbody>\n",
       "</table>\n",
       "</div>"
      ],
      "text/plain": [
       "      fl_date op_unique_carrier  op_carrier_fl_num origin dest  crs_dep_time  \\\n",
       "0  2018-01-02                9E               3622    TYS  MSP           728   \n",
       "\n",
       "   crs_arr_time  crs_elapsed_time  distance  arr_delay  \n",
       "0           914             166.0     792.0      -16.0  "
      ]
     },
     "execution_count": 5,
     "metadata": {},
     "output_type": "execute_result"
    }
   ],
   "source": [
    "train_flights = get_train_flights()\n",
    "print(train_flights.shape)\n",
    "train_flights.head(1)"
   ]
  },
  {
   "cell_type": "code",
   "execution_count": 6,
   "metadata": {},
   "outputs": [
    {
     "name": "stdout",
     "output_type": "stream",
     "text": [
      "before: (233582, 10)\n",
      "after: (233582, 40)\n"
     ]
    }
   ],
   "source": [
    "print(f'before: {train_flights.shape}')\n",
    "train_flights = preparation.build_all_features(train_flights)\n",
    "train_flights.head(1)\n",
    "print(f'after: {train_flights.shape}')"
   ]
  },
  {
   "cell_type": "code",
   "execution_count": 7,
   "metadata": {},
   "outputs": [
    {
     "name": "stdout",
     "output_type": "stream",
     "text": [
      "(163507, 39)\n",
      "(70075, 39)\n"
     ]
    },
    {
     "data": {
      "text/html": [
       "<div>\n",
       "<style scoped>\n",
       "    .dataframe tbody tr th:only-of-type {\n",
       "        vertical-align: middle;\n",
       "    }\n",
       "\n",
       "    .dataframe tbody tr th {\n",
       "        vertical-align: top;\n",
       "    }\n",
       "\n",
       "    .dataframe thead th {\n",
       "        text-align: right;\n",
       "    }\n",
       "</style>\n",
       "<table border=\"1\" class=\"dataframe\">\n",
       "  <thead>\n",
       "    <tr style=\"text-align: right;\">\n",
       "      <th></th>\n",
       "      <th>fl_date</th>\n",
       "      <th>op_unique_carrier</th>\n",
       "      <th>op_carrier_fl_num</th>\n",
       "      <th>origin</th>\n",
       "      <th>dest</th>\n",
       "      <th>crs_dep_time</th>\n",
       "      <th>crs_arr_time</th>\n",
       "      <th>crs_elapsed_time</th>\n",
       "      <th>distance</th>\n",
       "      <th>fl_num_avg_dep_delay</th>\n",
       "      <th>...</th>\n",
       "      <th>day_of_year</th>\n",
       "      <th>day_of_week</th>\n",
       "      <th>Severity</th>\n",
       "      <th>Rain</th>\n",
       "      <th>Fog</th>\n",
       "      <th>Cold</th>\n",
       "      <th>Storm</th>\n",
       "      <th>Precipitation</th>\n",
       "      <th>Snow</th>\n",
       "      <th>Hail</th>\n",
       "    </tr>\n",
       "  </thead>\n",
       "  <tbody>\n",
       "    <tr>\n",
       "      <th>146315</th>\n",
       "      <td>2018-01-03</td>\n",
       "      <td>DL</td>\n",
       "      <td>2760</td>\n",
       "      <td>MSY</td>\n",
       "      <td>ATL</td>\n",
       "      <td>700</td>\n",
       "      <td>930</td>\n",
       "      <td>90.0</td>\n",
       "      <td>425.0</td>\n",
       "      <td>10.648708</td>\n",
       "      <td>...</td>\n",
       "      <td>3</td>\n",
       "      <td>2</td>\n",
       "      <td>0.0</td>\n",
       "      <td>0.0</td>\n",
       "      <td>0.0</td>\n",
       "      <td>0.0</td>\n",
       "      <td>0.0</td>\n",
       "      <td>0.0</td>\n",
       "      <td>0.0</td>\n",
       "      <td>0.0</td>\n",
       "    </tr>\n",
       "  </tbody>\n",
       "</table>\n",
       "<p>1 rows × 39 columns</p>\n",
       "</div>"
      ],
      "text/plain": [
       "           fl_date op_unique_carrier  op_carrier_fl_num origin dest  \\\n",
       "146315  2018-01-03                DL               2760    MSY  ATL   \n",
       "\n",
       "        crs_dep_time  crs_arr_time  crs_elapsed_time  distance  \\\n",
       "146315           700           930              90.0     425.0   \n",
       "\n",
       "        fl_num_avg_dep_delay  ...  day_of_year  day_of_week  Severity  Rain  \\\n",
       "146315             10.648708  ...            3            2       0.0   0.0   \n",
       "\n",
       "        Fog  Cold  Storm  Precipitation  Snow  Hail  \n",
       "146315  0.0   0.0    0.0            0.0   0.0   0.0  \n",
       "\n",
       "[1 rows x 39 columns]"
      ]
     },
     "execution_count": 7,
     "metadata": {},
     "output_type": "execute_result"
    }
   ],
   "source": [
    "X = train_flights.drop('arr_delay',1)\n",
    "y = train_flights['arr_delay']\n",
    "X_train, X_val, y_train, y_val = preparation.get_train_test_split(X, y)\n",
    "print(X_train.shape)\n",
    "print(X_val.shape)\n",
    "X_train.head(1)"
   ]
  },
  {
   "cell_type": "code",
   "execution_count": 8,
   "metadata": {},
   "outputs": [
    {
     "name": "stdout",
     "output_type": "stream",
     "text": [
      "(163507, 43)\n",
      "(70075, 43)\n"
     ]
    },
    {
     "data": {
      "text/html": [
       "<div>\n",
       "<style scoped>\n",
       "    .dataframe tbody tr th:only-of-type {\n",
       "        vertical-align: middle;\n",
       "    }\n",
       "\n",
       "    .dataframe tbody tr th {\n",
       "        vertical-align: top;\n",
       "    }\n",
       "\n",
       "    .dataframe thead th {\n",
       "        text-align: right;\n",
       "    }\n",
       "</style>\n",
       "<table border=\"1\" class=\"dataframe\">\n",
       "  <thead>\n",
       "    <tr style=\"text-align: right;\">\n",
       "      <th></th>\n",
       "      <th>arr_time_sin</th>\n",
       "      <th>arr_time_cos</th>\n",
       "      <th>dep_time_sin</th>\n",
       "      <th>dep_time_cos</th>\n",
       "      <th>Cold</th>\n",
       "      <th>Fog</th>\n",
       "      <th>Hail</th>\n",
       "      <th>Precipitation</th>\n",
       "      <th>Rain</th>\n",
       "      <th>Snow</th>\n",
       "      <th>...</th>\n",
       "      <th>day_of_year_4</th>\n",
       "      <th>day_of_year_5</th>\n",
       "      <th>day_of_year_6</th>\n",
       "      <th>day_of_year_7</th>\n",
       "      <th>day_of_week_1</th>\n",
       "      <th>day_of_week_2</th>\n",
       "      <th>day_of_week_3</th>\n",
       "      <th>day_of_week_4</th>\n",
       "      <th>day_of_week_5</th>\n",
       "      <th>day_of_week_6</th>\n",
       "    </tr>\n",
       "  </thead>\n",
       "  <tbody>\n",
       "    <tr>\n",
       "      <th>146315</th>\n",
       "      <td>0.607389</td>\n",
       "      <td>-0.794404</td>\n",
       "      <td>0.965595</td>\n",
       "      <td>-0.260049</td>\n",
       "      <td>0.0</td>\n",
       "      <td>0.0</td>\n",
       "      <td>0.0</td>\n",
       "      <td>0.0</td>\n",
       "      <td>0.0</td>\n",
       "      <td>0.0</td>\n",
       "      <td>...</td>\n",
       "      <td>0</td>\n",
       "      <td>0</td>\n",
       "      <td>0</td>\n",
       "      <td>0</td>\n",
       "      <td>0</td>\n",
       "      <td>1</td>\n",
       "      <td>0</td>\n",
       "      <td>0</td>\n",
       "      <td>0</td>\n",
       "      <td>0</td>\n",
       "    </tr>\n",
       "  </tbody>\n",
       "</table>\n",
       "<p>1 rows × 43 columns</p>\n",
       "</div>"
      ],
      "text/plain": [
       "        arr_time_sin  arr_time_cos  dep_time_sin  dep_time_cos  Cold  Fog  \\\n",
       "146315      0.607389     -0.794404      0.965595     -0.260049   0.0  0.0   \n",
       "\n",
       "        Hail  Precipitation  Rain  Snow  ...  day_of_year_4  day_of_year_5  \\\n",
       "146315   0.0            0.0   0.0   0.0  ...              0              0   \n",
       "\n",
       "        day_of_year_6  day_of_year_7  day_of_week_1  day_of_week_2  \\\n",
       "146315              0              0              0              1   \n",
       "\n",
       "        day_of_week_3  day_of_week_4  day_of_week_5  day_of_week_6  \n",
       "146315              0              0              0              0  \n",
       "\n",
       "[1 rows x 43 columns]"
      ]
     },
     "execution_count": 8,
     "metadata": {},
     "output_type": "execute_result"
    }
   ],
   "source": [
    "from sklearn.preprocessing import StandardScaler\n",
    "X_train, X_val = preparation.standardize_data(data_arr=[X_train, X_val], scaler=StandardScaler())\n",
    "print(X_train.shape)\n",
    "print(X_val.shape)\n",
    "X_train.head(1)"
   ]
  },
  {
   "cell_type": "code",
   "execution_count": 11,
   "metadata": {},
   "outputs": [
    {
     "name": "stdout",
     "output_type": "stream",
     "text": [
      "{'r2_score': 0.023586426943261407, 'mean_squared_error': 2757.5813926722662, 'mean_absolute_error': 25.053316987179393, 'explained_variance_score': 0.0235983852369388}\n"
     ]
    },
    {
     "data": {
      "text/plain": [
       "LinearRegression()"
      ]
     },
     "execution_count": 11,
     "metadata": {},
     "output_type": "execute_result"
    }
   ],
   "source": [
    "from sklearn.linear_model import LinearRegression\n",
    "model = LinearRegression(fit_intercept=True)\n",
    "notes = \"2018+2019 data\"\n",
    "modeling.run_test(X_train.fillna(0),X_val.fillna(0),y_train,y_val, model, notes)"
   ]
  },
  {
   "cell_type": "code",
   "execution_count": null,
   "metadata": {},
   "outputs": [],
   "source": []
  }
 ],
 "metadata": {
  "interpreter": {
   "hash": "4fe28adbe6d40c82bdde6a2233f025e3b944121e67b5abb397657075ce1366ca"
  },
  "kernelspec": {
   "display_name": "Python 3.8.5 64-bit ('lighthouse': conda)",
   "language": "python",
   "name": "python3"
  },
  "language_info": {
   "codemirror_mode": {
    "name": "ipython",
    "version": 3
   },
   "file_extension": ".py",
   "mimetype": "text/x-python",
   "name": "python",
   "nbconvert_exporter": "python",
   "pygments_lexer": "ipython3",
   "version": "3.8.5"
  },
  "orig_nbformat": 4
 },
 "nbformat": 4,
 "nbformat_minor": 2
}
