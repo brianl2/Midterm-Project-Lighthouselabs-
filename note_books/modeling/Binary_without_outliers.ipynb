{
 "cells": [
  {
   "cell_type": "code",
   "execution_count": 1,
   "id": "7283cc2c-8f6b-47d8-af3b-c910717ec74e",
   "metadata": {},
   "outputs": [],
   "source": [
    "#Import modules\n",
    "import sys\n",
    "import numpy as np\n",
    "import pandas as pd\n",
    "import matplotlib.pyplot as plt\n",
    "import seaborn as sns\n",
    "import pickle\n",
    "from sklearn.preprocessing import StandardScaler\n",
    "from sklearn.preprocessing import RobustScaler\n",
    "from sklearn.linear_model import LogisticRegression\n",
    "from sklearn.dummy import DummyClassifier\n",
    "from sklearn.metrics import accuracy_score, f1_score, confusion_matrix, recall_score, precision_score\n",
    "from sklearn.utils import resample"
   ]
  },
  {
   "cell_type": "markdown",
   "id": "85eb9e86-07b8-47f3-82e1-3c138e21a77d",
   "metadata": {},
   "source": [
    "# Getting Data"
   ]
  },
  {
   "cell_type": "code",
   "execution_count": 15,
   "id": "ffead1bc-e9bd-460c-9930-2682325fd5f4",
   "metadata": {},
   "outputs": [],
   "source": [
    "sys.path.append(\"..\")  # <-  This should point to the root directory of the project relative to this file\n",
    "\n",
    "from custom_scripts import database\n",
    "from custom_scripts import preprocessing\n",
    "from custom_scripts import preparation\n",
    "from custom_scripts import modeling\n",
    "\n",
    "PRIMARY_TEST_FEATURES = \"\"\" fl_date, \n",
    "                        op_unique_carrier, \n",
    "                        op_carrier_fl_num, \n",
    "                        origin, \n",
    "                        dest, \n",
    "                        crs_dep_time,\n",
    "                        crs_arr_time, \n",
    "                        crs_elapsed_time,\n",
    "                        distance,  \n",
    "                        tail_num\n",
    "                    \"\"\"\n",
    "PRIMARY_FEATURES =  PRIMARY_TEST_FEATURES+',arr_delay'\n",
    "\n",
    "def get_train_flights(features:str=PRIMARY_FEATURES) -> pd.DataFrame:\n",
    "    \"\"\" \n",
    "    Returns DataFrame of all flights from first week of January 2019\n",
    "    \n",
    "    Accepts an optional argument for specific features to query in string format\n",
    "    \n",
    "        Example: get_train_flights(\"fl_date,tail_num,distance\") \n",
    "    \"\"\"\n",
    "    flights = database.query(f\"\"\"SELECT {features}\n",
    "                             FROM flights\n",
    "                                WHERE fl_date = ANY('{{2019-01-01, 2019-01-02, 2019-01-03, 2019-01-04, 2019-01-05, 2019-01-06, 2019-01-07}}')\n",
    "                                AND arr_delay >= -30\n",
    "                                AND arr_delay <= 120\n",
    "                             \"\"\")\n",
    "    flight_numbers = pd.read_csv('../data/preprocessing/test_flight_numbers.csv')  \n",
    "    #apply filters\n",
    "    flights = flights[flights['op_carrier_fl_num'].isin(flight_numbers['op_carrier_fl_num'].values)]\n",
    "    flights = flights[flights['arr_delay'].notnull()]\n",
    "    return  flights"
   ]
  },
  {
   "cell_type": "code",
   "execution_count": 16,
   "id": "d651fc6e-67ec-4f20-a7a3-07af4c30a0c2",
   "metadata": {},
   "outputs": [
    {
     "data": {
      "text/plain": [
       "(133530, 11)"
      ]
     },
     "execution_count": 16,
     "metadata": {},
     "output_type": "execute_result"
    }
   ],
   "source": [
    "#Get data without outliers\n",
    "train_flights = get_train_flights()\n",
    "train_flights.shape"
   ]
  },
  {
   "cell_type": "code",
   "execution_count": 18,
   "id": "ec583974-d755-4062-a3c5-b7f981b67638",
   "metadata": {},
   "outputs": [],
   "source": [
    "#read the data owen created\n",
    "tail = pd.read_csv('../data/preprocessing/averages_by_tail_num.csv')\n",
    "carrier = pd.read_csv('../data/preprocessing/averages_by_carrier.csv')\n",
    "dest = pd.read_csv('../data/preprocessing/averages_by_dest.csv')\n",
    "origin = pd.read_csv('../data/preprocessing/averages_by_origin.csv')"
   ]
  },
  {
   "cell_type": "code",
   "execution_count": 19,
   "id": "865be25c-ebba-465a-8d17-60af9805f9af",
   "metadata": {},
   "outputs": [],
   "source": [
    "# Merge other factors - feel free to remove or add\n",
    "train_flights = pd.merge(train_flights,tail[['tail_num', \n",
    "                                             'tail_num_avg_dep_delay',\n",
    "                                             'tail_num_avg_arr_delay',\n",
    "                                             'tail_num_avg_taxi_out',\n",
    "                                             'tail_num_avg_taxi_in']], on='tail_num')\n",
    "train_flights = pd.merge(train_flights,carrier[['op_unique_carrier', \n",
    "                                                'carrier_avg_dep_delay',\n",
    "                                                'carrier_avg_arr_delay', \n",
    "                                                'carrier_avg_carrier_delay']], on='op_unique_carrier')\n",
    "train_flights = pd.merge(train_flights,dest[['dest',\n",
    "                                             'dest_avg_taxi_out', \n",
    "                                             'dest_avg_dep_delay',\n",
    "                                             'dest_avg_arr_delay']], on='dest')\n",
    "train_flights = pd.merge(train_flights,origin[['origin', \n",
    "                                               'origin_avg_taxi_in',\n",
    "                                               'origin_avg_arr_delay']], on='origin')"
   ]
  },
  {
   "cell_type": "code",
   "execution_count": 20,
   "id": "1a330740-3c36-473f-a804-ad8916c59f79",
   "metadata": {},
   "outputs": [
    {
     "name": "stdout",
     "output_type": "stream",
     "text": [
      "before: (133530, 23)\n",
      "after: (133530, 47)\n"
     ]
    }
   ],
   "source": [
    "#add the rest of the features.\n",
    "print(f'before: {train_flights.shape}')\n",
    "train_flights = preparation.build_all_features(train_flights, True)\n",
    "train_flights.head(1)\n",
    "print(f'after: {train_flights.shape}')"
   ]
  },
  {
   "cell_type": "code",
   "execution_count": 21,
   "id": "7c1d462f-3669-441e-bb23-c69fc1713bf0",
   "metadata": {},
   "outputs": [],
   "source": [
    "#Make a copy so you don't have to query every time. \n",
    "train_fly = train_flights.copy()"
   ]
  },
  {
   "cell_type": "code",
   "execution_count": 22,
   "id": "83338f00-9843-441d-8799-c4fe26cde22d",
   "metadata": {},
   "outputs": [
    {
     "data": {
      "text/plain": [
       "(133530, 47)"
      ]
     },
     "execution_count": 22,
     "metadata": {},
     "output_type": "execute_result"
    }
   ],
   "source": [
    "train_fly.shape"
   ]
  },
  {
   "cell_type": "code",
   "execution_count": 26,
   "id": "49e5f6fb-3bc5-4a84-9647-297246e2b299",
   "metadata": {},
   "outputs": [
    {
     "data": {
      "text/plain": [
       "fl_date                            object\n",
       "op_unique_carrier                  object\n",
       "op_carrier_fl_num                   int64\n",
       "origin                             object\n",
       "dest                               object\n",
       "crs_dep_time                        int64\n",
       "crs_arr_time                        int64\n",
       "crs_elapsed_time                  float64\n",
       "distance                          float64\n",
       "tail_num                           object\n",
       "arr_delay                         float64\n",
       "tail_num_avg_dep_delay            float64\n",
       "tail_num_avg_arr_delay            float64\n",
       "tail_num_avg_taxi_out             float64\n",
       "tail_num_avg_taxi_in              float64\n",
       "carrier_avg_dep_delay             float64\n",
       "carrier_avg_arr_delay             float64\n",
       "carrier_avg_carrier_delay         float64\n",
       "dest_avg_taxi_out                 float64\n",
       "dest_avg_dep_delay                float64\n",
       "dest_avg_arr_delay                float64\n",
       "origin_avg_taxi_in                float64\n",
       "origin_avg_arr_delay              float64\n",
       "fl_num_avg_arr_delay              float64\n",
       "fl_num_avg_dep_delay              float64\n",
       "fl_num_avg_carrier_delay          float64\n",
       "fl_num_avg_taxi_out               float64\n",
       "fl_num_avg_late_aircraft_delay    float64\n",
       "arr_time_sin                      float64\n",
       "dep_time_sin                      float64\n",
       "arr_time_cos                      float64\n",
       "dep_time_cos                      float64\n",
       "day_of_week                         int64\n",
       "origin_rain                       float64\n",
       "dest_rain                         float64\n",
       "origin_fog                        float64\n",
       "dest_fog                          float64\n",
       "origin_cold                       float64\n",
       "dest_cold                         float64\n",
       "origin_storm                      float64\n",
       "dest_storm                        float64\n",
       "origin_precipitation              float64\n",
       "dest_precipitation                float64\n",
       "origin_snow                       float64\n",
       "dest_snow                         float64\n",
       "origin_hail                       float64\n",
       "dest_hail                         float64\n",
       "dtype: object"
      ]
     },
     "execution_count": 26,
     "metadata": {},
     "output_type": "execute_result"
    }
   ],
   "source": [
    "train_fly.dtypes"
   ]
  },
  {
   "cell_type": "markdown",
   "id": "cf892c67-6920-4342-86ca-18d5cf3d97b8",
   "metadata": {},
   "source": [
    "# Create Binary Classifier, split, scale data + Resample"
   ]
  },
  {
   "cell_type": "code",
   "execution_count": 24,
   "id": "437a1f97-b0c0-4a8c-8ec2-e301a4d11419",
   "metadata": {},
   "outputs": [],
   "source": [
    "# Creating two classes, 0 for on time (or early) within 15 minutes, and 1 for late past 15 minutes.\n",
    "train_fly.loc[train_fly['arr_delay'] <= 15, 'arr_delay'] = 0\n",
    "train_fly.loc[train_fly['arr_delay'] > 15, 'arr_delay'] = 1\n"
   ]
  },
  {
   "cell_type": "code",
   "execution_count": 27,
   "id": "e697a00d-a2fe-4e11-8ab4-136e605ed77f",
   "metadata": {},
   "outputs": [
    {
     "name": "stderr",
     "output_type": "stream",
     "text": [
      "C:\\Users\\brian\\AppData\\Local\\Temp/ipykernel_21608/332291952.py:3: FutureWarning: In a future version of pandas all arguments of DataFrame.drop except for the argument 'labels' will be keyword-only\n",
      "  X = X2.drop(['arr_delay','crs_dep_time','crs_arr_time'],1)\n"
     ]
    }
   ],
   "source": [
    "#Split the data, and then scale the X_Values, then run an resampling method to fix the resampling issue. Drop all columns that are object types. \n",
    "X2 = train_fly.select_dtypes(exclude=['object'])\n",
    "X = X2.drop(['arr_delay','crs_dep_time','crs_arr_time'],1)\n",
    "y = train_fly['arr_delay']\n",
    "X_train, X_test, y_train, y_test = preparation.get_train_test_split(X, y)"
   ]
  },
  {
   "cell_type": "code",
   "execution_count": 28,
   "id": "3d60e9b8-4e08-45e6-b909-87ece3f0e87d",
   "metadata": {},
   "outputs": [],
   "source": [
    "#Now, we know imbalancing is an issue, Scale the data Only X values. \n",
    "#scale the data -> Robust \n",
    "scaler = RobustScaler(quantile_range=(25, 75))\n",
    "X_train_robust = pd.DataFrame(scaler.fit_transform(X_train))\n",
    "X_test_robust = pd.DataFrame(scaler.transform(X_test))"
   ]
  },
  {
   "cell_type": "code",
   "execution_count": 29,
   "id": "c0eb3052-24dc-4be2-b6cc-4977d7dd1c89",
   "metadata": {},
   "outputs": [],
   "source": [
    "#scale the data -> Standard,\n",
    "scaler = StandardScaler()\n",
    "X_train_stand = pd.DataFrame(scaler.fit_transform(X_train))\n",
    "X_test_stand = pd.DataFrame(scaler.transform(X_test))"
   ]
  },
  {
   "cell_type": "code",
   "execution_count": 45,
   "id": "81e864e9-4763-4c24-852e-450403a0317e",
   "metadata": {},
   "outputs": [],
   "source": [
    "# Defining functions for undersampling and oversampling\n",
    "from imblearn.over_sampling import RandomOverSampler\n",
    "from imblearn.under_sampling import RandomUnderSampler\n",
    "from collections import Counter\n",
    "\n",
    "def undersampling(X, y):\n",
    "    # instantiating the random undersampler\n",
    "    rus = RandomUnderSampler(random_state=42) \n",
    "    # resampling X, y\n",
    "    X_rus, y_rus = rus.fit_resample(X, y)\n",
    "    # new class distribution\n",
    "    print(Counter(y_rus))\n",
    "    return X_rus, y_rus\n",
    "\n",
    "def oversampling(X, y):\n",
    "   # instantiating the random over sampler \n",
    "    ros = RandomOverSampler(random_state=42)\n",
    "    # resampling X, y\n",
    "    X_ros, y_ros = ros.fit_resample(X, y)\n",
    "    # new class distribution \n",
    "    print(Counter(y_ros))\n",
    "    return X_ros, y_ros"
   ]
  },
  {
   "cell_type": "code",
   "execution_count": 47,
   "id": "2840a089-0df1-40ba-aa45-bc1abcfc8e2f",
   "metadata": {},
   "outputs": [
    {
     "name": "stdout",
     "output_type": "stream",
     "text": [
      "Counter({1.0: 77408, 0.0: 77408})\n",
      "Counter({1.0: 77408, 0.0: 77408})\n",
      "Counter({0.0: 16063, 1.0: 16063})\n",
      "Counter({0.0: 16063, 1.0: 16063})\n"
     ]
    }
   ],
   "source": [
    "# resampling with Oversampling for Robust_scaled data, pad : propagate last valid observation forward to next valid to fill Nans\n",
    "X_train_robust_upsamp, y_train_robust_upsamp = oversampling(X_train_robust, y_train)\n",
    "# resampling with Oversampling for standard-scaled data\n",
    "X_train_stand_upsamp, y_train_stand_upsamp = oversampling(X_train_stand, y_train)\n",
    "# resampling with undersampling for Robust_scaled data\n",
    "X_train_robust_dsamp, y_train_robust_dsamp = undersampling(X_train_robust, y_train)\n",
    "# resampling with undersampling for standard-scaled data\n",
    "X_train_stand_dsamp, y_train_stand_dsamp = undersampling(X_train_stand, y_train)"
   ]
  },
  {
   "cell_type": "markdown",
   "id": "e8e9686f-8d06-4048-8f36-357ec28d4519",
   "metadata": {},
   "source": [
    "# Testing Zone\n",
    "Variables to note:\n",
    "Samples Upsampled\n",
    "- X_train_robust_upsamp \n",
    "- y_train_robust_upsamp\n",
    "- X_train_stand_upsamp \n",
    "- y_train_stand_upsamp\n",
    "\n",
    "Samples Downsampled.\n",
    "- X_train_robust_dsamp \n",
    "- y_train_robust_dsamp\n",
    "- X_train_stand_dsamp\n",
    "- y_train_stand_dsamp\n",
    "\n",
    "Testing:\n",
    "- X_test_robust\n",
    "- X_test_stand\n",
    "- y_test"
   ]
  },
  {
   "cell_type": "code",
   "execution_count": 56,
   "id": "0df26687-b0f6-41c1-b4d1-87e39b579693",
   "metadata": {},
   "outputs": [
    {
     "name": "stdout",
     "output_type": "stream",
     "text": [
      "{'f1_score': 0.37099465240641716, 'recall_score': 0.625866050808314, 'precision_score': 0.26363470541740136, 'accuracy_score': 0.6329663745974687}\n"
     ]
    },
    {
     "data": {
      "text/plain": [
       "LogisticRegression()"
      ]
     },
     "execution_count": 56,
     "metadata": {},
     "output_type": "execute_result"
    },
    {
     "data": {
      "image/png": "[encoded data removed]",
      "text/plain": [
       "<Figure size 432x288 with 2 Axes>"
      ]
     },
     "metadata": {
      "needs_background": "light"
     },
     "output_type": "display_data"
    }
   ],
   "source": [
    "#predict using Logistic Regression\n",
    "from sklearn.linear_model import LogisticRegression\n",
    "model = LogisticRegression()\n",
    "notes = \"No Outliers (NO), test on NO data, default parameters, robust scaled, upsamp\"\n",
    "modeling.run_test(X_train_robust_upsamp,X_test_robust,y_train_robust_upsamp,y_test, model, notes)"
   ]
  },
  {
   "cell_type": "code",
   "execution_count": 61,
   "id": "c3eef66b-af40-4a1d-8314-17c788a6b095",
   "metadata": {},
   "outputs": [
    {
     "name": "stdout",
     "output_type": "stream",
     "text": [
      "{'f1_score': 0.37110578568983227, 'recall_score': 0.625866050808314, 'precision_score': 0.2637469586374696, 'accuracy_score': 0.6331411168526424}\n"
     ]
    },
    {
     "data": {
      "text/plain": [
       "LogisticRegression()"
      ]
     },
     "execution_count": 61,
     "metadata": {},
     "output_type": "execute_result"
    },
    {
     "data": {
      "image/png": "[encoded data removed]",
      "text/plain": [
       "<Figure size 432x288 with 2 Axes>"
      ]
     },
     "metadata": {
      "needs_background": "light"
     },
     "output_type": "display_data"
    }
   ],
   "source": [
    "#predict using Logistic Regression\n",
    "from sklearn.linear_model import LogisticRegression\n",
    "model = LogisticRegression()\n",
    "notes = \"No Outliers (NO), test on NO data, default parameters, stand scaled, upsamp\"\n",
    "modeling.run_test(X_train_stand_upsamp,X_test_stand,y_train_stand_upsamp,y_test, model, notes)"
   ]
  },
  {
   "cell_type": "code",
   "execution_count": 62,
   "id": "dfd5aaf7-2dd4-4d15-a3e5-8ca213ba712b",
   "metadata": {},
   "outputs": [
    {
     "name": "stdout",
     "output_type": "stream",
     "text": [
      "{'f1_score': 0.3716496387808319, 'recall_score': 0.6274538106235565, 'precision_score': 0.26401457637412695, 'accuracy_score': 0.6330662273147108}\n"
     ]
    },
    {
     "data": {
      "text/plain": [
       "LogisticRegression()"
      ]
     },
     "execution_count": 62,
     "metadata": {},
     "output_type": "execute_result"
    },
    {
     "data": {
      "image/png": "[encoded data removed]",
      "text/plain": [
       "<Figure size 432x288 with 2 Axes>"
      ]
     },
     "metadata": {
      "needs_background": "light"
     },
     "output_type": "display_data"
    }
   ],
   "source": [
    "#predict using Logistic Regression\n",
    "from sklearn.linear_model import LogisticRegression\n",
    "model = LogisticRegression()\n",
    "notes = \"No Outliers (NO), test on NO data, default parameters, robust scaled, dsamp\"\n",
    "modeling.run_test(X_train_robust_dsamp,X_test_robust,y_train_robust_dsamp,y_test, model, notes)"
   ]
  },
  {
   "cell_type": "code",
   "execution_count": 63,
   "id": "92c17f95-e538-443c-8626-af879d334b07",
   "metadata": {},
   "outputs": [
    {
     "name": "stdout",
     "output_type": "stream",
     "text": [
      "{'f1_score': 0.3714627682311704, 'recall_score': 0.6271651270207852, 'precision_score': 0.26387708004372645, 'accuracy_score': 0.6329414114181582}\n"
     ]
    },
    {
     "data": {
      "text/plain": [
       "LogisticRegression()"
      ]
     },
     "execution_count": 63,
     "metadata": {},
     "output_type": "execute_result"
    },
    {
     "data": {
      "image/png": "[encoded data removed]",
      "text/plain": [
       "<Figure size 432x288 with 2 Axes>"
      ]
     },
     "metadata": {
      "needs_background": "light"
     },
     "output_type": "display_data"
    }
   ],
   "source": [
    "#predict using Logistic Regression\n",
    "from sklearn.linear_model import LogisticRegression\n",
    "model = LogisticRegression()\n",
    "notes = \"No Outliers (NO), test on NO data, default parameters, stand scaled, dsamp\"\n",
    "modeling.run_test(X_train_stand_dsamp,X_test_stand,y_train_stand_dsamp,y_test, model, notes)"
   ]
  },
  {
   "cell_type": "code",
   "execution_count": 66,
   "id": "2c650dec-7282-4b4e-87cb-bae5d281ad9e",
   "metadata": {},
   "outputs": [
    {
     "name": "stdout",
     "output_type": "stream",
     "text": [
      "{'f1_score': 0.30866928291116663, 'recall_score': 0.31221131639722866, 'precision_score': 0.3052067165232115, 'accuracy_score': 0.7581317556604009}\n"
     ]
    },
    {
     "data": {
      "text/plain": [
       "GaussianNB()"
      ]
     },
     "execution_count": 66,
     "metadata": {},
     "output_type": "execute_result"
    },
    {
     "data": {
      "image/png": "[encoded data removed]",
      "text/plain": [
       "<Figure size 432x288 with 2 Axes>"
      ]
     },
     "metadata": {
      "needs_background": "light"
     },
     "output_type": "display_data"
    }
   ],
   "source": [
    "from sklearn.naive_bayes import GaussianNB\n",
    "model = GaussianNB()\n",
    "notes = \"No Outliers (NO), test on NO data, default parameters, robust scaled, upsamp\"\n",
    "modeling.run_test(X_train_robust_upsamp,X_test_robust,y_train_robust_upsamp,y_test, model, notes)"
   ]
  },
  {
   "cell_type": "code",
   "execution_count": 65,
   "id": "7d72bc63-d90f-4a94-b600-61a8e0a51886",
   "metadata": {},
   "outputs": [
    {
     "name": "stdout",
     "output_type": "stream",
     "text": [
      "{'f1_score': 0.30866928291116663, 'recall_score': 0.31221131639722866, 'precision_score': 0.3052067165232115, 'accuracy_score': 0.7581317556604009}\n"
     ]
    },
    {
     "data": {
      "text/plain": [
       "GaussianNB()"
      ]
     },
     "execution_count": 65,
     "metadata": {},
     "output_type": "execute_result"
    },
    {
     "data": {
      "image/png": "[encoded data removed]",
      "text/plain": [
       "<Figure size 432x288 with 2 Axes>"
      ]
     },
     "metadata": {
      "needs_background": "light"
     },
     "output_type": "display_data"
    }
   ],
   "source": [
    "from sklearn.naive_bayes import GaussianNB\n",
    "model = GaussianNB()\n",
    "notes = \"No Outliers (NO), test on NO data, default parameters, stand scaled, upsamp\"\n",
    "modeling.run_test(X_train_stand_upsamp,X_test_stand,y_train_stand_upsamp,y_test, model, notes)"
   ]
  },
  {
   "cell_type": "code",
   "execution_count": 68,
   "id": "8dcad492-343f-4da5-93df-49b26b8df40a",
   "metadata": {},
   "outputs": [
    {
     "name": "stdout",
     "output_type": "stream",
     "text": [
      "{'f1_score': 0.28252788104089227, 'recall_score': 0.2632794457274827, 'precision_score': 0.3048128342245989, 'accuracy_score': 0.7687411068673706}\n"
     ]
    },
    {
     "data": {
      "text/plain": [
       "GaussianNB()"
      ]
     },
     "execution_count": 68,
     "metadata": {},
     "output_type": "execute_result"
    },
    {
     "data": {
      "image/png": "[encoded data removed]",
      "text/plain": [
       "<Figure size 432x288 with 2 Axes>"
      ]
     },
     "metadata": {
      "needs_background": "light"
     },
     "output_type": "display_data"
    }
   ],
   "source": [
    "from sklearn.naive_bayes import GaussianNB\n",
    "model = GaussianNB()\n",
    "notes = \"No Outliers (NO), test on NO data, default parameters, robust scaled, dsamp\"\n",
    "modeling.run_test(X_train_robust_dsamp,X_test_robust,y_train_robust_dsamp,y_test, model, notes)"
   ]
  },
  {
   "cell_type": "code",
   "execution_count": 69,
   "id": "f0e27091-fced-4466-af55-299210ec54a4",
   "metadata": {},
   "outputs": [
    {
     "name": "stdout",
     "output_type": "stream",
     "text": [
      "{'f1_score': 0.28252788104089227, 'recall_score': 0.2632794457274827, 'precision_score': 0.3048128342245989, 'accuracy_score': 0.7687411068673706}\n"
     ]
    },
    {
     "data": {
      "text/plain": [
       "GaussianNB()"
      ]
     },
     "execution_count": 69,
     "metadata": {},
     "output_type": "execute_result"
    },
    {
     "data": {
      "image/png": "[encoded data removed]",
      "text/plain": [
       "<Figure size 432x288 with 2 Axes>"
      ]
     },
     "metadata": {
      "needs_background": "light"
     },
     "output_type": "display_data"
    }
   ],
   "source": [
    "from sklearn.naive_bayes import GaussianNB\n",
    "model = GaussianNB()\n",
    "notes = \"No Outliers (NO), test on NO data, default parameters, stand scaled, dsamp\"\n",
    "modeling.run_test(X_train_stand_dsamp,X_test_stand,y_train_stand_dsamp,y_test, model, notes)"
   ]
  },
  {
   "cell_type": "code",
   "execution_count": 72,
   "id": "84db62ff-537d-4593-9ae5-8287f93679a1",
   "metadata": {},
   "outputs": [
    {
     "name": "stdout",
     "output_type": "stream",
     "text": [
      "{'f1_score': 0.28524590163934427, 'recall_score': 0.20092378752886836, 'precision_score': 0.4915254237288136, 'accuracy_score': 0.8258568611298335}\n"
     ]
    },
    {
     "data": {
      "text/plain": [
       "RandomForestClassifier(max_depth=100, random_state=0)"
      ]
     },
     "execution_count": 72,
     "metadata": {},
     "output_type": "execute_result"
    },
    {
     "data": {
      "image/png": "[encoded data removed]",
      "text/plain": [
       "<Figure size 432x288 with 2 Axes>"
      ]
     },
     "metadata": {
      "needs_background": "light"
     },
     "output_type": "display_data"
    }
   ],
   "source": [
    "from sklearn.ensemble import RandomForestClassifier\n",
    "model = RandomForestClassifier(max_depth=100, random_state=0)\n",
    "notes = \"NO, RFC, max_depth=100, robust, upsamp\"\n",
    "modeling.run_test(X_train_robust_upsamp,X_test_robust,y_train_robust_upsamp,y_test, model, notes)"
   ]
  },
  {
   "cell_type": "code",
   "execution_count": 73,
   "id": "a510b4bf-5d0c-4dff-b797-343403a1b045",
   "metadata": {},
   "outputs": [
    {
     "name": "stdout",
     "output_type": "stream",
     "text": [
      "{'f1_score': 0.2854802375588777, 'recall_score': 0.20121247113163973, 'precision_score': 0.49119097956307256, 'accuracy_score': 0.8258069347712125}\n"
     ]
    },
    {
     "data": {
      "text/plain": [
       "RandomForestClassifier(max_depth=100, random_state=0)"
      ]
     },
     "execution_count": 73,
     "metadata": {},
     "output_type": "execute_result"
    },
    {
     "data": {
      "image/png": "[encoded data removed]",
      "text/plain": [
       "<Figure size 432x288 with 2 Axes>"
      ]
     },
     "metadata": {
      "needs_background": "light"
     },
     "output_type": "display_data"
    }
   ],
   "source": [
    "from sklearn.ensemble import RandomForestClassifier\n",
    "model = RandomForestClassifier(max_depth=100, random_state=0)\n",
    "notes = \"NO, RFC, max_depth=100, stand, upsamp\"\n",
    "modeling.run_test(X_train_stand_upsamp,X_test_stand,y_train_stand_upsamp,y_test, model, notes)"
   ]
  },
  {
   "cell_type": "code",
   "execution_count": 74,
   "id": "512de532-9601-4af0-ad32-c866fd7e1b1f",
   "metadata": {},
   "outputs": [
    {
     "name": "stdout",
     "output_type": "stream",
     "text": [
      "{'f1_score': 0.40331855493613095, 'recall_score': 0.6631062355658198, 'precision_score': 0.28978742193906515, 'accuracy_score': 0.6606755036321426}\n"
     ]
    },
    {
     "data": {
      "text/plain": [
       "RandomForestClassifier(max_depth=100, random_state=0)"
      ]
     },
     "execution_count": 74,
     "metadata": {},
     "output_type": "execute_result"
    },
    {
     "data": {
      "image/png": "[encoded data removed]",
      "text/plain": [
       "<Figure size 432x288 with 2 Axes>"
      ]
     },
     "metadata": {
      "needs_background": "light"
     },
     "output_type": "display_data"
    }
   ],
   "source": [
    "from sklearn.ensemble import RandomForestClassifier\n",
    "model = RandomForestClassifier(max_depth=100, random_state=0)\n",
    "notes = \"NO, RFC, max_depth=100, robust, dsamp\"\n",
    "modeling.run_test(X_train_robust_dsamp,X_test_robust,y_train_robust_dsamp,y_test, model, notes)"
   ]
  },
  {
   "cell_type": "code",
   "execution_count": 76,
   "id": "71b267f9-1112-4e1f-909a-2cf3d9496ac3",
   "metadata": {},
   "outputs": [
    {
     "name": "stdout",
     "output_type": "stream",
     "text": [
      "{'f1_score': 0.40298507462686567, 'recall_score': 0.6625288683602771, 'precision_score': 0.289553368660106, 'accuracy_score': 0.660500761376969}\n"
     ]
    },
    {
     "data": {
      "text/plain": [
       "RandomForestClassifier(max_depth=100, random_state=0)"
      ]
     },
     "execution_count": 76,
     "metadata": {},
     "output_type": "execute_result"
    },
    {
     "data": {
      "image/png": "[encoded data removed]",
      "text/plain": [
       "<Figure size 432x288 with 2 Axes>"
      ]
     },
     "metadata": {
      "needs_background": "light"
     },
     "output_type": "display_data"
    }
   ],
   "source": [
    "from sklearn.ensemble import RandomForestClassifier\n",
    "model = RandomForestClassifier(max_depth=100, random_state=0)\n",
    "notes = \"NO, RFC, max_depth=100, stand , dsamp\"\n",
    "modeling.run_test(X_train_stand_dsamp,X_test_stand,y_train_stand_dsamp,y_test, model, notes)"
   ]
  },
  {
   "cell_type": "code",
   "execution_count": 78,
   "id": "73323fc6-bd14-4c8a-8618-590fdb48e3be",
   "metadata": {},
   "outputs": [
    {
     "name": "stdout",
     "output_type": "stream",
     "text": [
      "{'f1_score': 0.3836873406966865, 'recall_score': 0.6518475750577367, 'precision_score': 0.27185167348904404, 'accuracy_score': 0.6378341945630196}\n"
     ]
    },
    {
     "data": {
      "text/plain": [
       "AdaBoostClassifier(n_estimators=100, random_state=0)"
      ]
     },
     "execution_count": 78,
     "metadata": {},
     "output_type": "execute_result"
    },
    {
     "data": {
      "image/png": "[encoded data removed]",
      "text/plain": [
       "<Figure size 432x288 with 2 Axes>"
      ]
     },
     "metadata": {
      "needs_background": "light"
     },
     "output_type": "display_data"
    }
   ],
   "source": [
    "from sklearn.ensemble import AdaBoostClassifier\n",
    "model =  AdaBoostClassifier(n_estimators=100, random_state=0)\n",
    "notes = \"NO, ada, max_depth=100, Robust , upsamp\"\n",
    "modeling.run_test(X_train_robust_upsamp,X_test_robust,y_train_robust_upsamp,y_test, model, notes)"
   ]
  },
  {
   "cell_type": "code",
   "execution_count": 80,
   "id": "08247a19-e837-4906-b46b-cdf9faafd3a7",
   "metadata": {},
   "outputs": [
    {
     "name": "stdout",
     "output_type": "stream",
     "text": [
      "{'f1_score': 0.3836873406966865, 'recall_score': 0.6518475750577367, 'precision_score': 0.27185167348904404, 'accuracy_score': 0.6378341945630196}\n"
     ]
    },
    {
     "data": {
      "text/plain": [
       "AdaBoostClassifier(n_estimators=100, random_state=0)"
      ]
     },
     "execution_count": 80,
     "metadata": {},
     "output_type": "execute_result"
    },
    {
     "data": {
      "image/png": "[encoded data removed]",
      "text/plain": [
       "<Figure size 432x288 with 2 Axes>"
      ]
     },
     "metadata": {
      "needs_background": "light"
     },
     "output_type": "display_data"
    }
   ],
   "source": [
    "from sklearn.ensemble import AdaBoostClassifier\n",
    "model =  AdaBoostClassifier(n_estimators=100, random_state=0)\n",
    "notes = \"NO, ada, n_estimators=100, stand , upsamp\"\n",
    "modeling.run_test(X_train_stand_upsamp,X_test_stand,y_train_stand_upsamp,y_test, model, notes)"
   ]
  },
  {
   "cell_type": "code",
   "execution_count": 79,
   "id": "39602bdd-2af0-41f4-8e54-d509a445e640",
   "metadata": {},
   "outputs": [
    {
     "name": "stdout",
     "output_type": "stream",
     "text": [
      "{'f1_score': 0.38402588555858314, 'recall_score': 0.6509815242494227, 'precision_score': 0.2723429951690821, 'accuracy_score': 0.6388327217354403}\n"
     ]
    },
    {
     "data": {
      "text/plain": [
       "AdaBoostClassifier(n_estimators=100, random_state=0)"
      ]
     },
     "execution_count": 79,
     "metadata": {},
     "output_type": "execute_result"
    },
    {
     "data": {
      "image/png": "[encoded data removed]",
      "text/plain": [
       "<Figure size 432x288 with 2 Axes>"
      ]
     },
     "metadata": {
      "needs_background": "light"
     },
     "output_type": "display_data"
    }
   ],
   "source": [
    "from sklearn.ensemble import AdaBoostClassifier\n",
    "model =  AdaBoostClassifier(n_estimators=100, random_state=0)\n",
    "notes = \"NO, ada,n_estimators=100, Robust , dsamp\"\n",
    "modeling.run_test(X_train_robust_dsamp,X_test_robust,y_train_robust_dsamp,y_test, model, notes)"
   ]
  },
  {
   "cell_type": "code",
   "execution_count": 81,
   "id": "13c3f0ce-4caa-4af2-8c7e-bbb8615e6451",
   "metadata": {},
   "outputs": [
    {
     "name": "stdout",
     "output_type": "stream",
     "text": [
      "{'f1_score': 0.38402588555858314, 'recall_score': 0.6509815242494227, 'precision_score': 0.2723429951690821, 'accuracy_score': 0.6388327217354403}\n"
     ]
    },
    {
     "data": {
      "text/plain": [
       "AdaBoostClassifier(n_estimators=100, random_state=0)"
      ]
     },
     "execution_count": 81,
     "metadata": {},
     "output_type": "execute_result"
    },
    {
     "data": {
      "image/png": "[encoded data removed]",
      "text/plain": [
       "<Figure size 432x288 with 2 Axes>"
      ]
     },
     "metadata": {
      "needs_background": "light"
     },
     "output_type": "display_data"
    }
   ],
   "source": [
    "from sklearn.ensemble import AdaBoostClassifier\n",
    "model =  AdaBoostClassifier(n_estimators=100, random_state=0)\n",
    "notes = \"NO, ada, n_estimators=100, stand , dsamp\"\n",
    "modeling.run_test(X_train_stand_dsamp,X_test_stand,y_train_stand_dsamp,y_test, model, notes)"
   ]
  },
  {
   "cell_type": "markdown",
   "id": "1cd65502-c543-4f66-8980-39a9f5185b64",
   "metadata": {},
   "source": [
    "# Evaluation Zone\n"
   ]
  },
  {
   "cell_type": "code",
   "execution_count": 55,
   "id": "1f523fc3-a03b-4a8c-ac42-4486e2ef5322",
   "metadata": {},
   "outputs": [
    {
     "name": "stdout",
     "output_type": "stream",
     "text": [
      "accuracy is: 0.6329663745974687\n",
      "f1_score is: 0.37099465240641716\n",
      "The confusion matrix is:        0      1\n",
      "0  21020  12111\n",
      "1   2592   4336\n",
      "recall score is: 0.625866050808314\n",
      "precision score is: 0.26363470541740136\n"
     ]
    }
   ],
   "source": [
    "#Evaluation Metrics for Logistic regression classifier Robust, note y_test is the original y-test, never modified.\n",
    "print(f'accuracy is: {accuracy_score(y_test, y_pred)}')\n",
    "print(f'f1_score is: {f1_score(y_test, y_pred)}')\n",
    "print(f'The confusion matrix is: {pd.DataFrame(confusion_matrix(y_test, y_pred))}')\n",
    "print(f'recall score is: {recall_score(y_test, y_pred)}')\n",
    "print(f'precision score is: {precision_score(y_test,y_pred)}')"
   ]
  },
  {
   "cell_type": "code",
   "execution_count": 119,
   "id": "f2dba70b-5e68-42ec-91cd-a7d1ae84c94d",
   "metadata": {},
   "outputs": [
    {
     "data": {
      "text/html": [
       "<div>\n",
       "<style scoped>\n",
       "    .dataframe tbody tr th:only-of-type {\n",
       "        vertical-align: middle;\n",
       "    }\n",
       "\n",
       "    .dataframe tbody tr th {\n",
       "        vertical-align: top;\n",
       "    }\n",
       "\n",
       "    .dataframe thead th {\n",
       "        text-align: right;\n",
       "    }\n",
       "</style>\n",
       "<table border=\"1\" class=\"dataframe\">\n",
       "  <thead>\n",
       "    <tr style=\"text-align: right;\">\n",
       "      <th></th>\n",
       "      <th>model</th>\n",
       "      <th>notes</th>\n",
       "      <th>training_time</th>\n",
       "      <th>f1_score</th>\n",
       "      <th>recall_score</th>\n",
       "      <th>precision_score</th>\n",
       "      <th>accuracy_score</th>\n",
       "    </tr>\n",
       "  </thead>\n",
       "  <tbody>\n",
       "    <tr>\n",
       "      <th>1.pickle</th>\n",
       "      <td>LogisticRegression</td>\n",
       "      <td>No Outliers (NO), test on NO data, default par...</td>\n",
       "      <td>1.416287</td>\n",
       "      <td>0.370995</td>\n",
       "      <td>0.625866</td>\n",
       "      <td>0.263635</td>\n",
       "      <td>0.632966</td>\n",
       "    </tr>\n",
       "    <tr>\n",
       "      <th>2.pickle</th>\n",
       "      <td>LogisticRegression</td>\n",
       "      <td>No Outliers (NO), test on NO data, default par...</td>\n",
       "      <td>0.679610</td>\n",
       "      <td>0.371106</td>\n",
       "      <td>0.625866</td>\n",
       "      <td>0.263747</td>\n",
       "      <td>0.633141</td>\n",
       "    </tr>\n",
       "    <tr>\n",
       "      <th>3.pickle</th>\n",
       "      <td>LogisticRegression</td>\n",
       "      <td>No Outliers (NO), test on NO data, default par...</td>\n",
       "      <td>0.283257</td>\n",
       "      <td>0.371650</td>\n",
       "      <td>0.627454</td>\n",
       "      <td>0.264015</td>\n",
       "      <td>0.633066</td>\n",
       "    </tr>\n",
       "    <tr>\n",
       "      <th>4.pickle</th>\n",
       "      <td>LogisticRegression</td>\n",
       "      <td>No Outliers (NO), test on NO data, default par...</td>\n",
       "      <td>0.140119</td>\n",
       "      <td>0.371463</td>\n",
       "      <td>0.627165</td>\n",
       "      <td>0.263877</td>\n",
       "      <td>0.632941</td>\n",
       "    </tr>\n",
       "    <tr>\n",
       "      <th>2.pickle</th>\n",
       "      <td>LogisticRegression</td>\n",
       "      <td>No Outliers (NO), test on NO data, default par...</td>\n",
       "      <td>0.664604</td>\n",
       "      <td>0.371106</td>\n",
       "      <td>0.625866</td>\n",
       "      <td>0.263747</td>\n",
       "      <td>0.633141</td>\n",
       "    </tr>\n",
       "    <tr>\n",
       "      <th>3.pickle</th>\n",
       "      <td>LogisticRegression</td>\n",
       "      <td>No Outliers (NO), test on NO data, default par...</td>\n",
       "      <td>0.277254</td>\n",
       "      <td>0.371650</td>\n",
       "      <td>0.627454</td>\n",
       "      <td>0.264015</td>\n",
       "      <td>0.633066</td>\n",
       "    </tr>\n",
       "    <tr>\n",
       "      <th>4.pickle</th>\n",
       "      <td>LogisticRegression</td>\n",
       "      <td>No Outliers (NO), test on NO data, default par...</td>\n",
       "      <td>0.134112</td>\n",
       "      <td>0.371463</td>\n",
       "      <td>0.627165</td>\n",
       "      <td>0.263877</td>\n",
       "      <td>0.632941</td>\n",
       "    </tr>\n",
       "    <tr>\n",
       "      <th>5.pickle</th>\n",
       "      <td>GaussianNB</td>\n",
       "      <td>No Outliers (NO), test on NO data, default par...</td>\n",
       "      <td>0.123112</td>\n",
       "      <td>0.308669</td>\n",
       "      <td>0.312211</td>\n",
       "      <td>0.305207</td>\n",
       "      <td>0.758132</td>\n",
       "    </tr>\n",
       "    <tr>\n",
       "      <th>6.pickle</th>\n",
       "      <td>GaussianNB</td>\n",
       "      <td>No Outliers (NO), test on NO data, default par...</td>\n",
       "      <td>0.122101</td>\n",
       "      <td>0.308669</td>\n",
       "      <td>0.312211</td>\n",
       "      <td>0.305207</td>\n",
       "      <td>0.758132</td>\n",
       "    </tr>\n",
       "    <tr>\n",
       "      <th>7.pickle</th>\n",
       "      <td>GaussianNB</td>\n",
       "      <td>No Outliers (NO), test on NO data, default par...</td>\n",
       "      <td>0.123112</td>\n",
       "      <td>0.308669</td>\n",
       "      <td>0.312211</td>\n",
       "      <td>0.305207</td>\n",
       "      <td>0.758132</td>\n",
       "    </tr>\n",
       "    <tr>\n",
       "      <th>7.pickle</th>\n",
       "      <td>GaussianNB</td>\n",
       "      <td>No Outliers (NO), test on NO data, default par...</td>\n",
       "      <td>0.048034</td>\n",
       "      <td>0.282528</td>\n",
       "      <td>0.263279</td>\n",
       "      <td>0.304813</td>\n",
       "      <td>0.768741</td>\n",
       "    </tr>\n",
       "    <tr>\n",
       "      <th>8.pickle</th>\n",
       "      <td>GaussianNB</td>\n",
       "      <td>No Outliers (NO), test on NO data, default par...</td>\n",
       "      <td>0.051047</td>\n",
       "      <td>0.282528</td>\n",
       "      <td>0.263279</td>\n",
       "      <td>0.304813</td>\n",
       "      <td>0.768741</td>\n",
       "    </tr>\n",
       "    <tr>\n",
       "      <th>9.pickle</th>\n",
       "      <td>RandomForestClassifier</td>\n",
       "      <td>NO, RFC, max_depth=100, robust, upsamp</td>\n",
       "      <td>47.785799</td>\n",
       "      <td>0.285246</td>\n",
       "      <td>0.200924</td>\n",
       "      <td>0.491525</td>\n",
       "      <td>0.825857</td>\n",
       "    </tr>\n",
       "    <tr>\n",
       "      <th>10.pickle</th>\n",
       "      <td>RandomForestClassifier</td>\n",
       "      <td>NO, RFC, max_depth=100, stand, upsamp</td>\n",
       "      <td>46.260252</td>\n",
       "      <td>0.285480</td>\n",
       "      <td>0.201212</td>\n",
       "      <td>0.491191</td>\n",
       "      <td>0.825807</td>\n",
       "    </tr>\n",
       "    <tr>\n",
       "      <th>11.pickle</th>\n",
       "      <td>RandomForestClassifier</td>\n",
       "      <td>NO, RFC, max_depth=100, robust, dsamp</td>\n",
       "      <td>10.002108</td>\n",
       "      <td>0.403319</td>\n",
       "      <td>0.663106</td>\n",
       "      <td>0.289787</td>\n",
       "      <td>0.660676</td>\n",
       "    </tr>\n",
       "    <tr>\n",
       "      <th>12.pickle</th>\n",
       "      <td>RandomForestClassifier</td>\n",
       "      <td>NO, RFC, max_depth=100, robust, dsamp</td>\n",
       "      <td>9.888186</td>\n",
       "      <td>0.402985</td>\n",
       "      <td>0.662529</td>\n",
       "      <td>0.289553</td>\n",
       "      <td>0.660501</td>\n",
       "    </tr>\n",
       "    <tr>\n",
       "      <th>13.pickle</th>\n",
       "      <td>RandomForestClassifier</td>\n",
       "      <td>NO, RFC, max_depth=100, stand , dsamp</td>\n",
       "      <td>10.242605</td>\n",
       "      <td>0.402985</td>\n",
       "      <td>0.662529</td>\n",
       "      <td>0.289553</td>\n",
       "      <td>0.660501</td>\n",
       "    </tr>\n",
       "    <tr>\n",
       "      <th>14.pickle</th>\n",
       "      <td>AdaBoostClassifier</td>\n",
       "      <td>NO, ada, max_depth=100, Robust , upsamp</td>\n",
       "      <td>31.199221</td>\n",
       "      <td>0.383687</td>\n",
       "      <td>0.651848</td>\n",
       "      <td>0.271852</td>\n",
       "      <td>0.637834</td>\n",
       "    </tr>\n",
       "    <tr>\n",
       "      <th>15.pickle</th>\n",
       "      <td>AdaBoostClassifier</td>\n",
       "      <td>NO, ada,n_estimators=100, Robust , dsamp</td>\n",
       "      <td>6.686789</td>\n",
       "      <td>0.384026</td>\n",
       "      <td>0.650982</td>\n",
       "      <td>0.272343</td>\n",
       "      <td>0.638833</td>\n",
       "    </tr>\n",
       "    <tr>\n",
       "      <th>16.pickle</th>\n",
       "      <td>AdaBoostClassifier</td>\n",
       "      <td>NO, ada, n_estimators=100, stand , upsamp</td>\n",
       "      <td>30.964381</td>\n",
       "      <td>0.383687</td>\n",
       "      <td>0.651848</td>\n",
       "      <td>0.271852</td>\n",
       "      <td>0.637834</td>\n",
       "    </tr>\n",
       "    <tr>\n",
       "      <th>17.pickle</th>\n",
       "      <td>AdaBoostClassifier</td>\n",
       "      <td>NO, ada, n_estimators=100, stand , dsamp</td>\n",
       "      <td>6.694471</td>\n",
       "      <td>0.384026</td>\n",
       "      <td>0.650982</td>\n",
       "      <td>0.272343</td>\n",
       "      <td>0.638833</td>\n",
       "    </tr>\n",
       "    <tr>\n",
       "      <th>18.pickle</th>\n",
       "      <td>RFE</td>\n",
       "      <td>NO, RFC with RFE, max_depth=100, 20 features, ...</td>\n",
       "      <td>45.432405</td>\n",
       "      <td>0.381325</td>\n",
       "      <td>0.647229</td>\n",
       "      <td>0.270283</td>\n",
       "      <td>0.636786</td>\n",
       "    </tr>\n",
       "    <tr>\n",
       "      <th>19.pickle</th>\n",
       "      <td>RFE</td>\n",
       "      <td>NO, RFC with RFE, max_depth=100, 15 features, ...</td>\n",
       "      <td>122.989273</td>\n",
       "      <td>0.349522</td>\n",
       "      <td>0.614463</td>\n",
       "      <td>0.244220</td>\n",
       "      <td>0.604458</td>\n",
       "    </tr>\n",
       "    <tr>\n",
       "      <th>20.pickle</th>\n",
       "      <td>RandomForestClassifier</td>\n",
       "      <td>NO, RFC, max_depth=500, stand , dsamp</td>\n",
       "      <td>30.051477</td>\n",
       "      <td>0.404665</td>\n",
       "      <td>0.671189</td>\n",
       "      <td>0.289647</td>\n",
       "      <td>0.658454</td>\n",
       "    </tr>\n",
       "    <tr>\n",
       "      <th>21.pickle</th>\n",
       "      <td>RandomForestClassifier</td>\n",
       "      <td>NO, RFC, n_estimators= 300, max_depth=100, sta...</td>\n",
       "      <td>30.981288</td>\n",
       "      <td>0.404665</td>\n",
       "      <td>0.671189</td>\n",
       "      <td>0.289647</td>\n",
       "      <td>0.658454</td>\n",
       "    </tr>\n",
       "    <tr>\n",
       "      <th>22.pickle</th>\n",
       "      <td>RandomizedSearchCV</td>\n",
       "      <td>Random_Grid search with RFC,</td>\n",
       "      <td>48.396642</td>\n",
       "      <td>0.407971</td>\n",
       "      <td>0.673788</td>\n",
       "      <td>0.292555</td>\n",
       "      <td>0.661799</td>\n",
       "    </tr>\n",
       "    <tr>\n",
       "      <th>23.pickle</th>\n",
       "      <td>RandomizedSearchCV</td>\n",
       "      <td>Random_Grid search with RFC,</td>\n",
       "      <td>75.918347</td>\n",
       "      <td>0.407046</td>\n",
       "      <td>0.670468</td>\n",
       "      <td>0.292230</td>\n",
       "      <td>0.662173</td>\n",
       "    </tr>\n",
       "    <tr>\n",
       "      <th>24.pickle</th>\n",
       "      <td>RFE</td>\n",
       "      <td>NO, RFC with RFE, n_estimators, max_depth=100,...</td>\n",
       "      <td>380.446321</td>\n",
       "      <td>0.351305</td>\n",
       "      <td>0.623557</td>\n",
       "      <td>0.244538</td>\n",
       "      <td>0.601737</td>\n",
       "    </tr>\n",
       "    <tr>\n",
       "      <th>25.pickle</th>\n",
       "      <td>RFE</td>\n",
       "      <td>NO, RFC with RFE, n_estimators, max_depth=100,...</td>\n",
       "      <td>1569.704166</td>\n",
       "      <td>0.241171</td>\n",
       "      <td>0.170035</td>\n",
       "      <td>0.414643</td>\n",
       "      <td>0.814948</td>\n",
       "    </tr>\n",
       "    <tr>\n",
       "      <th>26.pickle</th>\n",
       "      <td>RandomForestClassifier</td>\n",
       "      <td>NO, RFC, n_estimators= 300, max_depth=100, sta...</td>\n",
       "      <td>147.619879</td>\n",
       "      <td>0.290760</td>\n",
       "      <td>0.204388</td>\n",
       "      <td>0.503556</td>\n",
       "      <td>0.827554</td>\n",
       "    </tr>\n",
       "    <tr>\n",
       "      <th>27.pickle</th>\n",
       "      <td>RandomForestClassifier</td>\n",
       "      <td>NO, RFC after gridsearch, n_estimators = 280, ...</td>\n",
       "      <td>25.271988</td>\n",
       "      <td>0.408119</td>\n",
       "      <td>0.673355</td>\n",
       "      <td>0.292789</td>\n",
       "      <td>0.662223</td>\n",
       "    </tr>\n",
       "  </tbody>\n",
       "</table>\n",
       "</div>"
      ],
      "text/plain": [
       "                            model  \\\n",
       "1.pickle       LogisticRegression   \n",
       "2.pickle       LogisticRegression   \n",
       "3.pickle       LogisticRegression   \n",
       "4.pickle       LogisticRegression   \n",
       "2.pickle       LogisticRegression   \n",
       "3.pickle       LogisticRegression   \n",
       "4.pickle       LogisticRegression   \n",
       "5.pickle               GaussianNB   \n",
       "6.pickle               GaussianNB   \n",
       "7.pickle               GaussianNB   \n",
       "7.pickle               GaussianNB   \n",
       "8.pickle               GaussianNB   \n",
       "9.pickle   RandomForestClassifier   \n",
       "10.pickle  RandomForestClassifier   \n",
       "11.pickle  RandomForestClassifier   \n",
       "12.pickle  RandomForestClassifier   \n",
       "13.pickle  RandomForestClassifier   \n",
       "14.pickle      AdaBoostClassifier   \n",
       "15.pickle      AdaBoostClassifier   \n",
       "16.pickle      AdaBoostClassifier   \n",
       "17.pickle      AdaBoostClassifier   \n",
       "18.pickle                     RFE   \n",
       "19.pickle                     RFE   \n",
       "20.pickle  RandomForestClassifier   \n",
       "21.pickle  RandomForestClassifier   \n",
       "22.pickle      RandomizedSearchCV   \n",
       "23.pickle      RandomizedSearchCV   \n",
       "24.pickle                     RFE   \n",
       "25.pickle                     RFE   \n",
       "26.pickle  RandomForestClassifier   \n",
       "27.pickle  RandomForestClassifier   \n",
       "\n",
       "                                                       notes  training_time  \\\n",
       "1.pickle   No Outliers (NO), test on NO data, default par...       1.416287   \n",
       "2.pickle   No Outliers (NO), test on NO data, default par...       0.679610   \n",
       "3.pickle   No Outliers (NO), test on NO data, default par...       0.283257   \n",
       "4.pickle   No Outliers (NO), test on NO data, default par...       0.140119   \n",
       "2.pickle   No Outliers (NO), test on NO data, default par...       0.664604   \n",
       "3.pickle   No Outliers (NO), test on NO data, default par...       0.277254   \n",
       "4.pickle   No Outliers (NO), test on NO data, default par...       0.134112   \n",
       "5.pickle   No Outliers (NO), test on NO data, default par...       0.123112   \n",
       "6.pickle   No Outliers (NO), test on NO data, default par...       0.122101   \n",
       "7.pickle   No Outliers (NO), test on NO data, default par...       0.123112   \n",
       "7.pickle   No Outliers (NO), test on NO data, default par...       0.048034   \n",
       "8.pickle   No Outliers (NO), test on NO data, default par...       0.051047   \n",
       "9.pickle              NO, RFC, max_depth=100, robust, upsamp      47.785799   \n",
       "10.pickle              NO, RFC, max_depth=100, stand, upsamp      46.260252   \n",
       "11.pickle              NO, RFC, max_depth=100, robust, dsamp      10.002108   \n",
       "12.pickle              NO, RFC, max_depth=100, robust, dsamp       9.888186   \n",
       "13.pickle              NO, RFC, max_depth=100, stand , dsamp      10.242605   \n",
       "14.pickle            NO, ada, max_depth=100, Robust , upsamp      31.199221   \n",
       "15.pickle           NO, ada,n_estimators=100, Robust , dsamp       6.686789   \n",
       "16.pickle          NO, ada, n_estimators=100, stand , upsamp      30.964381   \n",
       "17.pickle           NO, ada, n_estimators=100, stand , dsamp       6.694471   \n",
       "18.pickle  NO, RFC with RFE, max_depth=100, 20 features, ...      45.432405   \n",
       "19.pickle  NO, RFC with RFE, max_depth=100, 15 features, ...     122.989273   \n",
       "20.pickle              NO, RFC, max_depth=500, stand , dsamp      30.051477   \n",
       "21.pickle  NO, RFC, n_estimators= 300, max_depth=100, sta...      30.981288   \n",
       "22.pickle                      Random_Grid search with RFC,       48.396642   \n",
       "23.pickle                      Random_Grid search with RFC,       75.918347   \n",
       "24.pickle  NO, RFC with RFE, n_estimators, max_depth=100,...     380.446321   \n",
       "25.pickle  NO, RFC with RFE, n_estimators, max_depth=100,...    1569.704166   \n",
       "26.pickle  NO, RFC, n_estimators= 300, max_depth=100, sta...     147.619879   \n",
       "27.pickle  NO, RFC after gridsearch, n_estimators = 280, ...      25.271988   \n",
       "\n",
       "           f1_score  recall_score  precision_score  accuracy_score  \n",
       "1.pickle   0.370995      0.625866         0.263635        0.632966  \n",
       "2.pickle   0.371106      0.625866         0.263747        0.633141  \n",
       "3.pickle   0.371650      0.627454         0.264015        0.633066  \n",
       "4.pickle   0.371463      0.627165         0.263877        0.632941  \n",
       "2.pickle   0.371106      0.625866         0.263747        0.633141  \n",
       "3.pickle   0.371650      0.627454         0.264015        0.633066  \n",
       "4.pickle   0.371463      0.627165         0.263877        0.632941  \n",
       "5.pickle   0.308669      0.312211         0.305207        0.758132  \n",
       "6.pickle   0.308669      0.312211         0.305207        0.758132  \n",
       "7.pickle   0.308669      0.312211         0.305207        0.758132  \n",
       "7.pickle   0.282528      0.263279         0.304813        0.768741  \n",
       "8.pickle   0.282528      0.263279         0.304813        0.768741  \n",
       "9.pickle   0.285246      0.200924         0.491525        0.825857  \n",
       "10.pickle  0.285480      0.201212         0.491191        0.825807  \n",
       "11.pickle  0.403319      0.663106         0.289787        0.660676  \n",
       "12.pickle  0.402985      0.662529         0.289553        0.660501  \n",
       "13.pickle  0.402985      0.662529         0.289553        0.660501  \n",
       "14.pickle  0.383687      0.651848         0.271852        0.637834  \n",
       "15.pickle  0.384026      0.650982         0.272343        0.638833  \n",
       "16.pickle  0.383687      0.651848         0.271852        0.637834  \n",
       "17.pickle  0.384026      0.650982         0.272343        0.638833  \n",
       "18.pickle  0.381325      0.647229         0.270283        0.636786  \n",
       "19.pickle  0.349522      0.614463         0.244220        0.604458  \n",
       "20.pickle  0.404665      0.671189         0.289647        0.658454  \n",
       "21.pickle  0.404665      0.671189         0.289647        0.658454  \n",
       "22.pickle  0.407971      0.673788         0.292555        0.661799  \n",
       "23.pickle  0.407046      0.670468         0.292230        0.662173  \n",
       "24.pickle  0.351305      0.623557         0.244538        0.601737  \n",
       "25.pickle  0.241171      0.170035         0.414643        0.814948  \n",
       "26.pickle  0.290760      0.204388         0.503556        0.827554  \n",
       "27.pickle  0.408119      0.673355         0.292789        0.662223  "
      ]
     },
     "execution_count": 119,
     "metadata": {},
     "output_type": "execute_result"
    }
   ],
   "source": [
    "modeling.get_records()"
   ]
  },
  {
   "cell_type": "markdown",
   "id": "ebbe2e7a-e4cb-463c-b86b-a8a9fcc50421",
   "metadata": {},
   "source": [
    "Try RFE:"
   ]
  },
  {
   "cell_type": "code",
   "execution_count": 98,
   "id": "0e388155-a1fb-465d-9c75-49cfce87ea50",
   "metadata": {},
   "outputs": [
    {
     "name": "stdout",
     "output_type": "stream",
     "text": [
      "{'f1_score': 0.241171051284676, 'recall_score': 0.17003464203233257, 'precision_score': 0.41464273143259417, 'accuracy_score': 0.8149479517711375}\n"
     ]
    },
    {
     "data": {
      "text/plain": [
       "RFE(estimator=RandomForestClassifier(max_depth=100, n_estimators=300,\n",
       "                                     random_state=0),\n",
       "    n_features_to_select=20, step=2)"
      ]
     },
     "execution_count": 98,
     "metadata": {},
     "output_type": "execute_result"
    },
    {
     "data": {
      "image/png": "[encoded data removed]",
      "text/plain": [
       "<Figure size 432x288 with 2 Axes>"
      ]
     },
     "metadata": {
      "needs_background": "light"
     },
     "output_type": "display_data"
    }
   ],
   "source": [
    "#Trying RFE To see if reduction of features help\n",
    "from sklearn.feature_selection import RFE\n",
    "from sklearn.ensemble import RandomForestClassifier\n",
    "estimator = RandomForestClassifier(n_estimators = 300, max_depth=100, random_state=0)\n",
    "model = RFE(estimator, n_features_to_select=20, step=2)\n",
    "notes = \"NO, RFC with RFE, n_estimators, max_depth=100, 20 features, stand, upsamp\"\n",
    "modeling.run_test(X_train_stand_upsamp,X_test_stand,y_train_stand_upsamp,y_test, model, notes)"
   ]
  },
  {
   "cell_type": "code",
   "execution_count": 100,
   "id": "2f703e64-1a5d-4727-8e63-d687e95c8fd3",
   "metadata": {},
   "outputs": [
    {
     "name": "stdout",
     "output_type": "stream",
     "text": [
      "{'f1_score': 0.2907597535934292, 'recall_score': 0.20438799076212472, 'precision_score': 0.5035561877667141, 'accuracy_score': 0.8275543573229487}\n"
     ]
    },
    {
     "data": {
      "text/plain": [
       "RandomForestClassifier(max_depth=100, n_estimators=300, random_state=0)"
      ]
     },
     "execution_count": 100,
     "metadata": {},
     "output_type": "execute_result"
    },
    {
     "data": {
      "image/png": "[encoded data removed]",
      "text/plain": [
       "<Figure size 432x288 with 2 Axes>"
      ]
     },
     "metadata": {
      "needs_background": "light"
     },
     "output_type": "display_data"
    }
   ],
   "source": [
    "#Trying to using RFC, with a different parameter\n",
    "from sklearn.ensemble import RandomForestClassifier\n",
    "model = RandomForestClassifier(n_estimators = 300, max_depth=100, random_state=0)\n",
    "notes = \"NO, RFC, n_estimators= 300, max_depth=100, stand , upsamp\"\n",
    "modeling.run_test(X_train_stand_upsamp,X_test_stand,y_train_stand_upsamp,y_test, model, notes)"
   ]
  },
  {
   "cell_type": "markdown",
   "id": "12ab2207-4031-4b2f-8c73-4bc2ffd85a3a",
   "metadata": {},
   "source": [
    "# Final Model tuning \n",
    "- Decided to use RandomForestClassifier - Best results relative to other models on baseline\n",
    "- Decided to use Standardscalar - doesn't really make that big of a different if there are no outliers. \n",
    "- Downsampling gives me a higher recall -> more labeled as late, but are on time    "
   ]
  },
  {
   "cell_type": "code",
   "execution_count": 89,
   "id": "47be9676-ac10-4e77-842a-0a6fd00723cb",
   "metadata": {},
   "outputs": [
    {
     "name": "stdout",
     "output_type": "stream",
     "text": [
      "{'n_estimators': [10, 42, 74, 106, 138, 171, 203, 235, 267, 300], 'max_features': ['auto', 'sqrt'], 'max_depth': [1, 3, 5, 7, 9, 11, 13, 15, 17, 19, 21, 23, 25, 27, 29, 31, 33, 35, 37, 39, 41, 43, 45, 47, 49, 51, 53, 55, 57, 59, 61, 63, 65, 67, 69, 71, 73, 75, 77, 79, 81, 83, 85, 87, 89, 91, 93, 95, 97, 100, None], 'min_samples_split': [2, 5, 10], 'min_samples_leaf': [1, 2, 4], 'bootstrap': [True, False]}\n"
     ]
    }
   ],
   "source": [
    "from sklearn.model_selection import RandomizedSearchCV\n",
    "# Number of trees in random forest\n",
    "n_estimators = [int(x) for x in np.linspace(start = 10, stop = 300, num = 10)]\n",
    "# Number of features to consider at every split\n",
    "max_features = ['auto', 'sqrt']\n",
    "# Maximum number of levels in tree\n",
    "max_depth = [int(x) for x in np.linspace(1, 100, num = 50)]\n",
    "max_depth.append(None)\n",
    "# Minimum number of samples required to split a node\n",
    "min_samples_split = [2, 5, 10]\n",
    "# Minimum number of samples required at each leaf node\n",
    "min_samples_leaf = [1, 2, 4]\n",
    "# Method of selecting samples for training each tree\n",
    "bootstrap = [True, False]\n",
    "\n",
    "# Create the random grid\n",
    "random_grid = {'n_estimators': n_estimators,\n",
    "               'max_features': max_features,\n",
    "               'max_depth': max_depth,\n",
    "               'min_samples_split': min_samples_split,\n",
    "               'min_samples_leaf': min_samples_leaf,\n",
    "               'bootstrap': bootstrap}\n",
    "              \n",
    "print(random_grid)"
   ]
  },
  {
   "cell_type": "code",
   "execution_count": 104,
   "id": "20d068a1-c880-4c92-a352-3312c8c1ce63",
   "metadata": {},
   "outputs": [],
   "source": [
    "# trying to use Randomizedsearch to optimize\n",
    "RFC = RandomForestClassifier(random_state= 0)\n",
    "random = RandomizedSearchCV(RFC, param_distributions = random_grid, n_iter = 100, cv = 3, verbose=2, random_state=42, n_jobs = -1)\n",
    "#notes = 'Random_Grid search with RFC, '\n",
    "#modeling.run_test(X_train_stand_dsamp,X_test_stand,y_train_stand_dsamp,y_test, random, notes)"
   ]
  },
  {
   "cell_type": "code",
   "execution_count": 106,
   "id": "4c20d3cb-0643-44df-9a84-372d5acbf263",
   "metadata": {},
   "outputs": [
    {
     "name": "stdout",
     "output_type": "stream",
     "text": [
      "Fitting 3 folds for each of 100 candidates, totalling 300 fits\n"
     ]
    }
   ],
   "source": [
    "#Trying with downsampled data\n",
    "RFC_random = random.fit(X_train_stand_dsamp,y_train_stand_dsamp)"
   ]
  },
  {
   "cell_type": "code",
   "execution_count": 120,
   "id": "55e502ea-a3e7-4a7a-bf9f-c12024cd2482",
   "metadata": {},
   "outputs": [
    {
     "name": "stdout",
     "output_type": "stream",
     "text": [
      "Fitting 3 folds for each of 100 candidates, totalling 300 fits\n"
     ]
    }
   ],
   "source": [
    "#Trying with upsampled data - Didn't end up using this\n",
    "RFC_random_up = random.fit(X_train_stand_upsamp,y_train_stand_upsamp)"
   ]
  },
  {
   "cell_type": "code",
   "execution_count": 107,
   "id": "c9d61378-7b75-4a0e-a784-581deabdb6c8",
   "metadata": {},
   "outputs": [
    {
     "data": {
      "text/plain": [
       "{'n_estimators': 267,\n",
       " 'min_samples_split': 2,\n",
       " 'min_samples_leaf': 4,\n",
       " 'max_features': 'auto',\n",
       " 'max_depth': 81,\n",
       " 'bootstrap': False}"
      ]
     },
     "execution_count": 107,
     "metadata": {},
     "output_type": "execute_result"
    }
   ],
   "source": [
    "# best parameters for downsample\n",
    "RFC_random.best_params_"
   ]
  },
  {
   "cell_type": "code",
   "execution_count": 121,
   "id": "9c1ff2d3-9eb4-41fc-830c-96c22a164d07",
   "metadata": {},
   "outputs": [
    {
     "data": {
      "text/plain": [
       "{'n_estimators': 235,\n",
       " 'min_samples_split': 5,\n",
       " 'min_samples_leaf': 1,\n",
       " 'max_features': 'sqrt',\n",
       " 'max_depth': 43,\n",
       " 'bootstrap': False}"
      ]
     },
     "execution_count": 121,
     "metadata": {},
     "output_type": "execute_result"
    }
   ],
   "source": [
    "# best parameters for upsample\n",
    "RFC_random_up.best_params_"
   ]
  },
  {
   "cell_type": "code",
   "execution_count": null,
   "id": "e152fb4b-989d-4745-adf6-6c480b31253f",
   "metadata": {},
   "outputs": [],
   "source": [
    "# trying to use gridsearch to optimize Downsamples\n",
    "from sklearn.model_selection import GridSearchCV\n",
    "# Create the parameter grid based on RFC_random best parameters\n",
    "param_grid = {\n",
    "    'bootstrap': [False],\n",
    "    'max_depth': [70, 75, 80, 85, 90],\n",
    "    'max_features': ['auto'],\n",
    "    'min_samples_leaf': [3, 4, 5],\n",
    "    'min_samples_split': [4, 5, 6],\n",
    "    'n_estimators': [240, 250, 260, 270, 280]}\n",
    "RFC = RandomForestClassifier(random_state= 0)\n",
    "grid = GridSearchCV(RFC, param_grid, n_jobs = -1)\n",
    "#notes = 'Random_Grid search with RFC, '\n",
    "#modeling.run_test(X_train_stand_dsamp,X_test_stand,y_train_stand_dsamp,y_test, grid, notes)"
   ]
  },
  {
   "cell_type": "code",
   "execution_count": 124,
   "id": "03488308-a2f6-4b67-9bf4-46f116bdafe9",
   "metadata": {},
   "outputs": [],
   "source": [
    "# trying to use gridsearch to optimize upsamples\n",
    "from sklearn.model_selection import GridSearchCV\n",
    "# Create the parameter grid based on RFC_random best parameters\n",
    "param_grid = {\n",
    "    'bootstrap': [False],\n",
    "    'max_depth': [40,41,42,43,44,45],\n",
    "    'max_features': ['sqrt'],\n",
    "    'min_samples_leaf': [1,2,3],\n",
    "    'min_samples_split': [4, 5, 6],\n",
    "    'n_estimators': [220, 225, 230, 235, 240]}\n",
    "RFC = RandomForestClassifier(random_state= 0)\n",
    "grid2 = GridSearchCV(RFC, param_grid, n_jobs = -1)\n",
    "#notes = 'Random_Grid search with RFC, '\n",
    "#modeling.run_test(X_train_stand_dsamp,X_test_stand,y_train_stand_dsamp,y_test, grid, notes)"
   ]
  },
  {
   "cell_type": "code",
   "execution_count": 114,
   "id": "6ff67fe6-4142-4cca-aa65-17ddc791a2fe",
   "metadata": {},
   "outputs": [],
   "source": [
    "#Fitting the Random forest classifier with downsampled data for training metrics.\n",
    "RFC_grid = grid.fit(X_train_stand_dsamp,y_train_stand_dsamp)"
   ]
  },
  {
   "cell_type": "code",
   "execution_count": 116,
   "id": "7ca7d4e5-84b8-4380-af23-ab9c9d2a626f",
   "metadata": {},
   "outputs": [
    {
     "data": {
      "text/plain": [
       "{'bootstrap': False,\n",
       " 'max_depth': 70,\n",
       " 'max_features': 'auto',\n",
       " 'min_samples_leaf': 4,\n",
       " 'min_samples_split': 4,\n",
       " 'n_estimators': 280}"
      ]
     },
     "execution_count": 116,
     "metadata": {},
     "output_type": "execute_result"
    }
   ],
   "source": [
    "RFC_grid.best_params_"
   ]
  },
  {
   "cell_type": "code",
   "execution_count": null,
   "id": "7401aa37-90a3-4262-a38f-97ee1ffcf7a1",
   "metadata": {},
   "outputs": [],
   "source": [
    "RFC_grid_up = grid2.fit(X_train_stand_upsamp,y_train_stand_upsamp)"
   ]
  },
  {
   "cell_type": "code",
   "execution_count": null,
   "id": "2fa482c2-c590-476e-a26c-00b837babf8b",
   "metadata": {},
   "outputs": [],
   "source": [
    "RFC_grid_up.best_params"
   ]
  },
  {
   "cell_type": "markdown",
   "id": "0e813e2f-064d-4c4e-b63e-5fda4a5f06b8",
   "metadata": {},
   "source": [
    "Running the best RFC model"
   ]
  },
  {
   "cell_type": "code",
   "execution_count": 118,
   "id": "99232211-8a10-4303-b6e3-e194e5ea75d7",
   "metadata": {},
   "outputs": [
    {
     "name": "stdout",
     "output_type": "stream",
     "text": [
      "{'f1_score': 0.4081186299811907, 'recall_score': 0.6733545034642032, 'precision_score': 0.29278855206175863, 'accuracy_score': 0.6622232207493947}\n"
     ]
    },
    {
     "data": {
      "text/plain": [
       "RandomForestClassifier(max_depth=70, min_samples_leaf=4, min_samples_split=4,\n",
       "                       n_estimators=280, random_state=0)"
      ]
     },
     "execution_count": 118,
     "metadata": {},
     "output_type": "execute_result"
    },
    {
     "data": {
      "image/png": "[encoded data removed]",
      "text/plain": [
       "<Figure size 432x288 with 2 Axes>"
      ]
     },
     "metadata": {
      "needs_background": "light"
     },
     "output_type": "display_data"
    }
   ],
   "source": [
    "#Picked the best parameters from the RFC gridsearch, and used it to evaluate the training data. \n",
    "from sklearn.ensemble import RandomForestClassifier #Pickle27\n",
    "model = RandomForestClassifier(n_estimators = 280, max_depth=70, max_features = 'auto', min_samples_leaf= 4, min_samples_split = 4, random_state=0)\n",
    "notes = \"NO, RFC after gridsearch, n_estimators = 280, max_depth=70, max_features = 'auto', min_samples_leaf= 4, min_samples_split = 4, stand, dsamp\"\n",
    "modeling.run_test(X_train_stand_dsamp,X_test_stand,y_train_stand_dsamp,y_test, model, notes)"
   ]
  },
  {
   "cell_type": "markdown",
   "id": "cfd224e2-9b7e-495e-87ec-85e54ffca457",
   "metadata": {},
   "source": [
    "# Pickling."
   ]
  },
  {
   "cell_type": "code",
   "execution_count": 117,
   "id": "12a2478c-385b-421a-9b55-bd227ce69510",
   "metadata": {},
   "outputs": [],
   "source": [
    "save_file = open('RFC_gridsearch.pickle', 'wb')\n",
    "pickle.dump(RFC_grid,save_file)"
   ]
  },
  {
   "cell_type": "code",
   "execution_count": 2,
   "id": "6001917d-ee95-430a-813c-5e78c404356f",
   "metadata": {},
   "outputs": [
    {
     "data": {
      "text/plain": [
       "RandomForestClassifier(max_depth=70, min_samples_leaf=4, min_samples_split=4,\n",
       "                       n_estimators=280, random_state=0)"
      ]
     },
     "execution_count": 2,
     "metadata": {},
     "output_type": "execute_result"
    }
   ],
   "source": [
    "save_file = open('../data/local/pickles/27.pickle', 'rb')\n",
    "p = pickle.load(save_file)\n",
    "save_file.close()\n",
    "p"
   ]
  },
  {
   "cell_type": "markdown",
   "id": "13655dcf-f9a5-4a50-af94-144d21c63ff3",
   "metadata": {},
   "source": [
    "# Getting Final predictions"
   ]
  },
  {
   "cell_type": "code",
   "execution_count": 5,
   "id": "caa84eb5-98ff-448d-b65d-9a7bb6aaef21",
   "metadata": {},
   "outputs": [],
   "source": [
    "#getting testing data for final prediction of data.\n",
    "sys.path.append(\"..\")  # <-  This should point to the root directory of the project relative to this file\n",
    "\n",
    "from custom_scripts import database\n",
    "from custom_scripts import preprocessing\n",
    "from custom_scripts import preparation\n",
    "from custom_scripts import modeling\n",
    "\n",
    "test_flights_final = preprocessing.get_test_flights()"
   ]
  }
 ],
 "metadata": {
  "kernelspec": {
   "display_name": "bootcamp_as1",
   "language": "python",
   "name": "bootcamp_as1"
  },
  "language_info": {
   "codemirror_mode": {
    "name": "ipython",
    "version": 3
   },
   "file_extension": ".py",
   "mimetype": "text/x-python",
   "name": "python",
   "nbconvert_exporter": "python",
   "pygments_lexer": "ipython3",
   "version": "3.9.7"
  }
 },
 "nbformat": 4,
 "nbformat_minor": 5
}
