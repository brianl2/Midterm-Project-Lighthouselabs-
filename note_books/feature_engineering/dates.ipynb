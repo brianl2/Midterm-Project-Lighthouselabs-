{
 "cells": [
  {
   "cell_type": "code",
   "execution_count": null,
   "metadata": {},
   "outputs": [],
   "source": [
    "# test_flights['fl_date'] = test_flights['fl_date'].dt.dayofyear\n",
    "# test_flights = test_flights.rename(columns={'fl_date':'day_of_year'})\n",
    "# print(test_flights.shape)\n",
    "# test_flights.head(1)"
   ]
  }
 ],
 "metadata": {
  "language_info": {
   "name": "python"
  },
  "orig_nbformat": 4
 },
 "nbformat": 4,
 "nbformat_minor": 2
}
