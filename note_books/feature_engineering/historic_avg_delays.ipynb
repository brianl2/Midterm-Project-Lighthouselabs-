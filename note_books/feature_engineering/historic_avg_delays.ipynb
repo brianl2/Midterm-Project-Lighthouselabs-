{
 "cells": [
  {
   "cell_type": "markdown",
   "metadata": {},
   "source": [
    "# Historical averages grouped by flight number, to replace op_carrier_fl_num feature. "
   ]
  },
  {
   "cell_type": "code",
   "execution_count": 18,
   "metadata": {},
   "outputs": [],
   "source": [
    "import sys\n",
    "sys.path.append(\"..\")  # <-  This should point to the root directory of the project relative to this file\n",
    "\n",
    "from custom_scripts import database\n",
    "from custom_scripts import preprocessing\n",
    "from custom_scripts import preparation\n",
    "from custom_scripts import modeling\n",
    "import pandas as pd\n",
    "import numpy as np"
   ]
  },
  {
   "cell_type": "code",
   "execution_count": 19,
   "metadata": {},
   "outputs": [],
   "source": [
    "raw_test_flights = preprocessing.get_test_flights()\n",
    "average_delays = pd.read_csv('../../data/preprocessing/averages_by_fl_num.csv')\n",
    "\n"
   ]
  },
  {
   "cell_type": "code",
   "execution_count": 20,
   "metadata": {},
   "outputs": [
    {
     "name": "stdout",
     "output_type": "stream",
     "text": [
      "(150623, 9)\n"
     ]
    },
    {
     "data": {
      "text/html": [
       "<div>\n",
       "<style scoped>\n",
       "    .dataframe tbody tr th:only-of-type {\n",
       "        vertical-align: middle;\n",
       "    }\n",
       "\n",
       "    .dataframe tbody tr th {\n",
       "        vertical-align: top;\n",
       "    }\n",
       "\n",
       "    .dataframe thead th {\n",
       "        text-align: right;\n",
       "    }\n",
       "</style>\n",
       "<table border=\"1\" class=\"dataframe\">\n",
       "  <thead>\n",
       "    <tr style=\"text-align: right;\">\n",
       "      <th></th>\n",
       "      <th>fl_date</th>\n",
       "      <th>op_unique_carrier</th>\n",
       "      <th>op_carrier_fl_num</th>\n",
       "      <th>origin_airport_id</th>\n",
       "      <th>dest_airport_id</th>\n",
       "      <th>crs_dep_time</th>\n",
       "      <th>crs_arr_time</th>\n",
       "      <th>crs_elapsed_time</th>\n",
       "      <th>distance</th>\n",
       "    </tr>\n",
       "  </thead>\n",
       "  <tbody>\n",
       "    <tr>\n",
       "      <th>0</th>\n",
       "      <td>2020-01-01</td>\n",
       "      <td>WN</td>\n",
       "      <td>5888</td>\n",
       "      <td>13891</td>\n",
       "      <td>14771</td>\n",
       "      <td>1810</td>\n",
       "      <td>1945</td>\n",
       "      <td>95</td>\n",
       "      <td>363</td>\n",
       "    </tr>\n",
       "  </tbody>\n",
       "</table>\n",
       "</div>"
      ],
      "text/plain": [
       "     fl_date op_unique_carrier  op_carrier_fl_num  origin_airport_id  \\\n",
       "0 2020-01-01                WN               5888              13891   \n",
       "\n",
       "   dest_airport_id  crs_dep_time  crs_arr_time  crs_elapsed_time  distance  \n",
       "0            14771          1810          1945                95       363  "
      ]
     },
     "execution_count": 20,
     "metadata": {},
     "output_type": "execute_result"
    }
   ],
   "source": [
    "test_flights = raw_test_flights.copy()\n",
    "print(test_flights.shape)\n",
    "test_flights.head(1)"
   ]
  },
  {
   "cell_type": "code",
   "execution_count": 21,
   "metadata": {},
   "outputs": [
    {
     "data": {
      "text/html": [
       "<div>\n",
       "<style scoped>\n",
       "    .dataframe tbody tr th:only-of-type {\n",
       "        vertical-align: middle;\n",
       "    }\n",
       "\n",
       "    .dataframe tbody tr th {\n",
       "        vertical-align: top;\n",
       "    }\n",
       "\n",
       "    .dataframe thead th {\n",
       "        text-align: right;\n",
       "    }\n",
       "</style>\n",
       "<table border=\"1\" class=\"dataframe\">\n",
       "  <thead>\n",
       "    <tr style=\"text-align: right;\">\n",
       "      <th></th>\n",
       "      <th>fl_date</th>\n",
       "      <th>op_unique_carrier</th>\n",
       "      <th>op_carrier_fl_num</th>\n",
       "      <th>origin_airport_id</th>\n",
       "      <th>dest_airport_id</th>\n",
       "      <th>crs_dep_time</th>\n",
       "      <th>crs_arr_time</th>\n",
       "      <th>crs_elapsed_time</th>\n",
       "      <th>distance</th>\n",
       "      <th>fl_num_avg_dep_delay</th>\n",
       "      <th>...</th>\n",
       "      <th>fl_num_crs_elapsed_time</th>\n",
       "      <th>fl_num_actual_elapsed_time</th>\n",
       "      <th>fl_num_air_time</th>\n",
       "      <th>fl_num_carrier_delay</th>\n",
       "      <th>fl_num_weather_delay</th>\n",
       "      <th>fl_num_avg_nas_delay</th>\n",
       "      <th>fl_num_security_delay</th>\n",
       "      <th>fl_num_late_aircraft_delay</th>\n",
       "      <th>fl_num_total_add_gtime</th>\n",
       "      <th>fl_num_longest_add_gtime</th>\n",
       "    </tr>\n",
       "  </thead>\n",
       "  <tbody>\n",
       "    <tr>\n",
       "      <th>0</th>\n",
       "      <td>2020-01-01</td>\n",
       "      <td>WN</td>\n",
       "      <td>5888</td>\n",
       "      <td>13891</td>\n",
       "      <td>14771</td>\n",
       "      <td>1810</td>\n",
       "      <td>1945</td>\n",
       "      <td>95</td>\n",
       "      <td>363</td>\n",
       "      <td>12.661189</td>\n",
       "      <td>...</td>\n",
       "      <td>111.951254</td>\n",
       "      <td>108.02666</td>\n",
       "      <td>80.200679</td>\n",
       "      <td>24.014925</td>\n",
       "      <td>1.831557</td>\n",
       "      <td>14.498934</td>\n",
       "      <td>0.083156</td>\n",
       "      <td>30.010661</td>\n",
       "      <td>47.090909</td>\n",
       "      <td>47.090909</td>\n",
       "    </tr>\n",
       "  </tbody>\n",
       "</table>\n",
       "<p>1 rows × 25 columns</p>\n",
       "</div>"
      ],
      "text/plain": [
       "     fl_date op_unique_carrier  op_carrier_fl_num  origin_airport_id  \\\n",
       "0 2020-01-01                WN               5888              13891   \n",
       "\n",
       "   dest_airport_id  crs_dep_time  crs_arr_time  crs_elapsed_time  distance  \\\n",
       "0            14771          1810          1945                95       363   \n",
       "\n",
       "   fl_num_avg_dep_delay  ...  fl_num_crs_elapsed_time  \\\n",
       "0             12.661189  ...               111.951254   \n",
       "\n",
       "   fl_num_actual_elapsed_time  fl_num_air_time  fl_num_carrier_delay  \\\n",
       "0                   108.02666        80.200679             24.014925   \n",
       "\n",
       "   fl_num_weather_delay  fl_num_avg_nas_delay  fl_num_security_delay  \\\n",
       "0              1.831557             14.498934               0.083156   \n",
       "\n",
       "   fl_num_late_aircraft_delay  fl_num_total_add_gtime  \\\n",
       "0                   30.010661               47.090909   \n",
       "\n",
       "   fl_num_longest_add_gtime  \n",
       "0                 47.090909  \n",
       "\n",
       "[1 rows x 25 columns]"
      ]
     },
     "execution_count": 21,
     "metadata": {},
     "output_type": "execute_result"
    }
   ],
   "source": [
    "### Historic average delay features\n",
    "test_flights = pd.merge(test_flights, average_delays, on='op_carrier_fl_num')\n",
    "test_flights.head(1)"
   ]
  },
  {
   "cell_type": "code",
   "execution_count": null,
   "metadata": {},
   "outputs": [],
   "source": []
  }
 ],
 "metadata": {
  "interpreter": {
   "hash": "4fe28adbe6d40c82bdde6a2233f025e3b944121e67b5abb397657075ce1366ca"
  },
  "kernelspec": {
   "display_name": "Python 3.8.5 64-bit ('lighthouse': conda)",
   "language": "python",
   "name": "python3"
  },
  "language_info": {
   "codemirror_mode": {
    "name": "ipython",
    "version": 3
   },
   "file_extension": ".py",
   "mimetype": "text/x-python",
   "name": "python",
   "nbconvert_exporter": "python",
   "pygments_lexer": "ipython3",
   "version": "3.8.5"
  },
  "orig_nbformat": 4
 },
 "nbformat": 4,
 "nbformat_minor": 2
}
