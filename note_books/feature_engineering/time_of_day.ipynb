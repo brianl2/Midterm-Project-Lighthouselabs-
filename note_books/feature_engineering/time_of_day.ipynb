{
 "cells": [
  {
   "cell_type": "markdown",
   "metadata": {},
   "source": [
    "# Features to replace crs_arr_time and crs_dep_time"
   ]
  },
  {
   "cell_type": "code",
   "execution_count": 1,
   "metadata": {},
   "outputs": [],
   "source": [
    "import sys\n",
    "sys.path.append(\"../..\")  # <-  This should point to the root directory of the project relative to this file\n",
    "\n",
    "from custom_scripts import preprocessing\n",
    "\n",
    "import math\n",
    "import numpy as np\n",
    "import pandas as pd"
   ]
  },
  {
   "cell_type": "code",
   "execution_count": 2,
   "metadata": {},
   "outputs": [],
   "source": [
    "raw_test_flights = preprocessing.get_test_flights()\n",
    "average_delays = pd.read_csv('../../data/preprocessing/averages_by_fl_num.csv')\n"
   ]
  },
  {
   "cell_type": "code",
   "execution_count": 3,
   "metadata": {},
   "outputs": [
    {
     "name": "stdout",
     "output_type": "stream",
     "text": [
      "(150623, 9)\n"
     ]
    },
    {
     "data": {
      "text/html": [
       "<div>\n",
       "<style scoped>\n",
       "    .dataframe tbody tr th:only-of-type {\n",
       "        vertical-align: middle;\n",
       "    }\n",
       "\n",
       "    .dataframe tbody tr th {\n",
       "        vertical-align: top;\n",
       "    }\n",
       "\n",
       "    .dataframe thead th {\n",
       "        text-align: right;\n",
       "    }\n",
       "</style>\n",
       "<table border=\"1\" class=\"dataframe\">\n",
       "  <thead>\n",
       "    <tr style=\"text-align: right;\">\n",
       "      <th></th>\n",
       "      <th>fl_date</th>\n",
       "      <th>op_unique_carrier</th>\n",
       "      <th>op_carrier_fl_num</th>\n",
       "      <th>origin</th>\n",
       "      <th>dest</th>\n",
       "      <th>crs_dep_time</th>\n",
       "      <th>crs_arr_time</th>\n",
       "      <th>crs_elapsed_time</th>\n",
       "      <th>distance</th>\n",
       "    </tr>\n",
       "  </thead>\n",
       "  <tbody>\n",
       "    <tr>\n",
       "      <th>0</th>\n",
       "      <td>2020-01-01</td>\n",
       "      <td>WN</td>\n",
       "      <td>5888</td>\n",
       "      <td>ONT</td>\n",
       "      <td>SFO</td>\n",
       "      <td>1810</td>\n",
       "      <td>1945</td>\n",
       "      <td>95</td>\n",
       "      <td>363</td>\n",
       "    </tr>\n",
       "  </tbody>\n",
       "</table>\n",
       "</div>"
      ],
      "text/plain": [
       "     fl_date op_unique_carrier  op_carrier_fl_num origin dest  crs_dep_time  \\\n",
       "0 2020-01-01                WN               5888    ONT  SFO          1810   \n",
       "\n",
       "   crs_arr_time  crs_elapsed_time  distance  \n",
       "0          1945                95       363  "
      ]
     },
     "execution_count": 3,
     "metadata": {},
     "output_type": "execute_result"
    }
   ],
   "source": [
    "test_flights = raw_test_flights.copy()\n",
    "print(test_flights.shape)\n",
    "test_flights.head(1)"
   ]
  },
  {
   "cell_type": "code",
   "execution_count": 37,
   "metadata": {},
   "outputs": [],
   "source": [
    "### change 2400 to 0000 to avoid nans\n",
    "test_flights['crs_arr_time'].replace({2400:0000},inplace=True)\n",
    "test_flights['crs_dep_time'].replace({2400:0000},inplace=True)\n",
    "### pad values\n",
    "test_flights['arrival_time'] = test_flights['crs_arr_time'].astype(str).str.zfill(4)\n",
    "test_flights['departure_time'] = test_flights['crs_dep_time'].astype(str).str.zfill(4)\n",
    "### convert to datetime\n",
    "test_flights['arrival_time'] = pd.to_datetime(test_flights['arrival_time'], format = '%H%M', errors='coerce')\n",
    "test_flights['departure_time'] = pd.to_datetime(test_flights['departure_time'], format = '%H%M', errors='coerce')\n",
    "### convert to minute of day\n",
    "test_flights['arrival_time'] = test_flights['arrival_time'].dt.hour * 60 + test_flights['arrival_time'].dt.minute\n",
    "test_flights['departure_time'] = test_flights['departure_time'].dt.hour * 60 + test_flights['departure_time'].dt.minute\n",
    "### normalize with 2*PI\n",
    "test_flights['arrival_time'] = 2 * math.pi * test_flights['arrival_time'] / test_flights['arrival_time'].max()\n",
    "test_flights['departure_time'] = 2 * math.pi * test_flights['departure_time'] / test_flights['departure_time'].max()"
   ]
  },
  {
   "cell_type": "code",
   "execution_count": 38,
   "metadata": {},
   "outputs": [],
   "source": [
    "test_flights['arr_time_sin'] = np.sin(test_flights['arrival_time'])\n",
    "test_flights['arr_time_cos'] = np.cos(test_flights['arrival_time'])\n",
    "\n",
    "test_flights['dep_time_sin'] = np.sin(test_flights['departure_time'])\n",
    "test_flights['dep_time_cos'] = np.cos(test_flights['departure_time'])\n",
    "\n",
    "test_flights.drop(['arrival_time','departure_time'],1,inplace=True)"
   ]
  },
  {
   "cell_type": "code",
   "execution_count": 39,
   "metadata": {},
   "outputs": [
    {
     "data": {
      "text/html": [
       "<div>\n",
       "<style scoped>\n",
       "    .dataframe tbody tr th:only-of-type {\n",
       "        vertical-align: middle;\n",
       "    }\n",
       "\n",
       "    .dataframe tbody tr th {\n",
       "        vertical-align: top;\n",
       "    }\n",
       "\n",
       "    .dataframe thead th {\n",
       "        text-align: right;\n",
       "    }\n",
       "</style>\n",
       "<table border=\"1\" class=\"dataframe\">\n",
       "  <thead>\n",
       "    <tr style=\"text-align: right;\">\n",
       "      <th></th>\n",
       "      <th>fl_date</th>\n",
       "      <th>op_unique_carrier</th>\n",
       "      <th>op_carrier_fl_num</th>\n",
       "      <th>origin</th>\n",
       "      <th>dest</th>\n",
       "      <th>crs_dep_time</th>\n",
       "      <th>crs_arr_time</th>\n",
       "      <th>crs_elapsed_time</th>\n",
       "      <th>distance</th>\n",
       "      <th>arr_time_sin</th>\n",
       "      <th>arr_time_cos</th>\n",
       "      <th>dep_time_sin</th>\n",
       "      <th>dep_time_cos</th>\n",
       "    </tr>\n",
       "  </thead>\n",
       "  <tbody>\n",
       "  </tbody>\n",
       "</table>\n",
       "</div>"
      ],
      "text/plain": [
       "Empty DataFrame\n",
       "Columns: [fl_date, op_unique_carrier, op_carrier_fl_num, origin, dest, crs_dep_time, crs_arr_time, crs_elapsed_time, distance, arr_time_sin, arr_time_cos, dep_time_sin, dep_time_cos]\n",
       "Index: []"
      ]
     },
     "execution_count": 39,
     "metadata": {},
     "output_type": "execute_result"
    }
   ],
   "source": [
    "test_flights[test_flights.isna().any(axis=1)]"
   ]
  },
  {
   "cell_type": "code",
   "execution_count": 20,
   "metadata": {},
   "outputs": [
    {
     "data": {
      "text/plain": [
       "6.283185307179586"
      ]
     },
     "execution_count": 20,
     "metadata": {},
     "output_type": "execute_result"
    }
   ],
   "source": [
    "2 * math.pi * 2400 / 2400"
   ]
  },
  {
   "cell_type": "code",
   "execution_count": null,
   "metadata": {},
   "outputs": [],
   "source": []
  }
 ],
 "metadata": {
  "interpreter": {
   "hash": "4fe28adbe6d40c82bdde6a2233f025e3b944121e67b5abb397657075ce1366ca"
  },
  "kernelspec": {
   "display_name": "Python 3.8.5 64-bit ('lighthouse': conda)",
   "language": "python",
   "name": "python3"
  },
  "language_info": {
   "codemirror_mode": {
    "name": "ipython",
    "version": 3
   },
   "file_extension": ".py",
   "mimetype": "text/x-python",
   "name": "python",
   "nbconvert_exporter": "python",
   "pygments_lexer": "ipython3",
   "version": "3.8.5"
  },
  "orig_nbformat": 4
 },
 "nbformat": 4,
 "nbformat_minor": 2
}
