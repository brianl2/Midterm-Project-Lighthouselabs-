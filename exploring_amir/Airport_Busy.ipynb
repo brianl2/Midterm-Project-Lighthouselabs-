{
 "cells": [
  {
   "cell_type": "code",
   "execution_count": 3,
   "id": "3bab5070-43ba-4e17-9bad-d213afd11e39",
   "metadata": {},
   "outputs": [
    {
     "ename": "NameError",
     "evalue": "name 'sys' is not defined",
     "output_type": "error",
     "traceback": [
      "\u001b[0;31m---------------------------------------------------------------------------\u001b[0m",
      "\u001b[0;31mNameError\u001b[0m                                 Traceback (most recent call last)",
      "\u001b[0;32m<ipython-input-3-7c3f37f590c6>\u001b[0m in \u001b[0;36m<module>\u001b[0;34m\u001b[0m\n\u001b[1;32m      1\u001b[0m \u001b[0;31m##### import sys\u001b[0m\u001b[0;34m\u001b[0m\u001b[0;34m\u001b[0m\u001b[0;34m\u001b[0m\u001b[0m\n\u001b[0;32m----> 2\u001b[0;31m \u001b[0msys\u001b[0m\u001b[0;34m.\u001b[0m\u001b[0mpath\u001b[0m\u001b[0;34m.\u001b[0m\u001b[0mappend\u001b[0m\u001b[0;34m(\u001b[0m\u001b[0;34m\"..\"\u001b[0m\u001b[0;34m)\u001b[0m  \u001b[0;31m# <-  This should point to the root directory of the project relative to this file\u001b[0m\u001b[0;34m\u001b[0m\u001b[0;34m\u001b[0m\u001b[0m\n\u001b[0m\u001b[1;32m      3\u001b[0m \u001b[0;34m\u001b[0m\u001b[0m\n\u001b[1;32m      4\u001b[0m \u001b[0;32mfrom\u001b[0m \u001b[0mcustom_scripts\u001b[0m \u001b[0;32mimport\u001b[0m \u001b[0mdatabase\u001b[0m\u001b[0;34m\u001b[0m\u001b[0;34m\u001b[0m\u001b[0m\n\u001b[1;32m      5\u001b[0m \u001b[0;32mfrom\u001b[0m \u001b[0mcustom_scripts\u001b[0m \u001b[0;32mimport\u001b[0m \u001b[0mpreprocessing\u001b[0m\u001b[0;34m\u001b[0m\u001b[0;34m\u001b[0m\u001b[0m\n",
      "\u001b[0;31mNameError\u001b[0m: name 'sys' is not defined"
     ]
    }
   ],
   "source": [
    "##### import sys\n",
    "sys.path.append(\"..\")  # <-  This should point to the root directory of the project relative to this file\n",
    "\n",
    "from custom_scripts import database\n",
    "from custom_scripts import preprocessing\n",
    "import seaborn as sns\n",
    "import matplotlib.pyplot as plt\n",
    "from scipy import stats\n",
    "#sample_number = 1000\n",
    "flights_query =  f\"\"\"\n",
    "                SELECT * FROM flights WHERE fl_date = '2018-10-01'\n",
    "                \"\"\"\n",
    "#BETWEEN '2018-10-01' AND '2018-10-7'\n",
    "flights = database.query(flights_query)\n",
    "flights.head()"
   ]
  },
  {
   "cell_type": "code",
   "execution_count": 201,
   "id": "4f88b96e-2e80-4c5f-88a5-70ffc351700e",
   "metadata": {},
   "outputs": [
    {
     "data": {
      "text/plain": [
       "(22797, 42)"
      ]
     },
     "execution_count": 201,
     "metadata": {},
     "output_type": "execute_result"
    }
   ],
   "source": [
    "flights.shape"
   ]
  },
  {
   "cell_type": "code",
   "execution_count": 202,
   "id": "d561413a-8c88-4b68-bca4-b6375513fd00",
   "metadata": {},
   "outputs": [
    {
     "data": {
      "text/plain": [
       "Index(['fl_date', 'mkt_unique_carrier', 'branded_code_share', 'mkt_carrier',\n",
       "       'mkt_carrier_fl_num', 'op_unique_carrier', 'tail_num',\n",
       "       'op_carrier_fl_num', 'origin_airport_id', 'origin', 'origin_city_name',\n",
       "       'dest_airport_id', 'dest', 'dest_city_name', 'crs_dep_time', 'dep_time',\n",
       "       'dep_delay', 'taxi_out', 'wheels_off', 'wheels_on', 'taxi_in',\n",
       "       'crs_arr_time', 'arr_time', 'arr_delay', 'cancelled',\n",
       "       'cancellation_code', 'diverted', 'dup', 'crs_elapsed_time',\n",
       "       'actual_elapsed_time', 'air_time', 'flights', 'distance',\n",
       "       'carrier_delay', 'weather_delay', 'nas_delay', 'security_delay',\n",
       "       'late_aircraft_delay', 'first_dep_time', 'total_add_gtime',\n",
       "       'longest_add_gtime', 'no_name'],\n",
       "      dtype='object')"
      ]
     },
     "execution_count": 202,
     "metadata": {},
     "output_type": "execute_result"
    }
   ],
   "source": [
    "flights.columns"
   ]
  },
  {
   "cell_type": "code",
   "execution_count": 213,
   "id": "ce8fb8e2-48bb-4062-ba35-5fa1c3a68254",
   "metadata": {},
   "outputs": [],
   "source": [
    "flights_selected = flights[['fl_date','crs_dep_time','origin_airport_id','dest_airport_id','crs_elapsed_time','arr_delay']]"
   ]
  },
  {
   "cell_type": "code",
   "execution_count": 214,
   "id": "b25d203b-5c66-4ef4-acf2-8ea7a1eef41f",
   "metadata": {},
   "outputs": [],
   "source": [
    "flights_selected = flights_selected.dropna(subset=['fl_date','crs_dep_time','origin_airport_id','dest_airport_id','crs_elapsed_time'])\n",
    "\n",
    "flights_selected = flights_selected.fillna(0)"
   ]
  },
  {
   "cell_type": "code",
   "execution_count": null,
   "id": "92cfaa91-37bd-4777-a457-20533e300e23",
   "metadata": {},
   "outputs": [],
   "source": []
  },
  {
   "cell_type": "code",
   "execution_count": 215,
   "id": "93c7bf34-5822-49ec-b3ed-d5a47e4bc9d3",
   "metadata": {},
   "outputs": [],
   "source": [
    "flights_selected = flights_selected.assign(relative_delay = 0)\n",
    "flights_selected['relative_delay'] = flights_selected['arr_delay']/flights_selected['crs_dep_time']\n",
    "#flights_selected = flights_selected.assign(overwhelming_rank = 0)\n",
    "flights_selected = flights_selected.assign(overwhelming_rank = 0)"
   ]
  },
  {
   "cell_type": "code",
   "execution_count": 216,
   "id": "6b444e99-9ef6-4ab6-8e61-58ccac70e41b",
   "metadata": {},
   "outputs": [
    {
     "data": {
      "text/html": [
       "<div>\n",
       "<style scoped>\n",
       "    .dataframe tbody tr th:only-of-type {\n",
       "        vertical-align: middle;\n",
       "    }\n",
       "\n",
       "    .dataframe tbody tr th {\n",
       "        vertical-align: top;\n",
       "    }\n",
       "\n",
       "    .dataframe thead th {\n",
       "        text-align: right;\n",
       "    }\n",
       "</style>\n",
       "<table border=\"1\" class=\"dataframe\">\n",
       "  <thead>\n",
       "    <tr style=\"text-align: right;\">\n",
       "      <th></th>\n",
       "      <th>fl_date</th>\n",
       "      <th>crs_dep_time</th>\n",
       "      <th>origin_airport_id</th>\n",
       "      <th>dest_airport_id</th>\n",
       "      <th>crs_elapsed_time</th>\n",
       "      <th>arr_delay</th>\n",
       "      <th>relative_delay</th>\n",
       "      <th>overwhelming_rank</th>\n",
       "    </tr>\n",
       "  </thead>\n",
       "  <tbody>\n",
       "    <tr>\n",
       "      <th>0</th>\n",
       "      <td>2018-10-01</td>\n",
       "      <td>1420</td>\n",
       "      <td>13930</td>\n",
       "      <td>11721</td>\n",
       "      <td>69.0</td>\n",
       "      <td>0.0</td>\n",
       "      <td>0.000000</td>\n",
       "      <td>289</td>\n",
       "    </tr>\n",
       "    <tr>\n",
       "      <th>1</th>\n",
       "      <td>2018-10-01</td>\n",
       "      <td>900</td>\n",
       "      <td>12758</td>\n",
       "      <td>12173</td>\n",
       "      <td>49.0</td>\n",
       "      <td>-16.0</td>\n",
       "      <td>-0.017778</td>\n",
       "      <td>9</td>\n",
       "    </tr>\n",
       "    <tr>\n",
       "      <th>2</th>\n",
       "      <td>2018-10-01</td>\n",
       "      <td>740</td>\n",
       "      <td>12173</td>\n",
       "      <td>12758</td>\n",
       "      <td>46.0</td>\n",
       "      <td>-7.0</td>\n",
       "      <td>-0.009459</td>\n",
       "      <td>25</td>\n",
       "    </tr>\n",
       "    <tr>\n",
       "      <th>3</th>\n",
       "      <td>2018-10-01</td>\n",
       "      <td>1136</td>\n",
       "      <td>12402</td>\n",
       "      <td>12173</td>\n",
       "      <td>54.0</td>\n",
       "      <td>-11.0</td>\n",
       "      <td>-0.009683</td>\n",
       "      <td>5</td>\n",
       "    </tr>\n",
       "    <tr>\n",
       "      <th>4</th>\n",
       "      <td>2018-10-01</td>\n",
       "      <td>1607</td>\n",
       "      <td>13830</td>\n",
       "      <td>12402</td>\n",
       "      <td>39.0</td>\n",
       "      <td>-16.0</td>\n",
       "      <td>-0.009956</td>\n",
       "      <td>12</td>\n",
       "    </tr>\n",
       "  </tbody>\n",
       "</table>\n",
       "</div>"
      ],
      "text/plain": [
       "      fl_date  crs_dep_time  origin_airport_id  dest_airport_id  \\\n",
       "0  2018-10-01          1420              13930            11721   \n",
       "1  2018-10-01           900              12758            12173   \n",
       "2  2018-10-01           740              12173            12758   \n",
       "3  2018-10-01          1136              12402            12173   \n",
       "4  2018-10-01          1607              13830            12402   \n",
       "\n",
       "   crs_elapsed_time  arr_delay  relative_delay  overwhelming_rank  \n",
       "0              69.0        0.0        0.000000                289  \n",
       "1              49.0      -16.0       -0.017778                  9  \n",
       "2              46.0       -7.0       -0.009459                 25  \n",
       "3              54.0      -11.0       -0.009683                  5  \n",
       "4              39.0      -16.0       -0.009956                 12  "
      ]
     },
     "execution_count": 216,
     "metadata": {},
     "output_type": "execute_result"
    }
   ],
   "source": [
    "import numpy as np\n",
    "\n",
    "for i in flights_selected.index:\n",
    "    #date = flights_selected.loc[i, 'fl_date']\n",
    "    airport = flights_selected.loc[i, 'origin_airport_id']\n",
    "    #airport2 = flights_selected.loc[i, 'dest_airport_id']\n",
    "    time = flights_selected.loc[i, 'crs_dep_time']\n",
    "    filter_airport = flights_selected['origin_airport_id']==airport\n",
    "    #filter_airport2 = flights_selected['origin_airport_id']==airport2\n",
    "    #filter_date = flights_selected['origin_airport_id']==fl_date\n",
    "    filter_time = abs(flights_selected[ 'crs_dep_time' ]-time)<=200\n",
    "    count = flights_selected[filter_airport&filter_time].shape[0]\n",
    "    flights_selected.loc[i, 'overwhelming_rank']=count\n",
    "\n",
    "flights_selected.head()        \n"
   ]
  },
  {
   "cell_type": "code",
   "execution_count": 217,
   "id": "d06bbc13-6526-4d88-b15d-a1a0581cafc2",
   "metadata": {},
   "outputs": [],
   "source": [
    "outliers_filter = abs(flights_selected[\"relative_delay\"])<=1\n",
    "flights_selected = flights_selected[outliers_filter]\n",
    "#flights_selected[\"overwhelming_rank\"] = flights_selected[\"overwhelming_rank\"]/flights_selected[\"overwhelming_rank\"].max()"
   ]
  },
  {
   "cell_type": "code",
   "execution_count": 218,
   "id": "7d11b4f8-a17d-40c2-bbdf-aa64e3eaf8e5",
   "metadata": {},
   "outputs": [
    {
     "data": {
      "image/png": "[encoded data removed]",
      "text/plain": [
       "<Figure size 720x720 with 1 Axes>"
      ]
     },
     "metadata": {
      "needs_background": "light"
     },
     "output_type": "display_data"
    }
   ],
   "source": [
    "from matplotlib import rcParams\n",
    "rcParams['figure.figsize'] = 10,10\n",
    "sns.regplot(x=\"overwhelming_rank\", y=\"relative_delay\", data=flights_selected)\n",
    "plt.show()"
   ]
  },
  {
   "cell_type": "code",
   "execution_count": null,
   "id": "a68c9399-13f5-4a14-bc16-b35071706cee",
   "metadata": {},
   "outputs": [],
   "source": []
  },
  {
   "cell_type": "code",
   "execution_count": null,
   "id": "a2861c4b-6088-4038-ac57-d8a4c12e44ed",
   "metadata": {},
   "outputs": [],
   "source": []
  }
 ],
 "metadata": {
  "kernelspec": {
   "display_name": "Python 3",
   "language": "python",
   "name": "python3"
  },
  "language_info": {
   "codemirror_mode": {
    "name": "ipython",
    "version": 3
   },
   "file_extension": ".py",
   "mimetype": "text/x-python",
   "name": "python",
   "nbconvert_exporter": "python",
   "pygments_lexer": "ipython3",
   "version": "3.8.8"
  }
 },
 "nbformat": 4,
 "nbformat_minor": 5
}
