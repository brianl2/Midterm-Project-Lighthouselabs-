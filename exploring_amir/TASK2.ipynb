{
 "cells": [
  {
   "cell_type": "code",
   "execution_count": 1,
   "id": "8f4e7edf-b3f9-446c-9657-b221c2983f87",
   "metadata": {},
   "outputs": [],
   "source": [
    "import sys\n",
    "sys.path.append(\"..\")  # <-  This should point to the root directory of the project relative to this file\n",
    "\n",
    "from scripts import database"
   ]
  },
  {
   "cell_type": "code",
   "execution_count": 22,
   "id": "fbf2797b-64b1-49e2-a924-37d6f7d8fda6",
   "metadata": {},
   "outputs": [],
   "source": [
    "import seaborn as sns\n",
    "import matplotlib.pyplot as plt\n",
    "from scipy import stats"
   ]
  },
  {
   "cell_type": "code",
   "execution_count": 5,
   "id": "8610b172-a282-45f9-9c78-2457555aea99",
   "metadata": {},
   "outputs": [],
   "source": [
    "sample_number = 1000"
   ]
  },
  {
   "cell_type": "code",
   "execution_count": 6,
   "id": "619f6975-973c-460d-806c-f4d4e2135f4d",
   "metadata": {},
   "outputs": [],
   "source": [
    "flights_query =  f\"\"\"\n",
    "                SELECT * FROM flights ORDER BY RANDOM() LIMIT '{sample_number}';\n",
    "                \"\"\"\n",
    "\n",
    "flights = database.query(flights_query)"
   ]
  },
  {
   "cell_type": "code",
   "execution_count": 7,
   "id": "a098630c-8d05-4a61-932a-8d3a7391db24",
   "metadata": {},
   "outputs": [
    {
     "data": {
      "text/html": [
       "<div>\n",
       "<style scoped>\n",
       "    .dataframe tbody tr th:only-of-type {\n",
       "        vertical-align: middle;\n",
       "    }\n",
       "\n",
       "    .dataframe tbody tr th {\n",
       "        vertical-align: top;\n",
       "    }\n",
       "\n",
       "    .dataframe thead th {\n",
       "        text-align: right;\n",
       "    }\n",
       "</style>\n",
       "<table border=\"1\" class=\"dataframe\">\n",
       "  <thead>\n",
       "    <tr style=\"text-align: right;\">\n",
       "      <th></th>\n",
       "      <th>fl_date</th>\n",
       "      <th>mkt_unique_carrier</th>\n",
       "      <th>branded_code_share</th>\n",
       "      <th>mkt_carrier</th>\n",
       "      <th>mkt_carrier_fl_num</th>\n",
       "      <th>op_unique_carrier</th>\n",
       "      <th>tail_num</th>\n",
       "      <th>op_carrier_fl_num</th>\n",
       "      <th>origin_airport_id</th>\n",
       "      <th>origin</th>\n",
       "      <th>...</th>\n",
       "      <th>distance</th>\n",
       "      <th>carrier_delay</th>\n",
       "      <th>weather_delay</th>\n",
       "      <th>nas_delay</th>\n",
       "      <th>security_delay</th>\n",
       "      <th>late_aircraft_delay</th>\n",
       "      <th>first_dep_time</th>\n",
       "      <th>total_add_gtime</th>\n",
       "      <th>longest_add_gtime</th>\n",
       "      <th>no_name</th>\n",
       "    </tr>\n",
       "  </thead>\n",
       "  <tbody>\n",
       "    <tr>\n",
       "      <th>0</th>\n",
       "      <td>2019-03-03</td>\n",
       "      <td>AA</td>\n",
       "      <td>AA_CODESHARE</td>\n",
       "      <td>AA</td>\n",
       "      <td>5276</td>\n",
       "      <td>OH</td>\n",
       "      <td>N261PS</td>\n",
       "      <td>5276</td>\n",
       "      <td>11278</td>\n",
       "      <td>DCA</td>\n",
       "      <td>...</td>\n",
       "      <td>437.0</td>\n",
       "      <td>NaN</td>\n",
       "      <td>NaN</td>\n",
       "      <td>NaN</td>\n",
       "      <td>NaN</td>\n",
       "      <td>NaN</td>\n",
       "      <td>None</td>\n",
       "      <td>NaN</td>\n",
       "      <td>NaN</td>\n",
       "      <td>None</td>\n",
       "    </tr>\n",
       "    <tr>\n",
       "      <th>1</th>\n",
       "      <td>2019-06-03</td>\n",
       "      <td>UA</td>\n",
       "      <td>UA_CODESHARE</td>\n",
       "      <td>UA</td>\n",
       "      <td>4838</td>\n",
       "      <td>ZW</td>\n",
       "      <td>N450AW</td>\n",
       "      <td>4838</td>\n",
       "      <td>13930</td>\n",
       "      <td>ORD</td>\n",
       "      <td>...</td>\n",
       "      <td>763.0</td>\n",
       "      <td>NaN</td>\n",
       "      <td>NaN</td>\n",
       "      <td>NaN</td>\n",
       "      <td>NaN</td>\n",
       "      <td>NaN</td>\n",
       "      <td>None</td>\n",
       "      <td>NaN</td>\n",
       "      <td>NaN</td>\n",
       "      <td>None</td>\n",
       "    </tr>\n",
       "    <tr>\n",
       "      <th>2</th>\n",
       "      <td>2019-06-09</td>\n",
       "      <td>UA</td>\n",
       "      <td>UA</td>\n",
       "      <td>UA</td>\n",
       "      <td>657</td>\n",
       "      <td>UA</td>\n",
       "      <td>N1902U</td>\n",
       "      <td>657</td>\n",
       "      <td>12953</td>\n",
       "      <td>LGA</td>\n",
       "      <td>...</td>\n",
       "      <td>1416.0</td>\n",
       "      <td>NaN</td>\n",
       "      <td>NaN</td>\n",
       "      <td>NaN</td>\n",
       "      <td>NaN</td>\n",
       "      <td>NaN</td>\n",
       "      <td>None</td>\n",
       "      <td>NaN</td>\n",
       "      <td>NaN</td>\n",
       "      <td>None</td>\n",
       "    </tr>\n",
       "    <tr>\n",
       "      <th>3</th>\n",
       "      <td>2019-04-10</td>\n",
       "      <td>AA</td>\n",
       "      <td>AA_CODESHARE</td>\n",
       "      <td>AA</td>\n",
       "      <td>3408</td>\n",
       "      <td>MQ</td>\n",
       "      <td>N240NN</td>\n",
       "      <td>3408</td>\n",
       "      <td>13930</td>\n",
       "      <td>ORD</td>\n",
       "      <td>...</td>\n",
       "      <td>315.0</td>\n",
       "      <td>NaN</td>\n",
       "      <td>NaN</td>\n",
       "      <td>NaN</td>\n",
       "      <td>NaN</td>\n",
       "      <td>NaN</td>\n",
       "      <td>None</td>\n",
       "      <td>NaN</td>\n",
       "      <td>NaN</td>\n",
       "      <td>None</td>\n",
       "    </tr>\n",
       "    <tr>\n",
       "      <th>4</th>\n",
       "      <td>2019-10-16</td>\n",
       "      <td>G4</td>\n",
       "      <td>G4</td>\n",
       "      <td>G4</td>\n",
       "      <td>833</td>\n",
       "      <td>G4</td>\n",
       "      <td>234NV</td>\n",
       "      <td>833</td>\n",
       "      <td>12223</td>\n",
       "      <td>HTS</td>\n",
       "      <td>...</td>\n",
       "      <td>721.0</td>\n",
       "      <td>NaN</td>\n",
       "      <td>NaN</td>\n",
       "      <td>NaN</td>\n",
       "      <td>NaN</td>\n",
       "      <td>NaN</td>\n",
       "      <td>None</td>\n",
       "      <td>NaN</td>\n",
       "      <td>NaN</td>\n",
       "      <td>None</td>\n",
       "    </tr>\n",
       "  </tbody>\n",
       "</table>\n",
       "<p>5 rows × 42 columns</p>\n",
       "</div>"
      ],
      "text/plain": [
       "      fl_date mkt_unique_carrier branded_code_share mkt_carrier  \\\n",
       "0  2019-03-03                 AA       AA_CODESHARE          AA   \n",
       "1  2019-06-03                 UA       UA_CODESHARE          UA   \n",
       "2  2019-06-09                 UA                 UA          UA   \n",
       "3  2019-04-10                 AA       AA_CODESHARE          AA   \n",
       "4  2019-10-16                 G4                 G4          G4   \n",
       "\n",
       "   mkt_carrier_fl_num op_unique_carrier tail_num  op_carrier_fl_num  \\\n",
       "0                5276                OH   N261PS               5276   \n",
       "1                4838                ZW   N450AW               4838   \n",
       "2                 657                UA   N1902U                657   \n",
       "3                3408                MQ   N240NN               3408   \n",
       "4                 833                G4    234NV                833   \n",
       "\n",
       "   origin_airport_id origin  ... distance  carrier_delay weather_delay  \\\n",
       "0              11278    DCA  ...    437.0            NaN           NaN   \n",
       "1              13930    ORD  ...    763.0            NaN           NaN   \n",
       "2              12953    LGA  ...   1416.0            NaN           NaN   \n",
       "3              13930    ORD  ...    315.0            NaN           NaN   \n",
       "4              12223    HTS  ...    721.0            NaN           NaN   \n",
       "\n",
       "  nas_delay  security_delay  late_aircraft_delay  first_dep_time  \\\n",
       "0       NaN             NaN                  NaN            None   \n",
       "1       NaN             NaN                  NaN            None   \n",
       "2       NaN             NaN                  NaN            None   \n",
       "3       NaN             NaN                  NaN            None   \n",
       "4       NaN             NaN                  NaN            None   \n",
       "\n",
       "   total_add_gtime  longest_add_gtime  no_name  \n",
       "0              NaN                NaN     None  \n",
       "1              NaN                NaN     None  \n",
       "2              NaN                NaN     None  \n",
       "3              NaN                NaN     None  \n",
       "4              NaN                NaN     None  \n",
       "\n",
       "[5 rows x 42 columns]"
      ]
     },
     "execution_count": 7,
     "metadata": {},
     "output_type": "execute_result"
    }
   ],
   "source": [
    "flights.head()"
   ]
  },
  {
   "cell_type": "code",
   "execution_count": 30,
   "id": "1a5d5c7a-298e-4b63-894a-a976d8b2ce56",
   "metadata": {},
   "outputs": [],
   "source": [
    "DelayDate = flights[[\"fl_date\",\"arr_delay\"]]"
   ]
  },
  {
   "cell_type": "code",
   "execution_count": 32,
   "id": "ad387cad-0494-442b-867c-37d9c9b5385f",
   "metadata": {},
   "outputs": [],
   "source": [
    "DelayDate = DelayDate.fillna(0)"
   ]
  },
  {
   "cell_type": "code",
   "execution_count": 33,
   "id": "c504c069-657c-4ce7-94f6-d1f234e7dba8",
   "metadata": {},
   "outputs": [],
   "source": [
    "DelayDate = DelayDate.assign(month = pd.DatetimeIndex(DelayDate['fl_date']).month)"
   ]
  },
  {
   "cell_type": "code",
   "execution_count": null,
   "id": "4e366e67-8fd9-48e0-b90c-4beccbd7f67d",
   "metadata": {},
   "outputs": [],
   "source": []
  },
  {
   "cell_type": "code",
   "execution_count": 34,
   "id": "c5e894d7-8e32-47ab-b280-e3929b591164",
   "metadata": {},
   "outputs": [
    {
     "data": {
      "image/png": "[encoded data removed]",
      "text/plain": [
       "<Figure size 432x288 with 1 Axes>"
      ]
     },
     "metadata": {
      "needs_background": "light"
     },
     "output_type": "display_data"
    }
   ],
   "source": [
    "sns.barplot(x=DelayDate.month,y=DelayDate.arr_delay, color='blue', capsize = 0.2, errwidth = 1)\n",
    "plt.show()"
   ]
  },
  {
   "cell_type": "code",
   "execution_count": 37,
   "id": "47996992-74fb-4b1b-bd2a-2bdf0ca8587c",
   "metadata": {},
   "outputs": [
    {
     "data": {
      "image/png": "[encoded data removed]",
      "text/plain": [
       "<Figure size 432x288 with 1 Axes>"
      ]
     },
     "metadata": {
      "needs_background": "light"
     },
     "output_type": "display_data"
    }
   ],
   "source": [
    "DelayMonth = DelayDate.groupby(by='month').mean().reset_index()\n",
    "sns.barplot(x=DelayMonth.month, y= DelayMonth.arr_delay, color ='blue')\n",
    "plt.show()"
   ]
  },
  {
   "cell_type": "code",
   "execution_count": 36,
   "id": "c92859ba-08b2-4d03-8c67-abea1e29d187",
   "metadata": {},
   "outputs": [
    {
     "data": {
      "text/plain": [
       "<AxesSubplot:xlabel='month', ylabel='arr_delay'>"
      ]
     },
     "execution_count": 36,
     "metadata": {},
     "output_type": "execute_result"
    },
    {
     "data": {
      "image/png": "[encoded data removed]",
      "text/plain": [
       "<Figure size 432x288 with 1 Axes>"
      ]
     },
     "metadata": {
      "needs_background": "light"
     },
     "output_type": "display_data"
    }
   ],
   "source": [
    "DelayMonth = DelayDate.groupby(by='month').median().reset_index()\n",
    "sns.barplot(x=DelayMonth.month, y= DelayMonth.arr_delay, color ='blue')"
   ]
  },
  {
   "cell_type": "code",
   "execution_count": null,
   "id": "c1edb952-5083-4520-b5ee-b390a70ccdb9",
   "metadata": {},
   "outputs": [],
   "source": []
  }
 ],
 "metadata": {
  "kernelspec": {
   "display_name": "Python 3",
   "language": "python",
   "name": "python3"
  },
  "language_info": {
   "codemirror_mode": {
    "name": "ipython",
    "version": 3
   },
   "file_extension": ".py",
   "mimetype": "text/x-python",
   "name": "python",
   "nbconvert_exporter": "python",
   "pygments_lexer": "ipython3",
   "version": "3.8.8"
  }
 },
 "nbformat": 4,
 "nbformat_minor": 5
}
