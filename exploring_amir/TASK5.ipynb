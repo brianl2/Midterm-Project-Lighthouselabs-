{
 "cells": [
  {
   "cell_type": "code",
   "execution_count": 1,
   "id": "746da7a9-b2cd-421d-a1b1-037c849d0aca",
   "metadata": {},
   "outputs": [],
   "source": [
    "import sys\n",
    "sys.path.append(\"..\")  # <-  This should point to the root directory of the project relative to this file\n",
    "\n",
    "from custom_scripts import database\n",
    "from custom_scripts import preprocessing"
   ]
  },
  {
   "cell_type": "code",
   "execution_count": 11,
   "id": "edfdfe23-88e5-4cc8-b9f1-91110fdd262a",
   "metadata": {},
   "outputs": [],
   "source": [
    "import seaborn as sns\n",
    "import matplotlib.pyplot as plt\n",
    "from scipy import stats"
   ]
  },
  {
   "cell_type": "code",
   "execution_count": 2,
   "id": "976f5fe2-4ef8-4228-ac87-1d3f3fa9a6b0",
   "metadata": {},
   "outputs": [],
   "source": [
    "sample_number = 1000"
   ]
  },
  {
   "cell_type": "code",
   "execution_count": 3,
   "id": "1eeea341-fe70-453e-b66c-a8476a806b08",
   "metadata": {},
   "outputs": [],
   "source": [
    "flights_query =  f\"\"\"\n",
    "                SELECT * FROM flights ORDER BY RANDOM() LIMIT '{sample_number}';\n",
    "                \"\"\"\n",
    "\n",
    "flights = database.query(flights_query)"
   ]
  },
  {
   "cell_type": "code",
   "execution_count": 4,
   "id": "b93699d0-cf93-4aa7-9cf9-4ed5297c20d4",
   "metadata": {},
   "outputs": [
    {
     "data": {
      "text/html": [
       "<div>\n",
       "<style scoped>\n",
       "    .dataframe tbody tr th:only-of-type {\n",
       "        vertical-align: middle;\n",
       "    }\n",
       "\n",
       "    .dataframe tbody tr th {\n",
       "        vertical-align: top;\n",
       "    }\n",
       "\n",
       "    .dataframe thead th {\n",
       "        text-align: right;\n",
       "    }\n",
       "</style>\n",
       "<table border=\"1\" class=\"dataframe\">\n",
       "  <thead>\n",
       "    <tr style=\"text-align: right;\">\n",
       "      <th></th>\n",
       "      <th>fl_date</th>\n",
       "      <th>mkt_unique_carrier</th>\n",
       "      <th>branded_code_share</th>\n",
       "      <th>mkt_carrier</th>\n",
       "      <th>mkt_carrier_fl_num</th>\n",
       "      <th>op_unique_carrier</th>\n",
       "      <th>tail_num</th>\n",
       "      <th>op_carrier_fl_num</th>\n",
       "      <th>origin_airport_id</th>\n",
       "      <th>origin</th>\n",
       "      <th>...</th>\n",
       "      <th>distance</th>\n",
       "      <th>carrier_delay</th>\n",
       "      <th>weather_delay</th>\n",
       "      <th>nas_delay</th>\n",
       "      <th>security_delay</th>\n",
       "      <th>late_aircraft_delay</th>\n",
       "      <th>first_dep_time</th>\n",
       "      <th>total_add_gtime</th>\n",
       "      <th>longest_add_gtime</th>\n",
       "      <th>no_name</th>\n",
       "    </tr>\n",
       "  </thead>\n",
       "  <tbody>\n",
       "    <tr>\n",
       "      <th>0</th>\n",
       "      <td>2018-10-02</td>\n",
       "      <td>UA</td>\n",
       "      <td>UA_CODESHARE</td>\n",
       "      <td>UA</td>\n",
       "      <td>4696</td>\n",
       "      <td>AX</td>\n",
       "      <td>N31131</td>\n",
       "      <td>4696</td>\n",
       "      <td>10627</td>\n",
       "      <td>BIS</td>\n",
       "      <td>...</td>\n",
       "      <td>716.0</td>\n",
       "      <td>NaN</td>\n",
       "      <td>NaN</td>\n",
       "      <td>NaN</td>\n",
       "      <td>NaN</td>\n",
       "      <td>NaN</td>\n",
       "      <td>None</td>\n",
       "      <td>NaN</td>\n",
       "      <td>NaN</td>\n",
       "      <td>None</td>\n",
       "    </tr>\n",
       "    <tr>\n",
       "      <th>1</th>\n",
       "      <td>2019-09-04</td>\n",
       "      <td>HA</td>\n",
       "      <td>HA</td>\n",
       "      <td>HA</td>\n",
       "      <td>226</td>\n",
       "      <td>HA</td>\n",
       "      <td>N490HA</td>\n",
       "      <td>226</td>\n",
       "      <td>12173</td>\n",
       "      <td>HNL</td>\n",
       "      <td>...</td>\n",
       "      <td>100.0</td>\n",
       "      <td>NaN</td>\n",
       "      <td>NaN</td>\n",
       "      <td>NaN</td>\n",
       "      <td>NaN</td>\n",
       "      <td>NaN</td>\n",
       "      <td>None</td>\n",
       "      <td>NaN</td>\n",
       "      <td>NaN</td>\n",
       "      <td>None</td>\n",
       "    </tr>\n",
       "    <tr>\n",
       "      <th>2</th>\n",
       "      <td>2018-07-03</td>\n",
       "      <td>UA</td>\n",
       "      <td>UA_CODESHARE</td>\n",
       "      <td>UA</td>\n",
       "      <td>5798</td>\n",
       "      <td>OO</td>\n",
       "      <td>N119SY</td>\n",
       "      <td>5798</td>\n",
       "      <td>13930</td>\n",
       "      <td>ORD</td>\n",
       "      <td>...</td>\n",
       "      <td>1437.0</td>\n",
       "      <td>NaN</td>\n",
       "      <td>NaN</td>\n",
       "      <td>NaN</td>\n",
       "      <td>NaN</td>\n",
       "      <td>NaN</td>\n",
       "      <td>None</td>\n",
       "      <td>NaN</td>\n",
       "      <td>NaN</td>\n",
       "      <td>None</td>\n",
       "    </tr>\n",
       "    <tr>\n",
       "      <th>3</th>\n",
       "      <td>2018-02-20</td>\n",
       "      <td>DL</td>\n",
       "      <td>DL_CODESHARE</td>\n",
       "      <td>DL</td>\n",
       "      <td>5725</td>\n",
       "      <td>CP</td>\n",
       "      <td>N608CZ</td>\n",
       "      <td>5725</td>\n",
       "      <td>14057</td>\n",
       "      <td>PDX</td>\n",
       "      <td>...</td>\n",
       "      <td>129.0</td>\n",
       "      <td>0.0</td>\n",
       "      <td>0.0</td>\n",
       "      <td>32.0</td>\n",
       "      <td>0.0</td>\n",
       "      <td>0.0</td>\n",
       "      <td>None</td>\n",
       "      <td>NaN</td>\n",
       "      <td>NaN</td>\n",
       "      <td>None</td>\n",
       "    </tr>\n",
       "    <tr>\n",
       "      <th>4</th>\n",
       "      <td>2018-06-16</td>\n",
       "      <td>UA</td>\n",
       "      <td>UA_CODESHARE</td>\n",
       "      <td>UA</td>\n",
       "      <td>5853</td>\n",
       "      <td>OO</td>\n",
       "      <td>N136SY</td>\n",
       "      <td>5853</td>\n",
       "      <td>11503</td>\n",
       "      <td>EGE</td>\n",
       "      <td>...</td>\n",
       "      <td>120.0</td>\n",
       "      <td>0.0</td>\n",
       "      <td>0.0</td>\n",
       "      <td>24.0</td>\n",
       "      <td>0.0</td>\n",
       "      <td>0.0</td>\n",
       "      <td>None</td>\n",
       "      <td>NaN</td>\n",
       "      <td>NaN</td>\n",
       "      <td>None</td>\n",
       "    </tr>\n",
       "  </tbody>\n",
       "</table>\n",
       "<p>5 rows × 42 columns</p>\n",
       "</div>"
      ],
      "text/plain": [
       "      fl_date mkt_unique_carrier branded_code_share mkt_carrier  \\\n",
       "0  2018-10-02                 UA       UA_CODESHARE          UA   \n",
       "1  2019-09-04                 HA                 HA          HA   \n",
       "2  2018-07-03                 UA       UA_CODESHARE          UA   \n",
       "3  2018-02-20                 DL       DL_CODESHARE          DL   \n",
       "4  2018-06-16                 UA       UA_CODESHARE          UA   \n",
       "\n",
       "   mkt_carrier_fl_num op_unique_carrier tail_num  op_carrier_fl_num  \\\n",
       "0                4696                AX   N31131               4696   \n",
       "1                 226                HA   N490HA                226   \n",
       "2                5798                OO   N119SY               5798   \n",
       "3                5725                CP   N608CZ               5725   \n",
       "4                5853                OO   N136SY               5853   \n",
       "\n",
       "   origin_airport_id origin  ... distance  carrier_delay weather_delay  \\\n",
       "0              10627    BIS  ...    716.0            NaN           NaN   \n",
       "1              12173    HNL  ...    100.0            NaN           NaN   \n",
       "2              13930    ORD  ...   1437.0            NaN           NaN   \n",
       "3              14057    PDX  ...    129.0            0.0           0.0   \n",
       "4              11503    EGE  ...    120.0            0.0           0.0   \n",
       "\n",
       "  nas_delay  security_delay  late_aircraft_delay  first_dep_time  \\\n",
       "0       NaN             NaN                  NaN            None   \n",
       "1       NaN             NaN                  NaN            None   \n",
       "2       NaN             NaN                  NaN            None   \n",
       "3      32.0             0.0                  0.0            None   \n",
       "4      24.0             0.0                  0.0            None   \n",
       "\n",
       "   total_add_gtime  longest_add_gtime  no_name  \n",
       "0              NaN                NaN     None  \n",
       "1              NaN                NaN     None  \n",
       "2              NaN                NaN     None  \n",
       "3              NaN                NaN     None  \n",
       "4              NaN                NaN     None  \n",
       "\n",
       "[5 rows x 42 columns]"
      ]
     },
     "execution_count": 4,
     "metadata": {},
     "output_type": "execute_result"
    }
   ],
   "source": [
    "flights.head()"
   ]
  },
  {
   "cell_type": "code",
   "execution_count": 5,
   "id": "4c51fe53-a2b5-45bb-934c-6b8998bc4d22",
   "metadata": {},
   "outputs": [
    {
     "data": {
      "text/plain": [
       "Index(['fl_date', 'mkt_unique_carrier', 'branded_code_share', 'mkt_carrier',\n",
       "       'mkt_carrier_fl_num', 'op_unique_carrier', 'tail_num',\n",
       "       'op_carrier_fl_num', 'origin_airport_id', 'origin', 'origin_city_name',\n",
       "       'dest_airport_id', 'dest', 'dest_city_name', 'crs_dep_time', 'dep_time',\n",
       "       'dep_delay', 'taxi_out', 'wheels_off', 'wheels_on', 'taxi_in',\n",
       "       'crs_arr_time', 'arr_time', 'arr_delay', 'cancelled',\n",
       "       'cancellation_code', 'diverted', 'dup', 'crs_elapsed_time',\n",
       "       'actual_elapsed_time', 'air_time', 'flights', 'distance',\n",
       "       'carrier_delay', 'weather_delay', 'nas_delay', 'security_delay',\n",
       "       'late_aircraft_delay', 'first_dep_time', 'total_add_gtime',\n",
       "       'longest_add_gtime', 'no_name'],\n",
       "      dtype='object')"
      ]
     },
     "execution_count": 5,
     "metadata": {},
     "output_type": "execute_result"
    }
   ],
   "source": [
    "flights.columns\n"
   ]
  },
  {
   "cell_type": "code",
   "execution_count": 32,
   "id": "3ff9f8af-fc08-4413-9579-dc89492c75f3",
   "metadata": {},
   "outputs": [],
   "source": [
    "Delays = flights[[\"security_delay\",\"nas_delay\",\"carrier_delay\",\"weather_delay\",\"arr_delay\"]]\n"
   ]
  },
  {
   "cell_type": "code",
   "execution_count": 33,
   "id": "9b617eab-79c2-43ef-902f-96191f5c01e8",
   "metadata": {},
   "outputs": [],
   "source": [
    "Delays = Delays.fillna(0)"
   ]
  },
  {
   "cell_type": "code",
   "execution_count": 34,
   "id": "7b493114-d56f-40a6-b832-83a83c918ac2",
   "metadata": {},
   "outputs": [],
   "source": [
    "Delays = Delays.assign(total_expected = Delays['security_delay']+Delays['nas_delay']+Delays['carrier_delay']+Delays['weather_delay'])"
   ]
  },
  {
   "cell_type": "code",
   "execution_count": 35,
   "id": "85b4bb8e-1c9d-44f6-8c9e-a98476fdf036",
   "metadata": {},
   "outputs": [],
   "source": [
    "Delays = Delays.mean()\n",
    "Delays = Delays*100/Delays.total_expected"
   ]
  },
  {
   "cell_type": "code",
   "execution_count": 36,
   "id": "56182d73-e5c7-4756-a09f-fe098cd6af56",
   "metadata": {},
   "outputs": [
    {
     "data": {
      "text/plain": [
       "security_delay      0.000000\n",
       "nas_delay          34.303302\n",
       "carrier_delay      51.916620\n",
       "weather_delay      13.780078\n",
       "arr_delay          85.002798\n",
       "total_expected    100.000000\n",
       "dtype: float64"
      ]
     },
     "execution_count": 36,
     "metadata": {},
     "output_type": "execute_result"
    }
   ],
   "source": [
    "Delays"
   ]
  },
  {
   "cell_type": "code",
   "execution_count": 38,
   "id": "023d5cca-64db-4031-bbbc-6e5edfe80db6",
   "metadata": {},
   "outputs": [],
   "source": [
    "# In average and in order of priority: \"carrier dalay\", \"national aviation system delay\" and\n",
    "# \"weather delay\" couse most of the delays but the aircrafts are compensae some of the delays during the flight\n",
    "# i.e. going faster..."
   ]
  },
  {
   "cell_type": "code",
   "execution_count": null,
   "id": "fe9ae004-bac3-4e22-8b89-d273c1fb01f0",
   "metadata": {},
   "outputs": [],
   "source": []
  }
 ],
 "metadata": {
  "kernelspec": {
   "display_name": "Python 3",
   "language": "python",
   "name": "python3"
  },
  "language_info": {
   "codemirror_mode": {
    "name": "ipython",
    "version": 3
   },
   "file_extension": ".py",
   "mimetype": "text/x-python",
   "name": "python",
   "nbconvert_exporter": "python",
   "pygments_lexer": "ipython3",
   "version": "3.8.8"
  }
 },
 "nbformat": 4,
 "nbformat_minor": 5
}
