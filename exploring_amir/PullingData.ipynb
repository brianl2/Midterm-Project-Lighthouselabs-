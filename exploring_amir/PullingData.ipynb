{
 "cells": [
  {
   "cell_type": "code",
   "execution_count": 60,
   "id": "d58c9554-1d69-40b0-a532-ad51ad7f0e5b",
   "metadata": {},
   "outputs": [
    {
     "data": {
      "text/html": [
       "<div>\n",
       "<style scoped>\n",
       "    .dataframe tbody tr th:only-of-type {\n",
       "        vertical-align: middle;\n",
       "    }\n",
       "\n",
       "    .dataframe tbody tr th {\n",
       "        vertical-align: top;\n",
       "    }\n",
       "\n",
       "    .dataframe thead th {\n",
       "        text-align: right;\n",
       "    }\n",
       "</style>\n",
       "<table border=\"1\" class=\"dataframe\">\n",
       "  <thead>\n",
       "    <tr style=\"text-align: right;\">\n",
       "      <th></th>\n",
       "      <th>fl_date</th>\n",
       "      <th>op_carrier_fl_num</th>\n",
       "      <th>arr_delay</th>\n",
       "      <th>delay_compensate</th>\n",
       "    </tr>\n",
       "  </thead>\n",
       "  <tbody>\n",
       "    <tr>\n",
       "      <th>0</th>\n",
       "      <td>2019-01-01</td>\n",
       "      <td>5621</td>\n",
       "      <td>0.0</td>\n",
       "      <td>1.0</td>\n",
       "    </tr>\n",
       "    <tr>\n",
       "      <th>1</th>\n",
       "      <td>2019-01-01</td>\n",
       "      <td>5606</td>\n",
       "      <td>-3.0</td>\n",
       "      <td>-4.0</td>\n",
       "    </tr>\n",
       "    <tr>\n",
       "      <th>2</th>\n",
       "      <td>2019-01-01</td>\n",
       "      <td>5607</td>\n",
       "      <td>6.0</td>\n",
       "      <td>-15.0</td>\n",
       "    </tr>\n",
       "    <tr>\n",
       "      <th>3</th>\n",
       "      <td>2019-01-01</td>\n",
       "      <td>5607</td>\n",
       "      <td>14.0</td>\n",
       "      <td>10.0</td>\n",
       "    </tr>\n",
       "    <tr>\n",
       "      <th>4</th>\n",
       "      <td>2019-01-01</td>\n",
       "      <td>5608</td>\n",
       "      <td>-12.0</td>\n",
       "      <td>-7.0</td>\n",
       "    </tr>\n",
       "  </tbody>\n",
       "</table>\n",
       "</div>"
      ],
      "text/plain": [
       "      fl_date  op_carrier_fl_num  arr_delay  delay_compensate\n",
       "0  2019-01-01               5621        0.0               1.0\n",
       "1  2019-01-01               5606       -3.0              -4.0\n",
       "2  2019-01-01               5607        6.0             -15.0\n",
       "3  2019-01-01               5607       14.0              10.0\n",
       "4  2019-01-01               5608      -12.0              -7.0"
      ]
     },
     "execution_count": 60,
     "metadata": {},
     "output_type": "execute_result"
    }
   ],
   "source": [
    "import sys\n",
    "sys.path.append(\"..\")  # <-  This should point to the root directory of the project relative to this file\n",
    "\n",
    "from custom_scripts import database\n",
    "from custom_scripts import preprocessing\n",
    "\n",
    "# This assumes that the taxiing phases are always according to the schadual. I can do a better job if we have log, lat of the origin\n",
    "# and dest because all the phases of the flights before take-off and after landing are in local time\n",
    "flights_query =  f\"\"\"\n",
    "                SELECT fl_date, op_carrier_fl_num, arr_delay, (air_time - crs_elapsed_time + taxi_out+taxi_in) AS delay_compensate FROM flights\n",
    "                WHERE fl_date BETWEEN  '2019-01-01' AND '2019-01-02';\n",
    "                \"\"\"\n",
    "\n",
    "flights = database.query(flights_query)\n",
    "flights.head()"
   ]
  },
  {
   "cell_type": "code",
   "execution_count": null,
   "id": "7a925684-69bc-4483-bc46-c2ad28f87f42",
   "metadata": {},
   "outputs": [],
   "source": []
  },
  {
   "cell_type": "markdown",
   "id": "96adf392-e7ed-4d07-8876-8c70cce9f85e",
   "metadata": {},
   "source": [
    "# For Visualization"
   ]
  },
  {
   "cell_type": "code",
   "execution_count": 61,
   "id": "a17b1b58-f2b7-4117-9be1-630baca19587",
   "metadata": {},
   "outputs": [
    {
     "data": {
      "image/png": "[encoded data removed]",
      "text/plain": [
       "<Figure size 432x288 with 1 Axes>"
      ]
     },
     "metadata": {
      "needs_background": "light"
     },
     "output_type": "display_data"
    },
    {
     "data": {
      "text/html": [
       "<div>\n",
       "<style scoped>\n",
       "    .dataframe tbody tr th:only-of-type {\n",
       "        vertical-align: middle;\n",
       "    }\n",
       "\n",
       "    .dataframe tbody tr th {\n",
       "        vertical-align: top;\n",
       "    }\n",
       "\n",
       "    .dataframe thead th {\n",
       "        text-align: right;\n",
       "    }\n",
       "</style>\n",
       "<table border=\"1\" class=\"dataframe\">\n",
       "  <thead>\n",
       "    <tr style=\"text-align: right;\">\n",
       "      <th></th>\n",
       "      <th>op_carrier_fl_num</th>\n",
       "      <th>arr_delay</th>\n",
       "      <th>delay_compensate</th>\n",
       "    </tr>\n",
       "  </thead>\n",
       "  <tbody>\n",
       "    <tr>\n",
       "      <th>count</th>\n",
       "      <td>41994.000000</td>\n",
       "      <td>41584.000000</td>\n",
       "      <td>41584.000000</td>\n",
       "    </tr>\n",
       "    <tr>\n",
       "      <th>mean</th>\n",
       "      <td>2823.387151</td>\n",
       "      <td>7.724846</td>\n",
       "      <td>-4.781911</td>\n",
       "    </tr>\n",
       "    <tr>\n",
       "      <th>std</th>\n",
       "      <td>1942.139060</td>\n",
       "      <td>48.637205</td>\n",
       "      <td>14.525290</td>\n",
       "    </tr>\n",
       "    <tr>\n",
       "      <th>min</th>\n",
       "      <td>1.000000</td>\n",
       "      <td>-76.000000</td>\n",
       "      <td>-87.000000</td>\n",
       "    </tr>\n",
       "    <tr>\n",
       "      <th>25%</th>\n",
       "      <td>1142.000000</td>\n",
       "      <td>-14.000000</td>\n",
       "      <td>-13.000000</td>\n",
       "    </tr>\n",
       "    <tr>\n",
       "      <th>50%</th>\n",
       "      <td>2331.000000</td>\n",
       "      <td>-3.000000</td>\n",
       "      <td>-6.000000</td>\n",
       "    </tr>\n",
       "    <tr>\n",
       "      <th>75%</th>\n",
       "      <td>4557.000000</td>\n",
       "      <td>14.000000</td>\n",
       "      <td>2.000000</td>\n",
       "    </tr>\n",
       "    <tr>\n",
       "      <th>max</th>\n",
       "      <td>9381.000000</td>\n",
       "      <td>1707.000000</td>\n",
       "      <td>121.000000</td>\n",
       "    </tr>\n",
       "  </tbody>\n",
       "</table>\n",
       "</div>"
      ],
      "text/plain": [
       "       op_carrier_fl_num     arr_delay  delay_compensate\n",
       "count       41994.000000  41584.000000      41584.000000\n",
       "mean         2823.387151      7.724846         -4.781911\n",
       "std          1942.139060     48.637205         14.525290\n",
       "min             1.000000    -76.000000        -87.000000\n",
       "25%          1142.000000    -14.000000        -13.000000\n",
       "50%          2331.000000     -3.000000         -6.000000\n",
       "75%          4557.000000     14.000000          2.000000\n",
       "max          9381.000000   1707.000000        121.000000"
      ]
     },
     "execution_count": 61,
     "metadata": {},
     "output_type": "execute_result"
    }
   ],
   "source": [
    "import seaborn as sns\n",
    "sns.regplot(x=\"delay_compensate\", y=\"arr_delay\", data=flights)\n",
    "plt.show()\n",
    "flights.describe()"
   ]
  },
  {
   "cell_type": "markdown",
   "id": "6fdd2354-f0e7-4ef5-8ff2-5ed6f887956f",
   "metadata": {},
   "source": [
    "# Adjusting the dataframe for Brian's classification"
   ]
  },
  {
   "cell_type": "code",
   "execution_count": 62,
   "id": "ce3d5429-c34b-4927-909e-f5c858a1ad68",
   "metadata": {},
   "outputs": [],
   "source": [
    "flights = flights.assign(Delayed=False)"
   ]
  },
  {
   "cell_type": "code",
   "execution_count": 63,
   "id": "021a6f3f-82d1-4ab0-91c5-44875e1eb73e",
   "metadata": {},
   "outputs": [
    {
     "data": {
      "text/html": [
       "<div>\n",
       "<style scoped>\n",
       "    .dataframe tbody tr th:only-of-type {\n",
       "        vertical-align: middle;\n",
       "    }\n",
       "\n",
       "    .dataframe tbody tr th {\n",
       "        vertical-align: top;\n",
       "    }\n",
       "\n",
       "    .dataframe thead th {\n",
       "        text-align: right;\n",
       "    }\n",
       "</style>\n",
       "<table border=\"1\" class=\"dataframe\">\n",
       "  <thead>\n",
       "    <tr style=\"text-align: right;\">\n",
       "      <th></th>\n",
       "      <th>fl_date</th>\n",
       "      <th>op_carrier_fl_num</th>\n",
       "      <th>arr_delay</th>\n",
       "      <th>delay_compensate</th>\n",
       "      <th>Delayed</th>\n",
       "    </tr>\n",
       "  </thead>\n",
       "  <tbody>\n",
       "    <tr>\n",
       "      <th>0</th>\n",
       "      <td>2019-01-01</td>\n",
       "      <td>5621</td>\n",
       "      <td>0</td>\n",
       "      <td>1</td>\n",
       "      <td>False</td>\n",
       "    </tr>\n",
       "    <tr>\n",
       "      <th>1</th>\n",
       "      <td>2019-01-01</td>\n",
       "      <td>5606</td>\n",
       "      <td>-3</td>\n",
       "      <td>-4</td>\n",
       "      <td>False</td>\n",
       "    </tr>\n",
       "    <tr>\n",
       "      <th>2</th>\n",
       "      <td>2019-01-01</td>\n",
       "      <td>5607</td>\n",
       "      <td>6</td>\n",
       "      <td>-15</td>\n",
       "      <td>False</td>\n",
       "    </tr>\n",
       "    <tr>\n",
       "      <th>3</th>\n",
       "      <td>2019-01-01</td>\n",
       "      <td>5607</td>\n",
       "      <td>14</td>\n",
       "      <td>10</td>\n",
       "      <td>False</td>\n",
       "    </tr>\n",
       "    <tr>\n",
       "      <th>4</th>\n",
       "      <td>2019-01-01</td>\n",
       "      <td>5608</td>\n",
       "      <td>-12</td>\n",
       "      <td>-7</td>\n",
       "      <td>False</td>\n",
       "    </tr>\n",
       "  </tbody>\n",
       "</table>\n",
       "</div>"
      ],
      "text/plain": [
       "      fl_date op_carrier_fl_num arr_delay delay_compensate  Delayed\n",
       "0  2019-01-01              5621         0                1    False\n",
       "1  2019-01-01              5606        -3               -4    False\n",
       "2  2019-01-01              5607         6              -15    False\n",
       "3  2019-01-01              5607        14               10    False\n",
       "4  2019-01-01              5608       -12               -7    False"
      ]
     },
     "execution_count": 63,
     "metadata": {},
     "output_type": "execute_result"
    }
   ],
   "source": [
    "filter_delay = flights['arr_delay']>=15\n",
    "flights[filter_delay]=True\n",
    "flights.head()"
   ]
  },
  {
   "cell_type": "code",
   "execution_count": 64,
   "id": "f30e5f63-07cb-4223-8463-dd9c639b8a0f",
   "metadata": {},
   "outputs": [
    {
     "data": {
      "text/html": [
       "<div>\n",
       "<style scoped>\n",
       "    .dataframe tbody tr th:only-of-type {\n",
       "        vertical-align: middle;\n",
       "    }\n",
       "\n",
       "    .dataframe tbody tr th {\n",
       "        vertical-align: top;\n",
       "    }\n",
       "\n",
       "    .dataframe thead th {\n",
       "        text-align: right;\n",
       "    }\n",
       "</style>\n",
       "<table border=\"1\" class=\"dataframe\">\n",
       "  <thead>\n",
       "    <tr style=\"text-align: right;\">\n",
       "      <th></th>\n",
       "      <th>fl_date</th>\n",
       "      <th>op_carrier_fl_num</th>\n",
       "      <th>arr_delay</th>\n",
       "      <th>delay_compensate</th>\n",
       "      <th>Delayed</th>\n",
       "    </tr>\n",
       "  </thead>\n",
       "  <tbody>\n",
       "    <tr>\n",
       "      <th>count</th>\n",
       "      <td>41994</td>\n",
       "      <td>41994</td>\n",
       "      <td>41584.0</td>\n",
       "      <td>41584.0</td>\n",
       "      <td>41994</td>\n",
       "    </tr>\n",
       "    <tr>\n",
       "      <th>unique</th>\n",
       "      <td>3</td>\n",
       "      <td>6372</td>\n",
       "      <td>84.0</td>\n",
       "      <td>103.0</td>\n",
       "      <td>2</td>\n",
       "    </tr>\n",
       "    <tr>\n",
       "      <th>top</th>\n",
       "      <td>2019-01-02</td>\n",
       "      <td>True</td>\n",
       "      <td>1.0</td>\n",
       "      <td>1.0</td>\n",
       "      <td>False</td>\n",
       "    </tr>\n",
       "    <tr>\n",
       "      <th>freq</th>\n",
       "      <td>16575</td>\n",
       "      <td>10107</td>\n",
       "      <td>10863.0</td>\n",
       "      <td>10964.0</td>\n",
       "      <td>31897</td>\n",
       "    </tr>\n",
       "  </tbody>\n",
       "</table>\n",
       "</div>"
      ],
      "text/plain": [
       "           fl_date op_carrier_fl_num  arr_delay  delay_compensate Delayed\n",
       "count        41994             41994    41584.0           41584.0   41994\n",
       "unique           3              6372       84.0             103.0       2\n",
       "top     2019-01-02              True        1.0               1.0   False\n",
       "freq         16575             10107    10863.0           10964.0   31897"
      ]
     },
     "execution_count": 64,
     "metadata": {},
     "output_type": "execute_result"
    }
   ],
   "source": [
    "flights.describe()"
   ]
  },
  {
   "cell_type": "code",
   "execution_count": null,
   "id": "c56b12af-520f-46b9-bdfb-5ee29b4e1ef7",
   "metadata": {},
   "outputs": [],
   "source": [
    "\n"
   ]
  },
  {
   "cell_type": "code",
   "execution_count": null,
   "id": "8d40f206-cf02-4146-a6ca-0f1c3b3fa3ba",
   "metadata": {},
   "outputs": [],
   "source": []
  },
  {
   "cell_type": "code",
   "execution_count": null,
   "id": "64319ca0-c9d8-4efc-ae0e-52fa9a65b4f7",
   "metadata": {},
   "outputs": [],
   "source": []
  }
 ],
 "metadata": {
  "kernelspec": {
   "display_name": "Python 3",
   "language": "python",
   "name": "python3"
  },
  "language_info": {
   "codemirror_mode": {
    "name": "ipython",
    "version": 3
   },
   "file_extension": ".py",
   "mimetype": "text/x-python",
   "name": "python",
   "nbconvert_exporter": "python",
   "pygments_lexer": "ipython3",
   "version": "3.8.8"
  }
 },
 "nbformat": 4,
 "nbformat_minor": 5
}
