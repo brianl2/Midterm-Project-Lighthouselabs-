{
 "cells": [
  {
   "cell_type": "code",
   "execution_count": 11,
   "id": "e301544c-c372-4c13-a40a-2d15d2667dce",
   "metadata": {},
   "outputs": [],
   "source": [
    "import sys\n",
    "sys.path.append(\"..\")  # <-  This should point to the root directory of the project relative to this file\n",
    "\n",
    "from scripts import database"
   ]
  },
  {
   "cell_type": "code",
   "execution_count": 15,
   "id": "6a604828-2cf3-46d0-9bcf-a5b09ba17fa3",
   "metadata": {},
   "outputs": [],
   "source": [
    "import pandas as pd\n",
    "import seaborn as sns\n",
    "import matplotlib.pyplot as plt\n",
    "from scipy import stats"
   ]
  },
  {
   "cell_type": "code",
   "execution_count": 3,
   "id": "75885c2d-98c7-49fa-bfda-da443bc9be51",
   "metadata": {},
   "outputs": [],
   "source": [
    "sample_number = 1000"
   ]
  },
  {
   "cell_type": "code",
   "execution_count": 4,
   "id": "8d1d820e-2620-4da3-a1ff-fdcf3d188976",
   "metadata": {},
   "outputs": [],
   "source": [
    "flights_query =  f\"\"\"\n",
    "                SELECT * FROM flights ORDER BY RANDOM() LIMIT '{sample_number}';\n",
    "                \"\"\"\n",
    "\n",
    "flights = database.query(flights_query)"
   ]
  },
  {
   "cell_type": "code",
   "execution_count": 6,
   "id": "279e42fd-68da-4654-896b-93f0de1f6a8e",
   "metadata": {},
   "outputs": [
    {
     "data": {
      "text/html": [
       "<div>\n",
       "<style scoped>\n",
       "    .dataframe tbody tr th:only-of-type {\n",
       "        vertical-align: middle;\n",
       "    }\n",
       "\n",
       "    .dataframe tbody tr th {\n",
       "        vertical-align: top;\n",
       "    }\n",
       "\n",
       "    .dataframe thead th {\n",
       "        text-align: right;\n",
       "    }\n",
       "</style>\n",
       "<table border=\"1\" class=\"dataframe\">\n",
       "  <thead>\n",
       "    <tr style=\"text-align: right;\">\n",
       "      <th></th>\n",
       "      <th>fl_date</th>\n",
       "      <th>mkt_unique_carrier</th>\n",
       "      <th>branded_code_share</th>\n",
       "      <th>mkt_carrier</th>\n",
       "      <th>mkt_carrier_fl_num</th>\n",
       "      <th>op_unique_carrier</th>\n",
       "      <th>tail_num</th>\n",
       "      <th>op_carrier_fl_num</th>\n",
       "      <th>origin_airport_id</th>\n",
       "      <th>origin</th>\n",
       "      <th>...</th>\n",
       "      <th>distance</th>\n",
       "      <th>carrier_delay</th>\n",
       "      <th>weather_delay</th>\n",
       "      <th>nas_delay</th>\n",
       "      <th>security_delay</th>\n",
       "      <th>late_aircraft_delay</th>\n",
       "      <th>first_dep_time</th>\n",
       "      <th>total_add_gtime</th>\n",
       "      <th>longest_add_gtime</th>\n",
       "      <th>no_name</th>\n",
       "    </tr>\n",
       "  </thead>\n",
       "  <tbody>\n",
       "    <tr>\n",
       "      <th>0</th>\n",
       "      <td>2019-01-10</td>\n",
       "      <td>UA</td>\n",
       "      <td>UA_CODESHARE</td>\n",
       "      <td>UA</td>\n",
       "      <td>5695</td>\n",
       "      <td>OO</td>\n",
       "      <td>N143SY</td>\n",
       "      <td>5695</td>\n",
       "      <td>14771</td>\n",
       "      <td>SFO</td>\n",
       "      <td>...</td>\n",
       "      <td>1499.0</td>\n",
       "      <td>0.0</td>\n",
       "      <td>0.0</td>\n",
       "      <td>9.0</td>\n",
       "      <td>0.0</td>\n",
       "      <td>11.0</td>\n",
       "      <td>None</td>\n",
       "      <td>NaN</td>\n",
       "      <td>NaN</td>\n",
       "      <td>None</td>\n",
       "    </tr>\n",
       "    <tr>\n",
       "      <th>1</th>\n",
       "      <td>2019-06-22</td>\n",
       "      <td>WN</td>\n",
       "      <td>WN</td>\n",
       "      <td>WN</td>\n",
       "      <td>4561</td>\n",
       "      <td>WN</td>\n",
       "      <td>N763SW</td>\n",
       "      <td>4561</td>\n",
       "      <td>14771</td>\n",
       "      <td>SFO</td>\n",
       "      <td>...</td>\n",
       "      <td>337.0</td>\n",
       "      <td>0.0</td>\n",
       "      <td>0.0</td>\n",
       "      <td>29.0</td>\n",
       "      <td>0.0</td>\n",
       "      <td>0.0</td>\n",
       "      <td>None</td>\n",
       "      <td>NaN</td>\n",
       "      <td>NaN</td>\n",
       "      <td>None</td>\n",
       "    </tr>\n",
       "    <tr>\n",
       "      <th>2</th>\n",
       "      <td>2019-06-26</td>\n",
       "      <td>F9</td>\n",
       "      <td>F9</td>\n",
       "      <td>F9</td>\n",
       "      <td>631</td>\n",
       "      <td>F9</td>\n",
       "      <td>N341FR</td>\n",
       "      <td>631</td>\n",
       "      <td>11292</td>\n",
       "      <td>DEN</td>\n",
       "      <td>...</td>\n",
       "      <td>349.0</td>\n",
       "      <td>72.0</td>\n",
       "      <td>0.0</td>\n",
       "      <td>0.0</td>\n",
       "      <td>0.0</td>\n",
       "      <td>59.0</td>\n",
       "      <td>1810.0</td>\n",
       "      <td>25.0</td>\n",
       "      <td>25.0</td>\n",
       "      <td>None</td>\n",
       "    </tr>\n",
       "    <tr>\n",
       "      <th>3</th>\n",
       "      <td>2018-08-03</td>\n",
       "      <td>G4</td>\n",
       "      <td>G4</td>\n",
       "      <td>G4</td>\n",
       "      <td>1713</td>\n",
       "      <td>G4</td>\n",
       "      <td>224NV</td>\n",
       "      <td>1713</td>\n",
       "      <td>11996</td>\n",
       "      <td>GSP</td>\n",
       "      <td>...</td>\n",
       "      <td>620.0</td>\n",
       "      <td>NaN</td>\n",
       "      <td>NaN</td>\n",
       "      <td>NaN</td>\n",
       "      <td>NaN</td>\n",
       "      <td>NaN</td>\n",
       "      <td>None</td>\n",
       "      <td>NaN</td>\n",
       "      <td>NaN</td>\n",
       "      <td>None</td>\n",
       "    </tr>\n",
       "    <tr>\n",
       "      <th>4</th>\n",
       "      <td>2019-10-30</td>\n",
       "      <td>WN</td>\n",
       "      <td>WN</td>\n",
       "      <td>WN</td>\n",
       "      <td>2315</td>\n",
       "      <td>WN</td>\n",
       "      <td>N7827A</td>\n",
       "      <td>2315</td>\n",
       "      <td>13796</td>\n",
       "      <td>OAK</td>\n",
       "      <td>...</td>\n",
       "      <td>588.0</td>\n",
       "      <td>NaN</td>\n",
       "      <td>NaN</td>\n",
       "      <td>NaN</td>\n",
       "      <td>NaN</td>\n",
       "      <td>NaN</td>\n",
       "      <td>None</td>\n",
       "      <td>NaN</td>\n",
       "      <td>NaN</td>\n",
       "      <td>None</td>\n",
       "    </tr>\n",
       "  </tbody>\n",
       "</table>\n",
       "<p>5 rows × 42 columns</p>\n",
       "</div>"
      ],
      "text/plain": [
       "      fl_date mkt_unique_carrier branded_code_share mkt_carrier  \\\n",
       "0  2019-01-10                 UA       UA_CODESHARE          UA   \n",
       "1  2019-06-22                 WN                 WN          WN   \n",
       "2  2019-06-26                 F9                 F9          F9   \n",
       "3  2018-08-03                 G4                 G4          G4   \n",
       "4  2019-10-30                 WN                 WN          WN   \n",
       "\n",
       "   mkt_carrier_fl_num op_unique_carrier tail_num  op_carrier_fl_num  \\\n",
       "0                5695                OO   N143SY               5695   \n",
       "1                4561                WN   N763SW               4561   \n",
       "2                 631                F9   N341FR                631   \n",
       "3                1713                G4    224NV               1713   \n",
       "4                2315                WN   N7827A               2315   \n",
       "\n",
       "   origin_airport_id origin  ... distance  carrier_delay weather_delay  \\\n",
       "0              14771    SFO  ...   1499.0            0.0           0.0   \n",
       "1              14771    SFO  ...    337.0            0.0           0.0   \n",
       "2              11292    DEN  ...    349.0           72.0           0.0   \n",
       "3              11996    GSP  ...    620.0            NaN           NaN   \n",
       "4              13796    OAK  ...    588.0            NaN           NaN   \n",
       "\n",
       "  nas_delay  security_delay  late_aircraft_delay  first_dep_time  \\\n",
       "0       9.0             0.0                 11.0            None   \n",
       "1      29.0             0.0                  0.0            None   \n",
       "2       0.0             0.0                 59.0          1810.0   \n",
       "3       NaN             NaN                  NaN            None   \n",
       "4       NaN             NaN                  NaN            None   \n",
       "\n",
       "   total_add_gtime  longest_add_gtime  no_name  \n",
       "0              NaN                NaN     None  \n",
       "1              NaN                NaN     None  \n",
       "2             25.0               25.0     None  \n",
       "3              NaN                NaN     None  \n",
       "4              NaN                NaN     None  \n",
       "\n",
       "[5 rows x 42 columns]"
      ]
     },
     "execution_count": 6,
     "metadata": {},
     "output_type": "execute_result"
    }
   ],
   "source": [
    "flights.head()"
   ]
  },
  {
   "cell_type": "code",
   "execution_count": 19,
   "id": "0c26ee2b-79e9-40ab-b82a-217c344f2879",
   "metadata": {},
   "outputs": [
    {
     "data": {
      "text/plain": [
       "Index(['fl_date', 'mkt_unique_carrier', 'branded_code_share', 'mkt_carrier',\n",
       "       'mkt_carrier_fl_num', 'op_unique_carrier', 'tail_num',\n",
       "       'op_carrier_fl_num', 'origin_airport_id', 'origin', 'origin_city_name',\n",
       "       'dest_airport_id', 'dest', 'dest_city_name', 'crs_dep_time', 'dep_time',\n",
       "       'dep_delay', 'taxi_out', 'wheels_off', 'wheels_on', 'taxi_in',\n",
       "       'crs_arr_time', 'arr_time', 'arr_delay', 'cancelled',\n",
       "       'cancellation_code', 'diverted', 'dup', 'crs_elapsed_time',\n",
       "       'actual_elapsed_time', 'air_time', 'flights', 'distance',\n",
       "       'carrier_delay', 'weather_delay', 'nas_delay', 'security_delay',\n",
       "       'late_aircraft_delay', 'first_dep_time', 'total_add_gtime',\n",
       "       'longest_add_gtime', 'no_name'],\n",
       "      dtype='object')"
      ]
     },
     "execution_count": 19,
     "metadata": {},
     "output_type": "execute_result"
    }
   ],
   "source": [
    "flights.columns"
   ]
  },
  {
   "cell_type": "code",
   "execution_count": 95,
   "id": "35330a40-8be4-420a-9907-c01170fa24af",
   "metadata": {},
   "outputs": [],
   "source": [
    "DelayDate = flights[[\"fl_date\",\"dep_delay\",\"dep_time\",\"taxi_out\",\"nas_delay\"]]"
   ]
  },
  {
   "cell_type": "code",
   "execution_count": 96,
   "id": "76d9a083-22cf-4141-b5f3-12e86272aa74",
   "metadata": {},
   "outputs": [
    {
     "data": {
      "text/plain": [
       "fl_date      False\n",
       "dep_delay     True\n",
       "dep_time      True\n",
       "taxi_out      True\n",
       "nas_delay     True\n",
       "dtype: bool"
      ]
     },
     "execution_count": 96,
     "metadata": {},
     "output_type": "execute_result"
    }
   ],
   "source": [
    "DelayDate.isnull().any()"
   ]
  },
  {
   "cell_type": "code",
   "execution_count": 97,
   "id": "24b05daa-6a6e-46ee-9a1d-9bc4b857ca60",
   "metadata": {},
   "outputs": [],
   "source": [
    "DelayDate = DelayDate.assign(hour = DelayDate['dep_time']//100)"
   ]
  },
  {
   "cell_type": "code",
   "execution_count": 98,
   "id": "d0c0cfc6-f86d-48f1-aa1f-f6d03434391c",
   "metadata": {},
   "outputs": [
    {
     "data": {
      "text/html": [
       "<div>\n",
       "<style scoped>\n",
       "    .dataframe tbody tr th:only-of-type {\n",
       "        vertical-align: middle;\n",
       "    }\n",
       "\n",
       "    .dataframe tbody tr th {\n",
       "        vertical-align: top;\n",
       "    }\n",
       "\n",
       "    .dataframe thead th {\n",
       "        text-align: right;\n",
       "    }\n",
       "</style>\n",
       "<table border=\"1\" class=\"dataframe\">\n",
       "  <thead>\n",
       "    <tr style=\"text-align: right;\">\n",
       "      <th></th>\n",
       "      <th>fl_date</th>\n",
       "      <th>dep_delay</th>\n",
       "      <th>dep_time</th>\n",
       "      <th>taxi_out</th>\n",
       "      <th>nas_delay</th>\n",
       "      <th>hour</th>\n",
       "    </tr>\n",
       "  </thead>\n",
       "  <tbody>\n",
       "    <tr>\n",
       "      <th>0</th>\n",
       "      <td>2019-01-10</td>\n",
       "      <td>11.0</td>\n",
       "      <td>1754.0</td>\n",
       "      <td>28.0</td>\n",
       "      <td>9.0</td>\n",
       "      <td>17.0</td>\n",
       "    </tr>\n",
       "    <tr>\n",
       "      <th>1</th>\n",
       "      <td>2019-06-22</td>\n",
       "      <td>-3.0</td>\n",
       "      <td>902.0</td>\n",
       "      <td>62.0</td>\n",
       "      <td>29.0</td>\n",
       "      <td>9.0</td>\n",
       "    </tr>\n",
       "    <tr>\n",
       "      <th>2</th>\n",
       "      <td>2019-06-26</td>\n",
       "      <td>135.0</td>\n",
       "      <td>1911.0</td>\n",
       "      <td>21.0</td>\n",
       "      <td>0.0</td>\n",
       "      <td>19.0</td>\n",
       "    </tr>\n",
       "    <tr>\n",
       "      <th>3</th>\n",
       "      <td>2018-08-03</td>\n",
       "      <td>13.0</td>\n",
       "      <td>848.0</td>\n",
       "      <td>7.0</td>\n",
       "      <td>NaN</td>\n",
       "      <td>8.0</td>\n",
       "    </tr>\n",
       "    <tr>\n",
       "      <th>4</th>\n",
       "      <td>2019-10-30</td>\n",
       "      <td>-4.0</td>\n",
       "      <td>2151.0</td>\n",
       "      <td>12.0</td>\n",
       "      <td>NaN</td>\n",
       "      <td>21.0</td>\n",
       "    </tr>\n",
       "  </tbody>\n",
       "</table>\n",
       "</div>"
      ],
      "text/plain": [
       "      fl_date  dep_delay  dep_time  taxi_out  nas_delay  hour\n",
       "0  2019-01-10       11.0    1754.0      28.0        9.0  17.0\n",
       "1  2019-06-22       -3.0     902.0      62.0       29.0   9.0\n",
       "2  2019-06-26      135.0    1911.0      21.0        0.0  19.0\n",
       "3  2018-08-03       13.0     848.0       7.0        NaN   8.0\n",
       "4  2019-10-30       -4.0    2151.0      12.0        NaN  21.0"
      ]
     },
     "execution_count": 98,
     "metadata": {},
     "output_type": "execute_result"
    }
   ],
   "source": [
    "DelayDate.head()"
   ]
  },
  {
   "cell_type": "code",
   "execution_count": 99,
   "id": "eb8ecc35-d978-4c40-a45f-3c1dd8899f1e",
   "metadata": {},
   "outputs": [],
   "source": [
    "DelayDate = DelayDate.dropna(subset=['dep_time'])\n",
    "DelayDate  = DelayDate.fillna(0)"
   ]
  },
  {
   "cell_type": "code",
   "execution_count": 106,
   "id": "4c19abc6-2cc3-4351-bca5-5ec2abeeba55",
   "metadata": {},
   "outputs": [
    {
     "data": {
      "image/png": "[encoded data removed]",
      "text/plain": [
       "<Figure size 842.4x595.44 with 1 Axes>"
      ]
     },
     "metadata": {
      "needs_background": "light"
     },
     "output_type": "display_data"
    }
   ],
   "source": [
    "from matplotlib import rcParams\n",
    "rcParams['figure.figsize'] = 11.7,8.27\n",
    "DelayHour = DelayDate.groupby(by='hour').mean().reset_index()\n",
    "sns.barplot(x=DelayHour.hour, y= DelayMonth.taxi_out, color ='blue')\n",
    "plt.show()"
   ]
  },
  {
   "cell_type": "code",
   "execution_count": 107,
   "id": "6876bd7f-cd3c-4405-b383-252aa9f620be",
   "metadata": {},
   "outputs": [
    {
     "data": {
      "image/png": "[encoded data removed]",
      "text/plain": [
       "<Figure size 842.4x595.44 with 1 Axes>"
      ]
     },
     "metadata": {
      "needs_background": "light"
     },
     "output_type": "display_data"
    }
   ],
   "source": [
    "rcParams['figure.figsize'] = 11.7,8.27\n",
    "sns.regplot(x=\"nas_delay\", y=\"taxi_out\", data=DelayDate)\n",
    "plt.show()"
   ]
  },
  {
   "cell_type": "code",
   "execution_count": 1,
   "id": "a78d208f-89b2-4219-93a3-d49ff43d283c",
   "metadata": {},
   "outputs": [],
   "source": [
    "# I don't see a correlation"
   ]
  },
  {
   "cell_type": "code",
   "execution_count": null,
   "id": "bf922d18-fd4d-4211-a65d-2f41bb75932d",
   "metadata": {},
   "outputs": [],
   "source": []
  }
 ],
 "metadata": {
  "kernelspec": {
   "display_name": "Python 3",
   "language": "python",
   "name": "python3"
  },
  "language_info": {
   "codemirror_mode": {
    "name": "ipython",
    "version": 3
   },
   "file_extension": ".py",
   "mimetype": "text/x-python",
   "name": "python",
   "nbconvert_exporter": "python",
   "pygments_lexer": "ipython3",
   "version": "3.8.8"
  }
 },
 "nbformat": 4,
 "nbformat_minor": 5
}
