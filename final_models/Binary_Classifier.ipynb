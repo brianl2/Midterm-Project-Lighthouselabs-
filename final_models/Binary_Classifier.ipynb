{
 "cells": [
  {
   "cell_type": "code",
   "execution_count": 47,
   "id": "d23359c1-61ec-4c28-8d9d-cb86a7a57a7a",
   "metadata": {},
   "outputs": [],
   "source": [
    "#Load model + modules\n",
    "import pickle\n",
    "import sys\n",
    "sys.path.append(\"..\")\n",
    "from custom_scripts import preprocessing\n",
    "from custom_scripts import preparation\n",
    "from custom_scripts import modeling\n",
    "from sklearn.preprocessing import StandardScaler\n",
    "from imblearn.under_sampling import RandomUnderSampler\n",
    "from collections import Counter\n",
    "import pandas as pd\n",
    "\n",
    "save_file = open('Binary.pickle', 'rb')\n",
    "model = pickle.load(save_file)\n",
    "save_file.close()\n"
   ]
  },
  {
   "cell_type": "code",
   "execution_count": 49,
   "id": "4e467fd9-ff92-4b9c-9fc2-0528790cf257",
   "metadata": {},
   "outputs": [],
   "source": [
    "#Function for undersampling\n",
    "def undersampling(X, y):\n",
    "    # instantiating the random undersampler\n",
    "    rus = RandomUnderSampler(random_state=42) \n",
    "    # resampling X, y\n",
    "    X_rus, y_rus = rus.fit_resample(X, y)\n",
    "    # new class distribution\n",
    "    print(Counter(y_rus))\n",
    "    return X_rus, y_rus"
   ]
  },
  {
   "cell_type": "code",
   "execution_count": 52,
   "id": "4c8a57ae-6de3-4b2c-aecd-8045e26722d2",
   "metadata": {},
   "outputs": [
    {
     "data": {
      "text/plain": [
       "(287151, 11)"
      ]
     },
     "execution_count": 52,
     "metadata": {},
     "output_type": "execute_result"
    }
   ],
   "source": [
    "### Get training data\n",
    "train_flights = preprocessing.get_train_flights()\n",
    "train_flights.shape"
   ]
  },
  {
   "cell_type": "code",
   "execution_count": 51,
   "id": "a1748313-5d58-4d7d-823c-7d6c665baf6d",
   "metadata": {},
   "outputs": [
    {
     "data": {
      "text/plain": [
       "(150623, 10)"
      ]
     },
     "execution_count": 51,
     "metadata": {},
     "output_type": "execute_result"
    }
   ],
   "source": [
    "### Get testing data\n",
    "test_flights = preprocessing.get_test_flights()\n",
    "X_test = test_flights.copy()\n",
    "### Convert to string format to make it in line with format of training data\n",
    "X_test['fl_date'] = X_test['fl_date'].astype(str)\n",
    "X_test.shape"
   ]
  },
  {
   "cell_type": "code",
   "execution_count": 53,
   "id": "8f860133-9e6b-4f00-a01d-242c06ec780d",
   "metadata": {},
   "outputs": [
    {
     "name": "stderr",
     "output_type": "stream",
     "text": [
      "C:\\Users\\brian\\lighthouse-data-notes\\Midterm-Project-Lighthouselabs\\final_models\\..\\custom_scripts\\preparation.py:168: FutureWarning: In a future version of pandas all arguments of DataFrame.drop except for the argument 'labels' will be keyword-only\n",
      "  flight_data.drop(['arrival_time','departure_time'],1,inplace=True)\n",
      "C:\\Users\\brian\\lighthouse-data-notes\\Midterm-Project-Lighthouselabs\\final_models\\..\\custom_scripts\\preparation.py:185: FutureWarning: In a future version of pandas all arguments of DataFrame.drop except for the argument 'labels' will be keyword-only\n",
      "  weather_table.drop('AirportCode', 1, inplace= True)\n"
     ]
    },
    {
     "name": "stdout",
     "output_type": "stream",
     "text": [
      "training data: (287151, 47)\n",
      "testing data: (150623, 46)\n"
     ]
    }
   ],
   "source": [
    "### Build features\n",
    "train_flights = preparation.build_all_features(train_flights)\n",
    "X_test = preparation.build_all_features(X_test)\n",
    "print(f'training data: {train_flights.shape}')\n",
    "print(f'testing data: {X_test.shape}')"
   ]
  },
  {
   "cell_type": "code",
   "execution_count": 54,
   "id": "020fb6dc-5e5a-4d82-b99a-bd2c1b9c27cd",
   "metadata": {},
   "outputs": [],
   "source": [
    "# Creating two classes, 0 for on time (or early) within 15 minutes, and 1 for late past 15 minutes.\n",
    "train_flights.loc[train_flights['arr_delay'] <= 15, 'arr_delay'] = 0\n",
    "train_flights.loc[train_flights['arr_delay'] > 15, 'arr_delay'] = 1"
   ]
  },
  {
   "cell_type": "code",
   "execution_count": 55,
   "id": "74fcf719-34dd-4ded-aed4-709e895aba7e",
   "metadata": {},
   "outputs": [
    {
     "name": "stderr",
     "output_type": "stream",
     "text": [
      "C:\\Users\\brian\\AppData\\Local\\Temp/ipykernel_3656/4204894045.py:3: FutureWarning: In a future version of pandas all arguments of DataFrame.drop except for the argument 'labels' will be keyword-only\n",
      "  X = X2.drop(['arr_delay','crs_dep_time','crs_arr_time'],1)\n"
     ]
    }
   ],
   "source": [
    "# Split the Data for validation set and to scale data.\n",
    "X2 = train_flights.select_dtypes(exclude=['object'])\n",
    "X = X2.drop(['arr_delay','crs_dep_time','crs_arr_time'],1)\n",
    "y = train_flights['arr_delay']\n",
    "X_train, X_val, y_train, y_val = preparation.get_train_test_split(X, y)"
   ]
  },
  {
   "cell_type": "code",
   "execution_count": 56,
   "id": "2ac6f4e2-d90b-4ec0-b4be-8ecaf31d149f",
   "metadata": {},
   "outputs": [
    {
     "name": "stderr",
     "output_type": "stream",
     "text": [
      "C:\\Users\\brian\\lighthouse-data-notes\\Midterm-Project-Lighthouselabs\\final_models\\..\\custom_scripts\\preparation.py:89: FutureWarning: In a future version of pandas all arguments of concat except for the argument 'objs' will be keyword-only\n",
      "  prepared_data_arr.append(pd.concat(segments,1))\n",
      "C:\\Users\\brian\\lighthouse-data-notes\\Midterm-Project-Lighthouselabs\\final_models\\..\\custom_scripts\\preparation.py:89: FutureWarning: In a future version of pandas all arguments of concat except for the argument 'objs' will be keyword-only\n",
      "  prepared_data_arr.append(pd.concat(segments,1))\n"
     ]
    },
    {
     "name": "stdout",
     "output_type": "stream",
     "text": [
      "(201005, 42)\n",
      "(86146, 42)\n"
     ]
    },
    {
     "name": "stderr",
     "output_type": "stream",
     "text": [
      "C:\\Users\\brian\\lighthouse-data-notes\\Midterm-Project-Lighthouselabs\\final_models\\..\\custom_scripts\\preparation.py:89: FutureWarning: In a future version of pandas all arguments of concat except for the argument 'objs' will be keyword-only\n",
      "  prepared_data_arr.append(pd.concat(segments,1))\n"
     ]
    },
    {
     "data": {
      "text/html": [
       "<div>\n",
       "<style scoped>\n",
       "    .dataframe tbody tr th:only-of-type {\n",
       "        vertical-align: middle;\n",
       "    }\n",
       "\n",
       "    .dataframe tbody tr th {\n",
       "        vertical-align: top;\n",
       "    }\n",
       "\n",
       "    .dataframe thead th {\n",
       "        text-align: right;\n",
       "    }\n",
       "</style>\n",
       "<table border=\"1\" class=\"dataframe\">\n",
       "  <thead>\n",
       "    <tr style=\"text-align: right;\">\n",
       "      <th></th>\n",
       "      <th>arr_time_sin</th>\n",
       "      <th>arr_time_cos</th>\n",
       "      <th>dep_time_sin</th>\n",
       "      <th>dep_time_cos</th>\n",
       "      <th>fl_num_avg_arr_delay</th>\n",
       "      <th>fl_num_avg_dep_delay</th>\n",
       "      <th>fl_num_avg_late_aircraft_delay</th>\n",
       "      <th>fl_num_avg_taxi_out</th>\n",
       "      <th>tail_num_avg_arr_delay</th>\n",
       "      <th>tail_num_avg_dep_delay</th>\n",
       "      <th>...</th>\n",
       "      <th>dest_rain</th>\n",
       "      <th>dest_snow</th>\n",
       "      <th>dest_storm</th>\n",
       "      <th>day_of_week_0</th>\n",
       "      <th>day_of_week_1</th>\n",
       "      <th>day_of_week_2</th>\n",
       "      <th>day_of_week_3</th>\n",
       "      <th>day_of_week_4</th>\n",
       "      <th>day_of_week_5</th>\n",
       "      <th>day_of_week_6</th>\n",
       "    </tr>\n",
       "  </thead>\n",
       "  <tbody>\n",
       "    <tr>\n",
       "      <th>168275</th>\n",
       "      <td>-0.261103</td>\n",
       "      <td>-0.965311</td>\n",
       "      <td>0.089391</td>\n",
       "      <td>-0.995997</td>\n",
       "      <td>0.390643</td>\n",
       "      <td>-0.491667</td>\n",
       "      <td>0.032987</td>\n",
       "      <td>1.376622</td>\n",
       "      <td>-0.033406</td>\n",
       "      <td>-0.720895</td>\n",
       "      <td>...</td>\n",
       "      <td>-0.689118</td>\n",
       "      <td>-0.278881</td>\n",
       "      <td>-0.079582</td>\n",
       "      <td>0</td>\n",
       "      <td>1</td>\n",
       "      <td>0</td>\n",
       "      <td>0</td>\n",
       "      <td>0</td>\n",
       "      <td>0</td>\n",
       "      <td>0</td>\n",
       "    </tr>\n",
       "  </tbody>\n",
       "</table>\n",
       "<p>1 rows × 42 columns</p>\n",
       "</div>"
      ],
      "text/plain": [
       "        arr_time_sin  arr_time_cos  dep_time_sin  dep_time_cos  \\\n",
       "168275     -0.261103     -0.965311      0.089391     -0.995997   \n",
       "\n",
       "        fl_num_avg_arr_delay  fl_num_avg_dep_delay  \\\n",
       "168275              0.390643             -0.491667   \n",
       "\n",
       "        fl_num_avg_late_aircraft_delay  fl_num_avg_taxi_out  \\\n",
       "168275                        0.032987             1.376622   \n",
       "\n",
       "        tail_num_avg_arr_delay  tail_num_avg_dep_delay  ...  dest_rain  \\\n",
       "168275               -0.033406               -0.720895  ...  -0.689118   \n",
       "\n",
       "        dest_snow  dest_storm  day_of_week_0  day_of_week_1  day_of_week_2  \\\n",
       "168275  -0.278881   -0.079582              0              1              0   \n",
       "\n",
       "        day_of_week_3  day_of_week_4  day_of_week_5  day_of_week_6  \n",
       "168275              0              0              0              0  \n",
       "\n",
       "[1 rows x 42 columns]"
      ]
     },
     "execution_count": 56,
     "metadata": {},
     "output_type": "execute_result"
    }
   ],
   "source": [
    "#Scale the test data\n",
    "X_train, X_val, X_test = preparation.standardize_data(data_arr=[X_train, X_val, X_test],scaler=StandardScaler())\n",
    "print(X_train.shape)\n",
    "print(X_val.shape)\n",
    "X_train.head(1)"
   ]
  },
  {
   "cell_type": "code",
   "execution_count": 57,
   "id": "83b6600b-3370-44a4-8bb8-12debea5e6df",
   "metadata": {},
   "outputs": [
    {
     "name": "stdout",
     "output_type": "stream",
     "text": [
      "Counter({0.0: 35258, 1.0: 35258})\n"
     ]
    }
   ],
   "source": [
    "X_train, y_train = undersampling(X_train, y_train)"
   ]
  },
  {
   "cell_type": "code",
   "execution_count": 58,
   "id": "407c9de3-2bb0-4e9d-8038-cfc6d7512ed7",
   "metadata": {},
   "outputs": [
    {
     "name": "stdout",
     "output_type": "stream",
     "text": [
      "{'f1_score': 0.4150496827242864, 'recall_score': 0.6668196420376319, 'precision_score': 0.3012915457076841, 'accuracy_score': 0.6672045132681726}\n"
     ]
    },
    {
     "data": {
      "text/plain": [
       "RandomForestClassifier(max_depth=70, min_samples_leaf=4, min_samples_split=4,\n",
       "                       n_estimators=280, random_state=0)"
      ]
     },
     "execution_count": 58,
     "metadata": {},
     "output_type": "execute_result"
    },
    {
     "data": {
      "image/png": "[encoded data removed]",
      "text/plain": [
       "<Figure size 432x288 with 2 Axes>"
      ]
     },
     "metadata": {
      "needs_background": "light"
     },
     "output_type": "display_data"
    }
   ],
   "source": [
    "from sklearn.ensemble import RandomForestClassifier #Pickle27 modified\n",
    "model = RandomForestClassifier(n_estimators = 280, max_depth=70, max_features = 'auto', min_samples_leaf= 4, min_samples_split = 4, random_state=0)\n",
    "notes = \"NO, RFC after gridsearch, n_estimators = 280, max_depth=70, max_features = 'auto', min_samples_leaf= 4, min_samples_split = 4, stand, dsamp\"\n",
    "modeling.run_test(X_train,X_val,y_train,y_val, model, notes)"
   ]
  },
  {
   "cell_type": "code",
   "execution_count": 59,
   "id": "0a97771f-da41-4453-b465-092957783502",
   "metadata": {},
   "outputs": [],
   "source": [
    "predictions = model.predict(X_test)\n",
    "\n",
    "test_flights['arr_delay'] = predictions\n",
    "test_flights.to_csv('../final_binary_predictions.csv')"
   ]
  },
  {
   "cell_type": "code",
   "execution_count": 60,
   "id": "2750e8dd-b32e-4d0d-a6f7-884dfacd07ae",
   "metadata": {},
   "outputs": [],
   "source": [
    "#Save as pickle\n",
    "save_file = open('Binary.pickle', 'wb')\n",
    "pickle.dump(model,save_file)"
   ]
  }
 ],
 "metadata": {
  "kernelspec": {
   "display_name": "bootcamp_as1",
   "language": "python",
   "name": "bootcamp_as1"
  },
  "language_info": {
   "codemirror_mode": {
    "name": "ipython",
    "version": 3
   },
   "file_extension": ".py",
   "mimetype": "text/x-python",
   "name": "python",
   "nbconvert_exporter": "python",
   "pygments_lexer": "ipython3",
   "version": "3.9.7"
  }
 },
 "nbformat": 4,
 "nbformat_minor": 5
}
