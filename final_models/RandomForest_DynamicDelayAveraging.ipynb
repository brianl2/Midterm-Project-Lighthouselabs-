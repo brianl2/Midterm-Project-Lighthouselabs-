{
 "cells": [
  {
   "cell_type": "code",
   "execution_count": 6,
   "metadata": {},
   "outputs": [],
   "source": [
    "import pandas as pd\n",
    "import numpy as np\n",
    "import seaborn as sns\n",
    "import matplotlib.pyplot as plt\n",
    "from scipy import stats\n"
   ]
  },
  {
   "cell_type": "markdown",
   "metadata": {},
   "source": [
    "## Quering the database"
   ]
  },
  {
   "cell_type": "code",
   "execution_count": 7,
   "metadata": {},
   "outputs": [
    {
     "data": {
      "text/html": [
       "<div>\n",
       "<style scoped>\n",
       "    .dataframe tbody tr th:only-of-type {\n",
       "        vertical-align: middle;\n",
       "    }\n",
       "\n",
       "    .dataframe tbody tr th {\n",
       "        vertical-align: top;\n",
       "    }\n",
       "\n",
       "    .dataframe thead th {\n",
       "        text-align: right;\n",
       "    }\n",
       "</style>\n",
       "<table border=\"1\" class=\"dataframe\">\n",
       "  <thead>\n",
       "    <tr style=\"text-align: right;\">\n",
       "      <th></th>\n",
       "      <th>fl_date</th>\n",
       "      <th>mkt_unique_carrier</th>\n",
       "      <th>branded_code_share</th>\n",
       "      <th>mkt_carrier</th>\n",
       "      <th>mkt_carrier_fl_num</th>\n",
       "      <th>op_unique_carrier</th>\n",
       "      <th>tail_num</th>\n",
       "      <th>op_carrier_fl_num</th>\n",
       "      <th>origin_airport_id</th>\n",
       "      <th>origin</th>\n",
       "      <th>...</th>\n",
       "      <th>distance</th>\n",
       "      <th>carrier_delay</th>\n",
       "      <th>weather_delay</th>\n",
       "      <th>nas_delay</th>\n",
       "      <th>security_delay</th>\n",
       "      <th>late_aircraft_delay</th>\n",
       "      <th>first_dep_time</th>\n",
       "      <th>total_add_gtime</th>\n",
       "      <th>longest_add_gtime</th>\n",
       "      <th>no_name</th>\n",
       "    </tr>\n",
       "  </thead>\n",
       "  <tbody>\n",
       "    <tr>\n",
       "      <th>0</th>\n",
       "      <td>2019-01-06</td>\n",
       "      <td>UA</td>\n",
       "      <td>UA_CODESHARE</td>\n",
       "      <td>UA</td>\n",
       "      <td>3613</td>\n",
       "      <td>YX</td>\n",
       "      <td>N732YX</td>\n",
       "      <td>3613</td>\n",
       "      <td>13930</td>\n",
       "      <td>ORD</td>\n",
       "      <td>...</td>\n",
       "      <td>296.0</td>\n",
       "      <td>NaN</td>\n",
       "      <td>NaN</td>\n",
       "      <td>NaN</td>\n",
       "      <td>NaN</td>\n",
       "      <td>NaN</td>\n",
       "      <td>None</td>\n",
       "      <td>NaN</td>\n",
       "      <td>NaN</td>\n",
       "      <td>None</td>\n",
       "    </tr>\n",
       "    <tr>\n",
       "      <th>1</th>\n",
       "      <td>2019-01-06</td>\n",
       "      <td>UA</td>\n",
       "      <td>UA_CODESHARE</td>\n",
       "      <td>UA</td>\n",
       "      <td>3614</td>\n",
       "      <td>YX</td>\n",
       "      <td>N722YX</td>\n",
       "      <td>3614</td>\n",
       "      <td>13930</td>\n",
       "      <td>ORD</td>\n",
       "      <td>...</td>\n",
       "      <td>334.0</td>\n",
       "      <td>NaN</td>\n",
       "      <td>NaN</td>\n",
       "      <td>NaN</td>\n",
       "      <td>NaN</td>\n",
       "      <td>NaN</td>\n",
       "      <td>None</td>\n",
       "      <td>NaN</td>\n",
       "      <td>NaN</td>\n",
       "      <td>None</td>\n",
       "    </tr>\n",
       "    <tr>\n",
       "      <th>2</th>\n",
       "      <td>2019-01-06</td>\n",
       "      <td>UA</td>\n",
       "      <td>UA_CODESHARE</td>\n",
       "      <td>UA</td>\n",
       "      <td>3615</td>\n",
       "      <td>YX</td>\n",
       "      <td>N724YX</td>\n",
       "      <td>3615</td>\n",
       "      <td>11292</td>\n",
       "      <td>DEN</td>\n",
       "      <td>...</td>\n",
       "      <td>872.0</td>\n",
       "      <td>23.0</td>\n",
       "      <td>0.0</td>\n",
       "      <td>0.0</td>\n",
       "      <td>0.0</td>\n",
       "      <td>68.0</td>\n",
       "      <td>None</td>\n",
       "      <td>NaN</td>\n",
       "      <td>NaN</td>\n",
       "      <td>None</td>\n",
       "    </tr>\n",
       "    <tr>\n",
       "      <th>3</th>\n",
       "      <td>2019-01-06</td>\n",
       "      <td>UA</td>\n",
       "      <td>UA_CODESHARE</td>\n",
       "      <td>UA</td>\n",
       "      <td>3617</td>\n",
       "      <td>YX</td>\n",
       "      <td>N635RW</td>\n",
       "      <td>3617</td>\n",
       "      <td>11066</td>\n",
       "      <td>CMH</td>\n",
       "      <td>...</td>\n",
       "      <td>296.0</td>\n",
       "      <td>NaN</td>\n",
       "      <td>NaN</td>\n",
       "      <td>NaN</td>\n",
       "      <td>NaN</td>\n",
       "      <td>NaN</td>\n",
       "      <td>None</td>\n",
       "      <td>NaN</td>\n",
       "      <td>NaN</td>\n",
       "      <td>None</td>\n",
       "    </tr>\n",
       "    <tr>\n",
       "      <th>4</th>\n",
       "      <td>2019-01-06</td>\n",
       "      <td>UA</td>\n",
       "      <td>UA_CODESHARE</td>\n",
       "      <td>UA</td>\n",
       "      <td>3618</td>\n",
       "      <td>YX</td>\n",
       "      <td>N859RW</td>\n",
       "      <td>3618</td>\n",
       "      <td>13244</td>\n",
       "      <td>MEM</td>\n",
       "      <td>...</td>\n",
       "      <td>468.0</td>\n",
       "      <td>NaN</td>\n",
       "      <td>NaN</td>\n",
       "      <td>NaN</td>\n",
       "      <td>NaN</td>\n",
       "      <td>NaN</td>\n",
       "      <td>None</td>\n",
       "      <td>NaN</td>\n",
       "      <td>NaN</td>\n",
       "      <td>None</td>\n",
       "    </tr>\n",
       "  </tbody>\n",
       "</table>\n",
       "<p>5 rows × 42 columns</p>\n",
       "</div>"
      ],
      "text/plain": [
       "      fl_date mkt_unique_carrier branded_code_share mkt_carrier  \\\n",
       "0  2019-01-06                 UA       UA_CODESHARE          UA   \n",
       "1  2019-01-06                 UA       UA_CODESHARE          UA   \n",
       "2  2019-01-06                 UA       UA_CODESHARE          UA   \n",
       "3  2019-01-06                 UA       UA_CODESHARE          UA   \n",
       "4  2019-01-06                 UA       UA_CODESHARE          UA   \n",
       "\n",
       "   mkt_carrier_fl_num op_unique_carrier tail_num  op_carrier_fl_num  \\\n",
       "0                3613                YX   N732YX               3613   \n",
       "1                3614                YX   N722YX               3614   \n",
       "2                3615                YX   N724YX               3615   \n",
       "3                3617                YX   N635RW               3617   \n",
       "4                3618                YX   N859RW               3618   \n",
       "\n",
       "   origin_airport_id origin  ... distance  carrier_delay weather_delay  \\\n",
       "0              13930    ORD  ...    296.0            NaN           NaN   \n",
       "1              13930    ORD  ...    334.0            NaN           NaN   \n",
       "2              11292    DEN  ...    872.0           23.0           0.0   \n",
       "3              11066    CMH  ...    296.0            NaN           NaN   \n",
       "4              13244    MEM  ...    468.0            NaN           NaN   \n",
       "\n",
       "  nas_delay  security_delay  late_aircraft_delay  first_dep_time  \\\n",
       "0       NaN             NaN                  NaN            None   \n",
       "1       NaN             NaN                  NaN            None   \n",
       "2       0.0             0.0                 68.0            None   \n",
       "3       NaN             NaN                  NaN            None   \n",
       "4       NaN             NaN                  NaN            None   \n",
       "\n",
       "   total_add_gtime  longest_add_gtime  no_name  \n",
       "0              NaN                NaN     None  \n",
       "1              NaN                NaN     None  \n",
       "2              NaN                NaN     None  \n",
       "3              NaN                NaN     None  \n",
       "4              NaN                NaN     None  \n",
       "\n",
       "[5 rows x 42 columns]"
      ]
     },
     "execution_count": 7,
     "metadata": {},
     "output_type": "execute_result"
    }
   ],
   "source": [
    "import sys\n",
    "sys.path.append(\"..\")  # <-  This should point to the root directory of the project relative to this file\n",
    "\n",
    "from custom_scripts import database\n",
    "from custom_scripts import preprocessing\n",
    "\n",
    "flights_query =  f\"\"\"\n",
    "                SELECT * FROM flights WHERE fl_date BETWEEN '2018-12-25' AND '2019-01-07';\n",
    "                \"\"\"\n",
    "\n",
    "flights_last_2week = database.query(flights_query)\n",
    "\n",
    "flights_query =  f\"\"\"\n",
    "                SELECT * FROM flights WHERE fl_date BETWEEN '2019-01-01' AND '2019-01-07';\n",
    "                \"\"\"\n",
    "\n",
    "flights_last_week = database.query(flights_query)\n",
    "flights_last_week.head()"
   ]
  },
  {
   "cell_type": "code",
   "execution_count": 8,
   "metadata": {},
   "outputs": [
    {
     "data": {
      "text/plain": [
       "Index(['fl_date', 'mkt_unique_carrier', 'branded_code_share', 'mkt_carrier',\n",
       "       'mkt_carrier_fl_num', 'op_unique_carrier', 'tail_num',\n",
       "       'op_carrier_fl_num', 'origin_airport_id', 'origin', 'origin_city_name',\n",
       "       'dest_airport_id', 'dest', 'dest_city_name', 'crs_dep_time', 'dep_time',\n",
       "       'dep_delay', 'taxi_out', 'wheels_off', 'wheels_on', 'taxi_in',\n",
       "       'crs_arr_time', 'arr_time', 'arr_delay', 'cancelled',\n",
       "       'cancellation_code', 'diverted', 'dup', 'crs_elapsed_time',\n",
       "       'actual_elapsed_time', 'air_time', 'flights', 'distance',\n",
       "       'carrier_delay', 'weather_delay', 'nas_delay', 'security_delay',\n",
       "       'late_aircraft_delay', 'first_dep_time', 'total_add_gtime',\n",
       "       'longest_add_gtime', 'no_name'],\n",
       "      dtype='object')"
      ]
     },
     "execution_count": 8,
     "metadata": {},
     "output_type": "execute_result"
    }
   ],
   "source": [
    "flights_last_week.columns"
   ]
  },
  {
   "cell_type": "markdown",
   "metadata": {},
   "source": [
    "## Forming the training data set: flights and weather"
   ]
  },
  {
   "cell_type": "code",
   "execution_count": 9,
   "metadata": {},
   "outputs": [
    {
     "name": "stdout",
     "output_type": "stream",
     "text": [
      "(146485, 5)\n"
     ]
    },
    {
     "data": {
      "text/html": [
       "<div>\n",
       "<style scoped>\n",
       "    .dataframe tbody tr th:only-of-type {\n",
       "        vertical-align: middle;\n",
       "    }\n",
       "\n",
       "    .dataframe tbody tr th {\n",
       "        vertical-align: top;\n",
       "    }\n",
       "\n",
       "    .dataframe thead th {\n",
       "        text-align: right;\n",
       "    }\n",
       "</style>\n",
       "<table border=\"1\" class=\"dataframe\">\n",
       "  <thead>\n",
       "    <tr style=\"text-align: right;\">\n",
       "      <th></th>\n",
       "      <th>fl_date</th>\n",
       "      <th>tail_num</th>\n",
       "      <th>origin</th>\n",
       "      <th>dest</th>\n",
       "      <th>arr_delay</th>\n",
       "    </tr>\n",
       "  </thead>\n",
       "  <tbody>\n",
       "    <tr>\n",
       "      <th>0</th>\n",
       "      <td>2019-01-06</td>\n",
       "      <td>N732YX</td>\n",
       "      <td>ORD</td>\n",
       "      <td>CMH</td>\n",
       "      <td>-22.0</td>\n",
       "    </tr>\n",
       "    <tr>\n",
       "      <th>1</th>\n",
       "      <td>2019-01-06</td>\n",
       "      <td>N722YX</td>\n",
       "      <td>ORD</td>\n",
       "      <td>MSP</td>\n",
       "      <td>-9.0</td>\n",
       "    </tr>\n",
       "    <tr>\n",
       "      <th>2</th>\n",
       "      <td>2019-01-06</td>\n",
       "      <td>N724YX</td>\n",
       "      <td>DEN</td>\n",
       "      <td>MEM</td>\n",
       "      <td>91.0</td>\n",
       "    </tr>\n",
       "    <tr>\n",
       "      <th>3</th>\n",
       "      <td>2019-01-06</td>\n",
       "      <td>N635RW</td>\n",
       "      <td>CMH</td>\n",
       "      <td>ORD</td>\n",
       "      <td>-20.0</td>\n",
       "    </tr>\n",
       "    <tr>\n",
       "      <th>4</th>\n",
       "      <td>2019-01-06</td>\n",
       "      <td>N859RW</td>\n",
       "      <td>MEM</td>\n",
       "      <td>IAH</td>\n",
       "      <td>-22.0</td>\n",
       "    </tr>\n",
       "  </tbody>\n",
       "</table>\n",
       "</div>"
      ],
      "text/plain": [
       "      fl_date tail_num origin dest  arr_delay\n",
       "0  2019-01-06   N732YX    ORD  CMH      -22.0\n",
       "1  2019-01-06   N722YX    ORD  MSP       -9.0\n",
       "2  2019-01-06   N724YX    DEN  MEM       91.0\n",
       "3  2019-01-06   N635RW    CMH  ORD      -20.0\n",
       "4  2019-01-06   N859RW    MEM  IAH      -22.0"
      ]
     },
     "execution_count": 9,
     "metadata": {},
     "output_type": "execute_result"
    }
   ],
   "source": [
    "train_flights = flights_last_week[['fl_date','tail_num','origin','dest','arr_delay']]\n",
    "print(train_flights.shape)\n",
    "train_flights.head(5)"
   ]
  },
  {
   "cell_type": "code",
   "execution_count": 10,
   "metadata": {},
   "outputs": [
    {
     "data": {
      "text/plain": [
       "Index(['fl_date', 'tail_num', 'origin', 'dest', 'arr_delay'], dtype='object')"
      ]
     },
     "execution_count": 10,
     "metadata": {},
     "output_type": "execute_result"
    }
   ],
   "source": [
    "train_flights.columns\n"
   ]
  },
  {
   "cell_type": "code",
   "execution_count": null,
   "metadata": {},
   "outputs": [],
   "source": []
  },
  {
   "cell_type": "code",
   "execution_count": 11,
   "metadata": {},
   "outputs": [],
   "source": [
    "train_weather = pd.read_csv('airports_weather.csv') "
   ]
  },
  {
   "cell_type": "code",
   "execution_count": 12,
   "metadata": {},
   "outputs": [
    {
     "data": {
      "text/html": [
       "<div>\n",
       "<style scoped>\n",
       "    .dataframe tbody tr th:only-of-type {\n",
       "        vertical-align: middle;\n",
       "    }\n",
       "\n",
       "    .dataframe tbody tr th {\n",
       "        vertical-align: top;\n",
       "    }\n",
       "\n",
       "    .dataframe thead th {\n",
       "        text-align: right;\n",
       "    }\n",
       "</style>\n",
       "<table border=\"1\" class=\"dataframe\">\n",
       "  <thead>\n",
       "    <tr style=\"text-align: right;\">\n",
       "      <th></th>\n",
       "      <th>fl_date</th>\n",
       "      <th>origin</th>\n",
       "      <th>dest</th>\n",
       "      <th>origin_rain</th>\n",
       "      <th>dest_rain</th>\n",
       "      <th>origin_fog</th>\n",
       "      <th>dest_fog</th>\n",
       "      <th>origin_cold</th>\n",
       "      <th>dest_cold</th>\n",
       "      <th>origin_storm</th>\n",
       "      <th>dest_storm</th>\n",
       "      <th>origin_precipitation</th>\n",
       "      <th>dest_precipitation</th>\n",
       "      <th>origin_snow</th>\n",
       "      <th>dest_snow</th>\n",
       "      <th>origin_hail</th>\n",
       "      <th>dest_hail</th>\n",
       "    </tr>\n",
       "  </thead>\n",
       "  <tbody>\n",
       "    <tr>\n",
       "      <th>0</th>\n",
       "      <td>2019-01-04</td>\n",
       "      <td>SJC</td>\n",
       "      <td>AUS</td>\n",
       "      <td>0.0</td>\n",
       "      <td>0.0</td>\n",
       "      <td>0.0</td>\n",
       "      <td>0.0</td>\n",
       "      <td>0.0</td>\n",
       "      <td>0.0</td>\n",
       "      <td>0.0</td>\n",
       "      <td>0.0</td>\n",
       "      <td>0.0</td>\n",
       "      <td>0.0</td>\n",
       "      <td>0.0</td>\n",
       "      <td>0.0</td>\n",
       "      <td>0.0</td>\n",
       "      <td>0.0</td>\n",
       "    </tr>\n",
       "  </tbody>\n",
       "</table>\n",
       "</div>"
      ],
      "text/plain": [
       "      fl_date origin dest  origin_rain  dest_rain  origin_fog  dest_fog  \\\n",
       "0  2019-01-04    SJC  AUS          0.0        0.0         0.0       0.0   \n",
       "\n",
       "   origin_cold  dest_cold  origin_storm  dest_storm  origin_precipitation  \\\n",
       "0          0.0        0.0           0.0         0.0                   0.0   \n",
       "\n",
       "   dest_precipitation  origin_snow  dest_snow  origin_hail  dest_hail  \n",
       "0                 0.0          0.0        0.0          0.0        0.0  "
      ]
     },
     "execution_count": 12,
     "metadata": {},
     "output_type": "execute_result"
    }
   ],
   "source": [
    "train_weather.head(1)"
   ]
  },
  {
   "cell_type": "code",
   "execution_count": 13,
   "metadata": {},
   "outputs": [
    {
     "data": {
      "text/plain": [
       "Index(['fl_date', 'origin', 'dest', 'origin_rain', 'dest_rain', 'origin_fog',\n",
       "       'dest_fog', 'origin_cold', 'dest_cold', 'origin_storm', 'dest_storm',\n",
       "       'origin_precipitation', 'dest_precipitation', 'origin_snow',\n",
       "       'dest_snow', 'origin_hail', 'dest_hail'],\n",
       "      dtype='object')"
      ]
     },
     "execution_count": 13,
     "metadata": {},
     "output_type": "execute_result"
    }
   ],
   "source": [
    "train_weather.columns"
   ]
  },
  {
   "cell_type": "code",
   "execution_count": 14,
   "metadata": {},
   "outputs": [
    {
     "data": {
      "text/plain": [
       "(141023, 17)"
      ]
     },
     "execution_count": 14,
     "metadata": {},
     "output_type": "execute_result"
    }
   ],
   "source": [
    "train_weather.shape"
   ]
  },
  {
   "cell_type": "code",
   "execution_count": null,
   "metadata": {},
   "outputs": [],
   "source": []
  },
  {
   "cell_type": "markdown",
   "metadata": {},
   "source": [
    "## Sampling from the data sets"
   ]
  },
  {
   "cell_type": "code",
   "execution_count": 46,
   "metadata": {},
   "outputs": [
    {
     "data": {
      "text/html": [
       "<div>\n",
       "<style scoped>\n",
       "    .dataframe tbody tr th:only-of-type {\n",
       "        vertical-align: middle;\n",
       "    }\n",
       "\n",
       "    .dataframe tbody tr th {\n",
       "        vertical-align: top;\n",
       "    }\n",
       "\n",
       "    .dataframe thead th {\n",
       "        text-align: right;\n",
       "    }\n",
       "</style>\n",
       "<table border=\"1\" class=\"dataframe\">\n",
       "  <thead>\n",
       "    <tr style=\"text-align: right;\">\n",
       "      <th></th>\n",
       "      <th>fl_date</th>\n",
       "      <th>tail_num</th>\n",
       "      <th>origin</th>\n",
       "      <th>dest</th>\n",
       "      <th>arr_delay</th>\n",
       "      <th>origin_rain</th>\n",
       "      <th>dest_rain</th>\n",
       "      <th>origin_fog</th>\n",
       "      <th>dest_fog</th>\n",
       "      <th>origin_cold</th>\n",
       "      <th>dest_cold</th>\n",
       "      <th>origin_storm</th>\n",
       "      <th>dest_storm</th>\n",
       "      <th>origin_precipitation</th>\n",
       "      <th>dest_precipitation</th>\n",
       "      <th>origin_snow</th>\n",
       "      <th>dest_snow</th>\n",
       "      <th>origin_hail</th>\n",
       "      <th>dest_hail</th>\n",
       "    </tr>\n",
       "  </thead>\n",
       "  <tbody>\n",
       "    <tr>\n",
       "      <th>0</th>\n",
       "      <td>2019-01-02</td>\n",
       "      <td>N741UW</td>\n",
       "      <td>FLL</td>\n",
       "      <td>PHL</td>\n",
       "      <td>13.0</td>\n",
       "      <td>0.0</td>\n",
       "      <td>0.0</td>\n",
       "      <td>0.0</td>\n",
       "      <td>0.0</td>\n",
       "      <td>0.0</td>\n",
       "      <td>0.0</td>\n",
       "      <td>0.0</td>\n",
       "      <td>0.0</td>\n",
       "      <td>0.0</td>\n",
       "      <td>0.0</td>\n",
       "      <td>0.0</td>\n",
       "      <td>0.0</td>\n",
       "      <td>0.0</td>\n",
       "      <td>0.0</td>\n",
       "    </tr>\n",
       "    <tr>\n",
       "      <th>1</th>\n",
       "      <td>2019-01-02</td>\n",
       "      <td>N741UW</td>\n",
       "      <td>FLL</td>\n",
       "      <td>PHL</td>\n",
       "      <td>13.0</td>\n",
       "      <td>0.0</td>\n",
       "      <td>0.0</td>\n",
       "      <td>0.0</td>\n",
       "      <td>0.0</td>\n",
       "      <td>0.0</td>\n",
       "      <td>0.0</td>\n",
       "      <td>0.0</td>\n",
       "      <td>0.0</td>\n",
       "      <td>0.0</td>\n",
       "      <td>0.0</td>\n",
       "      <td>0.0</td>\n",
       "      <td>0.0</td>\n",
       "      <td>0.0</td>\n",
       "      <td>0.0</td>\n",
       "    </tr>\n",
       "    <tr>\n",
       "      <th>2</th>\n",
       "      <td>2019-01-03</td>\n",
       "      <td>N8775A</td>\n",
       "      <td>DTW</td>\n",
       "      <td>ELM</td>\n",
       "      <td>-16.0</td>\n",
       "      <td>0.0</td>\n",
       "      <td>2.0</td>\n",
       "      <td>0.0</td>\n",
       "      <td>0.0</td>\n",
       "      <td>0.0</td>\n",
       "      <td>0.0</td>\n",
       "      <td>0.0</td>\n",
       "      <td>0.0</td>\n",
       "      <td>0.0</td>\n",
       "      <td>0.0</td>\n",
       "      <td>2.0</td>\n",
       "      <td>2.0</td>\n",
       "      <td>0.0</td>\n",
       "      <td>0.0</td>\n",
       "    </tr>\n",
       "    <tr>\n",
       "      <th>3</th>\n",
       "      <td>2019-01-06</td>\n",
       "      <td>N561UW</td>\n",
       "      <td>ORD</td>\n",
       "      <td>CLT</td>\n",
       "      <td>-26.0</td>\n",
       "      <td>0.0</td>\n",
       "      <td>0.0</td>\n",
       "      <td>0.0</td>\n",
       "      <td>0.0</td>\n",
       "      <td>0.0</td>\n",
       "      <td>0.0</td>\n",
       "      <td>0.0</td>\n",
       "      <td>0.0</td>\n",
       "      <td>0.0</td>\n",
       "      <td>0.0</td>\n",
       "      <td>0.0</td>\n",
       "      <td>0.0</td>\n",
       "      <td>0.0</td>\n",
       "      <td>0.0</td>\n",
       "    </tr>\n",
       "    <tr>\n",
       "      <th>4</th>\n",
       "      <td>2019-01-06</td>\n",
       "      <td>N561UW</td>\n",
       "      <td>ORD</td>\n",
       "      <td>CLT</td>\n",
       "      <td>-26.0</td>\n",
       "      <td>0.0</td>\n",
       "      <td>0.0</td>\n",
       "      <td>0.0</td>\n",
       "      <td>0.0</td>\n",
       "      <td>0.0</td>\n",
       "      <td>0.0</td>\n",
       "      <td>0.0</td>\n",
       "      <td>0.0</td>\n",
       "      <td>0.0</td>\n",
       "      <td>0.0</td>\n",
       "      <td>0.0</td>\n",
       "      <td>0.0</td>\n",
       "      <td>0.0</td>\n",
       "      <td>0.0</td>\n",
       "    </tr>\n",
       "  </tbody>\n",
       "</table>\n",
       "</div>"
      ],
      "text/plain": [
       "      fl_date tail_num origin dest  arr_delay  origin_rain  dest_rain  \\\n",
       "0  2019-01-02   N741UW    FLL  PHL       13.0          0.0        0.0   \n",
       "1  2019-01-02   N741UW    FLL  PHL       13.0          0.0        0.0   \n",
       "2  2019-01-03   N8775A    DTW  ELM      -16.0          0.0        2.0   \n",
       "3  2019-01-06   N561UW    ORD  CLT      -26.0          0.0        0.0   \n",
       "4  2019-01-06   N561UW    ORD  CLT      -26.0          0.0        0.0   \n",
       "\n",
       "   origin_fog  dest_fog  origin_cold  dest_cold  origin_storm  dest_storm  \\\n",
       "0         0.0       0.0          0.0        0.0           0.0         0.0   \n",
       "1         0.0       0.0          0.0        0.0           0.0         0.0   \n",
       "2         0.0       0.0          0.0        0.0           0.0         0.0   \n",
       "3         0.0       0.0          0.0        0.0           0.0         0.0   \n",
       "4         0.0       0.0          0.0        0.0           0.0         0.0   \n",
       "\n",
       "   origin_precipitation  dest_precipitation  origin_snow  dest_snow  \\\n",
       "0                   0.0                 0.0          0.0        0.0   \n",
       "1                   0.0                 0.0          0.0        0.0   \n",
       "2                   0.0                 0.0          2.0        2.0   \n",
       "3                   0.0                 0.0          0.0        0.0   \n",
       "4                   0.0                 0.0          0.0        0.0   \n",
       "\n",
       "   origin_hail  dest_hail  \n",
       "0          0.0        0.0  \n",
       "1          0.0        0.0  \n",
       "2          0.0        0.0  \n",
       "3          0.0        0.0  \n",
       "4          0.0        0.0  "
      ]
     },
     "execution_count": 46,
     "metadata": {},
     "output_type": "execute_result"
    }
   ],
   "source": [
    "n_sample = 10000\n",
    "state_num = 41\n",
    "\n",
    "data_flights = train_flights.sample(n= n_sample , random_state=state_num)\n",
    "data_weather = train_weather.sample(n= n_sample , random_state=state_num)\n",
    "X_sample = pd.merge(data_flights, data_weather, on=['fl_date', 'origin','dest'])\n",
    "X_sample.head(5)"
   ]
  },
  {
   "cell_type": "code",
   "execution_count": 47,
   "metadata": {},
   "outputs": [
    {
     "data": {
      "text/plain": [
       "(5591, 19)"
      ]
     },
     "execution_count": 47,
     "metadata": {},
     "output_type": "execute_result"
    }
   ],
   "source": [
    "X_sample.shape"
   ]
  },
  {
   "cell_type": "markdown",
   "metadata": {},
   "source": [
    "## Cleaning the data"
   ]
  },
  {
   "cell_type": "code",
   "execution_count": 48,
   "metadata": {},
   "outputs": [],
   "source": [
    "X_sample = X_sample.dropna(subset = [\"fl_date\", \"tail_num\", \"origin\", \"dest\"])\n",
    "X_sample = X_sample.fillna(0)\n"
   ]
  },
  {
   "cell_type": "code",
   "execution_count": null,
   "metadata": {},
   "outputs": [],
   "source": []
  },
  {
   "cell_type": "markdown",
   "metadata": {},
   "source": [
    "## Extracting the nonlinear \"average recent tail number delay\" (named as \"last_delay\" variable)"
   ]
  },
  {
   "cell_type": "code",
   "execution_count": 49,
   "metadata": {},
   "outputs": [
    {
     "name": "stderr",
     "output_type": "stream",
     "text": [
      "/opt/anaconda3/lib/python3.8/site-packages/pandas/core/indexing.py:670: SettingWithCopyWarning: \n",
      "A value is trying to be set on a copy of a slice from a DataFrame\n",
      "\n",
      "See the caveats in the documentation: https://pandas.pydata.org/pandas-docs/stable/user_guide/indexing.html#returning-a-view-versus-a-copy\n",
      "  self._setitem_with_indexer(indexer, value)\n",
      "<ipython-input-49-04383112a4bb>:11: RuntimeWarning: Mean of empty slice.\n",
      "  last_delay=flights_last_2week[filter1&filter2&filter3].sort_values(by='fl_date',ascending = False)['arr_delay'].to_numpy().mean()\n",
      "/opt/anaconda3/lib/python3.8/site-packages/numpy/core/_methods.py:188: RuntimeWarning: invalid value encountered in double_scalars\n",
      "  ret = ret.dtype.type(ret / rcount)\n"
     ]
    }
   ],
   "source": [
    "\n",
    "\n",
    "X_sample['last_delay'] = 0 \n",
    "n_rows = X_sample.shape[0]\n",
    "\n",
    "for i in range(0,n_rows):\n",
    "    tail_num = X_sample['tail_num'].iloc[i]\n",
    "    origin = X_sample['origin'].iloc[i]\n",
    "    fl_date = X_sample['fl_date'].iloc[i]\n",
    "    filter1 = flights_last_2week['tail_num'] == tail_num\n",
    "    filter2 = flights_last_2week['dest'] == origin\n",
    "    filter3 = flights_last_2week['fl_date'] <= fl_date\n",
    "    last_delay=flights_last_2week[filter1&filter2&filter3].sort_values(by='fl_date',ascending = False)['arr_delay'].to_numpy().mean()\n",
    "    X_sample['last_delay'].iloc[i] = last_delay\n",
    "\n",
    "\n",
    "\n",
    "\n"
   ]
  },
  {
   "cell_type": "markdown",
   "metadata": {},
   "source": [
    "## Checking the correlation between the extracted feature and the target variable "
   ]
  },
  {
   "cell_type": "code",
   "execution_count": 124,
   "metadata": {},
   "outputs": [],
   "source": [
    "most_freq_date = X_sample['fl_date'].mode()[0]\n",
    "filter_date = X_sample['fl_date']== most_freq_date\n",
    "X_corr_check = X_sample[filter_date]"
   ]
  },
  {
   "cell_type": "code",
   "execution_count": 127,
   "metadata": {},
   "outputs": [
    {
     "data": {
      "image/png": "[encoded data removed]",
      "text/plain": [
       "<Figure size 432x288 with 1 Axes>"
      ]
     },
     "metadata": {
      "needs_background": "light"
     },
     "output_type": "display_data"
    }
   ],
   "source": [
    "from scipy.stats import pearsonr\n",
    "corr, _ = pearsonr(X_corr_check.last_delay, X_corr_check.arr_delay)\n",
    "\n",
    "ax = sns.regplot(x='last_delay', y='arr_delay', data=X_sample,\n",
    "                 line_kws={'label':\"Correlation={0:.1f}\".format(corr), \"color\": \"red\"},\n",
    "                 scatter_kws={\"color\": \"blue\"})\n",
    "ax.legend()\n",
    "ax.set_xlabel('average_recent_tail_num_delay')\n",
    "\n",
    "plt.show()\n"
   ]
  },
  {
   "cell_type": "code",
   "execution_count": null,
   "metadata": {},
   "outputs": [],
   "source": []
  },
  {
   "cell_type": "markdown",
   "metadata": {},
   "source": [
    "The \"average recent tail number\" is a dynamic average meaning it changes with time. So, the correlation must be considered at specific time and the correlation change with time. It shows good correlation with the target variable, in general. "
   ]
  },
  {
   "cell_type": "markdown",
   "metadata": {},
   "source": [
    "## Removing Outliers"
   ]
  },
  {
   "cell_type": "code",
   "execution_count": 52,
   "metadata": {},
   "outputs": [],
   "source": [
    "outliers_filter1 = X_sample['arr_delay']<=500\n",
    "outliers_filter2 = X_sample['last_delay']<=300\n",
    "X_sample = X_sample[outliers_filter1&outliers_filter2]\n"
   ]
  },
  {
   "cell_type": "code",
   "execution_count": 53,
   "metadata": {},
   "outputs": [
    {
     "data": {
      "text/html": [
       "<div>\n",
       "<style scoped>\n",
       "    .dataframe tbody tr th:only-of-type {\n",
       "        vertical-align: middle;\n",
       "    }\n",
       "\n",
       "    .dataframe tbody tr th {\n",
       "        vertical-align: top;\n",
       "    }\n",
       "\n",
       "    .dataframe thead th {\n",
       "        text-align: right;\n",
       "    }\n",
       "</style>\n",
       "<table border=\"1\" class=\"dataframe\">\n",
       "  <thead>\n",
       "    <tr style=\"text-align: right;\">\n",
       "      <th></th>\n",
       "      <th>fl_date</th>\n",
       "      <th>tail_num</th>\n",
       "      <th>origin</th>\n",
       "      <th>dest</th>\n",
       "      <th>arr_delay</th>\n",
       "      <th>origin_rain</th>\n",
       "      <th>dest_rain</th>\n",
       "      <th>origin_fog</th>\n",
       "      <th>dest_fog</th>\n",
       "      <th>origin_cold</th>\n",
       "      <th>dest_cold</th>\n",
       "      <th>origin_storm</th>\n",
       "      <th>dest_storm</th>\n",
       "      <th>origin_precipitation</th>\n",
       "      <th>dest_precipitation</th>\n",
       "      <th>origin_snow</th>\n",
       "      <th>dest_snow</th>\n",
       "      <th>origin_hail</th>\n",
       "      <th>dest_hail</th>\n",
       "      <th>last_delay</th>\n",
       "    </tr>\n",
       "  </thead>\n",
       "  <tbody>\n",
       "    <tr>\n",
       "      <th>0</th>\n",
       "      <td>2019-01-02</td>\n",
       "      <td>N741UW</td>\n",
       "      <td>FLL</td>\n",
       "      <td>PHL</td>\n",
       "      <td>13.0</td>\n",
       "      <td>0.0</td>\n",
       "      <td>0.0</td>\n",
       "      <td>0.0</td>\n",
       "      <td>0.0</td>\n",
       "      <td>0.0</td>\n",
       "      <td>0.0</td>\n",
       "      <td>0.0</td>\n",
       "      <td>0.0</td>\n",
       "      <td>0.0</td>\n",
       "      <td>0.0</td>\n",
       "      <td>0.0</td>\n",
       "      <td>0.0</td>\n",
       "      <td>0.0</td>\n",
       "      <td>0.0</td>\n",
       "      <td>9.333333</td>\n",
       "    </tr>\n",
       "    <tr>\n",
       "      <th>1</th>\n",
       "      <td>2019-01-02</td>\n",
       "      <td>N741UW</td>\n",
       "      <td>FLL</td>\n",
       "      <td>PHL</td>\n",
       "      <td>13.0</td>\n",
       "      <td>0.0</td>\n",
       "      <td>0.0</td>\n",
       "      <td>0.0</td>\n",
       "      <td>0.0</td>\n",
       "      <td>0.0</td>\n",
       "      <td>0.0</td>\n",
       "      <td>0.0</td>\n",
       "      <td>0.0</td>\n",
       "      <td>0.0</td>\n",
       "      <td>0.0</td>\n",
       "      <td>0.0</td>\n",
       "      <td>0.0</td>\n",
       "      <td>0.0</td>\n",
       "      <td>0.0</td>\n",
       "      <td>9.333333</td>\n",
       "    </tr>\n",
       "    <tr>\n",
       "      <th>2</th>\n",
       "      <td>2019-01-03</td>\n",
       "      <td>N8775A</td>\n",
       "      <td>DTW</td>\n",
       "      <td>ELM</td>\n",
       "      <td>-16.0</td>\n",
       "      <td>0.0</td>\n",
       "      <td>2.0</td>\n",
       "      <td>0.0</td>\n",
       "      <td>0.0</td>\n",
       "      <td>0.0</td>\n",
       "      <td>0.0</td>\n",
       "      <td>0.0</td>\n",
       "      <td>0.0</td>\n",
       "      <td>0.0</td>\n",
       "      <td>0.0</td>\n",
       "      <td>2.0</td>\n",
       "      <td>2.0</td>\n",
       "      <td>0.0</td>\n",
       "      <td>0.0</td>\n",
       "      <td>-18.250000</td>\n",
       "    </tr>\n",
       "    <tr>\n",
       "      <th>3</th>\n",
       "      <td>2019-01-06</td>\n",
       "      <td>N561UW</td>\n",
       "      <td>ORD</td>\n",
       "      <td>CLT</td>\n",
       "      <td>-26.0</td>\n",
       "      <td>0.0</td>\n",
       "      <td>0.0</td>\n",
       "      <td>0.0</td>\n",
       "      <td>0.0</td>\n",
       "      <td>0.0</td>\n",
       "      <td>0.0</td>\n",
       "      <td>0.0</td>\n",
       "      <td>0.0</td>\n",
       "      <td>0.0</td>\n",
       "      <td>0.0</td>\n",
       "      <td>0.0</td>\n",
       "      <td>0.0</td>\n",
       "      <td>0.0</td>\n",
       "      <td>0.0</td>\n",
       "      <td>0.000000</td>\n",
       "    </tr>\n",
       "    <tr>\n",
       "      <th>4</th>\n",
       "      <td>2019-01-06</td>\n",
       "      <td>N561UW</td>\n",
       "      <td>ORD</td>\n",
       "      <td>CLT</td>\n",
       "      <td>-26.0</td>\n",
       "      <td>0.0</td>\n",
       "      <td>0.0</td>\n",
       "      <td>0.0</td>\n",
       "      <td>0.0</td>\n",
       "      <td>0.0</td>\n",
       "      <td>0.0</td>\n",
       "      <td>0.0</td>\n",
       "      <td>0.0</td>\n",
       "      <td>0.0</td>\n",
       "      <td>0.0</td>\n",
       "      <td>0.0</td>\n",
       "      <td>0.0</td>\n",
       "      <td>0.0</td>\n",
       "      <td>0.0</td>\n",
       "      <td>0.000000</td>\n",
       "    </tr>\n",
       "  </tbody>\n",
       "</table>\n",
       "</div>"
      ],
      "text/plain": [
       "      fl_date tail_num origin dest  arr_delay  origin_rain  dest_rain  \\\n",
       "0  2019-01-02   N741UW    FLL  PHL       13.0          0.0        0.0   \n",
       "1  2019-01-02   N741UW    FLL  PHL       13.0          0.0        0.0   \n",
       "2  2019-01-03   N8775A    DTW  ELM      -16.0          0.0        2.0   \n",
       "3  2019-01-06   N561UW    ORD  CLT      -26.0          0.0        0.0   \n",
       "4  2019-01-06   N561UW    ORD  CLT      -26.0          0.0        0.0   \n",
       "\n",
       "   origin_fog  dest_fog  origin_cold  dest_cold  origin_storm  dest_storm  \\\n",
       "0         0.0       0.0          0.0        0.0           0.0         0.0   \n",
       "1         0.0       0.0          0.0        0.0           0.0         0.0   \n",
       "2         0.0       0.0          0.0        0.0           0.0         0.0   \n",
       "3         0.0       0.0          0.0        0.0           0.0         0.0   \n",
       "4         0.0       0.0          0.0        0.0           0.0         0.0   \n",
       "\n",
       "   origin_precipitation  dest_precipitation  origin_snow  dest_snow  \\\n",
       "0                   0.0                 0.0          0.0        0.0   \n",
       "1                   0.0                 0.0          0.0        0.0   \n",
       "2                   0.0                 0.0          2.0        2.0   \n",
       "3                   0.0                 0.0          0.0        0.0   \n",
       "4                   0.0                 0.0          0.0        0.0   \n",
       "\n",
       "   origin_hail  dest_hail  last_delay  \n",
       "0          0.0        0.0    9.333333  \n",
       "1          0.0        0.0    9.333333  \n",
       "2          0.0        0.0  -18.250000  \n",
       "3          0.0        0.0    0.000000  \n",
       "4          0.0        0.0    0.000000  "
      ]
     },
     "execution_count": 53,
     "metadata": {},
     "output_type": "execute_result"
    }
   ],
   "source": [
    "X_sample.head()"
   ]
  },
  {
   "cell_type": "code",
   "execution_count": null,
   "metadata": {},
   "outputs": [],
   "source": []
  },
  {
   "cell_type": "markdown",
   "metadata": {},
   "source": [
    "## Data Preparation"
   ]
  },
  {
   "cell_type": "code",
   "execution_count": 54,
   "metadata": {},
   "outputs": [],
   "source": [
    "X = pd.DataFrame({'origin':X_sample.origin.astype(\"category\").cat.codes, 'dest':X_sample.dest.astype(\"category\").cat.codes})\n",
    "\n",
    "other_columns = ['arr_delay', 'origin_rain','dest_rain', 'origin_fog', 'dest_fog', 'origin_cold', 'dest_cold','origin_storm',\n",
    "                 'dest_storm', 'origin_precipitation','dest_precipitation', 'origin_snow', 'dest_snow', 'origin_hail','dest_hail',\n",
    "                 'last_delay']\n",
    "for column in other_columns:\n",
    "    X[column] = X_sample[column]\n",
    "\n",
    "X['day_of_year'] = pd.to_datetime(X_sample['fl_date']).dt.dayofyear\n",
    "\n",
    "y= X['arr_delay']\n",
    "X = X.drop('arr_delay',1)\n",
    "\n"
   ]
  },
  {
   "cell_type": "code",
   "execution_count": null,
   "metadata": {},
   "outputs": [],
   "source": []
  },
  {
   "cell_type": "markdown",
   "metadata": {},
   "source": [
    "## Scaling the data"
   ]
  },
  {
   "cell_type": "code",
   "execution_count": 55,
   "metadata": {},
   "outputs": [],
   "source": [
    "import sklearn.model_selection as model_selection\n",
    "from sklearn.preprocessing import StandardScaler\n",
    "\n",
    "scaler = StandardScaler()\n",
    "scaler.fit(X)\n",
    "X_scaled = scaler.transform(X)\n",
    "\n",
    "\n",
    "X_train, X_val, y_train, y_val = model_selection.train_test_split(X_scaled,y, train_size = 0.8, test_size=0.2, random_state=123)\n"
   ]
  },
  {
   "cell_type": "markdown",
   "metadata": {},
   "source": [
    "## Machine Learning using \"Random Forest Regression\""
   ]
  },
  {
   "cell_type": "code",
   "execution_count": 84,
   "metadata": {},
   "outputs": [
    {
     "name": "stdout",
     "output_type": "stream",
     "text": [
      "Baseline R2-Score =  0.2225347849164565\n",
      "Baseline Mean Square Error =  19.610735195062603\n"
     ]
    }
   ],
   "source": [
    "#Baseline Model\n",
    "from sklearn.ensemble import RandomForestRegressor\n",
    "\n",
    "model = RandomForestRegressor(n_estimators = 300, max_depth = 3)\n",
    "model.fit(X_train, y_train)\n",
    "\n",
    "y_pred = model.predict(X_val)\n",
    "\n",
    "from sklearn.metrics import r2_score, mean_absolute_error\n",
    "print('Baseline R2-Score = ', r2_score(y_val,y_pred))\n",
    "print('Baseline Mean Square Error = ',mean_absolute_error(y_val,y_pred))\n"
   ]
  },
  {
   "cell_type": "markdown",
   "metadata": {},
   "source": [
    "### Optimizing the model parameter using \"Grid Search\""
   ]
  },
  {
   "cell_type": "code",
   "execution_count": 113,
   "metadata": {},
   "outputs": [
    {
     "data": {
      "text/plain": [
       "GridSearchCV(estimator=RandomForestRegressor(), n_jobs=-1,\n",
       "             param_grid={'max_depth': [15, 20, 25, 30, 35],\n",
       "                         'n_estimators': [200, 250, 300, 350, 400]})"
      ]
     },
     "execution_count": 113,
     "metadata": {},
     "output_type": "execute_result"
    }
   ],
   "source": [
    "from sklearn.model_selection import GridSearchCV\n",
    "params = {'n_estimators': [200,250,300,350,400], 'max_depth': [15,20,25,30,35]}\n",
    "model = RandomForestRegressor()\n",
    "model_GS = GridSearchCV(model, param_grid=params, n_jobs=-1)\n",
    "model_GS.fit(X_train,y_train)"
   ]
  },
  {
   "cell_type": "code",
   "execution_count": 114,
   "metadata": {},
   "outputs": [
    {
     "name": "stdout",
     "output_type": "stream",
     "text": [
      "Best Random Forest Model =  {'max_depth': 30, 'n_estimators': 300}\n"
     ]
    }
   ],
   "source": [
    "best_model = model_GS.best_params_\n",
    "print('Best Random Forest Model = ', best_model)"
   ]
  },
  {
   "cell_type": "code",
   "execution_count": 115,
   "metadata": {},
   "outputs": [
    {
     "name": "stdout",
     "output_type": "stream",
     "text": [
      "Best RandomForest Model R2-Score =  0.48270288216878066\n",
      "Best RandomForest Model Mean Square Error =  14.534600596254142\n"
     ]
    }
   ],
   "source": [
    "best_estimator = model_GS.best_estimator_\n",
    "y_pred = best_estimator.predict(X_val)\n",
    "print('Best RandomForest Model R2-Score = ', r2_score(y_val,y_pred))\n",
    "print('Best RandomForest Model Mean Square Error = ', mean_absolute_error(y_val,y_pred))"
   ]
  },
  {
   "cell_type": "markdown",
   "metadata": {},
   "source": [
    "## Machine Learning using \"Decision Tree Regression\""
   ]
  },
  {
   "cell_type": "code",
   "execution_count": 80,
   "metadata": {},
   "outputs": [
    {
     "name": "stdout",
     "output_type": "stream",
     "text": [
      "Baseline R2-Score =  0.19824138652231993\n",
      "Baseline Mean Square Error =  19.83266909138423\n"
     ]
    }
   ],
   "source": [
    "#Baseline Model\n",
    "from sklearn.tree import DecisionTreeRegressor\n",
    "\n",
    "model = DecisionTreeRegressor(max_depth = 5)\n",
    "model.fit(X_train, y_train)\n",
    "\n",
    "y_pred = model.predict(X_val)\n",
    "\n",
    "from sklearn.metrics import r2_score, mean_absolute_error\n",
    "print('Baseline DecisionTree R2-Score = ', r2_score(y_val,y_pred))\n",
    "print('Baseline DecisionTree Mean Square Error = ',mean_absolute_error(y_val,y_pred))"
   ]
  },
  {
   "cell_type": "markdown",
   "metadata": {},
   "source": [
    "### Optimizing the model parameter using \"Grid Search\""
   ]
  },
  {
   "cell_type": "code",
   "execution_count": 81,
   "metadata": {},
   "outputs": [
    {
     "data": {
      "text/plain": [
       "GridSearchCV(estimator=DecisionTreeRegressor(), n_jobs=-1,\n",
       "             param_grid={'max_depth': [3, 4, 5, 6, 7, 8, 9, 10]})"
      ]
     },
     "execution_count": 81,
     "metadata": {},
     "output_type": "execute_result"
    }
   ],
   "source": [
    "from sklearn.model_selection import GridSearchCV\n",
    "params = {'max_depth': [3,4,5,6,7,8,9,10]}\n",
    "model = DecisionTreeRegressor()\n",
    "model_GS = GridSearchCV(model, param_grid=params, n_jobs=-1)\n",
    "model_GS.fit(X_train,y_train)"
   ]
  },
  {
   "cell_type": "code",
   "execution_count": 82,
   "metadata": {},
   "outputs": [
    {
     "name": "stdout",
     "output_type": "stream",
     "text": [
      "Best Model =  {'max_depth': 5}\n"
     ]
    }
   ],
   "source": [
    "best_model = model_GS.best_params_\n",
    "print('Best DecisionTree Model = ', best_model)"
   ]
  },
  {
   "cell_type": "code",
   "execution_count": 83,
   "metadata": {},
   "outputs": [
    {
     "name": "stdout",
     "output_type": "stream",
     "text": [
      "Best Model R2-Score =  0.19824138652231993\n",
      "Best Model Mean Square Error =  19.83266909138423\n"
     ]
    }
   ],
   "source": [
    "best_estimator = model_GS.best_estimator_\n",
    "y_pred = best_estimator.predict(X_val)\n",
    "print('Best DecisionTree Model R2-Score = ', r2_score(y_val,y_pred))\n",
    "print('Best DecisionTree Model Mean Square Error = ', mean_absolute_error(y_val,y_pred))"
   ]
  },
  {
   "cell_type": "code",
   "execution_count": null,
   "metadata": {},
   "outputs": [],
   "source": []
  }
 ],
 "metadata": {
  "interpreter": {
   "hash": "4fe28adbe6d40c82bdde6a2233f025e3b944121e67b5abb397657075ce1366ca"
  },
  "kernelspec": {
   "display_name": "Python 3",
   "language": "python",
   "name": "python3"
  },
  "language_info": {
   "codemirror_mode": {
    "name": "ipython",
    "version": 3
   },
   "file_extension": ".py",
   "mimetype": "text/x-python",
   "name": "python",
   "nbconvert_exporter": "python",
   "pygments_lexer": "ipython3",
   "version": "3.8.8"
  }
 },
 "nbformat": 4,
 "nbformat_minor": 4
}
