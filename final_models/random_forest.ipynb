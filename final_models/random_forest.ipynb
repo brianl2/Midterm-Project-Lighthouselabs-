{
 "cells": [
  {
   "cell_type": "code",
   "execution_count": 1,
   "metadata": {},
   "outputs": [],
   "source": [
    "import sys\n",
    "sys.path.append(\"..\")\n",
    "from custom_scripts import preprocessing\n",
    "from custom_scripts import preparation\n",
    "from custom_scripts import modeling"
   ]
  },
  {
   "cell_type": "code",
   "execution_count": 2,
   "metadata": {},
   "outputs": [
    {
     "data": {
      "text/plain": [
       "(287151, 11)"
      ]
     },
     "execution_count": 2,
     "metadata": {},
     "output_type": "execute_result"
    }
   ],
   "source": [
    "### Get training data\n",
    "train_flights = preprocessing.get_train_flights()\n",
    "train_flights.shape\n"
   ]
  },
  {
   "cell_type": "code",
   "execution_count": 3,
   "metadata": {},
   "outputs": [
    {
     "data": {
      "text/plain": [
       "array(['2019-01-06', '2019-01-07', '2019-12-25', '2019-12-26',\n",
       "       '2019-12-27', '2019-12-28', '2019-12-29', '2019-12-30',\n",
       "       '2019-12-31', '2019-01-01', '2019-01-02', '2019-01-03',\n",
       "       '2019-01-04', '2019-01-05'], dtype=object)"
      ]
     },
     "execution_count": 3,
     "metadata": {},
     "output_type": "execute_result"
    }
   ],
   "source": [
    "### Dates of samples\n",
    "train_flights['fl_date'].unique()"
   ]
  },
  {
   "cell_type": "code",
   "execution_count": 4,
   "metadata": {},
   "outputs": [
    {
     "data": {
      "text/plain": [
       "(150623, 10)"
      ]
     },
     "execution_count": 4,
     "metadata": {},
     "output_type": "execute_result"
    }
   ],
   "source": [
    "### Get testing data\n",
    "test_flights = preprocessing.get_test_flights()\n",
    "X_test = test_flights.copy()\n",
    "### Convert to string format to make it in line with format of training data\n",
    "X_test['fl_date'] = X_test['fl_date'].astype(str)\n",
    "X_test.shape\n"
   ]
  },
  {
   "cell_type": "code",
   "execution_count": 5,
   "metadata": {},
   "outputs": [
    {
     "name": "stdout",
     "output_type": "stream",
     "text": [
      "training data: (287151, 47)\n",
      "testing data: (150623, 46)\n"
     ]
    }
   ],
   "source": [
    "### Build features\n",
    "train_flights = preparation.build_all_features(train_flights)\n",
    "X_test = preparation.build_all_features(X_test)\n",
    "print(f'training data: {train_flights.shape}')\n",
    "print(f'testing data: {X_test.shape}')"
   ]
  },
  {
   "cell_type": "code",
   "execution_count": 6,
   "metadata": {},
   "outputs": [
    {
     "name": "stdout",
     "output_type": "stream",
     "text": [
      "(201005, 46)\n",
      "(201005,)\n",
      "(86146, 46)\n",
      "(86146,)\n"
     ]
    }
   ],
   "source": [
    "### Split data for validation set\n",
    "X = train_flights.drop('arr_delay',1)\n",
    "y = train_flights['arr_delay']\n",
    "X_train, X_val, y_train, y_val = preparation.get_train_test_split(X, y)\n",
    "print(X_train.shape)\n",
    "print(y_train.shape)\n",
    "print(X_val.shape)\n",
    "print(y_val.shape)\n"
   ]
  },
  {
   "cell_type": "code",
   "execution_count": 7,
   "metadata": {},
   "outputs": [
    {
     "name": "stdout",
     "output_type": "stream",
     "text": [
      "(201005, 42)\n",
      "(86146, 42)\n"
     ]
    },
    {
     "data": {
      "text/html": [
       "<div>\n",
       "<style scoped>\n",
       "    .dataframe tbody tr th:only-of-type {\n",
       "        vertical-align: middle;\n",
       "    }\n",
       "\n",
       "    .dataframe tbody tr th {\n",
       "        vertical-align: top;\n",
       "    }\n",
       "\n",
       "    .dataframe thead th {\n",
       "        text-align: right;\n",
       "    }\n",
       "</style>\n",
       "<table border=\"1\" class=\"dataframe\">\n",
       "  <thead>\n",
       "    <tr style=\"text-align: right;\">\n",
       "      <th></th>\n",
       "      <th>arr_time_sin</th>\n",
       "      <th>arr_time_cos</th>\n",
       "      <th>dep_time_sin</th>\n",
       "      <th>dep_time_cos</th>\n",
       "      <th>fl_num_avg_arr_delay</th>\n",
       "      <th>fl_num_avg_dep_delay</th>\n",
       "      <th>fl_num_avg_late_aircraft_delay</th>\n",
       "      <th>fl_num_avg_taxi_out</th>\n",
       "      <th>tail_num_avg_arr_delay</th>\n",
       "      <th>tail_num_avg_dep_delay</th>\n",
       "      <th>...</th>\n",
       "      <th>dest_rain</th>\n",
       "      <th>dest_snow</th>\n",
       "      <th>dest_storm</th>\n",
       "      <th>day_of_week_0</th>\n",
       "      <th>day_of_week_1</th>\n",
       "      <th>day_of_week_2</th>\n",
       "      <th>day_of_week_3</th>\n",
       "      <th>day_of_week_4</th>\n",
       "      <th>day_of_week_5</th>\n",
       "      <th>day_of_week_6</th>\n",
       "    </tr>\n",
       "  </thead>\n",
       "  <tbody>\n",
       "    <tr>\n",
       "      <th>168275</th>\n",
       "      <td>-0.954633</td>\n",
       "      <td>-0.297784</td>\n",
       "      <td>-0.77616</td>\n",
       "      <td>-0.630536</td>\n",
       "      <td>0.090711</td>\n",
       "      <td>0.098012</td>\n",
       "      <td>0.16508</td>\n",
       "      <td>-0.063377</td>\n",
       "      <td>0.023026</td>\n",
       "      <td>0.015113</td>\n",
       "      <td>...</td>\n",
       "      <td>0.0</td>\n",
       "      <td>3.0</td>\n",
       "      <td>0.0</td>\n",
       "      <td>0</td>\n",
       "      <td>1</td>\n",
       "      <td>0</td>\n",
       "      <td>0</td>\n",
       "      <td>0</td>\n",
       "      <td>0</td>\n",
       "      <td>0</td>\n",
       "    </tr>\n",
       "  </tbody>\n",
       "</table>\n",
       "<p>1 rows × 42 columns</p>\n",
       "</div>"
      ],
      "text/plain": [
       "        arr_time_sin  arr_time_cos  dep_time_sin  dep_time_cos  \\\n",
       "168275     -0.954633     -0.297784      -0.77616     -0.630536   \n",
       "\n",
       "        fl_num_avg_arr_delay  fl_num_avg_dep_delay  \\\n",
       "168275              0.090711              0.098012   \n",
       "\n",
       "        fl_num_avg_late_aircraft_delay  fl_num_avg_taxi_out  \\\n",
       "168275                         0.16508            -0.063377   \n",
       "\n",
       "        tail_num_avg_arr_delay  tail_num_avg_dep_delay  ...  dest_rain  \\\n",
       "168275                0.023026                0.015113  ...        0.0   \n",
       "\n",
       "        dest_snow  dest_storm  day_of_week_0  day_of_week_1  day_of_week_2  \\\n",
       "168275        3.0         0.0              0              1              0   \n",
       "\n",
       "        day_of_week_3  day_of_week_4  day_of_week_5  day_of_week_6  \n",
       "168275              0              0              0              0  \n",
       "\n",
       "[1 rows x 42 columns]"
      ]
     },
     "execution_count": 7,
     "metadata": {},
     "output_type": "execute_result"
    }
   ],
   "source": [
    "### Standardize data\n",
    "from sklearn.preprocessing import RobustScaler\n",
    "X_train, X_val, X_test = preparation.standardize_data(data_arr=[X_train, X_val, X_test],scaler=RobustScaler())\n",
    "print(X_train.shape)\n",
    "print(X_val.shape)\n",
    "X_train.head(1)"
   ]
  },
  {
   "cell_type": "markdown",
   "metadata": {},
   "source": [
    "# Baseline Linear Regression test"
   ]
  },
  {
   "cell_type": "code",
   "execution_count": 8,
   "metadata": {},
   "outputs": [
    {
     "name": "stdout",
     "output_type": "stream",
     "text": [
      "{'r2_score': 0.09315781081874674, 'mean_squared_error': 705.8619975484231, 'mean_absolute_error': 18.030044347694464, 'explained_variance_score': 0.09315836670168276}\n"
     ]
    },
    {
     "data": {
      "text/plain": [
       "LinearRegression()"
      ]
     },
     "execution_count": 8,
     "metadata": {},
     "output_type": "execute_result"
    }
   ],
   "source": [
    "from sklearn.linear_model import LinearRegression\n",
    "l_reg = LinearRegression()\n",
    "notes = \"baseline\"\n",
    "modeling.run_test(X_train,X_val,y_train,y_val, l_reg, notes)"
   ]
  },
  {
   "cell_type": "code",
   "execution_count": 9,
   "metadata": {},
   "outputs": [
    {
     "name": "stdout",
     "output_type": "stream",
     "text": [
      "{'r2_score': 0.1847767133055207, 'mean_squared_error': 634.5482648019391, 'mean_absolute_error': 16.87382699241848, 'explained_variance_score': 0.18479245176426684}\n"
     ]
    },
    {
     "data": {
      "text/html": [
       "<div>\n",
       "<style scoped>\n",
       "    .dataframe tbody tr th:only-of-type {\n",
       "        vertical-align: middle;\n",
       "    }\n",
       "\n",
       "    .dataframe tbody tr th {\n",
       "        vertical-align: top;\n",
       "    }\n",
       "\n",
       "    .dataframe thead th {\n",
       "        text-align: right;\n",
       "    }\n",
       "</style>\n",
       "<table border=\"1\" class=\"dataframe\">\n",
       "  <thead>\n",
       "    <tr style=\"text-align: right;\">\n",
       "      <th></th>\n",
       "      <th>model</th>\n",
       "      <th>notes</th>\n",
       "      <th>training_time</th>\n",
       "      <th>r2_score</th>\n",
       "      <th>mean_squared_error</th>\n",
       "      <th>mean_absolute_error</th>\n",
       "      <th>explained_variance_score</th>\n",
       "      <th>f1_score</th>\n",
       "      <th>recall_score</th>\n",
       "      <th>precision_score</th>\n",
       "      <th>accuracy_score</th>\n",
       "    </tr>\n",
       "  </thead>\n",
       "  <tbody>\n",
       "    <tr>\n",
       "      <th>146.pickle</th>\n",
       "      <td>LinearRegression</td>\n",
       "      <td>baseline</td>\n",
       "      <td>0.365907</td>\n",
       "      <td>0.093158</td>\n",
       "      <td>705.861998</td>\n",
       "      <td>18.030044</td>\n",
       "      <td>0.093158</td>\n",
       "      <td>NaN</td>\n",
       "      <td>NaN</td>\n",
       "      <td>NaN</td>\n",
       "      <td>NaN</td>\n",
       "    </tr>\n",
       "    <tr>\n",
       "      <th>147.pickle</th>\n",
       "      <td>RandomForestRegressor</td>\n",
       "      <td>validation</td>\n",
       "      <td>446.767734</td>\n",
       "      <td>0.184777</td>\n",
       "      <td>634.548265</td>\n",
       "      <td>16.873827</td>\n",
       "      <td>0.184792</td>\n",
       "      <td>NaN</td>\n",
       "      <td>NaN</td>\n",
       "      <td>NaN</td>\n",
       "      <td>NaN</td>\n",
       "    </tr>\n",
       "  </tbody>\n",
       "</table>\n",
       "</div>"
      ],
      "text/plain": [
       "                            model       notes  training_time  r2_score  \\\n",
       "146.pickle       LinearRegression    baseline       0.365907  0.093158   \n",
       "147.pickle  RandomForestRegressor  validation     446.767734  0.184777   \n",
       "\n",
       "            mean_squared_error  mean_absolute_error  explained_variance_score  \\\n",
       "146.pickle          705.861998            18.030044                  0.093158   \n",
       "147.pickle          634.548265            16.873827                  0.184792   \n",
       "\n",
       "            f1_score  recall_score  precision_score  accuracy_score  \n",
       "146.pickle       NaN           NaN              NaN             NaN  \n",
       "147.pickle       NaN           NaN              NaN             NaN  "
      ]
     },
     "execution_count": 9,
     "metadata": {},
     "output_type": "execute_result"
    }
   ],
   "source": [
    "from sklearn.ensemble import RandomForestRegressor\n",
    "r_forest = RandomForestRegressor(n_estimators=180, max_depth=18, min_samples_leaf=8, random_state=42)\n",
    "notes = \"validation\"\n",
    "modeling.run_test(X_train,X_val,y_train,y_val, r_forest, notes)\n",
    "modeling.get_records().tail(2)"
   ]
  },
  {
   "cell_type": "code",
   "execution_count": 10,
   "metadata": {},
   "outputs": [],
   "source": [
    "predictions = r_forest.predict(X_test)\n",
    "\n",
    "test_flights['arr_delay'] = predictions\n",
    "test_flights.to_csv('../final_predictions.csv')"
   ]
  },
  {
   "cell_type": "code",
   "execution_count": null,
   "metadata": {},
   "outputs": [],
   "source": []
  }
 ],
 "metadata": {
  "interpreter": {
   "hash": "4fe28adbe6d40c82bdde6a2233f025e3b944121e67b5abb397657075ce1366ca"
  },
  "kernelspec": {
   "display_name": "Python 3.8.5 64-bit ('lighthouse': conda)",
   "language": "python",
   "name": "python3"
  },
  "language_info": {
   "codemirror_mode": {
    "name": "ipython",
    "version": 3
   },
   "file_extension": ".py",
   "mimetype": "text/x-python",
   "name": "python",
   "nbconvert_exporter": "python",
   "pygments_lexer": "ipython3",
   "version": "3.8.5"
  },
  "orig_nbformat": 4
 },
 "nbformat": 4,
 "nbformat_minor": 2
}
