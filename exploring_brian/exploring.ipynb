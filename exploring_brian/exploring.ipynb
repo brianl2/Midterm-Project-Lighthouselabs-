{
 "cells": [
  {
   "cell_type": "code",
   "execution_count": 1,
   "id": "b6af5c3a-a04b-4236-b0a1-741ad77b3ecb",
   "metadata": {},
   "outputs": [],
   "source": [
    "import sys\n",
    "sys.path.append(\"..\")  # <-  This should point to the root directory of the project relative to this file\n",
    "\n",
    "from custom_scripts import database\n",
    "from custom_scripts import preprocessing"
   ]
  },
  {
   "cell_type": "code",
   "execution_count": 2,
   "id": "4ea4a770-dc29-412f-9980-289cb27e211b",
   "metadata": {},
   "outputs": [],
   "source": [
    "example_query =  \"\"\"\n",
    "                SELECT taxi_out, taxi_in FROM flights\n",
    "                    LIMIT 10;\n",
    "                \"\"\"\n",
    "\n",
    "example = database.query(example_query)"
   ]
  },
  {
   "cell_type": "code",
   "execution_count": 33,
   "id": "ad5349ad-278e-460b-834c-2d37a155ed77",
   "metadata": {},
   "outputs": [
    {
     "data": {
      "text/html": [
       "<div>\n",
       "<style scoped>\n",
       "    .dataframe tbody tr th:only-of-type {\n",
       "        vertical-align: middle;\n",
       "    }\n",
       "\n",
       "    .dataframe tbody tr th {\n",
       "        vertical-align: top;\n",
       "    }\n",
       "\n",
       "    .dataframe thead th {\n",
       "        text-align: right;\n",
       "    }\n",
       "</style>\n",
       "<table border=\"1\" class=\"dataframe\">\n",
       "  <thead>\n",
       "    <tr style=\"text-align: right;\">\n",
       "      <th></th>\n",
       "      <th>taxi_out</th>\n",
       "      <th>taxi_in</th>\n",
       "    </tr>\n",
       "  </thead>\n",
       "  <tbody>\n",
       "    <tr>\n",
       "      <th>0</th>\n",
       "      <td>13.0</td>\n",
       "      <td>10.0</td>\n",
       "    </tr>\n",
       "    <tr>\n",
       "      <th>1</th>\n",
       "      <td>16.0</td>\n",
       "      <td>3.0</td>\n",
       "    </tr>\n",
       "    <tr>\n",
       "      <th>2</th>\n",
       "      <td>20.0</td>\n",
       "      <td>5.0</td>\n",
       "    </tr>\n",
       "    <tr>\n",
       "      <th>3</th>\n",
       "      <td>29.0</td>\n",
       "      <td>5.0</td>\n",
       "    </tr>\n",
       "    <tr>\n",
       "      <th>4</th>\n",
       "      <td>16.0</td>\n",
       "      <td>9.0</td>\n",
       "    </tr>\n",
       "    <tr>\n",
       "      <th>5</th>\n",
       "      <td>14.0</td>\n",
       "      <td>4.0</td>\n",
       "    </tr>\n",
       "    <tr>\n",
       "      <th>6</th>\n",
       "      <td>24.0</td>\n",
       "      <td>6.0</td>\n",
       "    </tr>\n",
       "    <tr>\n",
       "      <th>7</th>\n",
       "      <td>13.0</td>\n",
       "      <td>15.0</td>\n",
       "    </tr>\n",
       "    <tr>\n",
       "      <th>8</th>\n",
       "      <td>30.0</td>\n",
       "      <td>25.0</td>\n",
       "    </tr>\n",
       "    <tr>\n",
       "      <th>9</th>\n",
       "      <td>21.0</td>\n",
       "      <td>5.0</td>\n",
       "    </tr>\n",
       "  </tbody>\n",
       "</table>\n",
       "</div>"
      ],
      "text/plain": [
       "   taxi_out  taxi_in\n",
       "0      13.0     10.0\n",
       "1      16.0      3.0\n",
       "2      20.0      5.0\n",
       "3      29.0      5.0\n",
       "4      16.0      9.0\n",
       "5      14.0      4.0\n",
       "6      24.0      6.0\n",
       "7      13.0     15.0\n",
       "8      30.0     25.0\n",
       "9      21.0      5.0"
      ]
     },
     "execution_count": 33,
     "metadata": {},
     "output_type": "execute_result"
    }
   ],
   "source": [
    "example"
   ]
  },
  {
   "cell_type": "markdown",
   "id": "7fa9390b-6105-42b7-9cf0-a884303c2db7",
   "metadata": {},
   "source": [
    "Find the top 10 the bussiest airports. Does the biggest number of flights mean that the biggest number of passengers went through the particular airport? How much traffic do these 10 airports cover?"
   ]
  },
  {
   "cell_type": "code",
   "execution_count": 3,
   "id": "062cc795-33fd-4fa5-81fd-16eaa4741e05",
   "metadata": {},
   "outputs": [],
   "source": [
    "import pandas as pd "
   ]
  },
  {
   "cell_type": "code",
   "execution_count": null,
   "id": "6e8808dc-5d43-41b7-a806-7041c65a2446",
   "metadata": {},
   "outputs": [],
   "source": [
    "SQL = \"\"\"SELECT flights.origin, flights.flights, COUNT(passengers.passengers) as pass_total\n",
    "FROM flights\n",
    "JOIN passengers\n",
    "ON flights.dest_airport_id = passengers.dest_airport_id\n",
    "WHERE fl_date between '2019-01-01' and '2019-01-31'\n",
    "GROUP BY flights.origin, flights.flights\n",
    "ORDER BY pass_total\"\"\"\n",
    "\n",
    "passenger_num = database.query(SQL)"
   ]
  },
  {
   "cell_type": "code",
   "execution_count": null,
   "id": "3ec84a3b-d2ad-41eb-a4d3-ebbbd2cf7995",
   "metadata": {},
   "outputs": [],
   "source": [
    "passenger_num"
   ]
  },
  {
   "cell_type": "code",
   "execution_count": 28,
   "id": "f80855eb-a9b9-4bd0-91e6-8be8eea9ab46",
   "metadata": {},
   "outputs": [],
   "source": [
    "#find the airports of interest.\n",
    "\n",
    "SQL = \"\"\"SELECT origin, COUNT(origin) as city_count \n",
    "FROM flights\n",
    "WHERE fl_date between '2019-01-01' and '2019-01-31'\n",
    "GROUP BY origin\n",
    "ORDER BY city_count DESC \"\"\"\n",
    "sql = database.query(SQL)"
   ]
  },
  {
   "cell_type": "code",
   "execution_count": 31,
   "id": "209573e5-1c06-4157-bba8-5d6783e9c20f",
   "metadata": {},
   "outputs": [],
   "source": [
    "sql.to_csv('bussiest_airports.csv', index = False)"
   ]
  },
  {
   "cell_type": "code",
   "execution_count": null,
   "id": "f69710db-cba7-4747-8f37-80a2706ac878",
   "metadata": {},
   "outputs": [],
   "source": []
  }
 ],
 "metadata": {
  "kernelspec": {
   "display_name": "bootcamp_as1",
   "language": "python",
   "name": "bootcamp_as1"
  },
  "language_info": {
   "codemirror_mode": {
    "name": "ipython",
    "version": 3
   },
   "file_extension": ".py",
   "mimetype": "text/x-python",
   "name": "python",
   "nbconvert_exporter": "python",
   "pygments_lexer": "ipython3",
   "version": "3.9.7"
  }
 },
 "nbformat": 4,
 "nbformat_minor": 5
}
